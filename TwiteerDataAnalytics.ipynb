{
  "cells": [
    {
      "cell_type": "markdown",
      "metadata": {
        "id": "view-in-github",
        "colab_type": "text"
      },
      "source": [
        "<a href=\"https://colab.research.google.com/github/mrchapagain/SocialNetworkAnalytics/blob/main/TwiteerDataAnalytics.ipynb\" target=\"_parent\"><img src=\"https://colab.research.google.com/assets/colab-badge.svg\" alt=\"Open In Colab\"/></a>"
      ]
    },
    {
      "cell_type": "markdown",
      "metadata": {
        "id": "2W-IUZlRhr9E"
      },
      "source": [
        "#Tweeter Data Analytics\n",
        "\n",
        "***Here I will cover:***\n",
        "1.   *Basics of Analyzing Twitter Data*\n",
        "2.   *Processing Twitter text*\n",
        "1.   *Exploring Twitter Networks*\n",
        "2.   *Putting Twitter data on the map*\n",
        "\n",
        "***Twiteer APIs:***\n",
        "*   *Search API*\n",
        "*   *Ads API*\n",
        "*   *Streaming API*"
      ]
    },
    {
      "cell_type": "markdown",
      "source": [
        "#1. Basics of Analyzing Twitter Data"
      ],
      "metadata": {
        "id": "8cv7r_tw_dfj"
      }
    },
    {
      "cell_type": "markdown",
      "metadata": {
        "id": "BuNCKztSrBe-"
      },
      "source": [
        "***Class object for handling data***"
      ]
    },
    {
      "cell_type": "markdown",
      "metadata": {
        "id": "hGL6drIymfRB"
      },
      "source": [
        "***Libaries***"
      ]
    },
    {
      "cell_type": "code",
      "execution_count": 198,
      "metadata": {
        "id": "Z4NuB4QGb9j1"
      },
      "outputs": [],
      "source": [
        "# Necessary libaries\n",
        "from tweepy import OAuthHandler\n",
        "from tweepy import API\n",
        "import tweepy\n",
        "import pandas as pd\n",
        "import warnings\n",
        "warnings.filterwarnings(\"ignore\")"
      ]
    },
    {
      "cell_type": "markdown",
      "metadata": {
        "id": "JlaIa0FYiacs"
      },
      "source": [
        "***Necessary information form tweet account***\n",
        "*   access_token\n",
        "*   access_token_secret\n",
        "*   consumer_key\n",
        "*   consumer_secret"
      ]
    },
    {
      "cell_type": "markdown",
      "metadata": {
        "id": "EjSxuyyWmY-K"
      },
      "source": [
        "***Tweepy authentication***"
      ]
    },
    {
      "cell_type": "code",
      "execution_count": 73,
      "metadata": {
        "id": "mZEG9JRKh186",
        "colab": {
          "base_uri": "https://localhost:8080/"
        },
        "outputId": "b1a2b0a4-325e-468f-da1d-061a1584a723"
      },
      "outputs": [
        {
          "output_type": "execute_result",
          "data": {
            "text/plain": [
              "<tweepy.api.API at 0x7f6cfcb84c10>"
            ]
          },
          "metadata": {},
          "execution_count": 73
        }
      ],
      "source": [
        "\n",
        "#brear_token= 'AAAAAAAAAAAAAAAAAAAAAOlDeQEAAAAAtxFqk6MPlQlb%2BXr9%2F%2FfigPqSrRM%3D5zoaTJT2GA3XhDBDAfgrnCnr1WxeCFVMVT5k3oUz97D4JJfZOD'\n",
        "\n",
        "auth = OAuthHandler(consumer_key, consumer_secret) # Consumer key authentication\n",
        "auth.set_access_token(access_token, access_token_secret) # Access key authentication\n",
        "api = API(auth)  # Set up the API with the authentication handler\n",
        "api"
      ]
    },
    {
      "cell_type": "markdown",
      "source": [
        "***Creating variable to navigate twetter***"
      ],
      "metadata": {
        "id": "DlhzV8_vdSp-"
      }
    },
    {
      "cell_type": "code",
      "source": [
        "# Obtaining tweet from specific user account\n",
        "number_of_tweets = 200\n",
        "tweets = []\n",
        "likes = []\n",
        "time = []\n",
        "\n",
        "for i in tweepy.Cursor(api.user_timeline, id=\"DRNyheder\", tweet_mode=\"extended\").items(number_of_tweets):\n",
        "  tweets.append(i.full_text)\n",
        "  likes.append(i.favorite_count)\n",
        "  time.append(i.created_at)"
      ],
      "metadata": {
        "id": "L437rxd3eY03"
      },
      "execution_count": 281,
      "outputs": []
    },
    {
      "cell_type": "markdown",
      "source": [
        "***Loading them in Data Frame***"
      ],
      "metadata": {
        "id": "jLRfc1sZWTYe"
      }
    },
    {
      "cell_type": "code",
      "source": [
        "# save them as dataframe by passing variables as a columns\n",
        "df = pd.DataFrame({\"tweets\":tweets, \"likes\":likes, \"time\":time})\n",
        "df= df[~df.tweets.str.contains(\"RT\")].reset_index(drop=True)\n",
        "#now lets make only tweets thats has not Re-Tweeted!\n",
        "\n",
        "df.head()"
      ],
      "metadata": {
        "colab": {
          "base_uri": "https://localhost:8080/",
          "height": 206
        },
        "id": "VLCv27NgQCOu",
        "outputId": "77131687-2e37-4452-9212-fbe692d99e3e"
      },
      "execution_count": 282,
      "outputs": [
        {
          "output_type": "execute_result",
          "data": {
            "text/plain": [
              "                                              tweets  likes  \\\n",
              "0  ANALYSE Nu venter alle på De Radikale https://...      2   \n",
              "1  Seneste nyt fra Ukraine: Brite og marokkaner a...      3   \n",
              "2  Radikalt bagland presser partitop: Advokater s...     44   \n",
              "3  Kristian Thulesen Dahl om opsigtsvækkende jobs...      7   \n",
              "4  Hongkongs nye politiske leder vil fortsætte Be...      2   \n",
              "\n",
              "                 time  \n",
              "0 2022-07-01 18:56:06  \n",
              "1 2022-07-01 17:54:04  \n",
              "2 2022-07-01 16:34:06  \n",
              "3 2022-07-01 13:52:08  \n",
              "4 2022-07-01 11:53:13  "
            ],
            "text/html": [
              "\n",
              "  <div id=\"df-b279129b-b9b1-412f-9095-a3c00ffaeb5b\">\n",
              "    <div class=\"colab-df-container\">\n",
              "      <div>\n",
              "<style scoped>\n",
              "    .dataframe tbody tr th:only-of-type {\n",
              "        vertical-align: middle;\n",
              "    }\n",
              "\n",
              "    .dataframe tbody tr th {\n",
              "        vertical-align: top;\n",
              "    }\n",
              "\n",
              "    .dataframe thead th {\n",
              "        text-align: right;\n",
              "    }\n",
              "</style>\n",
              "<table border=\"1\" class=\"dataframe\">\n",
              "  <thead>\n",
              "    <tr style=\"text-align: right;\">\n",
              "      <th></th>\n",
              "      <th>tweets</th>\n",
              "      <th>likes</th>\n",
              "      <th>time</th>\n",
              "    </tr>\n",
              "  </thead>\n",
              "  <tbody>\n",
              "    <tr>\n",
              "      <th>0</th>\n",
              "      <td>ANALYSE Nu venter alle på De Radikale https://...</td>\n",
              "      <td>2</td>\n",
              "      <td>2022-07-01 18:56:06</td>\n",
              "    </tr>\n",
              "    <tr>\n",
              "      <th>1</th>\n",
              "      <td>Seneste nyt fra Ukraine: Brite og marokkaner a...</td>\n",
              "      <td>3</td>\n",
              "      <td>2022-07-01 17:54:04</td>\n",
              "    </tr>\n",
              "    <tr>\n",
              "      <th>2</th>\n",
              "      <td>Radikalt bagland presser partitop: Advokater s...</td>\n",
              "      <td>44</td>\n",
              "      <td>2022-07-01 16:34:06</td>\n",
              "    </tr>\n",
              "    <tr>\n",
              "      <th>3</th>\n",
              "      <td>Kristian Thulesen Dahl om opsigtsvækkende jobs...</td>\n",
              "      <td>7</td>\n",
              "      <td>2022-07-01 13:52:08</td>\n",
              "    </tr>\n",
              "    <tr>\n",
              "      <th>4</th>\n",
              "      <td>Hongkongs nye politiske leder vil fortsætte Be...</td>\n",
              "      <td>2</td>\n",
              "      <td>2022-07-01 11:53:13</td>\n",
              "    </tr>\n",
              "  </tbody>\n",
              "</table>\n",
              "</div>\n",
              "      <button class=\"colab-df-convert\" onclick=\"convertToInteractive('df-b279129b-b9b1-412f-9095-a3c00ffaeb5b')\"\n",
              "              title=\"Convert this dataframe to an interactive table.\"\n",
              "              style=\"display:none;\">\n",
              "        \n",
              "  <svg xmlns=\"http://www.w3.org/2000/svg\" height=\"24px\"viewBox=\"0 0 24 24\"\n",
              "       width=\"24px\">\n",
              "    <path d=\"M0 0h24v24H0V0z\" fill=\"none\"/>\n",
              "    <path d=\"M18.56 5.44l.94 2.06.94-2.06 2.06-.94-2.06-.94-.94-2.06-.94 2.06-2.06.94zm-11 1L8.5 8.5l.94-2.06 2.06-.94-2.06-.94L8.5 2.5l-.94 2.06-2.06.94zm10 10l.94 2.06.94-2.06 2.06-.94-2.06-.94-.94-2.06-.94 2.06-2.06.94z\"/><path d=\"M17.41 7.96l-1.37-1.37c-.4-.4-.92-.59-1.43-.59-.52 0-1.04.2-1.43.59L10.3 9.45l-7.72 7.72c-.78.78-.78 2.05 0 2.83L4 21.41c.39.39.9.59 1.41.59.51 0 1.02-.2 1.41-.59l7.78-7.78 2.81-2.81c.8-.78.8-2.07 0-2.86zM5.41 20L4 18.59l7.72-7.72 1.47 1.35L5.41 20z\"/>\n",
              "  </svg>\n",
              "      </button>\n",
              "      \n",
              "  <style>\n",
              "    .colab-df-container {\n",
              "      display:flex;\n",
              "      flex-wrap:wrap;\n",
              "      gap: 12px;\n",
              "    }\n",
              "\n",
              "    .colab-df-convert {\n",
              "      background-color: #E8F0FE;\n",
              "      border: none;\n",
              "      border-radius: 50%;\n",
              "      cursor: pointer;\n",
              "      display: none;\n",
              "      fill: #1967D2;\n",
              "      height: 32px;\n",
              "      padding: 0 0 0 0;\n",
              "      width: 32px;\n",
              "    }\n",
              "\n",
              "    .colab-df-convert:hover {\n",
              "      background-color: #E2EBFA;\n",
              "      box-shadow: 0px 1px 2px rgba(60, 64, 67, 0.3), 0px 1px 3px 1px rgba(60, 64, 67, 0.15);\n",
              "      fill: #174EA6;\n",
              "    }\n",
              "\n",
              "    [theme=dark] .colab-df-convert {\n",
              "      background-color: #3B4455;\n",
              "      fill: #D2E3FC;\n",
              "    }\n",
              "\n",
              "    [theme=dark] .colab-df-convert:hover {\n",
              "      background-color: #434B5C;\n",
              "      box-shadow: 0px 1px 3px 1px rgba(0, 0, 0, 0.15);\n",
              "      filter: drop-shadow(0px 1px 2px rgba(0, 0, 0, 0.3));\n",
              "      fill: #FFFFFF;\n",
              "    }\n",
              "  </style>\n",
              "\n",
              "      <script>\n",
              "        const buttonEl =\n",
              "          document.querySelector('#df-b279129b-b9b1-412f-9095-a3c00ffaeb5b button.colab-df-convert');\n",
              "        buttonEl.style.display =\n",
              "          google.colab.kernel.accessAllowed ? 'block' : 'none';\n",
              "\n",
              "        async function convertToInteractive(key) {\n",
              "          const element = document.querySelector('#df-b279129b-b9b1-412f-9095-a3c00ffaeb5b');\n",
              "          const dataTable =\n",
              "            await google.colab.kernel.invokeFunction('convertToInteractive',\n",
              "                                                     [key], {});\n",
              "          if (!dataTable) return;\n",
              "\n",
              "          const docLinkHtml = 'Like what you see? Visit the ' +\n",
              "            '<a target=\"_blank\" href=https://colab.research.google.com/notebooks/data_table.ipynb>data table notebook</a>'\n",
              "            + ' to learn more about interactive tables.';\n",
              "          element.innerHTML = '';\n",
              "          dataTable['output_type'] = 'display_data';\n",
              "          await google.colab.output.renderOutput(dataTable, element);\n",
              "          const docLink = document.createElement('div');\n",
              "          docLink.innerHTML = docLinkHtml;\n",
              "          element.appendChild(docLink);\n",
              "        }\n",
              "      </script>\n",
              "    </div>\n",
              "  </div>\n",
              "  "
            ]
          },
          "metadata": {},
          "execution_count": 282
        }
      ]
    },
    {
      "cell_type": "code",
      "source": [
        "# Top most liked tweets\n",
        "mostlike= df.loc[df.likes.nlargest(10).index].set_index(\"tweets\")\n",
        "mostlike"
      ],
      "metadata": {
        "colab": {
          "base_uri": "https://localhost:8080/",
          "height": 612
        },
        "id": "eq_q7Q1gUW2E",
        "outputId": "6077dfca-a53f-497f-a6c8-160e603a8445"
      },
      "execution_count": 283,
      "outputs": [
        {
          "output_type": "execute_result",
          "data": {
            "text/plain": [
              "                                                    likes                time\n",
              "tweets                                                                       \n",
              "Støttepartier tøver med at lade uvildige advoka...     89 2022-06-29 09:06:04\n",
              "Seneste nyt fra Ukraine: Zelenskyj vil have Rus...     51 2022-06-29 12:53:33\n",
              "ANALYSE: Rystende vidneudsagn kæder Trump samme...     46 2022-06-29 04:04:09\n",
              "Radikalt bagland presser partitop: Advokater sk...     44 2022-07-01 16:34:06\n",
              "Skotsk folkeafstemning om uafhængighed er 'tabe...     43 2022-06-28 19:16:08\n",
              "Inger Støjberg starter nyt parti. Det får navne...     41 2022-06-23 06:30:07\n",
              "Nyt parti med Støjbergs navn godkendt https://t...     39 2022-06-21 16:07:03\n",
              "Inger Støjberg: 'Det her parti det skal være så...     37 2022-06-23 12:40:09\n",
              "Eksperter: Milliardregning fra metro og ringvej...     36 2022-06-27 18:54:08\n",
              "Ekspert efter ny Trump-høring: 'Vel det mest fo...     33 2022-06-29 18:56:04"
            ],
            "text/html": [
              "\n",
              "  <div id=\"df-c2f61597-4c5b-4081-a12d-681ce79e8668\">\n",
              "    <div class=\"colab-df-container\">\n",
              "      <div>\n",
              "<style scoped>\n",
              "    .dataframe tbody tr th:only-of-type {\n",
              "        vertical-align: middle;\n",
              "    }\n",
              "\n",
              "    .dataframe tbody tr th {\n",
              "        vertical-align: top;\n",
              "    }\n",
              "\n",
              "    .dataframe thead th {\n",
              "        text-align: right;\n",
              "    }\n",
              "</style>\n",
              "<table border=\"1\" class=\"dataframe\">\n",
              "  <thead>\n",
              "    <tr style=\"text-align: right;\">\n",
              "      <th></th>\n",
              "      <th>likes</th>\n",
              "      <th>time</th>\n",
              "    </tr>\n",
              "    <tr>\n",
              "      <th>tweets</th>\n",
              "      <th></th>\n",
              "      <th></th>\n",
              "    </tr>\n",
              "  </thead>\n",
              "  <tbody>\n",
              "    <tr>\n",
              "      <th>Støttepartier tøver med at lade uvildige advokater vurdere minkrapport: 'Kan bedst betegnes som hykleri' https://t.co/Ry9EjxqRvm https://t.co/JAB32AD4Zn</th>\n",
              "      <td>89</td>\n",
              "      <td>2022-06-29 09:06:04</td>\n",
              "    </tr>\n",
              "    <tr>\n",
              "      <th>Seneste nyt fra Ukraine: Zelenskyj vil have Rusland ud af FN's Sikkerhedsråd https://t.co/rgKyeBaJIk https://t.co/mjdnFSXxji</th>\n",
              "      <td>51</td>\n",
              "      <td>2022-06-29 12:53:33</td>\n",
              "    </tr>\n",
              "    <tr>\n",
              "      <th>ANALYSE: Rystende vidneudsagn kæder Trump sammen med bevæbnede tilhængere, som han dirigerede mod Kongressen https://t.co/x2EmTn4Sk4 https://t.co/8HwZxTxly0</th>\n",
              "      <td>46</td>\n",
              "      <td>2022-06-29 04:04:09</td>\n",
              "    </tr>\n",
              "    <tr>\n",
              "      <th>Radikalt bagland presser partitop: Advokater skal vurdere om Mette Frederiksen skal for rigsret https://t.co/EUBhvTgKE1 https://t.co/2NjjCvg8YA</th>\n",
              "      <td>44</td>\n",
              "      <td>2022-07-01 16:34:06</td>\n",
              "    </tr>\n",
              "    <tr>\n",
              "      <th>Skotsk folkeafstemning om uafhængighed er 'tabersag på alle måder' for den britiske regering https://t.co/aDCNhyLgPc https://t.co/hUTvNzSLYL</th>\n",
              "      <td>43</td>\n",
              "      <td>2022-06-28 19:16:08</td>\n",
              "    </tr>\n",
              "    <tr>\n",
              "      <th>Inger Støjberg starter nyt parti. Det får navnet ’Danmarksdemokraterne’ https://t.co/NblMHLUCL1 https://t.co/qlKDvm6XLg</th>\n",
              "      <td>41</td>\n",
              "      <td>2022-06-23 06:30:07</td>\n",
              "    </tr>\n",
              "    <tr>\n",
              "      <th>Nyt parti med Støjbergs navn godkendt https://t.co/W8AJODDQxU https://t.co/xUaxr8cOKl</th>\n",
              "      <td>39</td>\n",
              "      <td>2022-06-21 16:07:03</td>\n",
              "    </tr>\n",
              "    <tr>\n",
              "      <th>Inger Støjberg: 'Det her parti det skal være sådan et parti for folk, som vi er flest' https://t.co/aQYftCrGfH https://t.co/ynbV52pJhB</th>\n",
              "      <td>37</td>\n",
              "      <td>2022-06-23 12:40:09</td>\n",
              "    </tr>\n",
              "    <tr>\n",
              "      <th>Eksperter: Milliardregning fra metro og ringvej til Lynetteholm kan ende hos skatteborgerne https://t.co/8b0sBYl1vb https://t.co/6cPRzJz4Zx</th>\n",
              "      <td>36</td>\n",
              "      <td>2022-06-27 18:54:08</td>\n",
              "    </tr>\n",
              "    <tr>\n",
              "      <th>Ekspert efter ny Trump-høring: 'Vel det mest fordømmende billede, der nogensinde er tegnet af nogen præsident' https://t.co/Tf1E8GjoUw https://t.co/g8zGsL2BzE</th>\n",
              "      <td>33</td>\n",
              "      <td>2022-06-29 18:56:04</td>\n",
              "    </tr>\n",
              "  </tbody>\n",
              "</table>\n",
              "</div>\n",
              "      <button class=\"colab-df-convert\" onclick=\"convertToInteractive('df-c2f61597-4c5b-4081-a12d-681ce79e8668')\"\n",
              "              title=\"Convert this dataframe to an interactive table.\"\n",
              "              style=\"display:none;\">\n",
              "        \n",
              "  <svg xmlns=\"http://www.w3.org/2000/svg\" height=\"24px\"viewBox=\"0 0 24 24\"\n",
              "       width=\"24px\">\n",
              "    <path d=\"M0 0h24v24H0V0z\" fill=\"none\"/>\n",
              "    <path d=\"M18.56 5.44l.94 2.06.94-2.06 2.06-.94-2.06-.94-.94-2.06-.94 2.06-2.06.94zm-11 1L8.5 8.5l.94-2.06 2.06-.94-2.06-.94L8.5 2.5l-.94 2.06-2.06.94zm10 10l.94 2.06.94-2.06 2.06-.94-2.06-.94-.94-2.06-.94 2.06-2.06.94z\"/><path d=\"M17.41 7.96l-1.37-1.37c-.4-.4-.92-.59-1.43-.59-.52 0-1.04.2-1.43.59L10.3 9.45l-7.72 7.72c-.78.78-.78 2.05 0 2.83L4 21.41c.39.39.9.59 1.41.59.51 0 1.02-.2 1.41-.59l7.78-7.78 2.81-2.81c.8-.78.8-2.07 0-2.86zM5.41 20L4 18.59l7.72-7.72 1.47 1.35L5.41 20z\"/>\n",
              "  </svg>\n",
              "      </button>\n",
              "      \n",
              "  <style>\n",
              "    .colab-df-container {\n",
              "      display:flex;\n",
              "      flex-wrap:wrap;\n",
              "      gap: 12px;\n",
              "    }\n",
              "\n",
              "    .colab-df-convert {\n",
              "      background-color: #E8F0FE;\n",
              "      border: none;\n",
              "      border-radius: 50%;\n",
              "      cursor: pointer;\n",
              "      display: none;\n",
              "      fill: #1967D2;\n",
              "      height: 32px;\n",
              "      padding: 0 0 0 0;\n",
              "      width: 32px;\n",
              "    }\n",
              "\n",
              "    .colab-df-convert:hover {\n",
              "      background-color: #E2EBFA;\n",
              "      box-shadow: 0px 1px 2px rgba(60, 64, 67, 0.3), 0px 1px 3px 1px rgba(60, 64, 67, 0.15);\n",
              "      fill: #174EA6;\n",
              "    }\n",
              "\n",
              "    [theme=dark] .colab-df-convert {\n",
              "      background-color: #3B4455;\n",
              "      fill: #D2E3FC;\n",
              "    }\n",
              "\n",
              "    [theme=dark] .colab-df-convert:hover {\n",
              "      background-color: #434B5C;\n",
              "      box-shadow: 0px 1px 3px 1px rgba(0, 0, 0, 0.15);\n",
              "      filter: drop-shadow(0px 1px 2px rgba(0, 0, 0, 0.3));\n",
              "      fill: #FFFFFF;\n",
              "    }\n",
              "  </style>\n",
              "\n",
              "      <script>\n",
              "        const buttonEl =\n",
              "          document.querySelector('#df-c2f61597-4c5b-4081-a12d-681ce79e8668 button.colab-df-convert');\n",
              "        buttonEl.style.display =\n",
              "          google.colab.kernel.accessAllowed ? 'block' : 'none';\n",
              "\n",
              "        async function convertToInteractive(key) {\n",
              "          const element = document.querySelector('#df-c2f61597-4c5b-4081-a12d-681ce79e8668');\n",
              "          const dataTable =\n",
              "            await google.colab.kernel.invokeFunction('convertToInteractive',\n",
              "                                                     [key], {});\n",
              "          if (!dataTable) return;\n",
              "\n",
              "          const docLinkHtml = 'Like what you see? Visit the ' +\n",
              "            '<a target=\"_blank\" href=https://colab.research.google.com/notebooks/data_table.ipynb>data table notebook</a>'\n",
              "            + ' to learn more about interactive tables.';\n",
              "          element.innerHTML = '';\n",
              "          dataTable['output_type'] = 'display_data';\n",
              "          await google.colab.output.renderOutput(dataTable, element);\n",
              "          const docLink = document.createElement('div');\n",
              "          docLink.innerHTML = docLinkHtml;\n",
              "          element.appendChild(docLink);\n",
              "        }\n",
              "      </script>\n",
              "    </div>\n",
              "  </div>\n",
              "  "
            ]
          },
          "metadata": {},
          "execution_count": 283
        }
      ]
    },
    {
      "cell_type": "markdown",
      "source": [
        "***Sentiment Analytics***"
      ],
      "metadata": {
        "id": "vOtG_wSxWMM-"
      }
    },
    {
      "cell_type": "code",
      "source": [
        "# Libaries for sentiment analytics (NLP)\n",
        "import matplotlib.pyplot as plt\n",
        "import re\n",
        "import spacy\n",
        "import seaborn as sns"
      ],
      "metadata": {
        "id": "UZHiQGvDUWqF"
      },
      "execution_count": 258,
      "outputs": []
    },
    {
      "cell_type": "code",
      "source": [
        "import spacy.cli\n",
        "#spacy.cli.download(\"en_core_web_lg\")\n",
        "nlp = spacy.load('en_core_web_lg')"
      ],
      "metadata": {
        "id": "24VFaRByUWWY"
      },
      "execution_count": 284,
      "outputs": []
    },
    {
      "cell_type": "code",
      "source": [
        "# Split all the sentances and creat the list of sentence of from the tweet columns\n",
        "list_of_sentences = [sentence for sentence in df.tweets]\n",
        "\n",
        "lines = []\n",
        "for sentence in list_of_sentences:\n",
        "  words = sentence.split()\n",
        "  for w in words:\n",
        "    lines.append(w)\n",
        "print(lines)"
      ],
      "metadata": {
        "colab": {
          "base_uri": "https://localhost:8080/"
        },
        "id": "G7mEkHdpdBUT",
        "outputId": "f7dbd09d-5b18-4845-8da9-2bb0d54f7455"
      },
      "execution_count": 285,
      "outputs": [
        {
          "output_type": "stream",
          "name": "stdout",
          "text": [
            "['ANALYSE', 'Nu', 'venter', 'alle', 'på', 'De', 'Radikale', 'https://t.co/OOzr5R3fTG', 'https://t.co/SDWeAdtKiI', 'Seneste', 'nyt', 'fra', 'Ukraine:', 'Brite', 'og', 'marokkaner', 'anker', 'dødsdomme', 'i', 'Donetsk', 'https://t.co/ogfov2lWWL', 'https://t.co/GgeJ0TtNFC', 'Radikalt', 'bagland', 'presser', 'partitop:', 'Advokater', 'skal', 'vurdere', 'om', 'Mette', 'Frederiksen', 'skal', 'for', 'rigsret', 'https://t.co/EUBhvTgKE1', 'https://t.co/2NjjCvg8YA', 'Kristian', 'Thulesen', 'Dahl', 'om', 'opsigtsvækkende', 'jobskifte:', 'Situationen', 'i', 'Dansk', 'Folkeparti', 'hjalp', 'mig', 'https://t.co/JPPNXLRaGP', 'https://t.co/YSnzoaDS89', 'Hongkongs', 'nye', 'politiske', 'leder', 'vil', 'fortsætte', 'Beijings', \"'benhårde\", \"linje'\", 'https://t.co/2VaUU4rIra', 'https://t.co/0VX5g6fT0Z', 'Sanne', 'bed', 'sig', 'fast', 'og', 'vristede', 'sin', 'SAS-billet', 'tilbage:', 'Men', 'selskabet', 'har', 'ingen', 'løsning', 'til', 'andre', 'klemte', 'kunder', 'https://t.co/YCn78UlmHD', 'https://t.co/quOLDAbjr1', 'Seneste', 'nyt', 'fra', 'Ukraine:', 'Mindst', '19', 'personer', 'dræbt', 'i', 'Odesa', 'efter', 'russiske', 'angreb', 'på', 'højhus', 'og', 'feriecenter', 'https://t.co/pHW5sJYoBQ', 'Mette', 'Frederiksen', 'afviser', 'advokatvurdering', 'og', 'har', 'fortsat', 'tillid', 'til', 'Barbara', 'Bertelsen', 'https://t.co/bDvtZXlLF9', 'https://t.co/SMFCZ2WOHe', 'Mette', 'Frederiksen', 'holdt', 'pressemøde', 'om', 'Minkkommissionens', 'kritik', 'https://t.co/dX0j99ocXh', 'https://t.co/0uR71ukl8U', 'Seneste', 'nyt', 'fra', 'Ukraine:', 'Mindst', '18', 'personer', 'meldes', 'dræbt', 'efter', 'angreb', 'i', 'Odesa', 'https://t.co/8TLQRHC52c', 'https://t.co/NHPgzAiwt8', 'LIVE-TV:', 'Mette', 'Frederiksen', 'holder', 'pressemøde', 'om', 'Minkkommissionens', 'kritik', 'https://t.co/KRmMxb3fM1', 'https://t.co/FNfZ9poi9a', 'Minkkommissionen:', 'Grov', 'vildledning', 'af', 'Mette', 'Frederiksen', 'på', 'pressemøde', 'om', 'minkaflivning', 'https://t.co/fNItIgXrmc', 'https://t.co/8pJjzjm6Zk', 'FN', 'advarer:', \"'Katastrofal\", \"situation'\", 'på', 'Afrikas', 'Horn', 'kan', 'udvikle', 'sig', 'til', 'den', 'værste', 'sultkrise', 'i', '40', 'år', 'https://t.co/z3HlhBoN38', 'https://t.co/mW1yW6Mlwj', 'Djøf', 'forsvarer', 'topembedsmænd,', 'der', 'begik', 'fejl', 'i', 'minksagen:', \"'De\", 'havde', 'ikke', 'sovet', 'i', \"månedsvis'\", 'https://t.co/UlG2hThdQx', 'https://t.co/q4dJ9u3frS', 'Seneste', 'nyt', 'fra', 'Ukraine:', 'Mindst', '17', 'personer', 'meldes', 'dræbt', 'efter', 'angreb', 'i', 'Odesa', 'https://t.co/Cm7vFyVmXR', 'https://t.co/R4DCF6AsQn', 'Seneste', 'nyt', 'fra', 'Ukraine:', '14', 'personer', 'meldes', 'dræbt', 'i', 'missilangreb', 'på', 'lejligheder', 'i', 'Odesa', 'https://t.co/RtihFeU32k', 'https://t.co/CyeEK307LT', 'Seneste', 'nyt', 'fra', 'Ukraine:', \"'KABOOM!'\", '-', 'Jubel', 'efter', 'russiske', 'soldater', 'har', 'forladt', 'Slangeøen', 'https://t.co/8Ql1rzLV8U', 'https://t.co/qAkoHpw4Fn', \"USA's\", 'højesteret', 'spænder', 'ben', 'for', 'Bidens', 'klimaplaner', 'med', 'ny', 'afgørelse', 'https://t.co/FJ7h10pILu', 'https://t.co/1BfkKpKhZG', 'Demonstranter', 'har', 'generet', 'cykelløb', 'i', 'år', '-', 'og', 'det', 'er', 'politiet', 'også', 'forberedt', 'på', 'https://t.co/9XdVGdzR3l', 'https://t.co/g17tpfUc5P', \"USA's\", 'højesteret', 'spænder', 'ben', 'for', 'Bidens', 'klimakamp', 'med', 'ny', 'afgørelse', 'https://t.co/rN9EvniWkE', 'https://t.co/mkqUqbmyko', 'Seneste', 'nyt', 'fra', 'Ukraine:', \"'KABOOM!'\", '-', 'Jubel', 'efter', 'russiske', 'soldater', 'har', 'forladt', 'Slangeøen', 'https://t.co/GQ6UhPQoXX', 'https://t.co/eBjCpJWE9j', 'Så', 'voldsom', 'er', 'kritikken', 'i', 'minkskandalen:', 'Her', 'er', 'de', 'fem', 'afgørende', 'afsnit', 'fra', 'kommissionen', 'https://t.co/lKIWFS25Es', 'https://t.co/WANKjjNbu4', 'LÆS', 'SVARENE', 'om', 'Mink-afgørelsen:', '’Kommissionen', 'har', 'løst', 'sin', 'opgave', '–', 'og', 'på', 'kort', 'tid.', 'Den', 'har', 'gjort', 'et', 'flot', 'stykke', 'arbejde’', 'https://t.co/zjuom5j6qi', 'Enhedslisten', 'freder', 'Mette', 'Frederiksen', 'i', 'minkskandale:', 'Hun', 'gjorde', 'det', 'ikke', 'med', 'vilje', 'https://t.co/uwOgKOGBgz', 'https://t.co/1rHIG74Nnw', 'Efter', 'Minkkommissionens', 'beretning:', 'Hvordan', 'står', 'Mette', 'Frederiksen', 'nu?', 'https://t.co/e9riKkPkkP', 'MINUT', 'FOR', 'MINUT:', 'Afgørelsens', 'time', 'i', 'minkskandalen:', 'Afgørende', 'kulegravning', 'er', 'klar', 'https://t.co/x6IydhJlpU', 'https://t.co/Uimscq0sBz', 'LIVE:', 'Afgørelsens', 'time', 'i', 'minkskandalen:', 'Afgørende', 'kulegravning', 'er', 'klar', 'https://t.co/V2Jlz5hqdD', 'https://t.co/V50FnwH9PD', '130', 'mennesker', 'døde', 'i', 'Paris', 'i', '2015:', 'Eneste', 'overlevende', 'gerningsmand', 'idømt', 'livstid', 'https://t.co/QYVNdaKdUY', 'https://t.co/zw2ozGz5Y1', 'Minkkommissionen:', 'Grov', 'vildledning', 'af', 'Mette', 'Frederiksen', 'på', 'pressemøde', 'om', 'minkaflivning', 'https://t.co/J67deKNRza', 'https://t.co/urz9efMnNy', 'Seneste', 'nyt', 'fra', 'Ukraine:', 'Rusland', 'og', 'Ukraine', 'har', 'vidt', 'forskellige', 'forklaringer', 'på', 'russisk', 'exit', 'fra', 'Slangeøen', 'https://t.co/UnDzL4h3qN', 'https://t.co/MoZUfdMPiW', 'Seneste', 'nyt', 'fra', 'Ukraine:', 'Rusland', 'og', 'Ukraine', 'har', 'vidt', 'forskellige', 'forklaringer', 'på,', 'hvorfor', 'russiske', 'styrker', 'har', 'forladt', 'Slangeøen', 'https://t.co/rFtiDnxoVf', 'https://t.co/M0KZFCL1Ro', 'Minkkommissionen:', 'Grov', 'vildledning', 'af', 'Mette', 'Frederiksen', 'på', 'pressemøde', 'om', 'minkaflivning', 'https://t.co/CcKGfIbG82', 'https://t.co/8gED5mIYqJ', 'Amerikanske', 'efterretninger', 'er', 'meget', 'troværdige,', 'siger', 'ekspert:', 'Putin', 'vil', 'stadig', 'have', 'hele', 'Ukraine', 'https://t.co/sRISzTSAMU', 'https://t.co/A5Mr3ObnVq', 'Politisk', 'flertal', 'vil', 'have', 'mere', 'udenlandsk', 'arbejdskraft', 'til', 'Danmark', 'og', 'sænker', 'beløbsgrænsen', 'https://t.co/6quncSdSHt', 'https://t.co/ngWpkoWxgx', 'STIL', 'SPØRGSMÅL', 'om', 'mink-afgørelsen:', 'Er', 'regeringens', 'liv', 'nu', 'i', 'fare?', 'https://t.co/SvAz63ajw6', 'Michelle', 'fik', 'taget', 'kvælertag', 'af', 'sin', 'mor', 'og', 'slået', 'en', 'tand', 'ud', 'af', 'sin', 'far:', \"'Jeg\", 'ville', 'ønske,', 'at', 'nogen', 'havde', 'undersøgt', 'mig', 'fra', 'top', 'til', \"tå'\", 'https://t.co/xcddAfOXiF', 'https://t.co/tUNoGJWt28', 'LIVE:', 'Afgørelsens', 'time', 'i', 'minkskandalen:', 'Nu', 'kommer', 'afgørende', 'kulegravning', 'https://t.co/L3KCBXRDFQ', 'https://t.co/E6quEBLhy7', 'Tyrkiet', 'åbner', 'Nato-døren', 'for', 'Finland', 'og', 'Sverige:', \"'Vi\", 'har', 'faktisk', 'solgt', \"kurderne'\", 'https://t.co/Ig0pPMde31', 'https://t.co/4vXFoJAg9p', 'Seneste', 'nyt', 'fra', 'Ukraine:', 'Putin', 'afviser', 'russisk', 'ansvar', 'for', 'angreb', 'mod', 'shoppingcenter', 'https://t.co/Nk6TlEZ2s7', 'https://t.co/O8PtcAouVl', 'Amnesty:', 'Angreb', 'på', 'Mariupol-teater', 'var', 'en', 'klar', 'krigsforbrydelse', 'https://t.co/v29ZWDmSeF', 'https://t.co/bNFlLYk1e4', '130', 'mennesker', 'døde', 'i', 'Paris', 'i', '2015:', 'Eneste', 'overlevende', 'gerningsmand', 'idømt', 'livstid', 'https://t.co/HwZetfZOnu', 'https://t.co/mq5tqfxmMj', 'Ekspert', 'efter', 'ny', 'Trump-høring:', \"'Vel\", 'det', 'mest', 'fordømmende', 'billede,', 'der', 'nogensinde', 'er', 'tegnet', 'af', 'nogen', \"præsident'\", 'https://t.co/Tf1E8GjoUw', 'https://t.co/g8zGsL2BzE', 'Mulig', 'strejke', 'er', 'udsat,', 'og', 'folk', 'kan', 'komme', 'afsted', '-', 'men', 'hjemrejsen', 'er', 'i', 'fare:', \"'Vi\", 'får', \"travlt'\", 'https://t.co/aD0BVWqpBL', 'https://t.co/YeLl1Hc46o', 'Seneste', 'nyt', 'fra', 'Ukraine:', 'Nato', 'kalder', 'Rusland', \"'den\", 'største', 'trussel', 'mod', 'sikkerhed', 'og', \"stabilitet'\", 'https://t.co/3eCLzGG6Fl', 'https://t.co/NrEFxiT9YG', 'Rusland', 'er', 'igen', 'Natos', 'fjende', 'nummer', 'ét:', \"'Vi\", 'har', 'været', 'naive', 'for', \"længe'\", 'https://t.co/HrkU4p7Irp', 'https://t.co/2ec47G67cn', 'Rusland', 'er', 'igen', 'Natos', 'fjende', 'nummer', 'ét:', \"'Vi\", 'har', 'været', 'naive', 'for', \"længe'\", 'https://t.co/1IFVzcMvXU', 'https://t.co/hrqhBVbe9d', 'Tyrkiet', 'åbner', 'Nato-døren', 'for', 'Finland', 'og', 'Sverige:', \"'Vi\", 'har', 'faktisk', 'solgt', \"kurderne'\", 'https://t.co/s28uPOeyTY', 'https://t.co/P0WYoMRKqg', 'Lucas', 'føler', 'sig', 'fri', 'i', 'Rema:', 'Flere', 'unge', 'med', 'psykiske', 'og', 'fysiske', 'diagnoser', 'skal', 'i', 'job', 'fremfor', 'uddannelse', 'https://t.co/WsyZDN5nJe', 'https://t.co/ReaB7huRa4', 'Nets', 'bekræfter:', 'NemID-nedbrud', 'påvirkede', 'flere', 'danskere', 'end', 'først', 'antaget', 'https://t.co/SgYr2wWoYm', 'https://t.co/hYxvAGKOM2', 'Seneste', 'nyt', 'fra', 'Ukraine:', 'Zelenskyj', 'vil', 'have', 'Rusland', 'ud', 'af', \"FN's\", 'Sikkerhedsråd', 'https://t.co/rgKyeBaJIk', 'https://t.co/mjdnFSXxji', 'Ny', 'aftale', 'strammer', \"'skolelærerparagraf',\", 'men', 'sugardating-initiativ', 'har', 'ramt', 'EU-mur', 'https://t.co/740ZVEC9W9', 'https://t.co/XXuRbVfeBN', 'Støttepartier', 'tøver', 'med', 'at', 'lade', 'uvildige', 'advokater', 'vurdere', 'minkrapport:', \"'Kan\", 'bedst', 'betegnes', 'som', \"hykleri'\", 'https://t.co/Ry9EjxqRvm', 'https://t.co/JAB32AD4Zn', 'Explainer:', 'Hvorfor', 'har', 'Nato', 'brug', 'for', 'Sverige', 'og', 'Finland?', 'https://t.co/5ZFLRDEBhr', 'Vidnesbyrd', 'fra', 'Trump-støtte:', 'Præsidenten', 'var', '\"fucking', 'ligeglad\"', 'med,', 'at', 'hans', 'tilhængere', 'bar', 'våben', 'https://t.co/sFYynzVXix', 'https://t.co/SFKHrJZ8sy', 'SAS-strejke', 'er', 'midlertidigt', 'udskudt', '-', 'forhandlingerne', 'fortsætter', 'https://t.co/aKwuxzkWd5', 'https://t.co/uqVNTXxKsy', 'ANALYSE:', 'Rystende', 'vidneudsagn', 'kæder', 'Trump', 'sammen', 'med', 'bevæbnede', 'tilhængere,', 'som', 'han', 'dirigerede', 'mod', 'Kongressen', 'https://t.co/x2EmTn4Sk4', 'https://t.co/8HwZxTxly0', 'Nato', 'varmer', 'op', 'til', 'det', 'største', 'eftersyn', 'siden', 'Den', 'Kolde', 'Krig.', 'Og', 'det', 'bliver', 'en', 'dyr', 'omgang', 'https://t.co/hVCsDYaTk9', 'https://t.co/hiFiEmHvXj', 'Cecilie', 'faldt', 'af', 'hesten', 'og', 'kunne', 'ikke', 'klare', 'gymnasiet:', 'Unge', 'med', 'handicap', 'misser', 'ofte', 'job', 'og', 'uddannelse', 'https://t.co/EFCv4Pps51', 'https://t.co/qkDxx5VvIh', 'SAS-strejke', 'er', 'midlertidigt', 'afblæst', '-', 'forhandlingerne', 'fortsætter', 'https://t.co/hFrSBkzNMu', 'https://t.co/czW0igfqNt', 'Tyrkiet', 'accepterer', 'nu', 'Sverige', 'og', 'Finland', 'som', 'Nato-lande', 'https://t.co/K9kFqzLWL7', 'https://t.co/f2MogY8DVW', 'Korrespondent', 'hæfter', 'sig', 'ved', 'fire', 'ting', 'i', 'udtalelse', 'fra', 'hjemsendt', 'spionchef', 'https://t.co/U8h4jwdtES', 'https://t.co/tibiMoXHii', 'Se', 'billederne:', 'Farvel', 'til', 'Uffe', 'Ellemann-Jensen', 'https://t.co/9nqNV7Tcas', 'https://t.co/c03klMTIBU', 'Skotsk', 'folkeafstemning', 'om', 'uafhængighed', 'er', \"'tabersag\", 'på', 'alle', \"måder'\", 'for', 'den', 'britiske', 'regering', 'https://t.co/aDCNhyLgPc', 'https://t.co/hUTvNzSLYL', 'Amerikanske', 'kvinder', 'sletter', 'menstruations-apps', 'af', 'frygt', 'for', 'at', 'data', 'vil', 'blive', 'brugt', 'imod', 'dem', 'https://t.co/G8oG5eALq4', 'https://t.co/UsqEaZ8viu', 'Emma', 'fulgte', 'samråd', 'om', 'egen', 'voldtægtssag:', 'Nye', 'regler', 'skal', 'sikre,', 'at', 'sager', 'ikke', 'bliver', 'tabt', 'https://t.co/aZv7s4uLt8', 'https://t.co/noBkdOBCZI', 'I', 'dag', 'åbnede', 'det', 'første', 'danske', 'krisecenter', 'for', 'LGBT+-personer', 'https://t.co/X1WIvpdh5M', 'https://t.co/SZZkNjBDbA', 'De', 'første', 'afspærringer', 'til', 'Tour', 'de', 'France-starten', 'begynder', 'i', 'dag:', \"'Vi\", 'ved', 'godt,', 'at', 'det', 'generer', \"københavnerne'\", 'https://t.co/0Zm2k9KZia', 'https://t.co/wvmIb584iQ', \"USA's\", 'højesteret:', 'Fyret', 'fodboldtræner', 'måtte', 'gerne', 'bede', 'til', 'Gud', 'på', 'banen', 'https://t.co/rIlWINCYeg', 'https://t.co/P4j7Jkzexn', 'Politiske', 'profiler', 'mindes', 'Uffe', 'Ellemann:', 'Fuld', 'af', 'humor', 'og', 'fræk', 'som', 'en', 'slagterhund', 'https://t.co/LbCvwByuNy', 'https://t.co/AnZTKQnqHI', 'Virksomheder', 'ramt', 'af', 'NemID-nedbrud', 'op', 'til', 'vigtig', 'frist:', 'Nu', 'giver', 'styrelse', 'dem', 'længere', 'snor', 'https://t.co/IJi3oZCc3c', 'https://t.co/bQwc3pAKS8', 'Michaels', 'bedragerisag', 'blev', 'tabt', 'på', 'gulvet,', 'fordi', 'statsadvokaten', 'overtrådte', 'vigtig', 'tidsfrist', 'https://t.co/vUPHwAKGH4', 'https://t.co/p0JUjGYVYp', 'Lars', 'Findsen:', 'Dybt', 'krænkende', 'at', 'detaljer', 'om', 'privatliv', 'er', 'delt', 'https://t.co/uiWu6ejrON', 'https://t.co/eURMtAsdci', 'DOKUMENTATION:', 'Læs', 'den', 'skriftlige', 'udtalelse', 'fra', 'tidligere', 'FE-chef', 'Lars', 'Findsen', 'https://t.co/dCKaLgdv7S', 'https://t.co/AbuQw0weiC', 'De', 'første', 'afspærringer', 'til', 'Tour', 'de', 'France-starten', 'begynder', 'i', 'dag:', \"'Vi\", 'ved', 'godt,', 'at', 'det', 'generer', \"københavnerne'\", 'https://t.co/fHJJLeQOZC', 'https://t.co/vlatYHumHb', 'Mere', 'end', 'tusind', 'SAS-afgange', 'risikerer', 'at', 'blive', 'aflyst:', 'Sådan', 'kan', 'strejken', 'ramme', 'flykunderne', 'https://t.co/IgtqL3BGmY', 'https://t.co/5iYQRiMHCP', 'Nets', 'bekræfter:', 'NemID-nedbrud', 'påvirkede', 'flere', 'danskere', 'end', 'først', 'antaget', 'https://t.co/IVvYXsNilf', 'https://t.co/2JVU8FxStr', 'Fødeafdelingen', 'i', 'Roskilde', 'mangler', 'folk:', 'Nu', 'flyver', 'nordjyske', 'læger', 'ind', 'for', 'at', 'hjælpe', 'https://t.co/kXbtJp0NjC', 'https://t.co/hTTVIpKZzX', '46', 'migranter', 'fundet', 'døde', 'i', 'bagende', 'varm', 'lastbil', 'i', 'Texas:', \"'Der\", 'er', 'en', 'humanitær', 'krise', 'på', \"grænsen'\", 'https://t.co/lmE7MWwkvY', 'https://t.co/CH0naIqSU3', 'Michelle', 'fik', 'taget', 'kvælertag', 'af', 'sin', 'mor', 'og', 'slået', 'en', 'tand', 'ud', 'af', 'sin', 'far:', \"'Jeg\", 'ville', 'ønske,', 'at', 'nogen', 'havde', 'undersøgt', 'mig', 'fra', 'top', 'til', \"tå'\", 'https://t.co/4mS7GynQmR', 'https://t.co/EiQEGq69dB', 'Er', 'kæmpehalvø', 'kinderæg', 'eller', 'råddent', 'æg?', 'Her', 'er', 'alt,', 'du', 'skal', 'vide', 'om', 'Lynetteholm', 'https://t.co/y54buQEKYn', 'https://t.co/UjEn5BmrEz', 'Ny', 'formand', 'skal', 'rydde', 'op', 'på', 'Herlufsholm:', \"'Rom\", 'blev', 'ikke', 'bygget', 'på', 'en', 'dag.', 'Det', 'gør', 'det', 'her', 'heller', \"ikke'\", 'https://t.co/dzeTK0J3iw', 'https://t.co/VBMWZBy3Al', 'Overborgmester', 'om', 'Lynetteholm:', 'Kinder-ægget', 'er', 'knust', 'https://t.co/S6stws1dGJ', 'https://t.co/4rrsRYRpXH', 'Korrespondent:', 'Rige', 'russere', 'bruger', 'Østrig', 'som', 'legeplads', 'og', 'sniger', 'sig', 'uden', 'om', 'sanktioner', 'https://t.co/mwi3XX3R9P', 'https://t.co/6Fnf9MmWq1', 'Trods', 'ventet', 'trafikkaos', 'er', 'Tour-start', 'i', 'Danmark', '(desværre)', 'ikke', 'en', 'gyldig', 'grund', 'til', 'at', 'blive', 'hjemme', 'fra', 'arbejde', 'https://t.co/5wvv5pkt3p', 'https://t.co/ynz4MHlVIk', 'Eksperter:', 'Milliardregning', 'fra', 'metro', 'og', 'ringvej', 'til', 'Lynetteholm', 'kan', 'ende', 'hos', 'skatteborgerne', 'https://t.co/8b0sBYl1vb', 'https://t.co/6cPRzJz4Zx', 'SAS-strejke', 'under', 'opsejling:', 'Sådan', 'er', 'du', 'stillet,', 'hvis', 'du', 'har', 'en', 'billet', 'https://t.co/gH2ApmAf1G', 'https://t.co/p11TxejlyL', 'Norsk', 'politi', 'aflyser', 'kæmpe', 'minde-arrangement:', \"'Vi\", 'kan', 'ikke', 'garantere', 'for', \"sikkerheden'\", 'https://t.co/H3gXOsW5Gm', 'https://t.co/vr26NvExlP', 'DF-veteran', 'har', 'fået', 'nok', 'og', 'melder', 'sig', 'ud:', \"'Pia\", 'Kjærsgaard', 'har', 'tabt', \"hovedet'\", 'https://t.co/qHnROxnsK6', 'https://t.co/1gL2241NEo', 'Præsident', 'Zelenskyj:', 'Shoppingcenter', 'med', 'flere', 'end', '1.000', 'civile', 'ramt', 'af', 'russisk', 'missilangreb', 'https://t.co/q9299T6DN1', 'https://t.co/uus1Pgz2up', 'Tilsyn', 'har', 'indstillet', 'kontrol', 'med', 'Forsvarets', 'Efterretningstjenestes', 'aflytning', 'af', 'kabler', 'https://t.co/DNz4UK3F5X', 'https://t.co/MFPlmTP0Ve', 'Nye', 'detaljer', 'om', 'hemmeligholdt', 'sigtelse', 'mod', 'spionchef', 'er', 'kommet', 'frem', 'https://t.co/Ip043uihgD', 'https://t.co/TFpJUW0n2a', 'Eksperter:', 'Kongelige', 'børns', 'farvel', 'til', 'Herlufsholm', 'er', 'prisen', 'for', 'særstatus', 'og', 'privilegier', 'https://t.co/vmZ45STz5n', 'https://t.co/Q8FKQYQlEj', 'Ukraines', 'præsident', 'beder', 'G7', 'om', 'avancerede', 'forsvarssystemer', 'https://t.co/x4AJfbhZXX', 'https://t.co/v6EiaqNnR4', 'Menneskerettighedsorganisationer', 'kræver', 'undersøgelse', 'efter', 'mindst', '23', 'døde', 'ved', 'spansk', 'grænsehegn', 'https://t.co/N2Y83es8qU', 'https://t.co/blxY4f0eJq', 'Uret', 'tikker', 'mod', 'SAS-strejke:', \"'Parterne\", 'står', 'rigtig', 'langt', 'fra', \"hinanden'\", 'https://t.co/UQaUTeFCMS', 'https://t.co/eMpD0ogdRo', 'Ny', 'aftale:', 'Økonomisk', 'håndsrækning', 'på', 'vej', 'til', 'pressede', 'danskere', 'https://t.co/eOd91h2KI6', 'https://t.co/jMEx2Hwmyk', \"USA's\", 'Højesteret', 'omstøder', 'historisk', 'abortafgørelse', 'https://t.co/pEEXTY3bBX', 'https://t.co/vii9u2OI4L', 'Fire', 'dræbt', 'efter', 'kollaps', 'af', 'tyrefægtertribune', 'i', 'Colombia', 'https://t.co/zms49NCO9J', 'https://t.co/UespdysPPN', 'De', 'første', 'afspærringer', 'til', 'Tour', 'de', 'France-starten', 'begynder', 'i', 'dag:', \"'Vi\", 'ved', 'godt,', 'at', 'det', 'generer', \"københavnerne'\", 'https://t.co/H7zzFqjvr2', 'https://t.co/xxfhsfyUkD', 'Klinikker', 'oplever', 'markant', 'fald', 'i', 'antallet', 'af', 'patienter,', 'der', 'bliver', 'henvist', 'med', 'coronasenfølger', 'https://t.co/nfa0u2Mrr6', 'https://t.co/D8VwgkYQWj', 'Efter', 'skyderi', 'i', 'Oslo:', 'Formodet', 'gerningsmand', 'nægter', 'at', 'afgive', 'forklaring', 'https://t.co/vLVPjY7RCU', 'https://t.co/Zfh9h6usfJ', 'Prins', 'Christian', 'stopper', 'på', 'Herlufsholm', '-', 'prinsesse', 'Isabella', 'starter', 'ikke', 'https://t.co/59eLp2Al2N', 'https://t.co/nAMtf8VkmS', 'Prins', 'Christian', 'stopper', 'på', 'Herlufsholm', '-', 'prinsesse', 'Isabella', 'starter', 'ikke', 'https://t.co/KkJVA95mgj', 'https://t.co/ITD5dgLmLb', 'DR-reporter', 'vækket', 'af', 'eksplosioner', 'i', 'Kyiv:', \"'Man\", 'ser', 'det', 'som', 'et', \"frustrationsangreb'\", 'https://t.co/NzbH9FJBTE', 'https://t.co/LqevKdL1pQ', 'Olieplatform', 'skal', 'i', 'bakgear:', 'Sådan', 'vil', 'forskere', 'sende', 'CO2', 'ned', 'under', 'havbunden', 'https://t.co/Zz5oBUZeGm', 'Skønhedsklinikker', 'reklamerer', 'på', 'TikTok:', \"'Børn\", 'kan', 'få', 'et', 'forvrænget', 'billede', 'af,', 'hvordan', 'vi', 'bør', 'se', \"ud'\", 'https://t.co/DzA0GfZJHd', 'https://t.co/YVBpP0R85L', 'Efter', 'hele', 'bestyrelsens', 'afgang:', 'Nu', 'skal', 'Herlufsholm', '’virkelig', 'i', 'arbejdstøjet’', 'https://t.co/Jl8FYLepWI', 'https://t.co/ECEgwKkQT7', 'Ny', 'ordbog', 'bliver', 'revet', 'væk:', '’Vi', 'kan', 'slet', 'ikke', 'følge', 'med', 'efterspørgslen', 'fra', 'de', 'mange', 'ukrainere', 'i', 'Danmark’', 'https://t.co/uLBFEmilyR', 'https://t.co/1O8m5pXY4s', 'Herlufsholms', 'bestyrelse', 'træder', 'tilbage', 'efter', 'hård', 'kritik', 'fra', 'styrelse', 'https://t.co/99m4eOU2YK', 'https://t.co/wugRV9loci', 'Ny', 'dansk', 'minedrone', 'fandt', 'ting', 'på', 'havbunden,', 'der', 'fik', 'Søværnets', 'Dykkertjeneste', 'til', 'at', 'undre', 'sig', 'https://t.co/Pgv7bw64PK', 'https://t.co/9A40a0snlL', 'ANALYSE', 'Amerikas', 'konservative', 'har', 'overtaget', 'og', 'appetit', 'på', 'ny', 'sejr', 'i', 'værdikamp', 'https://t.co/WISHLhHVI9', 'https://t.co/jiuYWRMNkg', 'Herlufsholms', 'bestyrelse', 'træder', 'tilbage', 'efter', 'hård', 'kritik', 'fra', 'styrelse', 'https://t.co/XiINVXM9zg', 'https://t.co/mx13MbgMeT', 'Herlufsholms', 'bestyrelse', 'træder', 'tilbage', 'efter', 'hård', 'kritik', 'fra', 'styrelse', 'https://t.co/1UfFKNvWB4', 'https://t.co/sqXkb3fOau', 'Herlufsholms', 'bestyrelse', 'træder', 'tilbage', 'https://t.co/dSMXWEQ3Iw', 'https://t.co/QGiuiwZjY4', \"'I\", 'nat', 'blev', 'regnbuen', 'farvet', \"sort':\", 'Angreb', 'mod', 'LGBT+-bar', 'i', 'Oslo', 'betragtes', 'som', 'terror', 'https://t.co/qPFldlPtQD', 'https://t.co/WzLm8IAdYL', 'Forældre', 'skal', 'spørge', 'om', 'lov', 'til', 'at', 'se', 'deres', 'børns', 'sundhedsjournal:', 'Det', 'skal', 'nu', 'laves', 'om', 'https://t.co/Z3glOUiKUO', 'https://t.co/5GgmsRvvnx', 'Seneste', 'nyt', 'om', 'skyderiet', 'i', 'Oslo', 'https://t.co/rxlvykmfG5', 'https://t.co/eTKzDZ8ING', 'Seneste', 'nyt', 'om', 'skyderiet', 'i', 'Oslo', 'https://t.co/PcnZ4cv0gM', 'https://t.co/Tmpe5tcidK', 'DF', 'i', 'frit', 'fald:', \"'Det\", 'begynder', 'at', 'ligne', 'et', \"sammenbrud'\", 'https://t.co/IUnQ1VIcHp', 'https://t.co/IdjvUtRtfq', 'I', 'de', 'fleste', 'europæiske', 'lande', 'er', 'aborten', 'fri.', 'Men', 'få', 'steder', 'er', 'det', 'helt', 'ulovligt', 'https://t.co/46vA8h0Ngy', 'https://t.co/QxRxmEQTBQ', 'Har', 'du', 'SAS-billetter', 'og', 'frygter', 'for', 'sommerferien?', 'Vi', 'arbejder', 'på', 'en', 'løsning,', 'siger', 'SAS-direktør', 'https://t.co/kV0M06MDgE', 'https://t.co/vLiUHqwqxB', \"'Jeg\", 'har', 'betragtet', 'DF', 'som', '\"mit\"', \"parti':\", '27', 'års', 'troskab', 'er', 'slut', 'for', 'Søren', 'Espersen', 'https://t.co/olJrcTFTVl', 'https://t.co/g7xCQcuubd', 'Seneste', 'nyt', 'om', 'skyderiet', 'i', 'Oslo', 'https://t.co/Jf7ivuRMcp', 'https://t.co/b0IOWyBbaM', 'To', 'døde', 'og', 'flere', 'sårede', 'efter', 'skyderi', 'i', 'Oslo:', 'Efterforskes', 'som', 'terror', 'https://t.co/EOZ3ZgSZHE', 'https://t.co/jRIZXr542V', 'Bred', 'aftale', 'i', 'Folketinget:', 'Fra', '2035', 'skal', 'ingen', 'boliger', 'opvarmes', 'af', 'gas', 'https://t.co/mOKhWWwaZ6', 'https://t.co/fyKapXxifN', 'Bred', 'energiaftale', 'skal', 'gøre', 'danskerne', 'fri', 'af', 'russisk', 'gas', 'fra', '2035', 'https://t.co/XYCXIWgEHs', 'https://t.co/16a2sHZNvv', \"'Grusomt\", 'og', 'dybt', \"rystende':\", 'To', 'døde', 'og', 'flere', 'sårede', 'efter', 'skyderi', 'i', 'Oslo', 'https://t.co/DYxaLARDDh', 'https://t.co/N6HYBUM7gr', 'To', 'døde', 'og', 'flere', 'sårede', 'efter', 'skyderi', 'i', 'Oslo:', 'Det', 'er', 'grusomt', 'og', 'dybt', 'rystende', 'https://t.co/efmxVKRuKv', 'https://t.co/a4nCqrhwBP', 'Efter', 'Skaarups', 'DF-exit', 'peger', 'analytiker', 'på', 'Thulesen', 'Dahl', \"'som\", 'den', \"næste'\", 'https://t.co/KKMbxIrQaV', 'https://t.co/RN9DMIklX9', 'Forældre', 'har', 'adgang', 'forbudt', 'til', 'børns', 'sygejournal:', 'Nu', 'skal', 'det', 'laves', 'om', 'https://t.co/hXQ6JirMc9', 'https://t.co/HgNErkuAXP', 'Tusindvis', 'på', 'gaden', 'over', 'hele', 'USA', 'i', 'protest', 'mod', 'historisk', 'abort-afgørelse', 'https://t.co/nKIfvIk9t7', 'https://t.co/99vw2cQV3m', 'Nets', 'kan', 'stadig', 'ikke', 'sige,', 'hvornår', 'NemID', 'fungerer', '100', 'procent', 'igen', 'https://t.co/FgRPG3oWaB', 'https://t.co/9kT37Fplv8', 'Skaarup-exit', 'bliver', 'nok', 'ikke', 'den', 'sidste:', 'Morten', 'Messerschmidt', 'forventer', \"'en\", 'lille', 'overraskelse', 'i', 'morgen', 'eller', \"overmorgen'\", 'https://t.co/FDInQgK7Iz', 'https://t.co/oTRxAPTCGm', 'Biden', 'kalder', 'Højesterets', 'abort-dom', 'for', \"'trist',\", 'mens', 'republikanere', 'fejrer', \"'historisk\", \"sejr'\", 'https://t.co/qk0Irt7Ts5', 'https://t.co/xKFv97n1R2', 'Støjberg', 'om', 'Peter', 'Skaarups', 'tilgang:', \"'En\", 'uhyre', 'dygtig', \"politiker'\", 'https://t.co/eAGaoCWx9G', 'https://t.co/Ewk7Jw0hP1', 'Biden', 'om', 'afgørelse', 'fra', 'højesteret:', 'Resultatet', 'af', 'en', \"'ekstrem\", \"ideologi'\", 'https://t.co/HqNBctxIZY', 'https://t.co/yfnO0F3Qjn', 'Peter', 'Skaarup', 'forlader', 'Dansk', 'Folkeparti:', 'Vil', 'være', 'kandidat', 'i', 'Inger', 'Støjbergs', 'nye', 'parti', 'https://t.co/38HMLpsSeC', 'https://t.co/J38OcL7OdQ', 'Peter', 'Skaarup', 'forlader', 'Dansk', 'Folkeparti:', 'Skifter', 'til', 'Inger', 'Støjbergs', 'nye', 'parti', 'https://t.co/Vhuc1D2VKi', 'https://t.co/jEWPcRMUmj', 'Har', 'du', 'SAS-billetter', 'og', 'frygter', 'for', 'sommerferien?', 'Vi', 'arbejder', 'på', 'en', 'løsning,', 'siger', 'SAS-direktør', 'https://t.co/6LE8xb7Mib', 'https://t.co/qc71TX3T2p', 'USA', 'skrotter', 'knap', 'et', 'halvt', 'århundredes', 'abortlov', 'https://t.co/yLTathr5P8', 'https://t.co/Vyos3evThu', 'Det', 'er', 'slut', 'med', 'retten', 'til', 'fri', 'abort', 'i', 'USA:', 'Få', 'tre', 'svar', 'på,', 'hvad', 'der', 'sker', 'nu', 'https://t.co/cVAmolwTWO', \"USA's\", 'Højesteret', 'omstøder', 'historisk', 'abortlovgivning', 'https://t.co/qRoN9BIh4J', 'https://t.co/9DfaaJzBTF', 'Tre', 'dages', 'NemID-nedbrud', 'rammer', 'danskerne:', \"'Det\", 'er', 'simpelthen', \"amatøragtigt'\", 'https://t.co/4TsOOo3v3l', 'https://t.co/uUE6k9qqwn', 'Minkavler', 'efter', 'læk', 'af', 'udkast', 'til', 'minkrapport:', \"'Det\", 'eneste,', 'jeg', 'håber,', 'er,', 'at', 'der', 'er', 'en', 'smule', 'retfærdighed', \"til'\", 'https://t.co/zt4SnzA0HA', 'https://t.co/cE5M2KI1mf', 'På', 'få', 'timer', 'blev', 'den', 'amerikanske', 'våbenlov', 'både', 'strammet', 'og', 'lempet', '-', 'i', 'New', 'York', 'kan', 'du', 'nu', 'tage', 'våbenet', 'med', 'ud', 'på', 'gaden', 'https://t.co/1wCMtskVj0', 'https://t.co/7ajiX12UZz', 'Abort-afgørelse', 'venter', 'i', 'USA:', \"'Baby-morder,\", 'du', 'har', 'blod', 'på', \"hænderne'\", 'https://t.co/j9jlUP2Qg8', 'https://t.co/WxjCP9qvDf', 'Ny', 'aftale:', 'Økonomisk', 'håndsrækning', 'på', 'vej', 'til', 'pressede', 'danskere', 'https://t.co/VRCZyy0Q3F', 'https://t.co/EiVqP0swev', 'Ekspert', 'efter', 'læk', 'af', 'udkast', 'til', 'minkrapport:', 'Det', 'er', 'alvorligt', 'https://t.co/QdCauE70yt', 'https://t.co/o0JapzVi7g', 'Pilot-strejke', 'truer', 'i', 'horisonten:', 'Sommerferien', 'er', 'på', 'spil', 'for', 'tusindvis', 'af', 'danskere', 'https://t.co/GOBNs9LCpA', 'https://t.co/N1spfVJRfg', 'Ukrainsk', 'by', 'kæmper', 'med', 'vandforsyning', '-', 'og', 'her', 'kommer', 'Danmark', 'ind', 'i', 'billedet', 'https://t.co/H2bRLUIWP0', 'https://t.co/TMU1jAnFeq', 'Dansk', 'fregat', 'skal', 'hjælpe', 'amerikansk', 'hangarskib', 'med', 'at', 'afskrække', 'russerne', 'https://t.co/PXV91lbN7d', 'https://t.co/qvQckw6L4D', 'Dansk', 'fregat', 'skal', 'hjælpe', 'amerikansk', 'hangarskib', 'med', 'at', 'afskrække', 'russerne', 'https://t.co/VGedMMXTjZ', 'https://t.co/YmU2k66uKu', 'Medie', 'har', 'set', 'udkast', 'til', 'minkrapport:', 'Statsministeriet', 'handlede', \"'meget\", \"kritisabelt'\", 'og', 'stod', 'bag', \"'grov\", \"vildledning'\", 'https://t.co/9GyssPz0gv', 'https://t.co/Ete5tFJAU6', 'Dansk', 'fregat', 'skal', 'hjælpe', 'amerikansk', 'hangarskib', 'med', 'at', 'afskrække', 'russerne', 'https://t.co/6tx8FyZV5m', 'https://t.co/X3VRV0jJav', 'Ukraine', 'får', 'status', 'som', 'EU-kandidatland', '-', 'men', 'vejen', 'til', 'medlemskab', 'er', 'stadig', 'lang', 'og', 'kringlet', 'https://t.co/ruI2fD80HH', 'https://t.co/4eYnxrP74p', 'Ukraine', 'genoptager', 'forsøg', 'på', 'at', 'befri', 'Slangeøen:', \"'Vi\", 'kæmper', 'til', 'det', \"sidste'\", 'https://t.co/ibnfr1ndd5', 'https://t.co/ZBY9AlYhIR', 'NemID', 'ramt', 'af', \"'ekstremt\", \"alvorligt'\", 'nedbrud', 'på', 'andet', 'døgn', 'https://t.co/H5ZpG939CU', 'https://t.co/eRgSWmU5sG', 'NemID', 'ramt', 'af', 'omfattende', 'nedbrud', 'på', 'andet', 'døgn:', \"'Det\", 'er', 'ekstremt', \"alvorligt'\", 'https://t.co/SYmNZlUrYr', 'https://t.co/abxLVOy4kI', 'Hold', 'tungen', 'lige', 'i', 'munden:', 'Forstå', 'sagen', 'om', 'kvinden,', 'der', 'forsøgte', 'at', 'hvidvaske', 'knap', '30', 'milliarder', 'https://t.co/l1cspv2aBR', 'https://t.co/PGkqocPbZp', 'Inger', 'Støjberg:', \"'Det\", 'her', 'parti', 'skal', 'være', 'sådan', 'et', 'parti', 'for', 'folk,', 'som', 'vi', 'er', \"flest'\", 'https://t.co/f5gxiLL4eO', 'https://t.co/RzWEmzDtoT', 'Inger', 'Støjberg:', \"'Det\", 'her', 'parti', 'være', 'sådan', 'et', 'parti', 'for', 'folk,', 'som', 'vi', 'er', \"flest'\", 'https://t.co/Hgxg3WYCxT', 'https://t.co/SmrfWjSHbY', 'Inger', 'Støjberg:', \"'Det\", 'her', 'parti', 'det', 'skal', 'være', 'sådan', 'et', 'parti', 'for', 'folk,', 'som', 'vi', 'er', \"flest'\", 'https://t.co/aQYftCrGfH', 'https://t.co/ynbV52pJhB', 'Messerschmidt', 'om', 'Støjbergs', 'nye', 'parti:', \"'Svært\", 'for', 'mig', 'at', 'se', 'det', 'som', 'en', 'dårlig', \"dag'\", 'https://t.co/v2ltWZQTsV', 'https://t.co/Y977BnIHzd', 'Er', 'det', 'blevet', 'moderne', 'at', 'være', 'heks?', 'Mød', 'fire', 'hekse', 'anno', '2022', 'her', 'https://t.co/FqvFQwT9CN', 'Politiet', 'advarer', 'om', 'ny', 'måde', 'at', 'fejre', 'studenterhuen', 'på:', \"'Alt\", 'ved', 'det', 'her', 'er', \"farligt'\", 'https://t.co/GYdh5BqvDN', 'https://t.co/JugGA7yWjE', 'Nu', 'taler', 'Støjberg', 'efter', 'at', 'have', 'stiftet', 'Danmarksdemokraterne', 'https://t.co/8HufN6r8H9', 'https://t.co/8YgE1XJwn1', 'Messerschmidt', 'om', 'Støjbergs', 'nye', 'parti:', \"'Svært\", 'for', 'mig', 'at', 'se', 'det', 'som', 'en', 'dårlig', \"dag'\", 'https://t.co/urUXxkM5N3', 'https://t.co/AoTWnmZtof', 'Historisk', 'dom:', '49-årig', 'kvinde', 'får', 'hård', 'straf', '-', 'forsøgte', 'at', 'hvidvaske', 'knap', '30', 'milliarder', 'https://t.co/yFYGh0zfUi', 'https://t.co/vr0Sh21MIo', 'Aarhus-politikere', 'vil', 'have', 'anonyme', 'jobansøgninger:', \"'Det\", 'skal', 'ikke', 'springe', 'i', 'øjnene,', 'hvad', 'du', 'hedder,', 'eller', 'hvor', 'gammel', 'du', \"er'\", 'https://t.co/1PZNUjHq9Y', 'https://t.co/adaefmwelP', 'Mens', 'afghanerne', 'graver', 'grave', 'efter', 'jordskælv,', 'kæmper', 'dansk', 'organisation', 'med', 'at', 'få', 'nødhjælp', 'frem:', '’Antallet', 'at', 'døde', 'og', 'sårede', 'vil', 'stige’', 'https://t.co/A46Ek0yNOP', 'https://t.co/zONuzA5oWN', 'Fodboldklub', 'bor', 'i', 'et', 'skur.', 'Men', 'kommuner', 'tvinges', 'nu', 'til', 'at', 'vælge', 'mellem', 'børnehaver', 'og', 'nye', 'klubhuse', 'https://t.co/BueupJVAI1', 'https://t.co/Ztqs05kJh1', 'Inger', 'Støjberg', 'starter', 'nyt', 'parti.', 'Det', 'får', 'navnet', '’Danmarksdemokraterne’', 'https://t.co/NblMHLUCL1', 'https://t.co/qlKDvm6XLg', 'Vi', 'blander', 'os', 'for', 'lidt,', 'når', 'der', 'er', 'vold', 'hos', 'naboen,', 'mener', 'regeringen', 'https://t.co/3POjOF31Se', 'https://t.co/WymEVzYrsH', 'Københavns', 'Lufthavn', 'lover', 'styr', 'på', 'kaos', 'inden', 'store', 'rejsedag', 'https://t.co/StZti2rtQQ', 'https://t.co/rUqzcmsOgn', 'Ukraine', 'vil', 'være', 'med:', 'Men', 'hvordan', 'bliver', 'man', 'egentlig', 'medlem', 'af', 'EU?', 'https://t.co/jc0k4el23K', 'Papirudgaven', 'af', 'B.T.', 'lukker:', 'Her', 'er', 'tre', 'skelsættende', 'historier', 'fra', 'den', 'mere', 'end', '100', 'år', 'gamle', 'avis', 'https://t.co/Z8VgTCHKFY', 'https://t.co/OPthPFCu67', 'Mindst', '1.000', 'dræbt,', 'da', 'jordskælv', 'ramte', 'Afghanistan', 'midt', 'om', 'natten:', \"'Hele\", 'landsbyen', 'var', \"begravet'\", 'https://t.co/yX1Y3YWXMz', 'https://t.co/coKBINVQOD', 'ANALYSE', 'Republikanere', 'har', 'betalt', 'en', 'høj', 'pris', 'for', 'at', 'gå', 'imod', 'Trumps', 'valgløgne', 'https://t.co/npphMiYg7C', 'https://t.co/gwl38IMmIh', 'Omdiskuteret', 'våbenlov', 'har', 'overvundet', 'første', 'hurdle:', 'Nu', 'venter', 'afstemning', 'i', 'Senatet', 'https://t.co/a3F2gdBOHd', 'https://t.co/SHsAVNMa5T', 'Ny', 'corona-pille', 'kan', 'lande', 'efter', 'sommerferien:', \"'Det\", 'er', 'en', 'game-changing', \"behandling'\", 'https://t.co/yIl0sfpzBN', 'https://t.co/3KG5jSZYQw', 'Se', 'den', 'første', 'drone,', 'der', 'leverer', 'en', 'hjertestarter', 'ved', 'dit', 'dørtrin', 'https://t.co/1MgTwVO72i', 'https://t.co/pS5oGlpSGu', \"'Betydningsfuld'\", 'våbenlov', 'har', 'overvundet', 'første', 'hurdle:', 'Nu', 'venter', 'afstemning', 'i', 'Senatet', 'https://t.co/gDoIYo4Rg5', 'https://t.co/GDOuD5ixGY', 'MINUT', 'FOR', 'MINUT', 'Statsministeren', 'lancerede', 'nyt', 'vaccinestik', 'til', '2,5', 'millioner', 'danskere', 'https://t.co/oe0iBxJ5q7', 'https://t.co/dhfPYxPoN9', 'Alle', 'over', '50', 'år', 'får', 'tilbudt', 'coronavaccine', 'i', 'efteråret', 'https://t.co/NvUBwpqSGX', 'https://t.co/JUukLeR6XA', 'Succesbandet', 'Liss', 'mistede', 'pludseligt', 'sin', 'frontfigur:', 'Nu', 'udgiver', 'vennerne', 'ny', 'musik', 'som', 'et', 'minde', 'om', 'Søren', 'https://t.co/lEagUyYQLS', 'https://t.co/P8tH9TXREv', 'Alle', 'over', '50', 'år', 'får', 'tilbudt', 'coronavaccine', 'i', 'efteråret', 'https://t.co/Wyy1AJ1Isw', 'https://t.co/M1FAgOmu0z', 'Alle', 'over', '50', 'år', 'får', 'tilbudt', 'coronavaccine', 'i', 'efteråret', 'https://t.co/BPzHzzKUkw', 'https://t.co/ZvHecXTK0E', 'Taliban', '2.0', 'flirter', 'med', 'fortiden', 'https://t.co/9Smhn7eiF1', 'https://t.co/yxZDAPR12d', 'Ekspert', 'før', 'coronapressemøde:', 'Man', 'skal', 'overveje,', 'om', 'det', 'er', 'nu,', 'fjerde', 'dosis', 'skal', 'gives', 'til', 'ældre', 'https://t.co/ZRx8Zl4g77', 'https://t.co/tn4r1ozYmN', 'Med', 'sin', 'mobilskole', 'trodser', 'én', 'mand', 'Taliban:', \"'Lige\", 'nu', 'har', 'jeg', '35', 'hemmelige', 'skoler', 'for', \"piger'\", 'https://t.co/RiQSEVijUj', 'Litauen', 'stoppede', 'varer', 'fra', 'at', 'komme', 'ind', 'i', 'russisk', 'enklave', '-', 'nu', 'truer', 'Kreml', 'landet', 'https://t.co/RlXLfYDFxJ', 'https://t.co/h1pRCjXDUY', 'Drabsefterforskere', 'vil', 'bruge', 'slægtsforskning', 'til', 'at', 'knække', 'uopklarede', 'drabsgåder', 'https://t.co/ap8IfL3saa', 'https://t.co/hRSd1u4jZe', 'Nyt', 'udspil', 'vil', 'sløjfe', 'højskoleophold', 'på', 'kvote', '2-ansøgning,', 'men', \"'regeringens\", 'alternativer', 'er', 'lige', 'så', 'socialt', \"skæve'\", 'https://t.co/D9wRnGxGtk', 'https://t.co/wBP3e0UIXh', 'Den', 'europæiske', 'gaskrise', 'spidser', 'til', '-', 'og', 'det', 'kan', 'ramme', 'os', 'alle', 'https://t.co/uTTImOxglQ', 'https://t.co/luaYC9vVaP', 'Nyt', 'parti', 'med', 'Støjbergs', 'navn', 'godkendt', 'https://t.co/W8AJODDQxU', 'https://t.co/xUaxr8cOKl', 'Er', 'det', 'en', 'menneskeret', 'at', 'spise', 'vegansk?', 'Ja,', 'siger', 'forening.', 'Ikke', 'nødvendigvis,', 'siger', 'jurist', 'https://t.co/pA1trD6xnQ', 'https://t.co/HNZe1j64qY', 'Efter', 'soldaters', 'opråb', 'om', 'mangel', 'på', 'ammunition', 'på', 'Putin-mission:', 'Partier', 'kræver', 'Bødskov', 'på', 'banen', 'https://t.co/6HnkqGNkJG', 'https://t.co/7Q5EfBJWKW', 'EU', 'vil', 'have', 'mere', 'ligestilling:', \"'Vi\", 'halter', 'enormt', 'meget', \"bagud'\", 'https://t.co/KZyX9SqZOH', 'https://t.co/9tBqElEGuD', 'Flymekanikere', 'varsler', 'sympatistrejke', 'mod', 'SAS:', 'Det', 'kan', 'blive', 'et', \"'kæmpe\", \"tilbageslag'\", 'for', 'SAS', 'https://t.co/LuNrzQGRqQ', 'https://t.co/rfuw9Bdc3S']\n"
          ]
        }
      ]
    },
    {
      "cell_type": "code",
      "source": [
        "# Removing Punctuation by using Regular Expression (RegEx)\n",
        "lines = [re.sub(r'[^A-Za-z0-9]+', '', x) for x in lines]\n",
        "\n",
        "lines2= []\n",
        "\n",
        "for word in lines:\n",
        "  if word != '':\n",
        "    lines2.append(word)"
      ],
      "metadata": {
        "id": "9UIKk_SkdVMo"
      },
      "execution_count": 286,
      "outputs": []
    },
    {
      "cell_type": "code",
      "source": [
        "# Stemming the words to their root\n",
        "from nltk.stem.snowball import SnowballStemmer\n",
        "\n",
        "s_stemmer = SnowballStemmer(language='english')\n",
        "\n",
        "stem= []\n",
        "for word in lines2:\n",
        "  stem.append(s_stemmer.stem(word))"
      ],
      "metadata": {
        "id": "NjfTy11PdU5v"
      },
      "execution_count": 287,
      "outputs": []
    },
    {
      "cell_type": "code",
      "source": [
        "# Removing all the stop words\n",
        "stem2= []\n",
        "\n",
        "for word in stem:\n",
        "  if word not in nlp.Defaults.stop_words:\n",
        "    stem2.append(word)"
      ],
      "metadata": {
        "id": "R-2nVYJngyjI"
      },
      "execution_count": 288,
      "outputs": []
    },
    {
      "cell_type": "code",
      "source": [
        "df2 = pd.DataFrame(stem2)\n",
        "df2 = df2[0].value_counts()\n",
        "df2.head()"
      ],
      "metadata": {
        "colab": {
          "base_uri": "https://localhost:8080/"
        },
        "id": "gGnMycgMhkDv",
        "outputId": "de7ed012-e8a8-4923-ab5d-d45725d39b78"
      },
      "execution_count": 289,
      "outputs": [
        {
          "output_type": "execute_result",
          "data": {
            "text/plain": [
              "er     48\n",
              "p      43\n",
              "og     42\n",
              "det    38\n",
              "til    34\n",
              "Name: 0, dtype: int64"
            ]
          },
          "metadata": {},
          "execution_count": 289
        }
      ]
    },
    {
      "cell_type": "code",
      "source": [
        "# Visualization\n",
        "df2= df2[:20,]\n",
        "plt.figure(figsize=(15,7.5))\n",
        "sns.barplot(df2.values, df2.index, alpha=1)\n",
        "plt.title('Top words Overall')\n",
        "plt.ylabel('Word from Tweet')\n",
        "plt.xlabel('Count of Words')\n",
        "plt.show()"
      ],
      "metadata": {
        "colab": {
          "base_uri": "https://localhost:8080/",
          "height": 413
        },
        "id": "KMUBCjuYiiQo",
        "outputId": "4911677c-481d-4aa9-e1ae-cebbc560f4e5"
      },
      "execution_count": 290,
      "outputs": [
        {
          "output_type": "display_data",
          "data": {
            "text/plain": [
              "<Figure size 1080x540 with 1 Axes>"
            ],
            "image/png": "[encoded data removed]"
          },
          "metadata": {
            "needs_background": "light"
          }
        }
      ]
    },
    {
      "cell_type": "code",
      "source": [
        "# Visualization for mentions organizations\n",
        "def show_ents(doc):\n",
        "  if doc.ents:\n",
        "    for ent in doc.ents:\n",
        "      print(ent.text + ' - ' + ent.label_ + ' - ' + str(spacy.explain(ent.label_)))"
      ],
      "metadata": {
        "id": "5T-MBw-SkgaJ"
      },
      "execution_count": 291,
      "outputs": []
    },
    {
      "cell_type": "code",
      "source": [
        "str1 = \" \"\n",
        "stem2 = str1.join(lines2)\n",
        "stem2 = nlp(stem2)\n",
        "label = [(X.text, X.label_) for X in stem2.ents]\n",
        "df6 = pd.DataFrame(label, columns = ['Word', 'Entity'])\n",
        "df7 = df6.where(df6['Entity'] == 'ORG')\n",
        "df7 = df7['Word'].value_counts()"
      ],
      "metadata": {
        "id": "C41kIggul6t7"
      },
      "execution_count": 292,
      "outputs": []
    },
    {
      "cell_type": "code",
      "source": [
        "# Visualization again\n",
        "dfx= df7[:20, ]\n",
        "plt.figure(figsize=(15,7.5))\n",
        "sns.barplot(dfx.values, dfx.index, alpha=1)\n",
        "plt.title('Top Organization mentioned')\n",
        "plt.ylabel('Word from Tweet', fontsize=12)\n",
        "plt.xlabel('Count of Words', fontsize=12)\n",
        "plt.show()"
      ],
      "metadata": {
        "colab": {
          "base_uri": "https://localhost:8080/",
          "height": 335
        },
        "id": "H5oU49BPnQjR",
        "outputId": "74279acb-05b5-4073-b7c5-29338642082c"
      },
      "execution_count": 293,
      "outputs": [
        {
          "output_type": "display_data",
          "data": {
            "text/plain": [
              "<Figure size 1080x540 with 1 Axes>"
            ],
            "image/png": "[encoded data removed]"
          },
          "metadata": {
            "needs_background": "light"
          }
        }
      ]
    },
    {
      "cell_type": "code",
      "source": [
        "str1 = \" \"\n",
        "stem2 = str1.join(lines2)\n",
        "stem2 = nlp(stem2)\n",
        "label = [(X.text, X.label_) for X in stem2.ents]\n",
        "df6 = pd.DataFrame(label, columns = ['Word', 'Entity'])\n",
        "df7 = df6.where(df6['Entity'] == 'PERSON')\n",
        "df7 = df7['Word'].value_counts()"
      ],
      "metadata": {
        "id": "2pPZsmzhl7i6"
      },
      "execution_count": 294,
      "outputs": []
    },
    {
      "cell_type": "code",
      "source": [
        "# Visualization again\n",
        "dfx= df7[:20, ]\n",
        "plt.figure(figsize=(15,7.5))\n",
        "sns.barplot(dfx.values, dfx.index, alpha=1)\n",
        "plt.title('Top People Mentioned')\n",
        "plt.ylabel('Word from Tweet', fontsize=12)\n",
        "plt.xlabel('Count of Words', fontsize=12)\n",
        "plt.show()"
      ],
      "metadata": {
        "id": "EP_VKVk_09UA",
        "colab": {
          "base_uri": "https://localhost:8080/",
          "height": 374
        },
        "outputId": "f7217fb5-eb58-4ff2-c881-10f070010e72"
      },
      "execution_count": 295,
      "outputs": [
        {
          "output_type": "display_data",
          "data": {
            "text/plain": [
              "<Figure size 1080x540 with 1 Axes>"
            ],
            "image/png": "[encoded data removed]"
          },
          "metadata": {
            "needs_background": "light"
          }
        }
      ]
    }
  ],
  "metadata": {
    "colab": {
      "name": "TwiteerDataAnalytics.ipynb",
      "provenance": [],
      "mount_file_id": "1QcHp2JfNJiln7VgNSMmi2mx2MzNKBNQw",
      "authorship_tag": "ABX9TyMTwDWzx/26JiiiBP/UDxtA",
      "include_colab_link": true
    },
    "kernelspec": {
      "display_name": "Python 3",
      "name": "python3"
    },
    "language_info": {
      "name": "python"
    }
  },
  "nbformat": 4,
  "nbformat_minor": 0
}