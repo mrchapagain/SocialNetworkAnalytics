{
  "cells": [
    {
      "cell_type": "markdown",
      "metadata": {
        "id": "view-in-github",
        "colab_type": "text"
      },
      "source": [
        "<a href=\"https://colab.research.google.com/github/mrchapagain/SocialNetworkAnalytics/blob/main/TwiteerDataAnalytics.ipynb\" target=\"_parent\"><img src=\"https://colab.research.google.com/assets/colab-badge.svg\" alt=\"Open In Colab\"/></a>"
      ]
    },
    {
      "cell_type": "markdown",
      "metadata": {
        "id": "2W-IUZlRhr9E"
      },
      "source": [
        "#Tweeter Data Analytics\n",
        "\n",
        "***Here I will cover:***\n",
        "1.   *Basics of Analyzing Twitter Data*\n",
        "2.   *Processing Twitter text*\n",
        "1.   *Exploring Twitter Networks*\n",
        "2.   *Putting Twitter data on the map*\n",
        "\n",
        "***Twiteer APIs:***\n",
        "*   *Search API*\n",
        "*   *Ads API*\n",
        "*   *Streaming API*"
      ]
    },
    {
      "cell_type": "markdown",
      "source": [
        "#1. Basics of Analyzing Twitter Data"
      ],
      "metadata": {
        "id": "8cv7r_tw_dfj"
      }
    },
    {
      "cell_type": "markdown",
      "metadata": {
        "id": "BuNCKztSrBe-"
      },
      "source": [
        "***Class object for handling data***"
      ]
    },
    {
      "cell_type": "code",
      "execution_count": null,
      "metadata": {
        "id": "L3llXmR5rAA7"
      },
      "outputs": [],
      "source": [
        "from tweepy.streaming import StreamListener\n",
        "import json\n",
        "import time\n",
        "import sys\n",
        "\n",
        "class SListener(StreamListener):\n",
        "    def __init__(self, api = None, fprefix = 'streamer'):\n",
        "        self.api = api or API()\n",
        "        self.counter = 0\n",
        "        self.fprefix = fprefix\n",
        "        self.output  = open('%s_%s.json' % (self.fprefix, time.strftime('%Y%m%d-%H%M%S')), 'w')\n",
        "\n",
        "\"\"\"    def on_data(self, data):\n",
        "        if  'in_reply_to_status' in data:\n",
        "            self.on_status(data)\n",
        "        elif 'delete' in data:\n",
        "            delete = json.loads(data)['delete']['status']\n",
        "            if self.on_delete(delete['id'], delete['user_id']) is False:\n",
        "                return False\n",
        "        elif 'limit' in data:\n",
        "            if self.on_limit(json.loads(data)['limit']['track']) is False:\n",
        "                return False\n",
        "        elif 'warning' in data:\n",
        "            warning = json.loads(data)['warnings']\n",
        "            print(\"WARNING: %s\" % warning['message'])\n",
        "            return\n",
        "\n",
        "    def on_status(self, status):\n",
        "        self.output.write(status)\n",
        "        self.counter += 1\n",
        "        if self.counter >= 20000:\n",
        "            self.output.close()\n",
        "            self.output  = open('%s_%s.json' % (self.fprefix, time.strftime('%Y%m%d-%H%M%S')), 'w')\n",
        "            self.counter = 0\n",
        "        return\n",
        "\n",
        "    def on_delete(self, status_id, user_id):\n",
        "        print(\"Delete notice\")\n",
        "        return\n",
        "\n",
        "    def on_limit(self, track):\n",
        "        print(\"WARNING: Limitation notice received, tweets missed: %d\" % track)\n",
        "        return\n",
        "\n",
        "    def on_error(self, status_code):\n",
        "        print('Encountered error with status code:', status_code)\n",
        "        return \n",
        "\n",
        "    def on_timeout(self):\n",
        "        print(\"Timeout, sleeping for 60 seconds...\")\n",
        "        time.sleep(60)\n",
        "        return\"\"\""
      ]
    },
    {
      "cell_type": "markdown",
      "metadata": {
        "id": "hGL6drIymfRB"
      },
      "source": [
        "***Libaries***"
      ]
    },
    {
      "cell_type": "code",
      "execution_count": null,
      "metadata": {
        "id": "Z4NuB4QGb9j1"
      },
      "outputs": [],
      "source": [
        "# Necessary libaries\n",
        "from tweepy import OAuthHandler\n",
        "from tweepy import API\n",
        "import tweepy"
      ]
    },
    {
      "cell_type": "markdown",
      "metadata": {
        "id": "JlaIa0FYiacs"
      },
      "source": [
        "***Necessary information form tweet account***\n",
        "*   access_token\n",
        "*   access_token_secret\n",
        "*   consumer_key\n",
        "*   consumer_secret"
      ]
    },
    {
      "cell_type": "markdown",
      "metadata": {
        "id": "EjSxuyyWmY-K"
      },
      "source": [
        "***Tweepy authentication***"
      ]
    },
    {
      "cell_type": "code",
      "execution_count": null,
      "metadata": {
        "id": "mZEG9JRKh186"
      },
      "outputs": [],
      "source": [
        "consumer_key='hYt37U1prLMj2LBfWaH3VfwAP'\n",
        "consumer_secret='8sOKCBqlh0NLEByi3IjQ1mjlhTVhAtFzoOLqU9w5vn0qjmdAR1'\n",
        "access_token='14970816-bxUWKHaeQvNpVP7nNzgOwWe2Sa3dsLAposBrhuhsg'\n",
        "access_token_secret='nqioC9WEH7XFXpMU6KxmKuplZ4SIwmcgKAUzQYc1E2bXo'\n",
        "#brear_token= 'AAAAAAAAAAAAAAAAAAAAAOlDeQEAAAAAtxFqk6MPlQlb%2BXr9%2F%2FfigPqSrRM%3D5zoaTJT2GA3XhDBDAfgrnCnr1WxeCFVMVT5k3oUz97D4JJfZOD'\n",
        "\n",
        "auth = OAuthHandler(consumer_key, consumer_secret) # Consumer key authentication\n",
        "auth.set_access_token(access_token, access_token_secret) # Access key authentication\n",
        "api = API(auth)  # Set up the API with the authentication handler"
      ]
    },
    {
      "cell_type": "markdown",
      "source": [
        "***Creating variable to navigate twetter***"
      ],
      "metadata": {
        "id": "DlhzV8_vdSp-"
      }
    },
    {
      "cell_type": "code",
      "source": [
        "#cursor = tweepy.Cursor(api.user_timeline, id=\"realDonaldTrump\", tweet_mode=\"extended\").items(1)\n",
        "# For key-word search\n",
        "cursor = tweepy.Cursor(api.search, q=\"Bitcoin\", tweet_mode=\"extended\").items(1)\n",
        "cursor"
      ],
      "metadata": {
        "id": "L437rxd3eY03"
      },
      "execution_count": null,
      "outputs": []
    },
    {
      "cell_type": "code",
      "source": [
        "\n",
        "for i in cursor:\n",
        "  print(i)"
      ],
      "metadata": {
        "id": "0ShsximgfBr_"
      },
      "execution_count": null,
      "outputs": []
    },
    {
      "cell_type": "code",
      "execution_count": null,
      "metadata": {
        "colab": {
          "base_uri": "https://localhost:8080/"
        },
        "id": "mmBXVl5Kh1uK",
        "outputId": "13bb4d10-93f7-44d8-f6c9-d303dbfe6ceb"
      },
      "outputs": [
        {
          "output_type": "stream",
          "name": "stdout",
          "text": [
            "Encountered error with status code: 403\n",
            "Encountered error with status code: 403\n",
            "Encountered error with status code: 403\n",
            "Encountered error with status code: 403\n",
            "Encountered error with status code: 403\n",
            "Encountered error with status code: 403\n",
            "Encountered error with status code: 403\n",
            "Encountered error with status code: 403\n",
            "Encountered error with status code: 403\n"
          ]
        }
      ],
      "source": [
        "from tweepy import Stream\n",
        "\n",
        "keywords_to_track = [\"#rstats\", \"#python\"] # Set up words to track\n",
        "listen = SListener(api) # Instantiate the SListener object \n",
        "stream = Stream(auth, listen) # Instantiate the Stream object\n",
        "tweet_streem= stream.filter(track = keywords_to_track) # start collecting data"
      ]
    },
    {
      "cell_type": "markdown",
      "metadata": {
        "id": "zBEM8R0RswFi"
      },
      "source": [
        "***Contents of Twitter JSON***\n",
        "*   How many retweets,favorites\n",
        "*   Language\n",
        "*   Reply to which tweet\n",
        "*   Reply to which user"
      ]
    },
    {
      "cell_type": "code",
      "execution_count": null,
      "metadata": {
        "id": "mRTVrZn_t5gS"
      },
      "outputs": [],
      "source": [
        "tweet_json = '{\\n    \"created_at\": \"Thu Apr 19 14:25:04 +0000 2018\",\\n    \"id\": 986973961295720449,\\n    \"id_str\": \"986973961295720449\",\\n    \"text\": \"Writing out the script of my @DataCamp class and I can\\'t help but mentally read it back to myself in @hugobowne\\'s voice.\",\\n    \"truncated\": false,\\n    \"entities\": {\\n        \"hashtags\": [],\\n        \"symbols\": [],\\n        \"user_mentions\": [{\\n            \"screen_name\": \"DataCamp\",\\n            \"name\": \"DataCamp\",\\n            \"id\": 1568606814,\\n            \"id_str\": \"1568606814\",\\n            \"indices\": [29, 38]\\n        }, {\\n            \"screen_name\": \"hugobowne\",\\n            \"name\": \"Hugo Bowne-Anderson\",\\n            \"id\": 1092509048,\\n            \"id_str\": \"1092509048\",\\n            \"indices\": [101, 111]\\n        }],\\n        \"urls\": []\\n    },\\n    \"metadata\": {\\n        \"iso_language_code\": \"en\",\\n        \"result_type\": \"recent\"\\n    },\\n    \"in_reply_to_status_id\": null,\\n    \"in_reply_to_status_id_str\": null,\\n    \"in_reply_to_user_id\": null,\\n    \"in_reply_to_user_id_str\": null,\\n    \"in_reply_to_screen_name\": null,\\n    \"user\": {\\n        \"id\": 661613,\\n        \"id_str\": \"661613\",\\n        \"name\": \"Alex Hanna, Data Witch\",\\n        \"screen_name\": \"alexhanna\",\\n        \"location\": \"Toronto, ON\",\\n        \"description\": \"Assistant professor @UofT. Protest, media, computation. Trans. Roller derby athlete @TOROLLERDERBY (Kate Silver #538). She\\\\/her.\",\\n        \"url\": \"https:\\\\/\\\\/t.co\\\\/WGddk8Cc6v\",\\n        \"entities\": {\\n            \"url\": {\\n                \"urls\": [{\\n                    \"url\": \"https:\\\\/\\\\/t.co\\\\/WGddk8Cc6v\",\\n                    \"expanded_url\": \"http:\\\\/\\\\/alex-hanna.com\",\\n                    \"display_url\": \"alex-hanna.com\",\\n                    \"indices\": [0, 23]\\n                }]\\n            },\\n            \"description\": {\\n                \"urls\": []\\n            }\\n        },\\n        \"protected\": false,\\n        \"followers_count\": 4267,\\n        \"friends_count\": 2801,\\n        \"listed_count\": 246,\\n        \"created_at\": \"Thu Jan 18 20:37:52 +0000 2007\",\\n        \"favourites_count\": 23387,\\n        \"utc_offset\": -14400,\\n        \"time_zone\": \"Eastern Time (US & Canada)\",\\n        \"geo_enabled\": true,\\n        \"verified\": false,\\n        \"statuses_count\": 71840,\\n        \"lang\": \"en\",\\n        \"contributors_enabled\": false,\\n        \"is_translator\": false,\\n        \"is_translation_enabled\": false,\\n        \"profile_background_color\": \"000000\",\\n        \"profile_background_image_url\": \"http:\\\\/\\\\/abs.twimg.com\\\\/images\\\\/themes\\\\/theme16\\\\/bg.gif\",\\n        \"profile_background_image_url_https\": \"https:\\\\/\\\\/abs.twimg.com\\\\/images\\\\/themes\\\\/theme16\\\\/bg.gif\",\\n        \"profile_background_tile\": false,\\n        \"profile_image_url\": \"http:\\\\/\\\\/pbs.twimg.com\\\\/profile_images\\\\/980799823900180483\\\\/J9CDOX_X_normal.jpg\",\\n        \"profile_image_url_https\": \"https:\\\\/\\\\/pbs.twimg.com\\\\/profile_images\\\\/980799823900180483\\\\/J9CDOX_X_normal.jpg\",\\n        \"profile_banner_url\": \"https:\\\\/\\\\/pbs.twimg.com\\\\/profile_banners\\\\/661613\\\\/1514976085\",\\n        \"profile_link_color\": \"0671B8\",\\n        \"profile_sidebar_border_color\": \"666666\",\\n        \"profile_sidebar_fill_color\": \"CCCCCC\",\\n        \"profile_text_color\": \"333333\",\\n        \"profile_use_background_image\": false,\\n        \"has_extended_profile\": false,\\n        \"default_profile\": false,\\n        \"default_profile_image\": false,\\n        \"following\": false,\\n        \"follow_request_sent\": false,\\n        \"notifications\": false,\\n        \"translator_type\": \"regular\"\\n    },\\n    \"geo\": null,\\n    \"coordinates\": null,\\n    \"place\": null,\\n    \"contributors\": null,\\n    \"is_quote_status\": false,\\n    \"retweet_count\": 0,\\n    \"favorite_count\": 1,\\n    \"favorited\": false,\\n    \"retweeted\": false,\\n    \"lang\": \"en\"\\n}'\n",
        "rt= {'contributors': None,\n",
        " 'coordinates': None,\n",
        " 'created_at': 'Thu Apr 19 12:45:59 +0000 2018',\n",
        " 'entities': {'hashtags': [],\n",
        "  'symbols': [],\n",
        "  'urls': [],\n",
        "  'user_mentions': [{'id': 823957466,\n",
        "    'id_str': '823957466',\n",
        "    'indices': [3, 16],\n",
        "    'name': 'Hanna Wallach',\n",
        "    'screen_name': 'hannawallach'}]},\n",
        " 'favorite_count': 0,\n",
        " 'favorited': False,\n",
        " 'geo': None,\n",
        " 'id': 986949027123154944,\n",
        " 'id_str': '986949027123154944',\n",
        " 'in_reply_to_screen_name': None,\n",
        " 'in_reply_to_status_id': None,\n",
        " 'in_reply_to_status_id_str': None,\n",
        " 'in_reply_to_user_id': None,\n",
        " 'in_reply_to_user_id_str': None,\n",
        " 'is_quote_status': False,\n",
        " 'lang': 'en',\n",
        " 'metadata': {'iso_language_code': 'en', 'result_type': 'recent'},\n",
        " 'place': None,\n",
        " 'retweet_count': 37,\n",
        " 'retweeted': False,\n",
        " 'retweeted_status': {'contributors': None,\n",
        "  'coordinates': None,\n",
        "  'created_at': 'Tue Mar 06 23:50:35 +0000 2018',\n",
        "  'entities': {'hashtags': [],\n",
        "   'symbols': [],\n",
        "   'urls': [{'display_url': 'twitter.com/i/web/status/9…',\n",
        "     'expanded_url': 'https://twitter.com/i/web/status/971171213216239616',\n",
        "     'indices': [117, 140],\n",
        "     'url': 'https://t.co/aB9Y5tTyHT'}],\n",
        "   'user_mentions': []},\n",
        "  'favorite_count': 52,\n",
        "  'favorited': False,\n",
        "  'geo': None,\n",
        "  'id': 971171213216239616,\n",
        "  'id_str': '971171213216239616',\n",
        "  'in_reply_to_screen_name': None,\n",
        "  'in_reply_to_status_id': None,\n",
        "  'in_reply_to_status_id_str': None,\n",
        "  'in_reply_to_user_id': None,\n",
        "  'in_reply_to_user_id_str': None,\n",
        "  'is_quote_status': False,\n",
        "  'lang': 'en',\n",
        "  'metadata': {'iso_language_code': 'en', 'result_type': 'recent'},\n",
        "  'place': None,\n",
        "  'possibly_sensitive': False,\n",
        "  'retweet_count': 37,\n",
        "  'retweeted': False,\n",
        "  'text': \"ICYMI: NIPS/ICML/ICLR are looking for a full-time programmer to run the conferences' submission/review processes. M… https://t.co/aB9Y5tTyHT\",\n",
        "  'truncated': True,\n",
        "  'user': {'contributors_enabled': False,\n",
        "   'created_at': 'Fri Sep 14 20:38:24 +0000 2012',\n",
        "   'default_profile': False,\n",
        "   'default_profile_image': False,\n",
        "   'description': 'MSR NYC. Machine learning, computational social science, fairness/accountability/transparency in ML. NIPS 2018 program chair, WiML co-founder, sloth enthusiast.',\n",
        "   'entities': {'description': {'urls': []},\n",
        "    'url': {'urls': [{'display_url': 'dirichlet.net',\n",
        "       'expanded_url': 'http://dirichlet.net/',\n",
        "       'indices': [0, 23],\n",
        "       'url': 'https://t.co/hrcIziHrkf'}]}},\n",
        "   'favourites_count': 3507,\n",
        "   'follow_request_sent': False,\n",
        "   'followers_count': 10614,\n",
        "   'following': True,\n",
        "   'friends_count': 865,\n",
        "   'geo_enabled': False,\n",
        "   'has_extended_profile': False,\n",
        "   'id': 823957466,\n",
        "   'id_str': '823957466',\n",
        "   'is_translation_enabled': False,\n",
        "   'is_translator': False,\n",
        "   'lang': 'en',\n",
        "   'listed_count': 499,\n",
        "   'location': 'Brooklyn, NY',\n",
        "   'name': 'Hanna Wallach',\n",
        "   'notifications': False,\n",
        "   'profile_background_color': 'CCCCCC',\n",
        "   'profile_background_image_url': 'http://pbs.twimg.com/profile_background_images/521040468528754688/_Ayh3ZCE.jpeg',\n",
        "   'profile_background_image_url_https': 'https://pbs.twimg.com/profile_background_images/521040468528754688/_Ayh3ZCE.jpeg',\n",
        "   'profile_background_tile': False,\n",
        "   'profile_banner_url': 'https://pbs.twimg.com/profile_banners/823957466/1347986011',\n",
        "   'profile_image_url': 'http://pbs.twimg.com/profile_images/2623320981/kinlr53ma1flkp9jerk4_normal.jpeg',\n",
        "   'profile_image_url_https': 'https://pbs.twimg.com/profile_images/2623320981/kinlr53ma1flkp9jerk4_normal.jpeg',\n",
        "   'profile_link_color': '999999',\n",
        "   'profile_sidebar_border_color': 'FFFFFF',\n",
        "   'profile_sidebar_fill_color': 'DDEEF6',\n",
        "   'profile_text_color': '333333',\n",
        "   'profile_use_background_image': False,\n",
        "   'protected': False,\n",
        "   'screen_name': 'hannawallach',\n",
        "   'statuses_count': 1505,\n",
        "   'time_zone': 'Eastern Time (US & Canada)',\n",
        "   'translator_type': 'none',\n",
        "   'url': 'https://t.co/hrcIziHrkf',\n",
        "   'utc_offset': -14400,\n",
        "   'verified': False}},\n",
        " 'text': \"RT @hannawallach: ICYMI: NIPS/ICML/ICLR are looking for a full-time programmer to run the conferences' submission/review processes. More in…\",\n",
        " 'truncated': False,\n",
        " 'user': {'contributors_enabled': False,\n",
        "  'created_at': 'Thu Jan 18 20:37:52 +0000 2007',\n",
        "  'default_profile': False,\n",
        "  'default_profile_image': False,\n",
        "  'description': 'Assistant professor @UofT. Protest, media, computation. Trans. Roller derby athlete @TOROLLERDERBY (Kate Silver #538). She/her.',\n",
        "  'entities': {'description': {'urls': []},\n",
        "   'url': {'urls': [{'display_url': 'alex-hanna.com',\n",
        "      'expanded_url': 'http://alex-hanna.com',\n",
        "      'indices': [0, 23],\n",
        "      'url': 'https://t.co/WGddk8Cc6v'}]}},\n",
        "  'favourites_count': 23387,\n",
        "  'follow_request_sent': False,\n",
        "  'followers_count': 4267,\n",
        "  'following': False,\n",
        "  'friends_count': 2801,\n",
        "  'geo_enabled': True,\n",
        "  'has_extended_profile': False,\n",
        "  'id': 661613,\n",
        "  'id_str': '661613',\n",
        "  'is_translation_enabled': False,\n",
        "  'is_translator': False,\n",
        "  'lang': 'en',\n",
        "  'listed_count': 246,\n",
        "  'location': 'Toronto, ON',\n",
        "  'name': 'Alex Hanna, Data Witch',\n",
        "  'notifications': False,\n",
        "  'profile_background_color': '000000',\n",
        "  'profile_background_image_url': 'http://abs.twimg.com/images/themes/theme16/bg.gif',\n",
        "  'profile_background_image_url_https': 'https://abs.twimg.com/images/themes/theme16/bg.gif',\n",
        "  'profile_background_tile': False,\n",
        "  'profile_banner_url': 'https://pbs.twimg.com/profile_banners/661613/1514976085',\n",
        "  'profile_image_url': 'http://pbs.twimg.com/profile_images/980799823900180483/J9CDOX_X_normal.jpg',\n",
        "  'profile_image_url_https': 'https://pbs.twimg.com/profile_images/980799823900180483/J9CDOX_X_normal.jpg',\n",
        "  'profile_link_color': '0671B8',\n",
        "  'profile_sidebar_border_color': '666666',\n",
        "  'profile_sidebar_fill_color': 'CCCCCC',\n",
        "  'profile_text_color': '333333',\n",
        "  'profile_use_background_image': False,\n",
        "  'protected': False,\n",
        "  'screen_name': 'alexhanna',\n",
        "  'statuses_count': 71840,\n",
        "  'time_zone': 'Eastern Time (US & Canada)',\n",
        "  'translator_type': 'regular',\n",
        "  'url': 'https://t.co/WGddk8Cc6v',\n",
        "  'utc_offset': -14400,\n",
        "  'verified': False}}\n",
        "  \n",
        "quoted_tweet = {'contributors': None,\n",
        " 'coordinates': None,\n",
        " 'created_at': 'Wed Apr 25 17:20:04 +0000 2018',\n",
        " 'display_text_range': [0, 35],\n",
        " 'entities': {'hashtags': [],\n",
        "  'symbols': [],\n",
        "  'urls': [{'display_url': 'twitter.com/alexhanna/stat…',\n",
        "    'expanded_url': 'https://twitter.com/alexhanna/status/989191655759663105',\n",
        "    'indices': [36, 59],\n",
        "    'url': 'https://t.co/BzbLDz9j6g'}],\n",
        "  'user_mentions': []},\n",
        " 'favorite_count': 0,\n",
        " 'favorited': False,\n",
        " 'filter_level': 'low',\n",
        " 'geo': None,\n",
        " 'id': 989192330832891904,\n",
        " 'id_str': '989192330832891904',\n",
        " 'in_reply_to_screen_name': None,\n",
        " 'in_reply_to_status_id': None,\n",
        " 'in_reply_to_status_id_str': None,\n",
        " 'in_reply_to_user_id': None,\n",
        " 'in_reply_to_user_id_str': None,\n",
        " 'is_quote_status': True,\n",
        " 'lang': 'en',\n",
        " 'place': None,\n",
        " 'possibly_sensitive': False,\n",
        " 'quote_count': 0,\n",
        " 'quoted_status': {'contributors': None,\n",
        "  'coordinates': None,\n",
        "  'created_at': 'Wed Apr 25 17:17:23 +0000 2018',\n",
        "  'entities': {'hashtags': [],\n",
        "   'symbols': [],\n",
        "   'urls': [{'display_url': 'twitter.com/i/web/status/9…',\n",
        "     'expanded_url': 'https://twitter.com/i/web/status/989191655759663105',\n",
        "     'indices': [116, 139],\n",
        "     'url': 'https://t.co/MlFg4qFnEC'}],\n",
        "   'user_mentions': []},\n",
        "  'extended_tweet': {'display_text_range': [0, 191],\n",
        "   'entities': {'hashtags': [],\n",
        "    'symbols': [],\n",
        "    'urls': [],\n",
        "    'user_mentions': []},\n",
        "   'full_text': 'O 280 characters, 280 characters! Wherefore art thou 280 characters?\\nDeny thy JSON and refuse thy key.\\nOr, if thou wilt not, be but sworn my love,\\nAnd I’ll no longer be a 140 character tweet.'},\n",
        "  'favorite_count': 1,\n",
        "  'favorited': False,\n",
        "  'filter_level': 'low',\n",
        "  'geo': None,\n",
        "  'id': 989191655759663105,\n",
        "  'id_str': '989191655759663105',\n",
        "  'in_reply_to_screen_name': None,\n",
        "  'in_reply_to_status_id': None,\n",
        "  'in_reply_to_status_id_str': None,\n",
        "  'in_reply_to_user_id': None,\n",
        "  'in_reply_to_user_id_str': None,\n",
        "  'is_quote_status': False,\n",
        "  'lang': 'en',\n",
        "  'place': None,\n",
        "  'quote_count': 0,\n",
        "  'reply_count': 1,\n",
        "  'retweet_count': 0,\n",
        "  'retweeted': False,\n",
        "  'source': '<a href=\"https://about.twitter.com/products/tweetdeck\" rel=\"nofollow\">TweetDeck</a>',\n",
        "  'text': 'O 280 characters, 280 characters! Wherefore art thou 280 characters?\\nDeny thy JSON and refuse thy key.\\nOr, if thou… https://t.co/MlFg4qFnEC',\n",
        "  'truncated': True,\n",
        "  'user': {'contributors_enabled': False,\n",
        "   'created_at': 'Thu Jan 18 20:37:52 +0000 2007',\n",
        "   'default_profile': False,\n",
        "   'default_profile_image': False,\n",
        "   'description': 'Assistant professor @UofT. Protest, media, computation. Trans. Roller derby athlete @TOROLLERDERBY (Kate Silver #538). She/her.',\n",
        "   'favourites_count': 23526,\n",
        "   'follow_request_sent': None,\n",
        "   'followers_count': 4275,\n",
        "   'following': None,\n",
        "   'friends_count': 2806,\n",
        "   'geo_enabled': True,\n",
        "   'id': 661613,\n",
        "   'id_str': '661613',\n",
        "   'is_translator': False,\n",
        "   'lang': 'en',\n",
        "   'listed_count': 246,\n",
        "   'location': 'Toronto, ON',\n",
        "   'name': 'Alex Hanna, Data Witch',\n",
        "   'notifications': None,\n",
        "   'profile_background_color': '000000',\n",
        "   'profile_background_image_url': 'http://abs.twimg.com/images/themes/theme16/bg.gif',\n",
        "   'profile_background_image_url_https': 'https://abs.twimg.com/images/themes/theme16/bg.gif',\n",
        "   'profile_background_tile': False,\n",
        "   'profile_banner_url': 'https://pbs.twimg.com/profile_banners/661613/1524231456',\n",
        "   'profile_image_url': 'http://pbs.twimg.com/profile_images/980799823900180483/J9CDOX_X_normal.jpg',\n",
        "   'profile_image_url_https': 'https://pbs.twimg.com/profile_images/980799823900180483/J9CDOX_X_normal.jpg',\n",
        "   'profile_link_color': '0671B8',\n",
        "   'profile_sidebar_border_color': '666666',\n",
        "   'profile_sidebar_fill_color': 'CCCCCC',\n",
        "   'profile_text_color': '333333',\n",
        "   'profile_use_background_image': False,\n",
        "   'protected': False,\n",
        "   'screen_name': 'alexhanna',\n",
        "   'statuses_count': 71925,\n",
        "   'time_zone': 'Eastern Time (US & Canada)',\n",
        "   'translator_type': 'regular',\n",
        "   'url': 'http://alex-hanna.com',\n",
        "   'utc_offset': -14400,\n",
        "   'verified': False}},\n",
        " 'quoted_status_id': 989191655759663105,\n",
        " 'quoted_status_id_str': '989191655759663105',\n",
        " 'reply_count': 0,\n",
        " 'retweet_count': 0,\n",
        " 'retweeted': False,\n",
        " 'source': '<a href=\"https://about.twitter.com/products/tweetdeck\" rel=\"nofollow\">TweetDeck</a>',\n",
        " 'text': 'maybe if I quote tweet this lil guy https://t.co/BzbLDz9j6g',\n",
        " 'timestamp_ms': '1524676804632',\n",
        " 'truncated': False,\n",
        " 'user': {'contributors_enabled': False,\n",
        "  'created_at': 'Thu Jan 18 20:37:52 +0000 2007',\n",
        "  'default_profile': False,\n",
        "  'default_profile_image': False,\n",
        "  'description': 'Assistant professor @UofT. Protest, media, computation. Trans. Roller derby athlete @TOROLLERDERBY (Kate Silver #538). She/her.',\n",
        "  'favourites_count': 23526,\n",
        "  'follow_request_sent': None,\n",
        "  'followers_count': 4275,\n",
        "  'following': None,\n",
        "  'friends_count': 2806,\n",
        "  'geo_enabled': True,\n",
        "  'id': 661613,\n",
        "  'id_str': '661613',\n",
        "  'is_translator': False,\n",
        "  'lang': 'en',\n",
        "  'listed_count': 246,\n",
        "  'location': 'Toronto, ON',\n",
        "  'name': 'Alex Hanna, Data Witch',\n",
        "  'notifications': None,\n",
        "  'profile_background_color': '000000',\n",
        "  'profile_background_image_url': 'http://abs.twimg.com/images/themes/theme16/bg.gif',\n",
        "  'profile_background_image_url_https': 'https://abs.twimg.com/images/themes/theme16/bg.gif',\n",
        "  'profile_background_tile': False,\n",
        "  'profile_banner_url': 'https://pbs.twimg.com/profile_banners/661613/1524231456',\n",
        "  'profile_image_url': 'http://pbs.twimg.com/profile_images/980799823900180483/J9CDOX_X_normal.jpg',\n",
        "  'profile_image_url_https': 'https://pbs.twimg.com/profile_images/980799823900180483/J9CDOX_X_normal.jpg',\n",
        "  'profile_link_color': '0671B8',\n",
        "  'profile_sidebar_border_color': '666666',\n",
        "  'profile_sidebar_fill_color': 'CCCCCC',\n",
        "  'profile_text_color': '333333',\n",
        "  'profile_use_background_image': False,\n",
        "  'protected': False,\n",
        "  'screen_name': 'alexhanna',\n",
        "  'statuses_count': 71926,\n",
        "  'time_zone': 'Eastern Time (US & Canada)',\n",
        "  'translator_type': 'regular',\n",
        "  'url': 'http://alex-hanna.com',\n",
        "  'utc_offset': -14400,\n",
        "  'verified': False}}"
      ]
    },
    {
      "cell_type": "markdown",
      "metadata": {
        "id": "VuuzAEtEt3LE"
      },
      "source": [
        "***Loading and accessing tweets***"
      ]
    },
    {
      "cell_type": "code",
      "execution_count": null,
      "metadata": {
        "colab": {
          "base_uri": "https://localhost:8080/"
        },
        "id": "JR7ep2u0h1TC",
        "outputId": "371ae6dd-2eda-4839-bb0c-7e42ea75ccd0"
      },
      "outputs": [
        {
          "output_type": "stream",
          "name": "stdout",
          "text": [
            "Writing out the script of my @DataCamp class and I can't help but mentally read it back to myself in @hugobowne's voice.\n",
            "986973961295720449\n"
          ]
        }
      ],
      "source": [
        "# Load JSON\n",
        "import json\n",
        "#tweet_json = open(tweet_streem, 'r').read()\n",
        "# Convert from JSON to Python object\n",
        "tweet = json.loads(tweet_json)\n",
        "\n",
        "# Print tweet text\n",
        "print(tweet[\"text\"])\n",
        "\n",
        "# Print tweet id\n",
        "print(tweet[\"id\"])\n"
      ]
    },
    {
      "cell_type": "markdown",
      "source": [
        "***Accessing user data (Child tweet JSON)***"
      ],
      "metadata": {
        "id": "UF7TuBQQp9fi"
      }
    },
    {
      "cell_type": "code",
      "execution_count": null,
      "metadata": {
        "id": "XMAhL4jMt6gh",
        "colab": {
          "base_uri": "https://localhost:8080/"
        },
        "outputId": "bc15424d-08a8-4018-b01c-576a9aa606f8"
      },
      "outputs": [
        {
          "output_type": "stream",
          "name": "stdout",
          "text": [
            "alexhanna\n",
            "4267\n",
            "Toronto, ON\n",
            "Assistant professor @UofT. Protest, media, computation. Trans. Roller derby athlete @TOROLLERDERBY (Kate Silver #538). She/her.\n"
          ]
        }
      ],
      "source": [
        "# Print user handle\n",
        "print(tweet['user']['screen_name'])\n",
        "\n",
        "# Print user follower count\n",
        "print(tweet['user']['followers_count'])\n",
        "\n",
        "# Print user location\n",
        "print(tweet['user']['location'])\n",
        "\n",
        "# Print user description\n",
        "print(tweet['user']['description'])"
      ]
    },
    {
      "cell_type": "markdown",
      "source": [
        "***Accessing retweet data***"
      ],
      "metadata": {
        "id": "qWBKy3csr6DQ"
      }
    },
    {
      "cell_type": "code",
      "execution_count": null,
      "metadata": {
        "id": "siab5cjJt6Bx",
        "colab": {
          "base_uri": "https://localhost:8080/"
        },
        "outputId": "3d1ed2b2-129f-4cff-d4f1-01f61e5a2c2e"
      },
      "outputs": [
        {
          "output_type": "stream",
          "name": "stdout",
          "text": [
            "RT @hannawallach: ICYMI: NIPS/ICML/ICLR are looking for a full-time programmer to run the conferences' submission/review processes. More in…\n",
            "ICYMI: NIPS/ICML/ICLR are looking for a full-time programmer to run the conferences' submission/review processes. M… https://t.co/aB9Y5tTyHT\n",
            "alexhanna\n",
            "Hanna Wallach\n"
          ]
        }
      ],
      "source": [
        "# Print the text of the tweet\n",
        "print(rt['text'])\n",
        "\n",
        "# Print the text of tweet which has been retweeted\n",
        "print(rt['retweeted_status']['text'])\n",
        "\n",
        "# Print the user handle of the tweet\n",
        "print(rt['user']['screen_name'])\n",
        "\n",
        "# Print the user handle of the tweet which has been retweeted\n",
        "print(rt['retweeted_status']['user']['name'])"
      ]
    },
    {
      "cell_type": "markdown",
      "source": [
        "***Tweet Items and Tweet Flattening***"
      ],
      "metadata": {
        "id": "LNjmhfmL06-h"
      }
    },
    {
      "cell_type": "code",
      "source": [
        "# Print the tweet text\n",
        "print(quoted_tweet['text'])\n",
        "\n",
        "# Print the quoted tweet text\n",
        "print(quoted_tweet['quoted_status']['text'])\n",
        "\n",
        "# Print the quoted tweet's extended (140+) text\n",
        "print(quoted_tweet['quoted_status']['extended_tweet']['full_text'])\n",
        "\n",
        "# Print the quoted user location\n",
        "print(quoted_tweet['quoted_status']['user']['location'])"
      ],
      "metadata": {
        "colab": {
          "base_uri": "https://localhost:8080/"
        },
        "id": "jNRXnguD09AF",
        "outputId": "80986f79-7c35-4150-afb0-01b4af0dc382"
      },
      "execution_count": null,
      "outputs": [
        {
          "output_type": "stream",
          "name": "stdout",
          "text": [
            "maybe if I quote tweet this lil guy https://t.co/BzbLDz9j6g\n",
            "O 280 characters, 280 characters! Wherefore art thou 280 characters?\n",
            "Deny thy JSON and refuse thy key.\n",
            "Or, if thou… https://t.co/MlFg4qFnEC\n",
            "O 280 characters, 280 characters! Wherefore art thou 280 characters?\n",
            "Deny thy JSON and refuse thy key.\n",
            "Or, if thou wilt not, be but sworn my love,\n",
            "And I’ll no longer be a 140 character tweet.\n",
            "Toronto, ON\n"
          ]
        }
      ]
    },
    {
      "cell_type": "markdown",
      "source": [
        "#2. Processing Twitter text"
      ],
      "metadata": {
        "id": "FEElS3RXCG3r"
      }
    },
    {
      "cell_type": "markdown",
      "source": [
        "#3. Twitter Networks"
      ],
      "metadata": {
        "id": "EYls7JpyzG97"
      }
    },
    {
      "cell_type": "code",
      "source": [
        ""
      ],
      "metadata": {
        "id": "cV8pGflW09g6"
      },
      "execution_count": null,
      "outputs": []
    },
    {
      "cell_type": "markdown",
      "source": [
        "#4. Putting Twitter data on the map"
      ],
      "metadata": {
        "id": "XeH6HC2zBN0h"
      }
    },
    {
      "cell_type": "markdown",
      "source": [
        "***Types of geographical data available in Twitter***\n",
        "```\n",
        "# Twier text(most imprecise)\n",
        "# User location \n",
        "# Bounding boxes \n",
        "# Coordinates and points(mostprecise)\n",
        "```"
      ],
      "metadata": {
        "id": "A3-ZXokaLAIn"
      }
    },
    {
      "cell_type": "markdown",
      "source": [
        "***Geographical data in Twitter JSON***"
      ],
      "metadata": {
        "id": "AvEfEYIuL7Ed"
      }
    },
    {
      "cell_type": "markdown",
      "source": [
        "***Creating Basemap map***"
      ],
      "metadata": {
        "id": "ZN86zM7uS8YW"
      }
    },
    {
      "cell_type": "markdown",
      "source": [
        "***Plotting centroid coordinates***"
      ],
      "metadata": {
        "id": "8iY13E2TT44P"
      }
    },
    {
      "cell_type": "markdown",
      "source": [
        "***Coloring by sentiment***"
      ],
      "metadata": {
        "id": "t4Y4wCGMUFzO"
      }
    },
    {
      "cell_type": "code",
      "source": [
        ""
      ],
      "metadata": {
        "id": "EP_VKVk_09UA"
      },
      "execution_count": null,
      "outputs": []
    }
  ],
  "metadata": {
    "colab": {
      "name": "TwiteerDataAnalytics.ipynb",
      "provenance": [],
      "mount_file_id": "1QcHp2JfNJiln7VgNSMmi2mx2MzNKBNQw",
      "authorship_tag": "ABX9TyNshggAI21ju992bq/XjJRN",
      "include_colab_link": true
    },
    "kernelspec": {
      "display_name": "Python 3",
      "name": "python3"
    },
    "language_info": {
      "name": "python"
    }
  },
  "nbformat": 4,
  "nbformat_minor": 0
}