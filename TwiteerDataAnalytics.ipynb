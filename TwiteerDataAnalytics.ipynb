{
  "cells": [
    {
      "cell_type": "markdown",
      "metadata": {
        "id": "view-in-github",
        "colab_type": "text"
      },
      "source": [
        "<a href=\"https://colab.research.google.com/github/mrchapagain/SocialNetworkAnalytics/blob/main/TwiteerDataAnalytics.ipynb\" target=\"_parent\"><img src=\"https://colab.research.google.com/assets/colab-badge.svg\" alt=\"Open In Colab\"/></a>"
      ]
    },
    {
      "cell_type": "markdown",
      "metadata": {
        "id": "2W-IUZlRhr9E"
      },
      "source": [
        "#Tweeter Data Analytics\n",
        "\n",
        "***Here I will cover:***\n",
        "1. *Extract tweet timeline of yours*\n",
        "2. *Tweets from twetter user*\n",
        "3. *Tweets # search by keywords*"
      ]
    },
    {
      "cell_type": "markdown",
      "metadata": {
        "id": "hGL6drIymfRB"
      },
      "source": [
        "***Libaries***"
      ]
    },
    {
      "cell_type": "code",
      "execution_count": 74,
      "metadata": {
        "id": "Z4NuB4QGb9j1"
      },
      "outputs": [],
      "source": [
        "# Necessary libaries\n",
        "from tweepy import OAuthHandler\n",
        "from tweepy import API\n",
        "import tweepy\n",
        "import pandas as pd\n",
        "import warnings\n",
        "warnings.filterwarnings(\"ignore\")\n",
        "import time"
      ]
    },
    {
      "cell_type": "markdown",
      "metadata": {
        "id": "EjSxuyyWmY-K"
      },
      "source": [
        "***Tweepy authentication***"
      ]
    },
    {
      "cell_type": "code",
      "execution_count": 49,
      "metadata": {
        "id": "mZEG9JRKh186",
        "colab": {
          "base_uri": "https://localhost:8080/",
          "height": 35
        },
        "outputId": "72ab0d56-5f45-4e82-d2f9-20c02b448193"
      },
      "outputs": [
        {
          "output_type": "execute_result",
          "data": {
            "text/plain": [
              "'mrchapagain'"
            ],
            "application/vnd.google.colaboratory.intrinsic+json": {
              "type": "string"
            }
          },
          "metadata": {},
          "execution_count": 49
        }
      ],
      "source": [
        "#read configs, #import configparser, #config= configparser.ConfigParser(), #config.read('/content/sample_data/config.ipynb')\n",
        "#Necessary information form tweet account\n",
        "\n",
        "\n",
        "\n",
        "auth = OAuthHandler(consumer_key, consumer_secret) # Consumer key authentication\n",
        "auth.set_access_token(access_token, access_token_secret) # Access key authentication\n",
        "api = API(auth)  # Set up the API with the authentication handler\n",
        "api.me().screen_name  # just check if it is working"
      ]
    },
    {
      "cell_type": "markdown",
      "source": [
        "#1.   Extract tweet timeline of yours"
      ],
      "metadata": {
        "id": "fz_kh3OeEFf8"
      }
    },
    {
      "cell_type": "markdown",
      "source": [
        "***Function for scraping and updating data***"
      ],
      "metadata": {
        "id": "DlhzV8_vdSp-"
      }
    },
    {
      "cell_type": "code",
      "source": [
        "# Function to extact data from twetter user\n",
        "def extract_timeline_as_df(timeline_list):\n",
        "  columns = set()\n",
        "  allowed_types = [str, int]\n",
        "  tweets_data= []\n",
        "\n",
        "  for status in timeline_list:\n",
        "    status_dict= dict(vars(status))\n",
        "    keys= status_dict.keys()\n",
        "\n",
        "    single_tweet_data = {'user': status.user.screen_name, 'author': status.user.screen_name}\n",
        "    \n",
        "    for k in keys:\n",
        "      try:\n",
        "        v_type= type(status_dict[k])\n",
        "      except:\n",
        "        v_type = None\n",
        "      \n",
        "      if v_type != None:\n",
        "        if v_type in allowed_types:\n",
        "          single_tweet_data[k] = status_dict[k]\n",
        "          columns.add(k) # these are the variable that can extracted data from\n",
        "\n",
        "    tweets_data.append(single_tweet_data)\n",
        "\n",
        "  header_cols= list(columns)\n",
        "  header_cols.append('user')\n",
        "  header_cols.append('author')\n",
        "  df= pd.DataFrame(tweets_data, columns= header_cols)\n",
        "  return df"
      ],
      "metadata": {
        "id": "ri-gU34lnFz1"
      },
      "execution_count": 162,
      "outputs": []
    },
    {
      "cell_type": "markdown",
      "source": [
        "***Getting actul data with the function difined earlier***"
      ],
      "metadata": {
        "id": "lyNlYtKK2BfA"
      }
    },
    {
      "cell_type": "code",
      "source": [
        "my_timeline= api.home_timeline()\n",
        "df2= extract_timeline_as_df(my_timeline)\n",
        "df2.head()"
      ],
      "metadata": {
        "colab": {
          "base_uri": "https://localhost:8080/",
          "height": 285
        },
        "id": "AplQVraLu-GK",
        "outputId": "5b6e1efd-f9f8-44d7-cd68-68444a77bd09"
      },
      "execution_count": 51,
      "outputs": [
        {
          "output_type": "execute_result",
          "data": {
            "text/plain": [
              "  lang  quoted_status_id                                               text  \\\n",
              "0   en               NaN  Conference on the Synergies in Research and In...   \n",
              "1   fr               NaN  L’info du jour | 3 juillet - Mi-journée https:...   \n",
              "2   fr               NaN  L'Ukraine poursuit la production d'acier malgr...   \n",
              "3   en               NaN  Germany slams UK's plan to dismantle post-Brex...   \n",
              "4   ne               NaN  एमबिबिएसलगायत चिकित्सा शिक्षा अध्ययनका लागि वि...   \n",
              "\n",
              "   favorite_count               id_str  retweet_count quoted_status_id_str  \\\n",
              "0               0  1543560437010137088              0                  NaN   \n",
              "1               0  1543560426935533569              0                  NaN   \n",
              "2               0  1543560425899425796              0                  NaN   \n",
              "3               0  1543560381121155072              0                  NaN   \n",
              "4               7  1543558146702028801              2                  NaN   \n",
              "\n",
              "                    id     source  \\\n",
              "0  1543560437010137088    EUwatch   \n",
              "1  1543560426935533569    EUwatch   \n",
              "2  1543560425899425796    EUwatch   \n",
              "3  1543560381121155072    EUwatch   \n",
              "4  1543558146702028801  TweetDeck   \n",
              "\n",
              "                                     source_url        user      author  \n",
              "0                      https://www.euwatch.live  EUwatchers  EUwatchers  \n",
              "1                      https://www.euwatch.live  EUwatchers  EUwatchers  \n",
              "2                      https://www.euwatch.live  EUwatchers  EUwatchers  \n",
              "3                      https://www.euwatch.live  EUwatchers  EUwatchers  \n",
              "4  https://about.twitter.com/products/tweetdeck    setopati    setopati  "
            ],
            "text/html": [
              "\n",
              "  <div id=\"df-dd28a19c-f6f9-4311-8ff1-ff775f7c89a6\">\n",
              "    <div class=\"colab-df-container\">\n",
              "      <div>\n",
              "<style scoped>\n",
              "    .dataframe tbody tr th:only-of-type {\n",
              "        vertical-align: middle;\n",
              "    }\n",
              "\n",
              "    .dataframe tbody tr th {\n",
              "        vertical-align: top;\n",
              "    }\n",
              "\n",
              "    .dataframe thead th {\n",
              "        text-align: right;\n",
              "    }\n",
              "</style>\n",
              "<table border=\"1\" class=\"dataframe\">\n",
              "  <thead>\n",
              "    <tr style=\"text-align: right;\">\n",
              "      <th></th>\n",
              "      <th>lang</th>\n",
              "      <th>quoted_status_id</th>\n",
              "      <th>text</th>\n",
              "      <th>favorite_count</th>\n",
              "      <th>id_str</th>\n",
              "      <th>retweet_count</th>\n",
              "      <th>quoted_status_id_str</th>\n",
              "      <th>id</th>\n",
              "      <th>source</th>\n",
              "      <th>source_url</th>\n",
              "      <th>user</th>\n",
              "      <th>author</th>\n",
              "    </tr>\n",
              "  </thead>\n",
              "  <tbody>\n",
              "    <tr>\n",
              "      <th>0</th>\n",
              "      <td>en</td>\n",
              "      <td>NaN</td>\n",
              "      <td>Conference on the Synergies in Research and In...</td>\n",
              "      <td>0</td>\n",
              "      <td>1543560437010137088</td>\n",
              "      <td>0</td>\n",
              "      <td>NaN</td>\n",
              "      <td>1543560437010137088</td>\n",
              "      <td>EUwatch</td>\n",
              "      <td>https://www.euwatch.live</td>\n",
              "      <td>EUwatchers</td>\n",
              "      <td>EUwatchers</td>\n",
              "    </tr>\n",
              "    <tr>\n",
              "      <th>1</th>\n",
              "      <td>fr</td>\n",
              "      <td>NaN</td>\n",
              "      <td>L’info du jour | 3 juillet - Mi-journée https:...</td>\n",
              "      <td>0</td>\n",
              "      <td>1543560426935533569</td>\n",
              "      <td>0</td>\n",
              "      <td>NaN</td>\n",
              "      <td>1543560426935533569</td>\n",
              "      <td>EUwatch</td>\n",
              "      <td>https://www.euwatch.live</td>\n",
              "      <td>EUwatchers</td>\n",
              "      <td>EUwatchers</td>\n",
              "    </tr>\n",
              "    <tr>\n",
              "      <th>2</th>\n",
              "      <td>fr</td>\n",
              "      <td>NaN</td>\n",
              "      <td>L'Ukraine poursuit la production d'acier malgr...</td>\n",
              "      <td>0</td>\n",
              "      <td>1543560425899425796</td>\n",
              "      <td>0</td>\n",
              "      <td>NaN</td>\n",
              "      <td>1543560425899425796</td>\n",
              "      <td>EUwatch</td>\n",
              "      <td>https://www.euwatch.live</td>\n",
              "      <td>EUwatchers</td>\n",
              "      <td>EUwatchers</td>\n",
              "    </tr>\n",
              "    <tr>\n",
              "      <th>3</th>\n",
              "      <td>en</td>\n",
              "      <td>NaN</td>\n",
              "      <td>Germany slams UK's plan to dismantle post-Brex...</td>\n",
              "      <td>0</td>\n",
              "      <td>1543560381121155072</td>\n",
              "      <td>0</td>\n",
              "      <td>NaN</td>\n",
              "      <td>1543560381121155072</td>\n",
              "      <td>EUwatch</td>\n",
              "      <td>https://www.euwatch.live</td>\n",
              "      <td>EUwatchers</td>\n",
              "      <td>EUwatchers</td>\n",
              "    </tr>\n",
              "    <tr>\n",
              "      <th>4</th>\n",
              "      <td>ne</td>\n",
              "      <td>NaN</td>\n",
              "      <td>एमबिबिएसलगायत चिकित्सा शिक्षा अध्ययनका लागि वि...</td>\n",
              "      <td>7</td>\n",
              "      <td>1543558146702028801</td>\n",
              "      <td>2</td>\n",
              "      <td>NaN</td>\n",
              "      <td>1543558146702028801</td>\n",
              "      <td>TweetDeck</td>\n",
              "      <td>https://about.twitter.com/products/tweetdeck</td>\n",
              "      <td>setopati</td>\n",
              "      <td>setopati</td>\n",
              "    </tr>\n",
              "  </tbody>\n",
              "</table>\n",
              "</div>\n",
              "      <button class=\"colab-df-convert\" onclick=\"convertToInteractive('df-dd28a19c-f6f9-4311-8ff1-ff775f7c89a6')\"\n",
              "              title=\"Convert this dataframe to an interactive table.\"\n",
              "              style=\"display:none;\">\n",
              "        \n",
              "  <svg xmlns=\"http://www.w3.org/2000/svg\" height=\"24px\"viewBox=\"0 0 24 24\"\n",
              "       width=\"24px\">\n",
              "    <path d=\"M0 0h24v24H0V0z\" fill=\"none\"/>\n",
              "    <path d=\"M18.56 5.44l.94 2.06.94-2.06 2.06-.94-2.06-.94-.94-2.06-.94 2.06-2.06.94zm-11 1L8.5 8.5l.94-2.06 2.06-.94-2.06-.94L8.5 2.5l-.94 2.06-2.06.94zm10 10l.94 2.06.94-2.06 2.06-.94-2.06-.94-.94-2.06-.94 2.06-2.06.94z\"/><path d=\"M17.41 7.96l-1.37-1.37c-.4-.4-.92-.59-1.43-.59-.52 0-1.04.2-1.43.59L10.3 9.45l-7.72 7.72c-.78.78-.78 2.05 0 2.83L4 21.41c.39.39.9.59 1.41.59.51 0 1.02-.2 1.41-.59l7.78-7.78 2.81-2.81c.8-.78.8-2.07 0-2.86zM5.41 20L4 18.59l7.72-7.72 1.47 1.35L5.41 20z\"/>\n",
              "  </svg>\n",
              "      </button>\n",
              "      \n",
              "  <style>\n",
              "    .colab-df-container {\n",
              "      display:flex;\n",
              "      flex-wrap:wrap;\n",
              "      gap: 12px;\n",
              "    }\n",
              "\n",
              "    .colab-df-convert {\n",
              "      background-color: #E8F0FE;\n",
              "      border: none;\n",
              "      border-radius: 50%;\n",
              "      cursor: pointer;\n",
              "      display: none;\n",
              "      fill: #1967D2;\n",
              "      height: 32px;\n",
              "      padding: 0 0 0 0;\n",
              "      width: 32px;\n",
              "    }\n",
              "\n",
              "    .colab-df-convert:hover {\n",
              "      background-color: #E2EBFA;\n",
              "      box-shadow: 0px 1px 2px rgba(60, 64, 67, 0.3), 0px 1px 3px 1px rgba(60, 64, 67, 0.15);\n",
              "      fill: #174EA6;\n",
              "    }\n",
              "\n",
              "    [theme=dark] .colab-df-convert {\n",
              "      background-color: #3B4455;\n",
              "      fill: #D2E3FC;\n",
              "    }\n",
              "\n",
              "    [theme=dark] .colab-df-convert:hover {\n",
              "      background-color: #434B5C;\n",
              "      box-shadow: 0px 1px 3px 1px rgba(0, 0, 0, 0.15);\n",
              "      filter: drop-shadow(0px 1px 2px rgba(0, 0, 0, 0.3));\n",
              "      fill: #FFFFFF;\n",
              "    }\n",
              "  </style>\n",
              "\n",
              "      <script>\n",
              "        const buttonEl =\n",
              "          document.querySelector('#df-dd28a19c-f6f9-4311-8ff1-ff775f7c89a6 button.colab-df-convert');\n",
              "        buttonEl.style.display =\n",
              "          google.colab.kernel.accessAllowed ? 'block' : 'none';\n",
              "\n",
              "        async function convertToInteractive(key) {\n",
              "          const element = document.querySelector('#df-dd28a19c-f6f9-4311-8ff1-ff775f7c89a6');\n",
              "          const dataTable =\n",
              "            await google.colab.kernel.invokeFunction('convertToInteractive',\n",
              "                                                     [key], {});\n",
              "          if (!dataTable) return;\n",
              "\n",
              "          const docLinkHtml = 'Like what you see? Visit the ' +\n",
              "            '<a target=\"_blank\" href=https://colab.research.google.com/notebooks/data_table.ipynb>data table notebook</a>'\n",
              "            + ' to learn more about interactive tables.';\n",
              "          element.innerHTML = '';\n",
              "          dataTable['output_type'] = 'display_data';\n",
              "          await google.colab.output.renderOutput(dataTable, element);\n",
              "          const docLink = document.createElement('div');\n",
              "          docLink.innerHTML = docLinkHtml;\n",
              "          element.appendChild(docLink);\n",
              "        }\n",
              "      </script>\n",
              "    </div>\n",
              "  </div>\n",
              "  "
            ]
          },
          "metadata": {},
          "execution_count": 51
        }
      ]
    },
    {
      "cell_type": "markdown",
      "source": [
        "#2. Tweets from user"
      ],
      "metadata": {
        "id": "p5uKbDXCEPze"
      }
    },
    {
      "cell_type": "markdown",
      "source": [
        "***Creating variable to navigate twetter***"
      ],
      "metadata": {
        "id": "olGGEt122Khd"
      }
    },
    {
      "cell_type": "code",
      "source": [
        "# Obtaining tweet from specific user account\n",
        "def tweets_by_user(user):\n",
        "  limit=300\n",
        "\n",
        "  tweets_obj= tweepy.Cursor(api.user_timeline, screen_name=user, count=200, tweet_mode=\"extended\").items(limit)\n",
        "  \n",
        "  # Create Data Frame\n",
        "  columns= ['Tweets', 'Likes', 'Time', 'User']\n",
        "  tweets = []\n",
        "  for i in tweets_obj:\n",
        "    tweets.append([i.full_text, i.favorite_count, i.created_at, i.user.screen_name])\n",
        "\n",
        "  df= pd.DataFrame(tweets, columns=columns)\n",
        "  df['Time']=df['Time'].apply(lambda x: x.strftime('%Y-%m-%d'))\n",
        "  return df\n",
        "  "
      ],
      "metadata": {
        "id": "L437rxd3eY03"
      },
      "execution_count": 123,
      "outputs": []
    },
    {
      "cell_type": "code",
      "source": [
        "df=tweets_by_user(\"DRNyheder\")\n",
        "df"
      ],
      "metadata": {
        "colab": {
          "base_uri": "https://localhost:8080/",
          "height": 424
        },
        "id": "6FT9nT3xIrr0",
        "outputId": "8b367e81-829b-4afa-91e1-4e11c42f363f"
      },
      "execution_count": 127,
      "outputs": [
        {
          "output_type": "execute_result",
          "data": {
            "text/plain": [
              "                                                Tweets  Likes        Time  \\\n",
              "0    ANALYSE To Mitch McConnell-tacklinger har bane...      1  2022-07-03   \n",
              "1    Rusland har fået kontrol over strategisk vigti...      1  2022-07-03   \n",
              "2    Seneste nyt fra Ukraine: Sidste større by i Lu...      7  2022-07-03   \n",
              "3    Radikalt bagland er skuffet over nej til advok...     13  2022-07-03   \n",
              "4    Stigende energipriser tvinger kommune til at h...      0  2022-07-03   \n",
              "..                                                 ...    ...         ...   \n",
              "295  USA ramt af største rentestigning siden 1994 h...      0  2022-06-15   \n",
              "296  Trapper, køjesenge og mangel på voksenbleer: U...     13  2022-06-15   \n",
              "297  Banker lukker for kontanter: Michael har tømt ...     10  2022-06-15   \n",
              "298  Minister: Forskerne er i tvivl, om globalt abe...      5  2022-06-15   \n",
              "299  Nu får kontanthjælpsmodtagere ret til ny vurde...      4  2022-06-15   \n",
              "\n",
              "          User  \n",
              "0    DRNyheder  \n",
              "1    DRNyheder  \n",
              "2    DRNyheder  \n",
              "3    DRNyheder  \n",
              "4    DRNyheder  \n",
              "..         ...  \n",
              "295  DRNyheder  \n",
              "296  DRNyheder  \n",
              "297  DRNyheder  \n",
              "298  DRNyheder  \n",
              "299  DRNyheder  \n",
              "\n",
              "[300 rows x 4 columns]"
            ],
            "text/html": [
              "\n",
              "  <div id=\"df-4d975e21-e224-48e6-bc54-8a1401919905\">\n",
              "    <div class=\"colab-df-container\">\n",
              "      <div>\n",
              "<style scoped>\n",
              "    .dataframe tbody tr th:only-of-type {\n",
              "        vertical-align: middle;\n",
              "    }\n",
              "\n",
              "    .dataframe tbody tr th {\n",
              "        vertical-align: top;\n",
              "    }\n",
              "\n",
              "    .dataframe thead th {\n",
              "        text-align: right;\n",
              "    }\n",
              "</style>\n",
              "<table border=\"1\" class=\"dataframe\">\n",
              "  <thead>\n",
              "    <tr style=\"text-align: right;\">\n",
              "      <th></th>\n",
              "      <th>Tweets</th>\n",
              "      <th>Likes</th>\n",
              "      <th>Time</th>\n",
              "      <th>User</th>\n",
              "    </tr>\n",
              "  </thead>\n",
              "  <tbody>\n",
              "    <tr>\n",
              "      <th>0</th>\n",
              "      <td>ANALYSE To Mitch McConnell-tacklinger har bane...</td>\n",
              "      <td>1</td>\n",
              "      <td>2022-07-03</td>\n",
              "      <td>DRNyheder</td>\n",
              "    </tr>\n",
              "    <tr>\n",
              "      <th>1</th>\n",
              "      <td>Rusland har fået kontrol over strategisk vigti...</td>\n",
              "      <td>1</td>\n",
              "      <td>2022-07-03</td>\n",
              "      <td>DRNyheder</td>\n",
              "    </tr>\n",
              "    <tr>\n",
              "      <th>2</th>\n",
              "      <td>Seneste nyt fra Ukraine: Sidste større by i Lu...</td>\n",
              "      <td>7</td>\n",
              "      <td>2022-07-03</td>\n",
              "      <td>DRNyheder</td>\n",
              "    </tr>\n",
              "    <tr>\n",
              "      <th>3</th>\n",
              "      <td>Radikalt bagland er skuffet over nej til advok...</td>\n",
              "      <td>13</td>\n",
              "      <td>2022-07-03</td>\n",
              "      <td>DRNyheder</td>\n",
              "    </tr>\n",
              "    <tr>\n",
              "      <th>4</th>\n",
              "      <td>Stigende energipriser tvinger kommune til at h...</td>\n",
              "      <td>0</td>\n",
              "      <td>2022-07-03</td>\n",
              "      <td>DRNyheder</td>\n",
              "    </tr>\n",
              "    <tr>\n",
              "      <th>...</th>\n",
              "      <td>...</td>\n",
              "      <td>...</td>\n",
              "      <td>...</td>\n",
              "      <td>...</td>\n",
              "    </tr>\n",
              "    <tr>\n",
              "      <th>295</th>\n",
              "      <td>USA ramt af største rentestigning siden 1994 h...</td>\n",
              "      <td>0</td>\n",
              "      <td>2022-06-15</td>\n",
              "      <td>DRNyheder</td>\n",
              "    </tr>\n",
              "    <tr>\n",
              "      <th>296</th>\n",
              "      <td>Trapper, køjesenge og mangel på voksenbleer: U...</td>\n",
              "      <td>13</td>\n",
              "      <td>2022-06-15</td>\n",
              "      <td>DRNyheder</td>\n",
              "    </tr>\n",
              "    <tr>\n",
              "      <th>297</th>\n",
              "      <td>Banker lukker for kontanter: Michael har tømt ...</td>\n",
              "      <td>10</td>\n",
              "      <td>2022-06-15</td>\n",
              "      <td>DRNyheder</td>\n",
              "    </tr>\n",
              "    <tr>\n",
              "      <th>298</th>\n",
              "      <td>Minister: Forskerne er i tvivl, om globalt abe...</td>\n",
              "      <td>5</td>\n",
              "      <td>2022-06-15</td>\n",
              "      <td>DRNyheder</td>\n",
              "    </tr>\n",
              "    <tr>\n",
              "      <th>299</th>\n",
              "      <td>Nu får kontanthjælpsmodtagere ret til ny vurde...</td>\n",
              "      <td>4</td>\n",
              "      <td>2022-06-15</td>\n",
              "      <td>DRNyheder</td>\n",
              "    </tr>\n",
              "  </tbody>\n",
              "</table>\n",
              "<p>300 rows × 4 columns</p>\n",
              "</div>\n",
              "      <button class=\"colab-df-convert\" onclick=\"convertToInteractive('df-4d975e21-e224-48e6-bc54-8a1401919905')\"\n",
              "              title=\"Convert this dataframe to an interactive table.\"\n",
              "              style=\"display:none;\">\n",
              "        \n",
              "  <svg xmlns=\"http://www.w3.org/2000/svg\" height=\"24px\"viewBox=\"0 0 24 24\"\n",
              "       width=\"24px\">\n",
              "    <path d=\"M0 0h24v24H0V0z\" fill=\"none\"/>\n",
              "    <path d=\"M18.56 5.44l.94 2.06.94-2.06 2.06-.94-2.06-.94-.94-2.06-.94 2.06-2.06.94zm-11 1L8.5 8.5l.94-2.06 2.06-.94-2.06-.94L8.5 2.5l-.94 2.06-2.06.94zm10 10l.94 2.06.94-2.06 2.06-.94-2.06-.94-.94-2.06-.94 2.06-2.06.94z\"/><path d=\"M17.41 7.96l-1.37-1.37c-.4-.4-.92-.59-1.43-.59-.52 0-1.04.2-1.43.59L10.3 9.45l-7.72 7.72c-.78.78-.78 2.05 0 2.83L4 21.41c.39.39.9.59 1.41.59.51 0 1.02-.2 1.41-.59l7.78-7.78 2.81-2.81c.8-.78.8-2.07 0-2.86zM5.41 20L4 18.59l7.72-7.72 1.47 1.35L5.41 20z\"/>\n",
              "  </svg>\n",
              "      </button>\n",
              "      \n",
              "  <style>\n",
              "    .colab-df-container {\n",
              "      display:flex;\n",
              "      flex-wrap:wrap;\n",
              "      gap: 12px;\n",
              "    }\n",
              "\n",
              "    .colab-df-convert {\n",
              "      background-color: #E8F0FE;\n",
              "      border: none;\n",
              "      border-radius: 50%;\n",
              "      cursor: pointer;\n",
              "      display: none;\n",
              "      fill: #1967D2;\n",
              "      height: 32px;\n",
              "      padding: 0 0 0 0;\n",
              "      width: 32px;\n",
              "    }\n",
              "\n",
              "    .colab-df-convert:hover {\n",
              "      background-color: #E2EBFA;\n",
              "      box-shadow: 0px 1px 2px rgba(60, 64, 67, 0.3), 0px 1px 3px 1px rgba(60, 64, 67, 0.15);\n",
              "      fill: #174EA6;\n",
              "    }\n",
              "\n",
              "    [theme=dark] .colab-df-convert {\n",
              "      background-color: #3B4455;\n",
              "      fill: #D2E3FC;\n",
              "    }\n",
              "\n",
              "    [theme=dark] .colab-df-convert:hover {\n",
              "      background-color: #434B5C;\n",
              "      box-shadow: 0px 1px 3px 1px rgba(0, 0, 0, 0.15);\n",
              "      filter: drop-shadow(0px 1px 2px rgba(0, 0, 0, 0.3));\n",
              "      fill: #FFFFFF;\n",
              "    }\n",
              "  </style>\n",
              "\n",
              "      <script>\n",
              "        const buttonEl =\n",
              "          document.querySelector('#df-4d975e21-e224-48e6-bc54-8a1401919905 button.colab-df-convert');\n",
              "        buttonEl.style.display =\n",
              "          google.colab.kernel.accessAllowed ? 'block' : 'none';\n",
              "\n",
              "        async function convertToInteractive(key) {\n",
              "          const element = document.querySelector('#df-4d975e21-e224-48e6-bc54-8a1401919905');\n",
              "          const dataTable =\n",
              "            await google.colab.kernel.invokeFunction('convertToInteractive',\n",
              "                                                     [key], {});\n",
              "          if (!dataTable) return;\n",
              "\n",
              "          const docLinkHtml = 'Like what you see? Visit the ' +\n",
              "            '<a target=\"_blank\" href=https://colab.research.google.com/notebooks/data_table.ipynb>data table notebook</a>'\n",
              "            + ' to learn more about interactive tables.';\n",
              "          element.innerHTML = '';\n",
              "          dataTable['output_type'] = 'display_data';\n",
              "          await google.colab.output.renderOutput(dataTable, element);\n",
              "          const docLink = document.createElement('div');\n",
              "          docLink.innerHTML = docLinkHtml;\n",
              "          element.appendChild(docLink);\n",
              "        }\n",
              "      </script>\n",
              "    </div>\n",
              "  </div>\n",
              "  "
            ]
          },
          "metadata": {},
          "execution_count": 127
        }
      ]
    },
    {
      "cell_type": "markdown",
      "source": [
        "***Loading them in Data Frame***"
      ],
      "metadata": {
        "id": "jLRfc1sZWTYe"
      }
    },
    {
      "cell_type": "code",
      "source": [
        "# save them as dataframe by passing variables as a columns\n",
        "df= df[~df.Tweets.str.contains(\"RT\")].reset_index(drop=True)\n",
        "#now lets make only tweets thats has not Re-Tweeted!\n",
        "\n",
        "df.head()"
      ],
      "metadata": {
        "colab": {
          "base_uri": "https://localhost:8080/",
          "height": 206
        },
        "id": "VLCv27NgQCOu",
        "outputId": "bbf3fc08-88c5-4c79-fad9-787c33f40803"
      },
      "execution_count": 89,
      "outputs": [
        {
          "output_type": "execute_result",
          "data": {
            "text/plain": [
              "                                              Tweets  Likes        Time  \\\n",
              "0  ANALYSE To Mitch McConnell-tacklinger har bane...      1  2022-07-03   \n",
              "1  Rusland har fået kontrol over strategisk vigti...      1  2022-07-03   \n",
              "2  Seneste nyt fra Ukraine: Sidste større by i Lu...      7  2022-07-03   \n",
              "3  Radikalt bagland er skuffet over nej til advok...     12  2022-07-03   \n",
              "4  Stigende energipriser tvinger kommune til at h...      0  2022-07-03   \n",
              "\n",
              "        User  \n",
              "0  DRNyheder  \n",
              "1  DRNyheder  \n",
              "2  DRNyheder  \n",
              "3  DRNyheder  \n",
              "4  DRNyheder  "
            ],
            "text/html": [
              "\n",
              "  <div id=\"df-421bb42d-386d-46d0-aac2-1359352d5284\">\n",
              "    <div class=\"colab-df-container\">\n",
              "      <div>\n",
              "<style scoped>\n",
              "    .dataframe tbody tr th:only-of-type {\n",
              "        vertical-align: middle;\n",
              "    }\n",
              "\n",
              "    .dataframe tbody tr th {\n",
              "        vertical-align: top;\n",
              "    }\n",
              "\n",
              "    .dataframe thead th {\n",
              "        text-align: right;\n",
              "    }\n",
              "</style>\n",
              "<table border=\"1\" class=\"dataframe\">\n",
              "  <thead>\n",
              "    <tr style=\"text-align: right;\">\n",
              "      <th></th>\n",
              "      <th>Tweets</th>\n",
              "      <th>Likes</th>\n",
              "      <th>Time</th>\n",
              "      <th>User</th>\n",
              "    </tr>\n",
              "  </thead>\n",
              "  <tbody>\n",
              "    <tr>\n",
              "      <th>0</th>\n",
              "      <td>ANALYSE To Mitch McConnell-tacklinger har bane...</td>\n",
              "      <td>1</td>\n",
              "      <td>2022-07-03</td>\n",
              "      <td>DRNyheder</td>\n",
              "    </tr>\n",
              "    <tr>\n",
              "      <th>1</th>\n",
              "      <td>Rusland har fået kontrol over strategisk vigti...</td>\n",
              "      <td>1</td>\n",
              "      <td>2022-07-03</td>\n",
              "      <td>DRNyheder</td>\n",
              "    </tr>\n",
              "    <tr>\n",
              "      <th>2</th>\n",
              "      <td>Seneste nyt fra Ukraine: Sidste større by i Lu...</td>\n",
              "      <td>7</td>\n",
              "      <td>2022-07-03</td>\n",
              "      <td>DRNyheder</td>\n",
              "    </tr>\n",
              "    <tr>\n",
              "      <th>3</th>\n",
              "      <td>Radikalt bagland er skuffet over nej til advok...</td>\n",
              "      <td>12</td>\n",
              "      <td>2022-07-03</td>\n",
              "      <td>DRNyheder</td>\n",
              "    </tr>\n",
              "    <tr>\n",
              "      <th>4</th>\n",
              "      <td>Stigende energipriser tvinger kommune til at h...</td>\n",
              "      <td>0</td>\n",
              "      <td>2022-07-03</td>\n",
              "      <td>DRNyheder</td>\n",
              "    </tr>\n",
              "  </tbody>\n",
              "</table>\n",
              "</div>\n",
              "      <button class=\"colab-df-convert\" onclick=\"convertToInteractive('df-421bb42d-386d-46d0-aac2-1359352d5284')\"\n",
              "              title=\"Convert this dataframe to an interactive table.\"\n",
              "              style=\"display:none;\">\n",
              "        \n",
              "  <svg xmlns=\"http://www.w3.org/2000/svg\" height=\"24px\"viewBox=\"0 0 24 24\"\n",
              "       width=\"24px\">\n",
              "    <path d=\"M0 0h24v24H0V0z\" fill=\"none\"/>\n",
              "    <path d=\"M18.56 5.44l.94 2.06.94-2.06 2.06-.94-2.06-.94-.94-2.06-.94 2.06-2.06.94zm-11 1L8.5 8.5l.94-2.06 2.06-.94-2.06-.94L8.5 2.5l-.94 2.06-2.06.94zm10 10l.94 2.06.94-2.06 2.06-.94-2.06-.94-.94-2.06-.94 2.06-2.06.94z\"/><path d=\"M17.41 7.96l-1.37-1.37c-.4-.4-.92-.59-1.43-.59-.52 0-1.04.2-1.43.59L10.3 9.45l-7.72 7.72c-.78.78-.78 2.05 0 2.83L4 21.41c.39.39.9.59 1.41.59.51 0 1.02-.2 1.41-.59l7.78-7.78 2.81-2.81c.8-.78.8-2.07 0-2.86zM5.41 20L4 18.59l7.72-7.72 1.47 1.35L5.41 20z\"/>\n",
              "  </svg>\n",
              "      </button>\n",
              "      \n",
              "  <style>\n",
              "    .colab-df-container {\n",
              "      display:flex;\n",
              "      flex-wrap:wrap;\n",
              "      gap: 12px;\n",
              "    }\n",
              "\n",
              "    .colab-df-convert {\n",
              "      background-color: #E8F0FE;\n",
              "      border: none;\n",
              "      border-radius: 50%;\n",
              "      cursor: pointer;\n",
              "      display: none;\n",
              "      fill: #1967D2;\n",
              "      height: 32px;\n",
              "      padding: 0 0 0 0;\n",
              "      width: 32px;\n",
              "    }\n",
              "\n",
              "    .colab-df-convert:hover {\n",
              "      background-color: #E2EBFA;\n",
              "      box-shadow: 0px 1px 2px rgba(60, 64, 67, 0.3), 0px 1px 3px 1px rgba(60, 64, 67, 0.15);\n",
              "      fill: #174EA6;\n",
              "    }\n",
              "\n",
              "    [theme=dark] .colab-df-convert {\n",
              "      background-color: #3B4455;\n",
              "      fill: #D2E3FC;\n",
              "    }\n",
              "\n",
              "    [theme=dark] .colab-df-convert:hover {\n",
              "      background-color: #434B5C;\n",
              "      box-shadow: 0px 1px 3px 1px rgba(0, 0, 0, 0.15);\n",
              "      filter: drop-shadow(0px 1px 2px rgba(0, 0, 0, 0.3));\n",
              "      fill: #FFFFFF;\n",
              "    }\n",
              "  </style>\n",
              "\n",
              "      <script>\n",
              "        const buttonEl =\n",
              "          document.querySelector('#df-421bb42d-386d-46d0-aac2-1359352d5284 button.colab-df-convert');\n",
              "        buttonEl.style.display =\n",
              "          google.colab.kernel.accessAllowed ? 'block' : 'none';\n",
              "\n",
              "        async function convertToInteractive(key) {\n",
              "          const element = document.querySelector('#df-421bb42d-386d-46d0-aac2-1359352d5284');\n",
              "          const dataTable =\n",
              "            await google.colab.kernel.invokeFunction('convertToInteractive',\n",
              "                                                     [key], {});\n",
              "          if (!dataTable) return;\n",
              "\n",
              "          const docLinkHtml = 'Like what you see? Visit the ' +\n",
              "            '<a target=\"_blank\" href=https://colab.research.google.com/notebooks/data_table.ipynb>data table notebook</a>'\n",
              "            + ' to learn more about interactive tables.';\n",
              "          element.innerHTML = '';\n",
              "          dataTable['output_type'] = 'display_data';\n",
              "          await google.colab.output.renderOutput(dataTable, element);\n",
              "          const docLink = document.createElement('div');\n",
              "          docLink.innerHTML = docLinkHtml;\n",
              "          element.appendChild(docLink);\n",
              "        }\n",
              "      </script>\n",
              "    </div>\n",
              "  </div>\n",
              "  "
            ]
          },
          "metadata": {},
          "execution_count": 89
        }
      ]
    },
    {
      "cell_type": "code",
      "source": [
        "# Top most liked tweets\n",
        "mostlike= df.loc[df.Likes.nlargest(5).index].set_index(\"Tweets\")\n",
        "mostlike"
      ],
      "metadata": {
        "colab": {
          "base_uri": "https://localhost:8080/",
          "height": 238
        },
        "id": "eq_q7Q1gUW2E",
        "outputId": "97c781c8-d16a-4263-fcad-20781c94eba4"
      },
      "execution_count": 90,
      "outputs": [
        {
          "output_type": "execute_result",
          "data": {
            "text/plain": [
              "                                                    Likes        Time  \\\n",
              "Tweets                                                                  \n",
              "Støttepartier tøver med at lade uvildige advoka...     90  2022-06-29   \n",
              "Radikalt bagland presser partitop: Advokater sk...     72  2022-07-01   \n",
              "Inflationen brager løs - og Danmark er blandt d...     62  2022-06-19   \n",
              "Uffe Ellemann-Jensen er død https://t.co/X7ddZj...     54  2022-06-19   \n",
              "Seneste nyt fra Ukraine: Zelenskyj vil have Rus...     51  2022-06-29   \n",
              "\n",
              "                                                         User  \n",
              "Tweets                                                         \n",
              "Støttepartier tøver med at lade uvildige advoka...  DRNyheder  \n",
              "Radikalt bagland presser partitop: Advokater sk...  DRNyheder  \n",
              "Inflationen brager løs - og Danmark er blandt d...  DRNyheder  \n",
              "Uffe Ellemann-Jensen er død https://t.co/X7ddZj...  DRNyheder  \n",
              "Seneste nyt fra Ukraine: Zelenskyj vil have Rus...  DRNyheder  "
            ],
            "text/html": [
              "\n",
              "  <div id=\"df-188b8b7d-bf59-4e96-9414-c81ba1173ee5\">\n",
              "    <div class=\"colab-df-container\">\n",
              "      <div>\n",
              "<style scoped>\n",
              "    .dataframe tbody tr th:only-of-type {\n",
              "        vertical-align: middle;\n",
              "    }\n",
              "\n",
              "    .dataframe tbody tr th {\n",
              "        vertical-align: top;\n",
              "    }\n",
              "\n",
              "    .dataframe thead th {\n",
              "        text-align: right;\n",
              "    }\n",
              "</style>\n",
              "<table border=\"1\" class=\"dataframe\">\n",
              "  <thead>\n",
              "    <tr style=\"text-align: right;\">\n",
              "      <th></th>\n",
              "      <th>Likes</th>\n",
              "      <th>Time</th>\n",
              "      <th>User</th>\n",
              "    </tr>\n",
              "    <tr>\n",
              "      <th>Tweets</th>\n",
              "      <th></th>\n",
              "      <th></th>\n",
              "      <th></th>\n",
              "    </tr>\n",
              "  </thead>\n",
              "  <tbody>\n",
              "    <tr>\n",
              "      <th>Støttepartier tøver med at lade uvildige advokater vurdere minkrapport: 'Kan bedst betegnes som hykleri' https://t.co/Ry9EjxqRvm https://t.co/JAB32AD4Zn</th>\n",
              "      <td>90</td>\n",
              "      <td>2022-06-29</td>\n",
              "      <td>DRNyheder</td>\n",
              "    </tr>\n",
              "    <tr>\n",
              "      <th>Radikalt bagland presser partitop: Advokater skal vurdere om Mette Frederiksen skal for rigsret https://t.co/EUBhvTgKE1 https://t.co/2NjjCvg8YA</th>\n",
              "      <td>72</td>\n",
              "      <td>2022-07-01</td>\n",
              "      <td>DRNyheder</td>\n",
              "    </tr>\n",
              "    <tr>\n",
              "      <th>Inflationen brager løs - og Danmark er blandt de europæiske lande, der hjælper befolkningen mindst https://t.co/KOByf8Xc7k https://t.co/WzASaWeGfX</th>\n",
              "      <td>62</td>\n",
              "      <td>2022-06-19</td>\n",
              "      <td>DRNyheder</td>\n",
              "    </tr>\n",
              "    <tr>\n",
              "      <th>Uffe Ellemann-Jensen er død https://t.co/X7ddZjEuiR https://t.co/q7RDaXhT1W</th>\n",
              "      <td>54</td>\n",
              "      <td>2022-06-19</td>\n",
              "      <td>DRNyheder</td>\n",
              "    </tr>\n",
              "    <tr>\n",
              "      <th>Seneste nyt fra Ukraine: Zelenskyj vil have Rusland ud af FN's Sikkerhedsråd https://t.co/rgKyeBaJIk https://t.co/mjdnFSXxji</th>\n",
              "      <td>51</td>\n",
              "      <td>2022-06-29</td>\n",
              "      <td>DRNyheder</td>\n",
              "    </tr>\n",
              "  </tbody>\n",
              "</table>\n",
              "</div>\n",
              "      <button class=\"colab-df-convert\" onclick=\"convertToInteractive('df-188b8b7d-bf59-4e96-9414-c81ba1173ee5')\"\n",
              "              title=\"Convert this dataframe to an interactive table.\"\n",
              "              style=\"display:none;\">\n",
              "        \n",
              "  <svg xmlns=\"http://www.w3.org/2000/svg\" height=\"24px\"viewBox=\"0 0 24 24\"\n",
              "       width=\"24px\">\n",
              "    <path d=\"M0 0h24v24H0V0z\" fill=\"none\"/>\n",
              "    <path d=\"M18.56 5.44l.94 2.06.94-2.06 2.06-.94-2.06-.94-.94-2.06-.94 2.06-2.06.94zm-11 1L8.5 8.5l.94-2.06 2.06-.94-2.06-.94L8.5 2.5l-.94 2.06-2.06.94zm10 10l.94 2.06.94-2.06 2.06-.94-2.06-.94-.94-2.06-.94 2.06-2.06.94z\"/><path d=\"M17.41 7.96l-1.37-1.37c-.4-.4-.92-.59-1.43-.59-.52 0-1.04.2-1.43.59L10.3 9.45l-7.72 7.72c-.78.78-.78 2.05 0 2.83L4 21.41c.39.39.9.59 1.41.59.51 0 1.02-.2 1.41-.59l7.78-7.78 2.81-2.81c.8-.78.8-2.07 0-2.86zM5.41 20L4 18.59l7.72-7.72 1.47 1.35L5.41 20z\"/>\n",
              "  </svg>\n",
              "      </button>\n",
              "      \n",
              "  <style>\n",
              "    .colab-df-container {\n",
              "      display:flex;\n",
              "      flex-wrap:wrap;\n",
              "      gap: 12px;\n",
              "    }\n",
              "\n",
              "    .colab-df-convert {\n",
              "      background-color: #E8F0FE;\n",
              "      border: none;\n",
              "      border-radius: 50%;\n",
              "      cursor: pointer;\n",
              "      display: none;\n",
              "      fill: #1967D2;\n",
              "      height: 32px;\n",
              "      padding: 0 0 0 0;\n",
              "      width: 32px;\n",
              "    }\n",
              "\n",
              "    .colab-df-convert:hover {\n",
              "      background-color: #E2EBFA;\n",
              "      box-shadow: 0px 1px 2px rgba(60, 64, 67, 0.3), 0px 1px 3px 1px rgba(60, 64, 67, 0.15);\n",
              "      fill: #174EA6;\n",
              "    }\n",
              "\n",
              "    [theme=dark] .colab-df-convert {\n",
              "      background-color: #3B4455;\n",
              "      fill: #D2E3FC;\n",
              "    }\n",
              "\n",
              "    [theme=dark] .colab-df-convert:hover {\n",
              "      background-color: #434B5C;\n",
              "      box-shadow: 0px 1px 3px 1px rgba(0, 0, 0, 0.15);\n",
              "      filter: drop-shadow(0px 1px 2px rgba(0, 0, 0, 0.3));\n",
              "      fill: #FFFFFF;\n",
              "    }\n",
              "  </style>\n",
              "\n",
              "      <script>\n",
              "        const buttonEl =\n",
              "          document.querySelector('#df-188b8b7d-bf59-4e96-9414-c81ba1173ee5 button.colab-df-convert');\n",
              "        buttonEl.style.display =\n",
              "          google.colab.kernel.accessAllowed ? 'block' : 'none';\n",
              "\n",
              "        async function convertToInteractive(key) {\n",
              "          const element = document.querySelector('#df-188b8b7d-bf59-4e96-9414-c81ba1173ee5');\n",
              "          const dataTable =\n",
              "            await google.colab.kernel.invokeFunction('convertToInteractive',\n",
              "                                                     [key], {});\n",
              "          if (!dataTable) return;\n",
              "\n",
              "          const docLinkHtml = 'Like what you see? Visit the ' +\n",
              "            '<a target=\"_blank\" href=https://colab.research.google.com/notebooks/data_table.ipynb>data table notebook</a>'\n",
              "            + ' to learn more about interactive tables.';\n",
              "          element.innerHTML = '';\n",
              "          dataTable['output_type'] = 'display_data';\n",
              "          await google.colab.output.renderOutput(dataTable, element);\n",
              "          const docLink = document.createElement('div');\n",
              "          docLink.innerHTML = docLinkHtml;\n",
              "          element.appendChild(docLink);\n",
              "        }\n",
              "      </script>\n",
              "    </div>\n",
              "  </div>\n",
              "  "
            ]
          },
          "metadata": {},
          "execution_count": 90
        }
      ]
    },
    {
      "cell_type": "markdown",
      "source": [
        "***Plot the word-colud***"
      ],
      "metadata": {
        "id": "i5Wqn8-2BfyE"
      }
    },
    {
      "cell_type": "code",
      "source": [
        "#Plot the word cloud\n",
        "from wordcloud import WordCloud \n",
        "allWords= ' '.join( [twts for twts in df['Tweets']] )\n",
        "wordCloud = WordCloud(width= 1000, height=500, random_state=21, max_font_size= 119).generate(allWords)\n",
        "plt.imshow(wordCloud, interpolation = \"bilinear\")\n",
        "plt.axis('off')\n",
        "plt.show()"
      ],
      "metadata": {
        "colab": {
          "base_uri": "https://localhost:8080/",
          "height": 198
        },
        "id": "kKUW_GQ5BkVr",
        "outputId": "652c5c7c-8a91-4c61-f253-f244cd28f14f"
      },
      "execution_count": 149,
      "outputs": [
        {
          "output_type": "display_data",
          "data": {
            "text/plain": [
              "<Figure size 432x288 with 1 Axes>"
            ],
            "image/png": "[encoded data removed]"
          },
          "metadata": {
            "needs_background": "light"
          }
        }
      ]
    },
    {
      "cell_type": "markdown",
      "source": [
        "***Sentiment Analysis***"
      ],
      "metadata": {
        "id": "WuL0lX_9Ev__"
      }
    },
    {
      "cell_type": "code",
      "source": [
        "# Create a function to compute Negetive, Neutral and Positive analysis\n",
        "import re\n",
        "from textblob import TextBlob\n",
        "def SentimentAnalysis(df):\n",
        "  # first clean the text\n",
        "  text= df['Tweets']\n",
        "\n",
        "  def cleanText(text):\n",
        "    text= re.sub(r'@[A-Za-z0-9]+', '',text) # Removed @mentions\n",
        "    text= re.sub(r'#', '',text) # the '#' symbol\n",
        "    text= re.sub(r'RT[\\s]+', '',text) # Removed RT\n",
        "    text= re.sub(r'https?:\\/\\/\\s+', '',text) # Removed the hyper link\n",
        "    return text\n",
        "\n",
        "  #clean tweets\n",
        "  df['Tweets']= df['Tweets'].apply(cleanText)\n",
        "\n",
        "  #function to get the subjectivity\n",
        "  def getSubjectivity(text=df['Tweets']):\n",
        "    return TextBlob(text).sentiment.subjectivity\n",
        "  #function to ge the polarity\n",
        "  def getPolarity(text=df['Tweets']):\n",
        "    return TextBlob(text).sentiment.polarity\n",
        "  #Create to new columns\n",
        "  df['Subjectivity']= df['Tweets'].apply(getSubjectivity)\n",
        "  df['Polarity']= df['Tweets'].apply(getPolarity)\n",
        "\n",
        "  # Function to sentiment\n",
        "  def getAnalysis(score):\n",
        "    if score < 0: return 'Negetive'\n",
        "    elif score == 0: return 'Neutral'\n",
        "    else: return 'Positive'\n",
        "\n",
        "  df['Analysis']= df['Polarity'].apply(getAnalysis)\n",
        "  #show the data\n",
        "\n",
        "  return df[[\"Tweets\", \"Likes\", \"Time\", \"Analysis\"]]"
      ],
      "metadata": {
        "id": "346pzC6eEzF1"
      },
      "execution_count": 209,
      "outputs": []
    },
    {
      "cell_type": "code",
      "source": [
        "SentimentAnalysis(df)"
      ],
      "metadata": {
        "colab": {
          "base_uri": "https://localhost:8080/",
          "height": 424
        },
        "id": "WPEyB8bjLT90",
        "outputId": "c6bd1f3d-506d-47f4-8669-67235834119e"
      },
      "execution_count": 212,
      "outputs": [
        {
          "output_type": "execute_result",
          "data": {
            "text/plain": [
              "                                                Tweets  Likes        Time  \\\n",
              "0    ANALYSE To Mitch McConnell-tacklinger har bane...      1  2022-07-03   \n",
              "1    Rusland har fået kontrol over strategisk vigti...      1  2022-07-03   \n",
              "2    Seneste nyt fra Ukraine: Sidste større by i Lu...      7  2022-07-03   \n",
              "3    Radikalt bagland er skuffet over nej til advok...     13  2022-07-03   \n",
              "4    Stigende energipriser tvinger kommune til at h...      0  2022-07-03   \n",
              "..                                                 ...    ...         ...   \n",
              "295  USA ramt af største rentestigning siden 1994 h...      0  2022-06-15   \n",
              "296  Trapper, køjesenge og mangel på voksenbleer: U...     13  2022-06-15   \n",
              "297  Banker lukker for kontanter: Michael har tømt ...     10  2022-06-15   \n",
              "298  Minister: Forskerne er i tvivl, om globalt abe...      5  2022-06-15   \n",
              "299  Nu får kontanthjælpsmodtagere ret til ny vurde...      4  2022-06-15   \n",
              "\n",
              "    Analysis  \n",
              "0    Neutral  \n",
              "1    Neutral  \n",
              "2    Neutral  \n",
              "3    Neutral  \n",
              "4    Neutral  \n",
              "..       ...  \n",
              "295  Neutral  \n",
              "296  Neutral  \n",
              "297  Neutral  \n",
              "298  Neutral  \n",
              "299  Neutral  \n",
              "\n",
              "[300 rows x 4 columns]"
            ],
            "text/html": [
              "\n",
              "  <div id=\"df-e1f7a742-3f60-48d0-93af-1cb507220739\">\n",
              "    <div class=\"colab-df-container\">\n",
              "      <div>\n",
              "<style scoped>\n",
              "    .dataframe tbody tr th:only-of-type {\n",
              "        vertical-align: middle;\n",
              "    }\n",
              "\n",
              "    .dataframe tbody tr th {\n",
              "        vertical-align: top;\n",
              "    }\n",
              "\n",
              "    .dataframe thead th {\n",
              "        text-align: right;\n",
              "    }\n",
              "</style>\n",
              "<table border=\"1\" class=\"dataframe\">\n",
              "  <thead>\n",
              "    <tr style=\"text-align: right;\">\n",
              "      <th></th>\n",
              "      <th>Tweets</th>\n",
              "      <th>Likes</th>\n",
              "      <th>Time</th>\n",
              "      <th>Analysis</th>\n",
              "    </tr>\n",
              "  </thead>\n",
              "  <tbody>\n",
              "    <tr>\n",
              "      <th>0</th>\n",
              "      <td>ANALYSE To Mitch McConnell-tacklinger har bane...</td>\n",
              "      <td>1</td>\n",
              "      <td>2022-07-03</td>\n",
              "      <td>Neutral</td>\n",
              "    </tr>\n",
              "    <tr>\n",
              "      <th>1</th>\n",
              "      <td>Rusland har fået kontrol over strategisk vigti...</td>\n",
              "      <td>1</td>\n",
              "      <td>2022-07-03</td>\n",
              "      <td>Neutral</td>\n",
              "    </tr>\n",
              "    <tr>\n",
              "      <th>2</th>\n",
              "      <td>Seneste nyt fra Ukraine: Sidste større by i Lu...</td>\n",
              "      <td>7</td>\n",
              "      <td>2022-07-03</td>\n",
              "      <td>Neutral</td>\n",
              "    </tr>\n",
              "    <tr>\n",
              "      <th>3</th>\n",
              "      <td>Radikalt bagland er skuffet over nej til advok...</td>\n",
              "      <td>13</td>\n",
              "      <td>2022-07-03</td>\n",
              "      <td>Neutral</td>\n",
              "    </tr>\n",
              "    <tr>\n",
              "      <th>4</th>\n",
              "      <td>Stigende energipriser tvinger kommune til at h...</td>\n",
              "      <td>0</td>\n",
              "      <td>2022-07-03</td>\n",
              "      <td>Neutral</td>\n",
              "    </tr>\n",
              "    <tr>\n",
              "      <th>...</th>\n",
              "      <td>...</td>\n",
              "      <td>...</td>\n",
              "      <td>...</td>\n",
              "      <td>...</td>\n",
              "    </tr>\n",
              "    <tr>\n",
              "      <th>295</th>\n",
              "      <td>USA ramt af største rentestigning siden 1994 h...</td>\n",
              "      <td>0</td>\n",
              "      <td>2022-06-15</td>\n",
              "      <td>Neutral</td>\n",
              "    </tr>\n",
              "    <tr>\n",
              "      <th>296</th>\n",
              "      <td>Trapper, køjesenge og mangel på voksenbleer: U...</td>\n",
              "      <td>13</td>\n",
              "      <td>2022-06-15</td>\n",
              "      <td>Neutral</td>\n",
              "    </tr>\n",
              "    <tr>\n",
              "      <th>297</th>\n",
              "      <td>Banker lukker for kontanter: Michael har tømt ...</td>\n",
              "      <td>10</td>\n",
              "      <td>2022-06-15</td>\n",
              "      <td>Neutral</td>\n",
              "    </tr>\n",
              "    <tr>\n",
              "      <th>298</th>\n",
              "      <td>Minister: Forskerne er i tvivl, om globalt abe...</td>\n",
              "      <td>5</td>\n",
              "      <td>2022-06-15</td>\n",
              "      <td>Neutral</td>\n",
              "    </tr>\n",
              "    <tr>\n",
              "      <th>299</th>\n",
              "      <td>Nu får kontanthjælpsmodtagere ret til ny vurde...</td>\n",
              "      <td>4</td>\n",
              "      <td>2022-06-15</td>\n",
              "      <td>Neutral</td>\n",
              "    </tr>\n",
              "  </tbody>\n",
              "</table>\n",
              "<p>300 rows × 4 columns</p>\n",
              "</div>\n",
              "      <button class=\"colab-df-convert\" onclick=\"convertToInteractive('df-e1f7a742-3f60-48d0-93af-1cb507220739')\"\n",
              "              title=\"Convert this dataframe to an interactive table.\"\n",
              "              style=\"display:none;\">\n",
              "        \n",
              "  <svg xmlns=\"http://www.w3.org/2000/svg\" height=\"24px\"viewBox=\"0 0 24 24\"\n",
              "       width=\"24px\">\n",
              "    <path d=\"M0 0h24v24H0V0z\" fill=\"none\"/>\n",
              "    <path d=\"M18.56 5.44l.94 2.06.94-2.06 2.06-.94-2.06-.94-.94-2.06-.94 2.06-2.06.94zm-11 1L8.5 8.5l.94-2.06 2.06-.94-2.06-.94L8.5 2.5l-.94 2.06-2.06.94zm10 10l.94 2.06.94-2.06 2.06-.94-2.06-.94-.94-2.06-.94 2.06-2.06.94z\"/><path d=\"M17.41 7.96l-1.37-1.37c-.4-.4-.92-.59-1.43-.59-.52 0-1.04.2-1.43.59L10.3 9.45l-7.72 7.72c-.78.78-.78 2.05 0 2.83L4 21.41c.39.39.9.59 1.41.59.51 0 1.02-.2 1.41-.59l7.78-7.78 2.81-2.81c.8-.78.8-2.07 0-2.86zM5.41 20L4 18.59l7.72-7.72 1.47 1.35L5.41 20z\"/>\n",
              "  </svg>\n",
              "      </button>\n",
              "      \n",
              "  <style>\n",
              "    .colab-df-container {\n",
              "      display:flex;\n",
              "      flex-wrap:wrap;\n",
              "      gap: 12px;\n",
              "    }\n",
              "\n",
              "    .colab-df-convert {\n",
              "      background-color: #E8F0FE;\n",
              "      border: none;\n",
              "      border-radius: 50%;\n",
              "      cursor: pointer;\n",
              "      display: none;\n",
              "      fill: #1967D2;\n",
              "      height: 32px;\n",
              "      padding: 0 0 0 0;\n",
              "      width: 32px;\n",
              "    }\n",
              "\n",
              "    .colab-df-convert:hover {\n",
              "      background-color: #E2EBFA;\n",
              "      box-shadow: 0px 1px 2px rgba(60, 64, 67, 0.3), 0px 1px 3px 1px rgba(60, 64, 67, 0.15);\n",
              "      fill: #174EA6;\n",
              "    }\n",
              "\n",
              "    [theme=dark] .colab-df-convert {\n",
              "      background-color: #3B4455;\n",
              "      fill: #D2E3FC;\n",
              "    }\n",
              "\n",
              "    [theme=dark] .colab-df-convert:hover {\n",
              "      background-color: #434B5C;\n",
              "      box-shadow: 0px 1px 3px 1px rgba(0, 0, 0, 0.15);\n",
              "      filter: drop-shadow(0px 1px 2px rgba(0, 0, 0, 0.3));\n",
              "      fill: #FFFFFF;\n",
              "    }\n",
              "  </style>\n",
              "\n",
              "      <script>\n",
              "        const buttonEl =\n",
              "          document.querySelector('#df-e1f7a742-3f60-48d0-93af-1cb507220739 button.colab-df-convert');\n",
              "        buttonEl.style.display =\n",
              "          google.colab.kernel.accessAllowed ? 'block' : 'none';\n",
              "\n",
              "        async function convertToInteractive(key) {\n",
              "          const element = document.querySelector('#df-e1f7a742-3f60-48d0-93af-1cb507220739');\n",
              "          const dataTable =\n",
              "            await google.colab.kernel.invokeFunction('convertToInteractive',\n",
              "                                                     [key], {});\n",
              "          if (!dataTable) return;\n",
              "\n",
              "          const docLinkHtml = 'Like what you see? Visit the ' +\n",
              "            '<a target=\"_blank\" href=https://colab.research.google.com/notebooks/data_table.ipynb>data table notebook</a>'\n",
              "            + ' to learn more about interactive tables.';\n",
              "          element.innerHTML = '';\n",
              "          dataTable['output_type'] = 'display_data';\n",
              "          await google.colab.output.renderOutput(dataTable, element);\n",
              "          const docLink = document.createElement('div');\n",
              "          docLink.innerHTML = docLinkHtml;\n",
              "          element.appendChild(docLink);\n",
              "        }\n",
              "      </script>\n",
              "    </div>\n",
              "  </div>\n",
              "  "
            ]
          },
          "metadata": {},
          "execution_count": 212
        }
      ]
    },
    {
      "cell_type": "markdown",
      "source": [
        "#3.  Tweets search by using Keywords or Hashtag"
      ],
      "metadata": {
        "id": "hHlO2yOGNpj1"
      }
    },
    {
      "cell_type": "code",
      "source": [
        "# Obtaining tweet using keywords or Hastag\n",
        "def tweets_by_keywords(keywords):\n",
        "  limit=300\n",
        "\n",
        "  tweets_obj= tweepy.Cursor(api.search, q=keywords, count=100, tweet_mode=\"extended\").items(limit)\n",
        "    # Create Data Frame\n",
        "  columns= ['Tweets', 'Time', 'User']\n",
        "  tweets = []\n",
        "  for i in tweets_obj:\n",
        "    tweets.append([i.full_text, i.created_at, i.user.screen_name])\n",
        "\n",
        "  df= pd.DataFrame(tweets, columns=columns)\n",
        "  df['Time']=df['Time'].apply(lambda x: x.strftime('%Y-%m-%d'))\n",
        "  return df\n",
        "  \n"
      ],
      "metadata": {
        "id": "ftDmb9BBNKHd"
      },
      "execution_count": 92,
      "outputs": []
    },
    {
      "cell_type": "code",
      "source": [
        "tweets_by_keywords('Alternative protein')"
      ],
      "metadata": {
        "colab": {
          "base_uri": "https://localhost:8080/",
          "height": 424
        },
        "id": "NMa5y-e7XFL_",
        "outputId": "45d5e6a7-c9a0-4cbc-de63-aef300b6e62e"
      },
      "execution_count": 93,
      "outputs": [
        {
          "output_type": "execute_result",
          "data": {
            "text/plain": [
              "                                                Tweets        Time  \\\n",
              "0    @Morcia Quark…. Perfect easy food alternative ...  2022-07-03   \n",
              "1    RT @ketodietapp: Cheesy Keto \"Popcorn\"\\n\\nThes...  2022-07-03   \n",
              "2    Cheesy Keto \"Popcorn\"\\n\\nThese light and crunc...  2022-07-03   \n",
              "3    RT @PaedDietitian: #eaaci2022 high cross react...  2022-07-03   \n",
              "4    RT @1__o_o__: Another point on #novelfoods - w...  2022-07-03   \n",
              "..                                                 ...         ...   \n",
              "295  Alternative protein predictions for 2050 https...  2022-06-29   \n",
              "296  RT @mushroomkingsgh: Buy your fresh oyster Mus...  2022-06-29   \n",
              "297  RT @mushroomkingsgh: Buy your fresh oyster Mus...  2022-06-29   \n",
              "298  Buy your fresh oyster Mushroom from us:\\n\\nGre...  2022-06-29   \n",
              "299  RT @untuqqqqqd: when the locust plague comes a...  2022-06-29   \n",
              "\n",
              "                User  \n",
              "0      battle_weary1  \n",
              "1           nkonstas  \n",
              "2        ketodietapp  \n",
              "3    florindanpopesq  \n",
              "4    florindanpopesq  \n",
              "..               ...  \n",
              "295       ACTAE_asoc  \n",
              "296           o_clue  \n",
              "297       iddriss862  \n",
              "298  mushroomkingsgh  \n",
              "299   x_El_Capitan_x  \n",
              "\n",
              "[300 rows x 3 columns]"
            ],
            "text/html": [
              "\n",
              "  <div id=\"df-82f1350f-16cd-4da1-b3bf-b3e2aa76ae9e\">\n",
              "    <div class=\"colab-df-container\">\n",
              "      <div>\n",
              "<style scoped>\n",
              "    .dataframe tbody tr th:only-of-type {\n",
              "        vertical-align: middle;\n",
              "    }\n",
              "\n",
              "    .dataframe tbody tr th {\n",
              "        vertical-align: top;\n",
              "    }\n",
              "\n",
              "    .dataframe thead th {\n",
              "        text-align: right;\n",
              "    }\n",
              "</style>\n",
              "<table border=\"1\" class=\"dataframe\">\n",
              "  <thead>\n",
              "    <tr style=\"text-align: right;\">\n",
              "      <th></th>\n",
              "      <th>Tweets</th>\n",
              "      <th>Time</th>\n",
              "      <th>User</th>\n",
              "    </tr>\n",
              "  </thead>\n",
              "  <tbody>\n",
              "    <tr>\n",
              "      <th>0</th>\n",
              "      <td>@Morcia Quark…. Perfect easy food alternative ...</td>\n",
              "      <td>2022-07-03</td>\n",
              "      <td>battle_weary1</td>\n",
              "    </tr>\n",
              "    <tr>\n",
              "      <th>1</th>\n",
              "      <td>RT @ketodietapp: Cheesy Keto \"Popcorn\"\\n\\nThes...</td>\n",
              "      <td>2022-07-03</td>\n",
              "      <td>nkonstas</td>\n",
              "    </tr>\n",
              "    <tr>\n",
              "      <th>2</th>\n",
              "      <td>Cheesy Keto \"Popcorn\"\\n\\nThese light and crunc...</td>\n",
              "      <td>2022-07-03</td>\n",
              "      <td>ketodietapp</td>\n",
              "    </tr>\n",
              "    <tr>\n",
              "      <th>3</th>\n",
              "      <td>RT @PaedDietitian: #eaaci2022 high cross react...</td>\n",
              "      <td>2022-07-03</td>\n",
              "      <td>florindanpopesq</td>\n",
              "    </tr>\n",
              "    <tr>\n",
              "      <th>4</th>\n",
              "      <td>RT @1__o_o__: Another point on #novelfoods - w...</td>\n",
              "      <td>2022-07-03</td>\n",
              "      <td>florindanpopesq</td>\n",
              "    </tr>\n",
              "    <tr>\n",
              "      <th>...</th>\n",
              "      <td>...</td>\n",
              "      <td>...</td>\n",
              "      <td>...</td>\n",
              "    </tr>\n",
              "    <tr>\n",
              "      <th>295</th>\n",
              "      <td>Alternative protein predictions for 2050 https...</td>\n",
              "      <td>2022-06-29</td>\n",
              "      <td>ACTAE_asoc</td>\n",
              "    </tr>\n",
              "    <tr>\n",
              "      <th>296</th>\n",
              "      <td>RT @mushroomkingsgh: Buy your fresh oyster Mus...</td>\n",
              "      <td>2022-06-29</td>\n",
              "      <td>o_clue</td>\n",
              "    </tr>\n",
              "    <tr>\n",
              "      <th>297</th>\n",
              "      <td>RT @mushroomkingsgh: Buy your fresh oyster Mus...</td>\n",
              "      <td>2022-06-29</td>\n",
              "      <td>iddriss862</td>\n",
              "    </tr>\n",
              "    <tr>\n",
              "      <th>298</th>\n",
              "      <td>Buy your fresh oyster Mushroom from us:\\n\\nGre...</td>\n",
              "      <td>2022-06-29</td>\n",
              "      <td>mushroomkingsgh</td>\n",
              "    </tr>\n",
              "    <tr>\n",
              "      <th>299</th>\n",
              "      <td>RT @untuqqqqqd: when the locust plague comes a...</td>\n",
              "      <td>2022-06-29</td>\n",
              "      <td>x_El_Capitan_x</td>\n",
              "    </tr>\n",
              "  </tbody>\n",
              "</table>\n",
              "<p>300 rows × 3 columns</p>\n",
              "</div>\n",
              "      <button class=\"colab-df-convert\" onclick=\"convertToInteractive('df-82f1350f-16cd-4da1-b3bf-b3e2aa76ae9e')\"\n",
              "              title=\"Convert this dataframe to an interactive table.\"\n",
              "              style=\"display:none;\">\n",
              "        \n",
              "  <svg xmlns=\"http://www.w3.org/2000/svg\" height=\"24px\"viewBox=\"0 0 24 24\"\n",
              "       width=\"24px\">\n",
              "    <path d=\"M0 0h24v24H0V0z\" fill=\"none\"/>\n",
              "    <path d=\"M18.56 5.44l.94 2.06.94-2.06 2.06-.94-2.06-.94-.94-2.06-.94 2.06-2.06.94zm-11 1L8.5 8.5l.94-2.06 2.06-.94-2.06-.94L8.5 2.5l-.94 2.06-2.06.94zm10 10l.94 2.06.94-2.06 2.06-.94-2.06-.94-.94-2.06-.94 2.06-2.06.94z\"/><path d=\"M17.41 7.96l-1.37-1.37c-.4-.4-.92-.59-1.43-.59-.52 0-1.04.2-1.43.59L10.3 9.45l-7.72 7.72c-.78.78-.78 2.05 0 2.83L4 21.41c.39.39.9.59 1.41.59.51 0 1.02-.2 1.41-.59l7.78-7.78 2.81-2.81c.8-.78.8-2.07 0-2.86zM5.41 20L4 18.59l7.72-7.72 1.47 1.35L5.41 20z\"/>\n",
              "  </svg>\n",
              "      </button>\n",
              "      \n",
              "  <style>\n",
              "    .colab-df-container {\n",
              "      display:flex;\n",
              "      flex-wrap:wrap;\n",
              "      gap: 12px;\n",
              "    }\n",
              "\n",
              "    .colab-df-convert {\n",
              "      background-color: #E8F0FE;\n",
              "      border: none;\n",
              "      border-radius: 50%;\n",
              "      cursor: pointer;\n",
              "      display: none;\n",
              "      fill: #1967D2;\n",
              "      height: 32px;\n",
              "      padding: 0 0 0 0;\n",
              "      width: 32px;\n",
              "    }\n",
              "\n",
              "    .colab-df-convert:hover {\n",
              "      background-color: #E2EBFA;\n",
              "      box-shadow: 0px 1px 2px rgba(60, 64, 67, 0.3), 0px 1px 3px 1px rgba(60, 64, 67, 0.15);\n",
              "      fill: #174EA6;\n",
              "    }\n",
              "\n",
              "    [theme=dark] .colab-df-convert {\n",
              "      background-color: #3B4455;\n",
              "      fill: #D2E3FC;\n",
              "    }\n",
              "\n",
              "    [theme=dark] .colab-df-convert:hover {\n",
              "      background-color: #434B5C;\n",
              "      box-shadow: 0px 1px 3px 1px rgba(0, 0, 0, 0.15);\n",
              "      filter: drop-shadow(0px 1px 2px rgba(0, 0, 0, 0.3));\n",
              "      fill: #FFFFFF;\n",
              "    }\n",
              "  </style>\n",
              "\n",
              "      <script>\n",
              "        const buttonEl =\n",
              "          document.querySelector('#df-82f1350f-16cd-4da1-b3bf-b3e2aa76ae9e button.colab-df-convert');\n",
              "        buttonEl.style.display =\n",
              "          google.colab.kernel.accessAllowed ? 'block' : 'none';\n",
              "\n",
              "        async function convertToInteractive(key) {\n",
              "          const element = document.querySelector('#df-82f1350f-16cd-4da1-b3bf-b3e2aa76ae9e');\n",
              "          const dataTable =\n",
              "            await google.colab.kernel.invokeFunction('convertToInteractive',\n",
              "                                                     [key], {});\n",
              "          if (!dataTable) return;\n",
              "\n",
              "          const docLinkHtml = 'Like what you see? Visit the ' +\n",
              "            '<a target=\"_blank\" href=https://colab.research.google.com/notebooks/data_table.ipynb>data table notebook</a>'\n",
              "            + ' to learn more about interactive tables.';\n",
              "          element.innerHTML = '';\n",
              "          dataTable['output_type'] = 'display_data';\n",
              "          await google.colab.output.renderOutput(dataTable, element);\n",
              "          const docLink = document.createElement('div');\n",
              "          docLink.innerHTML = docLinkHtml;\n",
              "          element.appendChild(docLink);\n",
              "        }\n",
              "      </script>\n",
              "    </div>\n",
              "  </div>\n",
              "  "
            ]
          },
          "metadata": {},
          "execution_count": 93
        }
      ]
    },
    {
      "cell_type": "code",
      "source": [
        "\"\"\"# Lets define the class to scrap tweet data on real time\n",
        "class Linstener(tweepy.Stream):\n",
        "  tweets = []\n",
        "  limit=100\n",
        "\n",
        "  def on_status(self, status):\n",
        "    self.tweets.append(status)\n",
        "    #print(status.user.screen_name + \":\" + status.text)\n",
        "\n",
        "    if len(self.status) == self.limit:\n",
        "      self.disconnect()\n",
        "\n",
        "listen = Linstener(api)\n",
        "stream_tweet = Stream(auth, listen)\n",
        "\n",
        "# Stream by Keywords\n",
        "keywords = ['2022', '#python']\n",
        "stream_tweet.filter(track=keywords)\n",
        "\n",
        "# Creat data Frame\n",
        "columns= []\n",
        "data= []\n",
        "\n",
        "for tweet in stream_tweet.tweets:\n",
        "  data.append([tweet.user.screen_name, tweet.text])\n",
        "\n",
        "  df5= pd.DataFrame(data, columns=columns)\n",
        "  print(df5)\n",
        "stream_tweet\"\"\""
      ],
      "metadata": {
        "colab": {
          "base_uri": "https://localhost:8080/",
          "height": 70
        },
        "id": "B-RxwHvUKAYZ",
        "outputId": "069e41c9-4035-4610-8a6b-a79a4d368aba"
      },
      "execution_count": 58,
      "outputs": [
        {
          "output_type": "execute_result",
          "data": {
            "text/plain": [
              "'# Lets define the class to scrap tweet data on real time\\nclass Linstener(tweepy.Stream):\\n  tweets = []\\n  limit=100\\n\\n  def on_status(self, status):\\n    self.tweets.append(status)\\n    #print(status.user.screen_name + \":\" + status.text)\\n\\n    if len(self.status) == self.limit:\\n      self.disconnect()\\n\\nlisten = Linstener(api)\\nstream_tweet = Stream(auth, listen)\\n\\n# Stream by Keywords\\nkeywords = [\\'2022\\', \\'#python\\']\\nstream_tweet.filter(track=keywords)\\n\\n# Creat data Frame\\ncolumns= []\\ndata= []\\n\\nfor tweet in stream_tweet.tweets:\\n  data.append([tweet.user.screen_name, tweet.text])\\n\\n  df5= pd.DataFrame(data, columns=columns)\\n  print(df5)\\nstream_tweet'"
            ],
            "application/vnd.google.colaboratory.intrinsic+json": {
              "type": "string"
            }
          },
          "metadata": {},
          "execution_count": 58
        }
      ]
    },
    {
      "cell_type": "code",
      "source": [
        ""
      ],
      "metadata": {
        "id": "lnt0mgQiJzee"
      },
      "execution_count": 58,
      "outputs": []
    },
    {
      "cell_type": "code",
      "source": [
        ""
      ],
      "metadata": {
        "id": "3RCL4ZcdJ0VF"
      },
      "execution_count": 58,
      "outputs": []
    },
    {
      "cell_type": "code",
      "source": [
        ""
      ],
      "metadata": {
        "id": "Nnk6uxJnJ0A5"
      },
      "execution_count": 58,
      "outputs": []
    },
    {
      "cell_type": "markdown",
      "source": [
        "# Visualization with text processing"
      ],
      "metadata": {
        "id": "vOtG_wSxWMM-"
      }
    },
    {
      "cell_type": "code",
      "source": [
        "# Libaries for sentiment analytics (NLP)\n",
        "import matplotlib.pyplot as plt\n",
        "import re\n",
        "import spacy\n",
        "import seaborn as sns"
      ],
      "metadata": {
        "id": "UZHiQGvDUWqF"
      },
      "execution_count": 59,
      "outputs": []
    },
    {
      "cell_type": "code",
      "source": [
        "import spacy.cli\n",
        "spacy.cli.download(\"en_core_web_lg\")\n",
        "nlp = spacy.load('en_core_web_lg')"
      ],
      "metadata": {
        "colab": {
          "base_uri": "https://localhost:8080/"
        },
        "id": "24VFaRByUWWY",
        "outputId": "db43ca81-8270-47e2-b448-87c9a5f70b37"
      },
      "execution_count": 60,
      "outputs": [
        {
          "output_type": "stream",
          "name": "stdout",
          "text": [
            "\u001b[38;5;2m✔ Download and installation successful\u001b[0m\n",
            "You can now load the package via spacy.load('en_core_web_lg')\n"
          ]
        }
      ]
    },
    {
      "cell_type": "code",
      "source": [
        "# Split all the sentances and creat the list of sentence of from the tweet columns\n",
        "list_of_sentences = [sentence for sentence in df.Tweets]\n",
        "\n",
        "lines = []\n",
        "for sentence in list_of_sentences:\n",
        "  words = sentence.split()\n",
        "  for w in words:\n",
        "    lines.append(w)\n",
        "print(lines[:20])"
      ],
      "metadata": {
        "colab": {
          "base_uri": "https://localhost:8080/"
        },
        "id": "G7mEkHdpdBUT",
        "outputId": "861b00ee-1245-4467-c594-ad0b8276814a"
      },
      "execution_count": 61,
      "outputs": [
        {
          "output_type": "stream",
          "name": "stdout",
          "text": [
            "['ANALYSE', 'To', 'Mitch', 'McConnell-tacklinger', 'har', 'banet', 'vejen', 'for', \"USA's\", 'mest', 'konservative', 'højesteret', 'https://t.co/D1lLUNB3ub', 'https://t.co/ABqsZxGlNR', 'Rusland', 'har', 'fået', 'kontrol', 'over', 'strategisk']\n"
          ]
        }
      ]
    },
    {
      "cell_type": "code",
      "source": [
        "# Removing Punctuation by using Regular Expression (RegEx)\n",
        "lines = [re.sub(r'[^A-Za-z0-9]+', '', x) for x in lines]\n",
        "\n",
        "lines2= []\n",
        "\n",
        "for word in lines:\n",
        "  if word != '':\n",
        "    lines2.append(word)"
      ],
      "metadata": {
        "id": "9UIKk_SkdVMo"
      },
      "execution_count": 62,
      "outputs": []
    },
    {
      "cell_type": "code",
      "source": [
        "# Stemming the words to their root\n",
        "from nltk.stem.snowball import SnowballStemmer\n",
        "\n",
        "s_stemmer = SnowballStemmer(language='english')\n",
        "\n",
        "stem= []\n",
        "for word in lines2:\n",
        "  stem.append(s_stemmer.stem(word))"
      ],
      "metadata": {
        "id": "NjfTy11PdU5v"
      },
      "execution_count": 63,
      "outputs": []
    },
    {
      "cell_type": "code",
      "source": [
        "# Removing all the stop words\n",
        "stem2= []\n",
        "\n",
        "for word in stem:\n",
        "  if word not in nlp.Defaults.stop_words:\n",
        "    stem2.append(word)"
      ],
      "metadata": {
        "id": "R-2nVYJngyjI"
      },
      "execution_count": 64,
      "outputs": []
    },
    {
      "cell_type": "code",
      "source": [
        "df2 = pd.DataFrame(stem2)\n",
        "df2 = df2[0].value_counts()\n",
        "df2.head()"
      ],
      "metadata": {
        "colab": {
          "base_uri": "https://localhost:8080/"
        },
        "id": "gGnMycgMhkDv",
        "outputId": "f41579ff-f64c-4146-dd1d-359235af1653"
      },
      "execution_count": 65,
      "outputs": [
        {
          "output_type": "execute_result",
          "data": {
            "text/plain": [
              "er     79\n",
              "til    66\n",
              "og     65\n",
              "p      62\n",
              "det    50\n",
              "Name: 0, dtype: int64"
            ]
          },
          "metadata": {},
          "execution_count": 65
        }
      ]
    },
    {
      "cell_type": "code",
      "source": [
        "# Visualization\n",
        "df2= df2[:20,]\n",
        "plt.figure(figsize=(15,7.5))\n",
        "sns.barplot(df2.values, df2.index, alpha=1)\n",
        "plt.title('Top words Overall')\n",
        "plt.ylabel('Word from Tweet')\n",
        "plt.xlabel('Count of Words')\n",
        "plt.show()"
      ],
      "metadata": {
        "colab": {
          "base_uri": "https://localhost:8080/",
          "height": 486
        },
        "id": "KMUBCjuYiiQo",
        "outputId": "08ab48c6-b707-490c-c1d2-c0fb1939c14f"
      },
      "execution_count": 66,
      "outputs": [
        {
          "output_type": "display_data",
          "data": {
            "text/plain": [
              "<Figure size 1080x540 with 1 Axes>"
            ],
            "image/png": "[encoded data removed]"
          },
          "metadata": {
            "needs_background": "light"
          }
        }
      ]
    },
    {
      "cell_type": "code",
      "source": [
        "# Visualization for mentions organizations\n",
        "def show_ents(doc):\n",
        "  if doc.ents:\n",
        "    for ent in doc.ents:\n",
        "      print(ent.text + ' - ' + ent.label_ + ' - ' + str(spacy.explain(ent.label_)))"
      ],
      "metadata": {
        "id": "5T-MBw-SkgaJ"
      },
      "execution_count": 67,
      "outputs": []
    },
    {
      "cell_type": "code",
      "source": [
        "str1 = \" \"\n",
        "stem2 = str1.join(lines2)\n",
        "stem2 = nlp(stem2)\n",
        "label = [(X.text, X.label_) for X in stem2.ents]\n",
        "df6 = pd.DataFrame(label, columns = ['Word', 'Entity'])\n",
        "df7 = df6.where(df6['Entity'] == 'ORG')\n",
        "df7 = df7['Word'].value_counts()"
      ],
      "metadata": {
        "id": "C41kIggul6t7"
      },
      "execution_count": 68,
      "outputs": []
    },
    {
      "cell_type": "code",
      "source": [
        "# Visualization again\n",
        "dfx= df7[:20, ]\n",
        "plt.figure(figsize=(15,7.5))\n",
        "sns.barplot(dfx.values, dfx.index, alpha=1)\n",
        "plt.title('Top Organization mentioned')\n",
        "plt.ylabel('Word from Tweet', fontsize=12)\n",
        "plt.xlabel('Count of Words', fontsize=12)\n",
        "plt.show()"
      ],
      "metadata": {
        "colab": {
          "base_uri": "https://localhost:8080/",
          "height": 489
        },
        "id": "H5oU49BPnQjR",
        "outputId": "c42d1ca3-5fcb-431b-a1de-0247f208a867"
      },
      "execution_count": 69,
      "outputs": [
        {
          "output_type": "display_data",
          "data": {
            "text/plain": [
              "<Figure size 1080x540 with 1 Axes>"
            ],
            "image/png": "[encoded data removed]"
          },
          "metadata": {
            "needs_background": "light"
          }
        }
      ]
    },
    {
      "cell_type": "code",
      "source": [
        "str1 = \" \"\n",
        "stem2 = str1.join(lines2)\n",
        "stem2 = nlp(stem2)\n",
        "label = [(X.text, X.label_) for X in stem2.ents]\n",
        "df6 = pd.DataFrame(label, columns = ['Word', 'Entity'])\n",
        "df7 = df6.where(df6['Entity'] == 'PERSON')\n",
        "df7 = df7['Word'].value_counts()"
      ],
      "metadata": {
        "id": "2pPZsmzhl7i6"
      },
      "execution_count": 70,
      "outputs": []
    },
    {
      "cell_type": "code",
      "source": [
        "# Visualization again\n",
        "dfx= df7[:20, ]\n",
        "plt.figure(figsize=(15,7.5))\n",
        "sns.barplot(dfx.values, dfx.index, alpha=1)\n",
        "plt.title('Top People Mentioned')\n",
        "plt.ylabel('Word from Tweet', fontsize=12)\n",
        "plt.xlabel('Count of Words', fontsize=12)\n",
        "plt.show()"
      ],
      "metadata": {
        "id": "EP_VKVk_09UA",
        "colab": {
          "base_uri": "https://localhost:8080/",
          "height": 489
        },
        "outputId": "8ae93d36-b24c-4daf-bada-88c881f89858"
      },
      "execution_count": 71,
      "outputs": [
        {
          "output_type": "display_data",
          "data": {
            "text/plain": [
              "<Figure size 1080x540 with 1 Axes>"
            ],
            "image/png": "[encoded data removed]"
          },
          "metadata": {
            "needs_background": "light"
          }
        }
      ]
    }
  ],
  "metadata": {
    "colab": {
      "name": "TwiteerDataAnalytics.ipynb",
      "provenance": [],
      "collapsed_sections": [],
      "mount_file_id": "1QcHp2JfNJiln7VgNSMmi2mx2MzNKBNQw",
      "authorship_tag": "ABX9TyO37j3g2rfipRyE6+VwvaxP",
      "include_colab_link": true
    },
    "kernelspec": {
      "display_name": "Python 3",
      "name": "python3"
    },
    "language_info": {
      "name": "python"
    }
  },
  "nbformat": 4,
  "nbformat_minor": 0
}