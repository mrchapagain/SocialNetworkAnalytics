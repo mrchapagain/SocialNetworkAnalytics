{
  "nbformat": 4,
  "nbformat_minor": 0,
  "metadata": {
    "colab": {
      "name": "TwiteerDataAnalytics.ipynb",
      "provenance": [],
      "authorship_tag": "ABX9TyNK9Blv94lIf4iBsHTxtQuY",
      "include_colab_link": true
    },
    "kernelspec": {
      "name": "python3",
      "display_name": "Python 3"
    },
    "language_info": {
      "name": "python"
    }
  },
  "cells": [
    {
      "cell_type": "markdown",
      "metadata": {
        "id": "view-in-github",
        "colab_type": "text"
      },
      "source": [
        "<a href=\"https://colab.research.google.com/github/mrchapagain/SocialNetworkAnalytics/blob/main/TwiteerDataAnalytics.ipynb\" target=\"_parent\"><img src=\"https://colab.research.google.com/assets/colab-badge.svg\" alt=\"Open In Colab\"/></a>"
      ]
    },
    {
      "cell_type": "markdown",
      "source": [
        "#Tweeter Data Analytics\n",
        "***Twiteer APIs:***\n",
        "*   *Search API*\n",
        "*   *Ads API*\n",
        "*   *Streaming API*"
      ],
      "metadata": {
        "id": "2W-IUZlRhr9E"
      }
    },
    {
      "cell_type": "markdown",
      "source": [
        "***Class object for handling data***"
      ],
      "metadata": {
        "id": "BuNCKztSrBe-"
      }
    },
    {
      "cell_type": "code",
      "source": [
        "from tweepy.streaming import StreamListener\n",
        "import json\n",
        "import time\n",
        "import sys\n",
        "\n",
        "class SListener(StreamListener):\n",
        "    def __init__(self, api = None, fprefix = 'streamer'):\n",
        "        self.api = api or API()\n",
        "        self.counter = 0\n",
        "        self.fprefix = fprefix\n",
        "        self.output  = open('%s_%s.json' % (self.fprefix, time.strftime('%Y%m%d-%H%M%S')), 'w')"
      ],
      "metadata": {
        "id": "L3llXmR5rAA7"
      },
      "execution_count": null,
      "outputs": []
    },
    {
      "cell_type": "markdown",
      "source": [
        "***Libaries***"
      ],
      "metadata": {
        "id": "hGL6drIymfRB"
      }
    },
    {
      "cell_type": "code",
      "execution_count": null,
      "metadata": {
        "id": "Z4NuB4QGb9j1"
      },
      "outputs": [],
      "source": [
        "# Necessary libaries\n",
        "from tweepy import OAuthHandler\n",
        "from tweepy import API"
      ]
    },
    {
      "cell_type": "markdown",
      "source": [
        "***Necessary information form tweet account***\n",
        "*   access_token\n",
        "*   access_token_secret\n",
        "*   consumer_key\n",
        "*   consumer_secret"
      ],
      "metadata": {
        "id": "JlaIa0FYiacs"
      }
    },
    {
      "cell_type": "markdown",
      "source": [
        "***Tweepy authentication***"
      ],
      "metadata": {
        "id": "EjSxuyyWmY-K"
      }
    },
    {
      "cell_type": "code",
      "source": [
        "\n",
        "\n",
        "# Consumer key authentication\n",
        "auth = OAuthHandler(consumer_key, consumer_secret)\n",
        "\n",
        "# Access key authentication\n",
        "auth.set_access_token(access_token, access_token_secret)\n",
        "\n",
        "# Set up the API with the authentication handler\n",
        "api = API(auth)\n",
        "api"
      ],
      "metadata": {
        "id": "mZEG9JRKh186"
      },
      "execution_count": null,
      "outputs": []
    },
    {
      "cell_type": "markdown",
      "source": [
        "***Collecting data with tweepy***"
      ],
      "metadata": {
        "id": "MLgw3KZWnHbS"
      }
    },
    {
      "cell_type": "code",
      "source": [
        "from tweepy import Stream\n",
        "\n",
        "# Set up words to track\n",
        "keywords_to_track = [\"#rstats\", \"#python\"]\n",
        "\n",
        "# Instantiate the SListener object \n",
        "listen = SListener(api)\n",
        "\n",
        "# Instantiate the Stream object\n",
        "stream = Stream(auth, listen)\n",
        "\n",
        "# Begein collecting data\n",
        "tweet_streem= stream.filter(track = keywords_to_track)\n",
        "type(stream)"
      ],
      "metadata": {
        "colab": {
          "base_uri": "https://localhost:8080/"
        },
        "id": "mmBXVl5Kh1uK",
        "outputId": "0115d3ee-9479-462d-a722-4b6a79f4635a"
      },
      "execution_count": null,
      "outputs": [
        {
          "metadata": {
            "tags": null
          },
          "name": "stdout",
          "output_type": "stream",
          "text": [
            "Encountered error with status code: 403\n",
            "Encountered error with status code: 403\n",
            "Encountered error with status code: 403\n",
            "Encountered error with status code: 403\n",
            "Encountered error with status code: 403\n",
            "Encountered error with status code: 403\n",
            "Encountered error with status code: 403\n",
            "Encountered error with status code: 403\n",
            "Encountered error with status code: 403\n",
            "Encountered error with status code: 403\n"
          ]
        }
      ]
    },
    {
      "cell_type": "markdown",
      "source": [
        "***Contents of Twitter JSON***\n",
        "*   How many retweets,favorites\n",
        "*   Language\n",
        "*   Reply to which tweet\n",
        "*   Reply to which user"
      ],
      "metadata": {
        "id": "zBEM8R0RswFi"
      }
    },
    {
      "cell_type": "markdown",
      "source": [
        "***Loading and accessing tweets***"
      ],
      "metadata": {
        "id": "VuuzAEtEt3LE"
      }
    },
    {
      "cell_type": "code",
      "source": [
        "# Load JSON\n",
        "import json\n",
        "tweet_json = open(tweet_streem, 'r').read()\n",
        "# Convert from JSON to Python object\n",
        "tweet = json.loads(tweet_json)\n",
        "\n",
        "# Print tweet text\n",
        "print(tweet[\"text\"])\n",
        "\n",
        "# Print tweet id\n",
        "print(tweet[\"id\"])\n",
        "tweet_json = open('tweet-example.json', 'r').read()\n"
      ],
      "metadata": {
        "colab": {
          "base_uri": "https://localhost:8080/",
          "height": 356
        },
        "id": "JR7ep2u0h1TC",
        "outputId": "f65b662d-9762-4026-c4e5-e0e485f09a13"
      },
      "execution_count": null,
      "outputs": [
        {
          "output_type": "error",
          "ename": "TypeError",
          "evalue": "ignored",
          "traceback": [
            "\u001b[0;31m---------------------------------------------------------------------------\u001b[0m",
            "\u001b[0;31mTypeError\u001b[0m                                 Traceback (most recent call last)",
            "\u001b[0;32m<ipython-input-16-f871fdc3f0c9>\u001b[0m in \u001b[0;36m<module>\u001b[0;34m()\u001b[0m\n\u001b[1;32m      3\u001b[0m \u001b[0;34m\u001b[0m\u001b[0m\n\u001b[1;32m      4\u001b[0m \u001b[0;31m# Convert from JSON to Python object\u001b[0m\u001b[0;34m\u001b[0m\u001b[0;34m\u001b[0m\u001b[0;34m\u001b[0m\u001b[0m\n\u001b[0;32m----> 5\u001b[0;31m \u001b[0mtweet\u001b[0m \u001b[0;34m=\u001b[0m \u001b[0mjson\u001b[0m\u001b[0;34m.\u001b[0m\u001b[0mloads\u001b[0m\u001b[0;34m(\u001b[0m\u001b[0mtweet_json\u001b[0m\u001b[0;34m)\u001b[0m\u001b[0;34m\u001b[0m\u001b[0;34m\u001b[0m\u001b[0m\n\u001b[0m\u001b[1;32m      6\u001b[0m \u001b[0;34m\u001b[0m\u001b[0m\n\u001b[1;32m      7\u001b[0m \u001b[0;31m# Print tweet text\u001b[0m\u001b[0;34m\u001b[0m\u001b[0;34m\u001b[0m\u001b[0;34m\u001b[0m\u001b[0m\n",
            "\u001b[0;32m/usr/lib/python3.7/json/__init__.py\u001b[0m in \u001b[0;36mloads\u001b[0;34m(s, encoding, cls, object_hook, parse_float, parse_int, parse_constant, object_pairs_hook, **kw)\u001b[0m\n\u001b[1;32m    339\u001b[0m     \u001b[0;32melse\u001b[0m\u001b[0;34m:\u001b[0m\u001b[0;34m\u001b[0m\u001b[0;34m\u001b[0m\u001b[0m\n\u001b[1;32m    340\u001b[0m         \u001b[0;32mif\u001b[0m \u001b[0;32mnot\u001b[0m \u001b[0misinstance\u001b[0m\u001b[0;34m(\u001b[0m\u001b[0ms\u001b[0m\u001b[0;34m,\u001b[0m \u001b[0;34m(\u001b[0m\u001b[0mbytes\u001b[0m\u001b[0;34m,\u001b[0m \u001b[0mbytearray\u001b[0m\u001b[0;34m)\u001b[0m\u001b[0;34m)\u001b[0m\u001b[0;34m:\u001b[0m\u001b[0;34m\u001b[0m\u001b[0;34m\u001b[0m\u001b[0m\n\u001b[0;32m--> 341\u001b[0;31m             raise TypeError(f'the JSON object must be str, bytes or bytearray, '\n\u001b[0m\u001b[1;32m    342\u001b[0m                             f'not {s.__class__.__name__}')\n\u001b[1;32m    343\u001b[0m         \u001b[0ms\u001b[0m \u001b[0;34m=\u001b[0m \u001b[0ms\u001b[0m\u001b[0;34m.\u001b[0m\u001b[0mdecode\u001b[0m\u001b[0;34m(\u001b[0m\u001b[0mdetect_encoding\u001b[0m\u001b[0;34m(\u001b[0m\u001b[0ms\u001b[0m\u001b[0;34m)\u001b[0m\u001b[0;34m,\u001b[0m \u001b[0;34m'surrogatepass'\u001b[0m\u001b[0;34m)\u001b[0m\u001b[0;34m\u001b[0m\u001b[0;34m\u001b[0m\u001b[0m\n",
            "\u001b[0;31mTypeError\u001b[0m: the JSON object must be str, bytes or bytearray, not NoneType"
          ]
        }
      ]
    },
    {
      "cell_type": "code",
      "source": [
        ""
      ],
      "metadata": {
        "id": "mRTVrZn_t5gS"
      },
      "execution_count": null,
      "outputs": []
    },
    {
      "cell_type": "code",
      "source": [
        ""
      ],
      "metadata": {
        "id": "XMAhL4jMt6gh"
      },
      "execution_count": null,
      "outputs": []
    },
    {
      "cell_type": "code",
      "source": [
        ""
      ],
      "metadata": {
        "id": "siab5cjJt6Bx"
      },
      "execution_count": null,
      "outputs": []
    }
  ]
}