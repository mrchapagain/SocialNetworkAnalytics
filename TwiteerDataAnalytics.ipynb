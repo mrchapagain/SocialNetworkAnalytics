{
  "cells": [
    {
      "cell_type": "markdown",
      "metadata": {
        "id": "view-in-github",
        "colab_type": "text"
      },
      "source": [
        "<a href=\"https://colab.research.google.com/github/mrchapagain/SocialNetworkAnalytics/blob/main/TwiteerDataAnalytics.ipynb\" target=\"_parent\"><img src=\"https://colab.research.google.com/assets/colab-badge.svg\" alt=\"Open In Colab\"/></a>"
      ]
    },
    {
      "cell_type": "markdown",
      "metadata": {
        "id": "2W-IUZlRhr9E"
      },
      "source": [
        "#Tweeter Data Analytics\n",
        "\n",
        "***Here I will cover:***\n",
        "1. *Tweet Streeming*\n",
        "2. *Tweets from twetter user*\n",
        "2. *Tweets # search by keywords*"
      ]
    },
    {
      "cell_type": "markdown",
      "metadata": {
        "id": "hGL6drIymfRB"
      },
      "source": [
        "***Libaries***"
      ]
    },
    {
      "cell_type": "code",
      "execution_count": 148,
      "metadata": {
        "id": "Z4NuB4QGb9j1"
      },
      "outputs": [],
      "source": [
        "# Necessary libaries\n",
        "from tweepy import OAuthHandler\n",
        "from tweepy import API\n",
        "import tweepy\n",
        "import pandas as pd\n",
        "import warnings\n",
        "warnings.filterwarnings(\"ignore\")"
      ]
    },
    {
      "cell_type": "markdown",
      "metadata": {
        "id": "EjSxuyyWmY-K"
      },
      "source": [
        "***Tweepy authentication***"
      ]
    },
    {
      "cell_type": "code",
      "execution_count": 149,
      "metadata": {
        "id": "mZEG9JRKh186",
        "colab": {
          "base_uri": "https://localhost:8080/",
          "height": 35
        },
        "outputId": "d96b0c38-0bd7-4e1a-c5d1-34de70a7a466"
      },
      "outputs": [
        {
          "output_type": "execute_result",
          "data": {
            "text/plain": [
              "'mrchapagain'"
            ],
            "application/vnd.google.colaboratory.intrinsic+json": {
              "type": "string"
            }
          },
          "metadata": {},
          "execution_count": 149
        }
      ],
      "source": [
        "#read configs, #import configparser, #config= configparser.ConfigParser(), #config.read('/content/sample_data/config.ipynb')\n",
        "#Necessary information form tweet account\n",
        "\n",
        "\n",
        "\n",
        "auth = OAuthHandler(consumer_key, consumer_secret) # Consumer key authentication\n",
        "auth.set_access_token(access_token, access_token_secret) # Access key authentication\n",
        "api = API(auth)  # Set up the API with the authentication handler\n",
        "api.me().screen_name  # just check if it is working"
      ]
    },
    {
      "cell_type": "markdown",
      "source": [
        "#1.   Tweets streeming"
      ],
      "metadata": {
        "id": "fz_kh3OeEFf8"
      }
    },
    {
      "cell_type": "markdown",
      "source": [
        "***Function for scraping and updating data***"
      ],
      "metadata": {
        "id": "DlhzV8_vdSp-"
      }
    },
    {
      "cell_type": "code",
      "source": [
        "# Function to extact data from twetter user\n",
        "def extract_timeline_as_df(timeline_list):\n",
        "  columns = set()\n",
        "  allowed_types = [str, int]\n",
        "  tweets_data= []\n",
        "\n",
        "  for status in timeline_list:\n",
        "    status_dict= dict(vars(status))\n",
        "    keys= status_dict.keys()\n",
        "\n",
        "    single_tweet_data = {'user': status.user.screen_name, 'author': status.author.screen_name}\n",
        "    \n",
        "    for k in keys:\n",
        "      try:\n",
        "        v_type= type(status_dict[k])\n",
        "      except:\n",
        "        v_type = None\n",
        "      \n",
        "      if v_type != None:\n",
        "        if v_type in allowed_types:\n",
        "          single_tweet_data[k] = status_dict[k]\n",
        "          columns.add(k) # these are the variable that can extracted data from\n",
        "\n",
        "    tweets_data.append(single_tweet_data)\n",
        "\n",
        "  header_cols= list(columns)\n",
        "  header_cols.append('user')\n",
        "  header_cols.append('author')\n",
        "  df= pd.DataFrame(tweets_data, columns= header_cols)\n",
        "  return df"
      ],
      "metadata": {
        "id": "ri-gU34lnFz1"
      },
      "execution_count": 150,
      "outputs": []
    },
    {
      "cell_type": "markdown",
      "source": [
        "***Getting actul data with the function difined earlier***"
      ],
      "metadata": {
        "id": "lyNlYtKK2BfA"
      }
    },
    {
      "cell_type": "code",
      "source": [
        "my_timeline= api.home_timeline()\n",
        "df2= extract_timeline_as_df(my_timeline)\n",
        "df2.head()"
      ],
      "metadata": {
        "colab": {
          "base_uri": "https://localhost:8080/",
          "height": 302
        },
        "id": "AplQVraLu-GK",
        "outputId": "813ecc08-a9f1-42f5-ec7d-7954375019e2"
      },
      "execution_count": 151,
      "outputs": [
        {
          "output_type": "execute_result",
          "data": {
            "text/plain": [
              "   retweet_count  quoted_status_id  favorite_count               source  \\\n",
              "0              0      1.543033e+18               1  Twitter for Android   \n",
              "1              0               NaN               1              EUwatch   \n",
              "2              1               NaN               0              EUwatch   \n",
              "3              1               NaN               0              EUwatch   \n",
              "4              2               NaN               0              EUwatch   \n",
              "\n",
              "                            source_url  \\\n",
              "0  http://twitter.com/download/android   \n",
              "1             https://www.euwatch.live   \n",
              "2             https://www.euwatch.live   \n",
              "3             https://www.euwatch.live   \n",
              "4             https://www.euwatch.live   \n",
              "\n",
              "                                                text                   id  \\\n",
              "0  फाेहाेर बटुलबाटुल पार्टी! https://t.co/BsS0Us8uoS  1543034959338024960   \n",
              "1  Russia’s Ship of Lies: How a cargo of ‘stolen’...  1543034264136007680   \n",
              "2  RT @AmplifyUkraine: – Держспецзв’язку\\nhttps:/...  1543032462380515334   \n",
              "3  RT @AmplifyUkraine: 😢 In Egypt, a shark attack...  1543032208981729280   \n",
              "4  RT @AmplifyUkraine: \"In the Odesa region, the ...  1543031955666739201   \n",
              "\n",
              "  quoted_status_id_str               id_str lang        user      author  \n",
              "0  1543033337295806464  1543034959338024960   ne  belakoboli  belakoboli  \n",
              "1                  NaN  1543034264136007680   en  EUwatchers  EUwatchers  \n",
              "2                  NaN  1543032462380515334   uk  EUwatchers  EUwatchers  \n",
              "3                  NaN  1543032208981729280  und  EUwatchers  EUwatchers  \n",
              "4                  NaN  1543031955666739201  und  EUwatchers  EUwatchers  "
            ],
            "text/html": [
              "\n",
              "  <div id=\"df-6000b833-d953-4a3d-8a95-070c7c578d22\">\n",
              "    <div class=\"colab-df-container\">\n",
              "      <div>\n",
              "<style scoped>\n",
              "    .dataframe tbody tr th:only-of-type {\n",
              "        vertical-align: middle;\n",
              "    }\n",
              "\n",
              "    .dataframe tbody tr th {\n",
              "        vertical-align: top;\n",
              "    }\n",
              "\n",
              "    .dataframe thead th {\n",
              "        text-align: right;\n",
              "    }\n",
              "</style>\n",
              "<table border=\"1\" class=\"dataframe\">\n",
              "  <thead>\n",
              "    <tr style=\"text-align: right;\">\n",
              "      <th></th>\n",
              "      <th>retweet_count</th>\n",
              "      <th>quoted_status_id</th>\n",
              "      <th>favorite_count</th>\n",
              "      <th>source</th>\n",
              "      <th>source_url</th>\n",
              "      <th>text</th>\n",
              "      <th>id</th>\n",
              "      <th>quoted_status_id_str</th>\n",
              "      <th>id_str</th>\n",
              "      <th>lang</th>\n",
              "      <th>user</th>\n",
              "      <th>author</th>\n",
              "    </tr>\n",
              "  </thead>\n",
              "  <tbody>\n",
              "    <tr>\n",
              "      <th>0</th>\n",
              "      <td>0</td>\n",
              "      <td>1.543033e+18</td>\n",
              "      <td>1</td>\n",
              "      <td>Twitter for Android</td>\n",
              "      <td>http://twitter.com/download/android</td>\n",
              "      <td>फाेहाेर बटुलबाटुल पार्टी! https://t.co/BsS0Us8uoS</td>\n",
              "      <td>1543034959338024960</td>\n",
              "      <td>1543033337295806464</td>\n",
              "      <td>1543034959338024960</td>\n",
              "      <td>ne</td>\n",
              "      <td>belakoboli</td>\n",
              "      <td>belakoboli</td>\n",
              "    </tr>\n",
              "    <tr>\n",
              "      <th>1</th>\n",
              "      <td>0</td>\n",
              "      <td>NaN</td>\n",
              "      <td>1</td>\n",
              "      <td>EUwatch</td>\n",
              "      <td>https://www.euwatch.live</td>\n",
              "      <td>Russia’s Ship of Lies: How a cargo of ‘stolen’...</td>\n",
              "      <td>1543034264136007680</td>\n",
              "      <td>NaN</td>\n",
              "      <td>1543034264136007680</td>\n",
              "      <td>en</td>\n",
              "      <td>EUwatchers</td>\n",
              "      <td>EUwatchers</td>\n",
              "    </tr>\n",
              "    <tr>\n",
              "      <th>2</th>\n",
              "      <td>1</td>\n",
              "      <td>NaN</td>\n",
              "      <td>0</td>\n",
              "      <td>EUwatch</td>\n",
              "      <td>https://www.euwatch.live</td>\n",
              "      <td>RT @AmplifyUkraine: – Держспецзв’язку\\nhttps:/...</td>\n",
              "      <td>1543032462380515334</td>\n",
              "      <td>NaN</td>\n",
              "      <td>1543032462380515334</td>\n",
              "      <td>uk</td>\n",
              "      <td>EUwatchers</td>\n",
              "      <td>EUwatchers</td>\n",
              "    </tr>\n",
              "    <tr>\n",
              "      <th>3</th>\n",
              "      <td>1</td>\n",
              "      <td>NaN</td>\n",
              "      <td>0</td>\n",
              "      <td>EUwatch</td>\n",
              "      <td>https://www.euwatch.live</td>\n",
              "      <td>RT @AmplifyUkraine: 😢 In Egypt, a shark attack...</td>\n",
              "      <td>1543032208981729280</td>\n",
              "      <td>NaN</td>\n",
              "      <td>1543032208981729280</td>\n",
              "      <td>und</td>\n",
              "      <td>EUwatchers</td>\n",
              "      <td>EUwatchers</td>\n",
              "    </tr>\n",
              "    <tr>\n",
              "      <th>4</th>\n",
              "      <td>2</td>\n",
              "      <td>NaN</td>\n",
              "      <td>0</td>\n",
              "      <td>EUwatch</td>\n",
              "      <td>https://www.euwatch.live</td>\n",
              "      <td>RT @AmplifyUkraine: \"In the Odesa region, the ...</td>\n",
              "      <td>1543031955666739201</td>\n",
              "      <td>NaN</td>\n",
              "      <td>1543031955666739201</td>\n",
              "      <td>und</td>\n",
              "      <td>EUwatchers</td>\n",
              "      <td>EUwatchers</td>\n",
              "    </tr>\n",
              "  </tbody>\n",
              "</table>\n",
              "</div>\n",
              "      <button class=\"colab-df-convert\" onclick=\"convertToInteractive('df-6000b833-d953-4a3d-8a95-070c7c578d22')\"\n",
              "              title=\"Convert this dataframe to an interactive table.\"\n",
              "              style=\"display:none;\">\n",
              "        \n",
              "  <svg xmlns=\"http://www.w3.org/2000/svg\" height=\"24px\"viewBox=\"0 0 24 24\"\n",
              "       width=\"24px\">\n",
              "    <path d=\"M0 0h24v24H0V0z\" fill=\"none\"/>\n",
              "    <path d=\"M18.56 5.44l.94 2.06.94-2.06 2.06-.94-2.06-.94-.94-2.06-.94 2.06-2.06.94zm-11 1L8.5 8.5l.94-2.06 2.06-.94-2.06-.94L8.5 2.5l-.94 2.06-2.06.94zm10 10l.94 2.06.94-2.06 2.06-.94-2.06-.94-.94-2.06-.94 2.06-2.06.94z\"/><path d=\"M17.41 7.96l-1.37-1.37c-.4-.4-.92-.59-1.43-.59-.52 0-1.04.2-1.43.59L10.3 9.45l-7.72 7.72c-.78.78-.78 2.05 0 2.83L4 21.41c.39.39.9.59 1.41.59.51 0 1.02-.2 1.41-.59l7.78-7.78 2.81-2.81c.8-.78.8-2.07 0-2.86zM5.41 20L4 18.59l7.72-7.72 1.47 1.35L5.41 20z\"/>\n",
              "  </svg>\n",
              "      </button>\n",
              "      \n",
              "  <style>\n",
              "    .colab-df-container {\n",
              "      display:flex;\n",
              "      flex-wrap:wrap;\n",
              "      gap: 12px;\n",
              "    }\n",
              "\n",
              "    .colab-df-convert {\n",
              "      background-color: #E8F0FE;\n",
              "      border: none;\n",
              "      border-radius: 50%;\n",
              "      cursor: pointer;\n",
              "      display: none;\n",
              "      fill: #1967D2;\n",
              "      height: 32px;\n",
              "      padding: 0 0 0 0;\n",
              "      width: 32px;\n",
              "    }\n",
              "\n",
              "    .colab-df-convert:hover {\n",
              "      background-color: #E2EBFA;\n",
              "      box-shadow: 0px 1px 2px rgba(60, 64, 67, 0.3), 0px 1px 3px 1px rgba(60, 64, 67, 0.15);\n",
              "      fill: #174EA6;\n",
              "    }\n",
              "\n",
              "    [theme=dark] .colab-df-convert {\n",
              "      background-color: #3B4455;\n",
              "      fill: #D2E3FC;\n",
              "    }\n",
              "\n",
              "    [theme=dark] .colab-df-convert:hover {\n",
              "      background-color: #434B5C;\n",
              "      box-shadow: 0px 1px 3px 1px rgba(0, 0, 0, 0.15);\n",
              "      filter: drop-shadow(0px 1px 2px rgba(0, 0, 0, 0.3));\n",
              "      fill: #FFFFFF;\n",
              "    }\n",
              "  </style>\n",
              "\n",
              "      <script>\n",
              "        const buttonEl =\n",
              "          document.querySelector('#df-6000b833-d953-4a3d-8a95-070c7c578d22 button.colab-df-convert');\n",
              "        buttonEl.style.display =\n",
              "          google.colab.kernel.accessAllowed ? 'block' : 'none';\n",
              "\n",
              "        async function convertToInteractive(key) {\n",
              "          const element = document.querySelector('#df-6000b833-d953-4a3d-8a95-070c7c578d22');\n",
              "          const dataTable =\n",
              "            await google.colab.kernel.invokeFunction('convertToInteractive',\n",
              "                                                     [key], {});\n",
              "          if (!dataTable) return;\n",
              "\n",
              "          const docLinkHtml = 'Like what you see? Visit the ' +\n",
              "            '<a target=\"_blank\" href=https://colab.research.google.com/notebooks/data_table.ipynb>data table notebook</a>'\n",
              "            + ' to learn more about interactive tables.';\n",
              "          element.innerHTML = '';\n",
              "          dataTable['output_type'] = 'display_data';\n",
              "          await google.colab.output.renderOutput(dataTable, element);\n",
              "          const docLink = document.createElement('div');\n",
              "          docLink.innerHTML = docLinkHtml;\n",
              "          element.appendChild(docLink);\n",
              "        }\n",
              "      </script>\n",
              "    </div>\n",
              "  </div>\n",
              "  "
            ]
          },
          "metadata": {},
          "execution_count": 151
        }
      ]
    },
    {
      "cell_type": "markdown",
      "source": [
        "#2. Tweets from user"
      ],
      "metadata": {
        "id": "p5uKbDXCEPze"
      }
    },
    {
      "cell_type": "markdown",
      "source": [
        "***Creating variable to navigate twetter***"
      ],
      "metadata": {
        "id": "olGGEt122Khd"
      }
    },
    {
      "cell_type": "code",
      "source": [
        "# Obtaining tweet from specific user account\n",
        "def tweets_by_user(user):\n",
        "  limit=300\n",
        "\n",
        "  tweets_obj= tweepy.Cursor(api.user_timeline, screen_name=user, count=200, tweet_mode=\"extended\").items(limit)\n",
        "  \n",
        "  # Create Data Frame\n",
        "  columns= ['Tweets', 'Likes', 'Time', 'User']\n",
        "  tweets = []\n",
        "  for i in tweets_obj:\n",
        "    tweets.append([i.full_text, i.favorite_count, i.created_at, i.user.screen_name])\n",
        "\n",
        "  df= pd.DataFrame(tweets, columns=columns)\n",
        "  return df\n",
        "  "
      ],
      "metadata": {
        "id": "L437rxd3eY03"
      },
      "execution_count": 152,
      "outputs": []
    },
    {
      "cell_type": "code",
      "source": [
        "df=tweets_by_user(\"DRNyheder\")\n",
        "df"
      ],
      "metadata": {
        "colab": {
          "base_uri": "https://localhost:8080/",
          "height": 424
        },
        "id": "6FT9nT3xIrr0",
        "outputId": "e649a5e8-8c3d-4977-ded9-901d4a24ed1b"
      },
      "execution_count": 153,
      "outputs": [
        {
          "output_type": "execute_result",
          "data": {
            "text/plain": [
              "                                                Tweets  Likes  \\\n",
              "0    Ny frist for forhandlinger mellem SAS og pilot...      3   \n",
              "1    Pandemi-tømmermænd gjorde første halvår på akt...      4   \n",
              "2    ANALYSE Nu venter alle på De Radikale https://...      3   \n",
              "3    Seneste nyt fra Ukraine: Brite og marokkaner a...      4   \n",
              "4    Radikalt bagland presser partitop: Advokater s...     53   \n",
              "..                                                 ...    ...   \n",
              "295  Ingen grund til coronaalarm, selv om kontaktta...      1   \n",
              "296  To kvinder lægger sag an mod Mærsk for at vend...     22   \n",
              "297  Overfaldsvideo går viralt i Kina: 'Mænd føler,...      1   \n",
              "298  Venstre: Kontanthjælpsaftale er løftebrud http...      4   \n",
              "299  Få overblikket: Det betyder den nye kontanthjæ...      2   \n",
              "\n",
              "                   Time       User  \n",
              "0   2022-07-01 23:42:03  DRNyheder  \n",
              "1   2022-07-01 20:26:06  DRNyheder  \n",
              "2   2022-07-01 18:56:06  DRNyheder  \n",
              "3   2022-07-01 17:54:04  DRNyheder  \n",
              "4   2022-07-01 16:34:06  DRNyheder  \n",
              "..                  ...        ...  \n",
              "295 2022-06-14 18:42:33  DRNyheder  \n",
              "296 2022-06-14 16:19:34  DRNyheder  \n",
              "297 2022-06-14 16:15:36  DRNyheder  \n",
              "298 2022-06-14 16:15:34  DRNyheder  \n",
              "299 2022-06-14 12:13:03  DRNyheder  \n",
              "\n",
              "[300 rows x 4 columns]"
            ],
            "text/html": [
              "\n",
              "  <div id=\"df-218b2b43-9b6f-4053-86b7-915a406cef06\">\n",
              "    <div class=\"colab-df-container\">\n",
              "      <div>\n",
              "<style scoped>\n",
              "    .dataframe tbody tr th:only-of-type {\n",
              "        vertical-align: middle;\n",
              "    }\n",
              "\n",
              "    .dataframe tbody tr th {\n",
              "        vertical-align: top;\n",
              "    }\n",
              "\n",
              "    .dataframe thead th {\n",
              "        text-align: right;\n",
              "    }\n",
              "</style>\n",
              "<table border=\"1\" class=\"dataframe\">\n",
              "  <thead>\n",
              "    <tr style=\"text-align: right;\">\n",
              "      <th></th>\n",
              "      <th>Tweets</th>\n",
              "      <th>Likes</th>\n",
              "      <th>Time</th>\n",
              "      <th>User</th>\n",
              "    </tr>\n",
              "  </thead>\n",
              "  <tbody>\n",
              "    <tr>\n",
              "      <th>0</th>\n",
              "      <td>Ny frist for forhandlinger mellem SAS og pilot...</td>\n",
              "      <td>3</td>\n",
              "      <td>2022-07-01 23:42:03</td>\n",
              "      <td>DRNyheder</td>\n",
              "    </tr>\n",
              "    <tr>\n",
              "      <th>1</th>\n",
              "      <td>Pandemi-tømmermænd gjorde første halvår på akt...</td>\n",
              "      <td>4</td>\n",
              "      <td>2022-07-01 20:26:06</td>\n",
              "      <td>DRNyheder</td>\n",
              "    </tr>\n",
              "    <tr>\n",
              "      <th>2</th>\n",
              "      <td>ANALYSE Nu venter alle på De Radikale https://...</td>\n",
              "      <td>3</td>\n",
              "      <td>2022-07-01 18:56:06</td>\n",
              "      <td>DRNyheder</td>\n",
              "    </tr>\n",
              "    <tr>\n",
              "      <th>3</th>\n",
              "      <td>Seneste nyt fra Ukraine: Brite og marokkaner a...</td>\n",
              "      <td>4</td>\n",
              "      <td>2022-07-01 17:54:04</td>\n",
              "      <td>DRNyheder</td>\n",
              "    </tr>\n",
              "    <tr>\n",
              "      <th>4</th>\n",
              "      <td>Radikalt bagland presser partitop: Advokater s...</td>\n",
              "      <td>53</td>\n",
              "      <td>2022-07-01 16:34:06</td>\n",
              "      <td>DRNyheder</td>\n",
              "    </tr>\n",
              "    <tr>\n",
              "      <th>...</th>\n",
              "      <td>...</td>\n",
              "      <td>...</td>\n",
              "      <td>...</td>\n",
              "      <td>...</td>\n",
              "    </tr>\n",
              "    <tr>\n",
              "      <th>295</th>\n",
              "      <td>Ingen grund til coronaalarm, selv om kontaktta...</td>\n",
              "      <td>1</td>\n",
              "      <td>2022-06-14 18:42:33</td>\n",
              "      <td>DRNyheder</td>\n",
              "    </tr>\n",
              "    <tr>\n",
              "      <th>296</th>\n",
              "      <td>To kvinder lægger sag an mod Mærsk for at vend...</td>\n",
              "      <td>22</td>\n",
              "      <td>2022-06-14 16:19:34</td>\n",
              "      <td>DRNyheder</td>\n",
              "    </tr>\n",
              "    <tr>\n",
              "      <th>297</th>\n",
              "      <td>Overfaldsvideo går viralt i Kina: 'Mænd føler,...</td>\n",
              "      <td>1</td>\n",
              "      <td>2022-06-14 16:15:36</td>\n",
              "      <td>DRNyheder</td>\n",
              "    </tr>\n",
              "    <tr>\n",
              "      <th>298</th>\n",
              "      <td>Venstre: Kontanthjælpsaftale er løftebrud http...</td>\n",
              "      <td>4</td>\n",
              "      <td>2022-06-14 16:15:34</td>\n",
              "      <td>DRNyheder</td>\n",
              "    </tr>\n",
              "    <tr>\n",
              "      <th>299</th>\n",
              "      <td>Få overblikket: Det betyder den nye kontanthjæ...</td>\n",
              "      <td>2</td>\n",
              "      <td>2022-06-14 12:13:03</td>\n",
              "      <td>DRNyheder</td>\n",
              "    </tr>\n",
              "  </tbody>\n",
              "</table>\n",
              "<p>300 rows × 4 columns</p>\n",
              "</div>\n",
              "      <button class=\"colab-df-convert\" onclick=\"convertToInteractive('df-218b2b43-9b6f-4053-86b7-915a406cef06')\"\n",
              "              title=\"Convert this dataframe to an interactive table.\"\n",
              "              style=\"display:none;\">\n",
              "        \n",
              "  <svg xmlns=\"http://www.w3.org/2000/svg\" height=\"24px\"viewBox=\"0 0 24 24\"\n",
              "       width=\"24px\">\n",
              "    <path d=\"M0 0h24v24H0V0z\" fill=\"none\"/>\n",
              "    <path d=\"M18.56 5.44l.94 2.06.94-2.06 2.06-.94-2.06-.94-.94-2.06-.94 2.06-2.06.94zm-11 1L8.5 8.5l.94-2.06 2.06-.94-2.06-.94L8.5 2.5l-.94 2.06-2.06.94zm10 10l.94 2.06.94-2.06 2.06-.94-2.06-.94-.94-2.06-.94 2.06-2.06.94z\"/><path d=\"M17.41 7.96l-1.37-1.37c-.4-.4-.92-.59-1.43-.59-.52 0-1.04.2-1.43.59L10.3 9.45l-7.72 7.72c-.78.78-.78 2.05 0 2.83L4 21.41c.39.39.9.59 1.41.59.51 0 1.02-.2 1.41-.59l7.78-7.78 2.81-2.81c.8-.78.8-2.07 0-2.86zM5.41 20L4 18.59l7.72-7.72 1.47 1.35L5.41 20z\"/>\n",
              "  </svg>\n",
              "      </button>\n",
              "      \n",
              "  <style>\n",
              "    .colab-df-container {\n",
              "      display:flex;\n",
              "      flex-wrap:wrap;\n",
              "      gap: 12px;\n",
              "    }\n",
              "\n",
              "    .colab-df-convert {\n",
              "      background-color: #E8F0FE;\n",
              "      border: none;\n",
              "      border-radius: 50%;\n",
              "      cursor: pointer;\n",
              "      display: none;\n",
              "      fill: #1967D2;\n",
              "      height: 32px;\n",
              "      padding: 0 0 0 0;\n",
              "      width: 32px;\n",
              "    }\n",
              "\n",
              "    .colab-df-convert:hover {\n",
              "      background-color: #E2EBFA;\n",
              "      box-shadow: 0px 1px 2px rgba(60, 64, 67, 0.3), 0px 1px 3px 1px rgba(60, 64, 67, 0.15);\n",
              "      fill: #174EA6;\n",
              "    }\n",
              "\n",
              "    [theme=dark] .colab-df-convert {\n",
              "      background-color: #3B4455;\n",
              "      fill: #D2E3FC;\n",
              "    }\n",
              "\n",
              "    [theme=dark] .colab-df-convert:hover {\n",
              "      background-color: #434B5C;\n",
              "      box-shadow: 0px 1px 3px 1px rgba(0, 0, 0, 0.15);\n",
              "      filter: drop-shadow(0px 1px 2px rgba(0, 0, 0, 0.3));\n",
              "      fill: #FFFFFF;\n",
              "    }\n",
              "  </style>\n",
              "\n",
              "      <script>\n",
              "        const buttonEl =\n",
              "          document.querySelector('#df-218b2b43-9b6f-4053-86b7-915a406cef06 button.colab-df-convert');\n",
              "        buttonEl.style.display =\n",
              "          google.colab.kernel.accessAllowed ? 'block' : 'none';\n",
              "\n",
              "        async function convertToInteractive(key) {\n",
              "          const element = document.querySelector('#df-218b2b43-9b6f-4053-86b7-915a406cef06');\n",
              "          const dataTable =\n",
              "            await google.colab.kernel.invokeFunction('convertToInteractive',\n",
              "                                                     [key], {});\n",
              "          if (!dataTable) return;\n",
              "\n",
              "          const docLinkHtml = 'Like what you see? Visit the ' +\n",
              "            '<a target=\"_blank\" href=https://colab.research.google.com/notebooks/data_table.ipynb>data table notebook</a>'\n",
              "            + ' to learn more about interactive tables.';\n",
              "          element.innerHTML = '';\n",
              "          dataTable['output_type'] = 'display_data';\n",
              "          await google.colab.output.renderOutput(dataTable, element);\n",
              "          const docLink = document.createElement('div');\n",
              "          docLink.innerHTML = docLinkHtml;\n",
              "          element.appendChild(docLink);\n",
              "        }\n",
              "      </script>\n",
              "    </div>\n",
              "  </div>\n",
              "  "
            ]
          },
          "metadata": {},
          "execution_count": 153
        }
      ]
    },
    {
      "cell_type": "markdown",
      "source": [
        "***Loading them in Data Frame***"
      ],
      "metadata": {
        "id": "jLRfc1sZWTYe"
      }
    },
    {
      "cell_type": "code",
      "source": [
        "# save them as dataframe by passing variables as a columns\n",
        "df= df[~df.Tweets.str.contains(\"RT\")].reset_index(drop=True)\n",
        "#now lets make only tweets thats has not Re-Tweeted!\n",
        "\n",
        "df.head()"
      ],
      "metadata": {
        "colab": {
          "base_uri": "https://localhost:8080/",
          "height": 206
        },
        "id": "VLCv27NgQCOu",
        "outputId": "cdce1a4c-8a11-4156-d7aa-065d2dd2653c"
      },
      "execution_count": 154,
      "outputs": [
        {
          "output_type": "execute_result",
          "data": {
            "text/plain": [
              "                                              Tweets  Likes  \\\n",
              "0  Ny frist for forhandlinger mellem SAS og pilot...      3   \n",
              "1  Pandemi-tømmermænd gjorde første halvår på akt...      4   \n",
              "2  ANALYSE Nu venter alle på De Radikale https://...      3   \n",
              "3  Seneste nyt fra Ukraine: Brite og marokkaner a...      4   \n",
              "4  Radikalt bagland presser partitop: Advokater s...     53   \n",
              "\n",
              "                 Time       User  \n",
              "0 2022-07-01 23:42:03  DRNyheder  \n",
              "1 2022-07-01 20:26:06  DRNyheder  \n",
              "2 2022-07-01 18:56:06  DRNyheder  \n",
              "3 2022-07-01 17:54:04  DRNyheder  \n",
              "4 2022-07-01 16:34:06  DRNyheder  "
            ],
            "text/html": [
              "\n",
              "  <div id=\"df-5c3fb407-8163-4bdf-97ab-597a321b89db\">\n",
              "    <div class=\"colab-df-container\">\n",
              "      <div>\n",
              "<style scoped>\n",
              "    .dataframe tbody tr th:only-of-type {\n",
              "        vertical-align: middle;\n",
              "    }\n",
              "\n",
              "    .dataframe tbody tr th {\n",
              "        vertical-align: top;\n",
              "    }\n",
              "\n",
              "    .dataframe thead th {\n",
              "        text-align: right;\n",
              "    }\n",
              "</style>\n",
              "<table border=\"1\" class=\"dataframe\">\n",
              "  <thead>\n",
              "    <tr style=\"text-align: right;\">\n",
              "      <th></th>\n",
              "      <th>Tweets</th>\n",
              "      <th>Likes</th>\n",
              "      <th>Time</th>\n",
              "      <th>User</th>\n",
              "    </tr>\n",
              "  </thead>\n",
              "  <tbody>\n",
              "    <tr>\n",
              "      <th>0</th>\n",
              "      <td>Ny frist for forhandlinger mellem SAS og pilot...</td>\n",
              "      <td>3</td>\n",
              "      <td>2022-07-01 23:42:03</td>\n",
              "      <td>DRNyheder</td>\n",
              "    </tr>\n",
              "    <tr>\n",
              "      <th>1</th>\n",
              "      <td>Pandemi-tømmermænd gjorde første halvår på akt...</td>\n",
              "      <td>4</td>\n",
              "      <td>2022-07-01 20:26:06</td>\n",
              "      <td>DRNyheder</td>\n",
              "    </tr>\n",
              "    <tr>\n",
              "      <th>2</th>\n",
              "      <td>ANALYSE Nu venter alle på De Radikale https://...</td>\n",
              "      <td>3</td>\n",
              "      <td>2022-07-01 18:56:06</td>\n",
              "      <td>DRNyheder</td>\n",
              "    </tr>\n",
              "    <tr>\n",
              "      <th>3</th>\n",
              "      <td>Seneste nyt fra Ukraine: Brite og marokkaner a...</td>\n",
              "      <td>4</td>\n",
              "      <td>2022-07-01 17:54:04</td>\n",
              "      <td>DRNyheder</td>\n",
              "    </tr>\n",
              "    <tr>\n",
              "      <th>4</th>\n",
              "      <td>Radikalt bagland presser partitop: Advokater s...</td>\n",
              "      <td>53</td>\n",
              "      <td>2022-07-01 16:34:06</td>\n",
              "      <td>DRNyheder</td>\n",
              "    </tr>\n",
              "  </tbody>\n",
              "</table>\n",
              "</div>\n",
              "      <button class=\"colab-df-convert\" onclick=\"convertToInteractive('df-5c3fb407-8163-4bdf-97ab-597a321b89db')\"\n",
              "              title=\"Convert this dataframe to an interactive table.\"\n",
              "              style=\"display:none;\">\n",
              "        \n",
              "  <svg xmlns=\"http://www.w3.org/2000/svg\" height=\"24px\"viewBox=\"0 0 24 24\"\n",
              "       width=\"24px\">\n",
              "    <path d=\"M0 0h24v24H0V0z\" fill=\"none\"/>\n",
              "    <path d=\"M18.56 5.44l.94 2.06.94-2.06 2.06-.94-2.06-.94-.94-2.06-.94 2.06-2.06.94zm-11 1L8.5 8.5l.94-2.06 2.06-.94-2.06-.94L8.5 2.5l-.94 2.06-2.06.94zm10 10l.94 2.06.94-2.06 2.06-.94-2.06-.94-.94-2.06-.94 2.06-2.06.94z\"/><path d=\"M17.41 7.96l-1.37-1.37c-.4-.4-.92-.59-1.43-.59-.52 0-1.04.2-1.43.59L10.3 9.45l-7.72 7.72c-.78.78-.78 2.05 0 2.83L4 21.41c.39.39.9.59 1.41.59.51 0 1.02-.2 1.41-.59l7.78-7.78 2.81-2.81c.8-.78.8-2.07 0-2.86zM5.41 20L4 18.59l7.72-7.72 1.47 1.35L5.41 20z\"/>\n",
              "  </svg>\n",
              "      </button>\n",
              "      \n",
              "  <style>\n",
              "    .colab-df-container {\n",
              "      display:flex;\n",
              "      flex-wrap:wrap;\n",
              "      gap: 12px;\n",
              "    }\n",
              "\n",
              "    .colab-df-convert {\n",
              "      background-color: #E8F0FE;\n",
              "      border: none;\n",
              "      border-radius: 50%;\n",
              "      cursor: pointer;\n",
              "      display: none;\n",
              "      fill: #1967D2;\n",
              "      height: 32px;\n",
              "      padding: 0 0 0 0;\n",
              "      width: 32px;\n",
              "    }\n",
              "\n",
              "    .colab-df-convert:hover {\n",
              "      background-color: #E2EBFA;\n",
              "      box-shadow: 0px 1px 2px rgba(60, 64, 67, 0.3), 0px 1px 3px 1px rgba(60, 64, 67, 0.15);\n",
              "      fill: #174EA6;\n",
              "    }\n",
              "\n",
              "    [theme=dark] .colab-df-convert {\n",
              "      background-color: #3B4455;\n",
              "      fill: #D2E3FC;\n",
              "    }\n",
              "\n",
              "    [theme=dark] .colab-df-convert:hover {\n",
              "      background-color: #434B5C;\n",
              "      box-shadow: 0px 1px 3px 1px rgba(0, 0, 0, 0.15);\n",
              "      filter: drop-shadow(0px 1px 2px rgba(0, 0, 0, 0.3));\n",
              "      fill: #FFFFFF;\n",
              "    }\n",
              "  </style>\n",
              "\n",
              "      <script>\n",
              "        const buttonEl =\n",
              "          document.querySelector('#df-5c3fb407-8163-4bdf-97ab-597a321b89db button.colab-df-convert');\n",
              "        buttonEl.style.display =\n",
              "          google.colab.kernel.accessAllowed ? 'block' : 'none';\n",
              "\n",
              "        async function convertToInteractive(key) {\n",
              "          const element = document.querySelector('#df-5c3fb407-8163-4bdf-97ab-597a321b89db');\n",
              "          const dataTable =\n",
              "            await google.colab.kernel.invokeFunction('convertToInteractive',\n",
              "                                                     [key], {});\n",
              "          if (!dataTable) return;\n",
              "\n",
              "          const docLinkHtml = 'Like what you see? Visit the ' +\n",
              "            '<a target=\"_blank\" href=https://colab.research.google.com/notebooks/data_table.ipynb>data table notebook</a>'\n",
              "            + ' to learn more about interactive tables.';\n",
              "          element.innerHTML = '';\n",
              "          dataTable['output_type'] = 'display_data';\n",
              "          await google.colab.output.renderOutput(dataTable, element);\n",
              "          const docLink = document.createElement('div');\n",
              "          docLink.innerHTML = docLinkHtml;\n",
              "          element.appendChild(docLink);\n",
              "        }\n",
              "      </script>\n",
              "    </div>\n",
              "  </div>\n",
              "  "
            ]
          },
          "metadata": {},
          "execution_count": 154
        }
      ]
    },
    {
      "cell_type": "code",
      "source": [
        "# Top most liked tweets\n",
        "mostlike= df.loc[df.Likes.nlargest(5).index].set_index(\"Tweets\")\n",
        "mostlike"
      ],
      "metadata": {
        "colab": {
          "base_uri": "https://localhost:8080/",
          "height": 238
        },
        "id": "eq_q7Q1gUW2E",
        "outputId": "afea5a9e-c7cc-4af6-cc46-abef42d06182"
      },
      "execution_count": 155,
      "outputs": [
        {
          "output_type": "execute_result",
          "data": {
            "text/plain": [
              "                                                    Likes                Time  \\\n",
              "Tweets                                                                          \n",
              "Støttepartier tøver med at lade uvildige advoka...     89 2022-06-29 09:06:04   \n",
              "Inflationen brager løs - og Danmark er blandt d...     62 2022-06-19 04:57:06   \n",
              "Uffe Ellemann-Jensen er død https://t.co/X7ddZj...     54 2022-06-19 07:32:05   \n",
              "Radikalt bagland presser partitop: Advokater sk...     53 2022-07-01 16:34:06   \n",
              "Seneste nyt fra Ukraine: Zelenskyj vil have Rus...     51 2022-06-29 12:53:33   \n",
              "\n",
              "                                                         User  \n",
              "Tweets                                                         \n",
              "Støttepartier tøver med at lade uvildige advoka...  DRNyheder  \n",
              "Inflationen brager løs - og Danmark er blandt d...  DRNyheder  \n",
              "Uffe Ellemann-Jensen er død https://t.co/X7ddZj...  DRNyheder  \n",
              "Radikalt bagland presser partitop: Advokater sk...  DRNyheder  \n",
              "Seneste nyt fra Ukraine: Zelenskyj vil have Rus...  DRNyheder  "
            ],
            "text/html": [
              "\n",
              "  <div id=\"df-94ee974e-9799-4d26-958a-c731b301b9f3\">\n",
              "    <div class=\"colab-df-container\">\n",
              "      <div>\n",
              "<style scoped>\n",
              "    .dataframe tbody tr th:only-of-type {\n",
              "        vertical-align: middle;\n",
              "    }\n",
              "\n",
              "    .dataframe tbody tr th {\n",
              "        vertical-align: top;\n",
              "    }\n",
              "\n",
              "    .dataframe thead th {\n",
              "        text-align: right;\n",
              "    }\n",
              "</style>\n",
              "<table border=\"1\" class=\"dataframe\">\n",
              "  <thead>\n",
              "    <tr style=\"text-align: right;\">\n",
              "      <th></th>\n",
              "      <th>Likes</th>\n",
              "      <th>Time</th>\n",
              "      <th>User</th>\n",
              "    </tr>\n",
              "    <tr>\n",
              "      <th>Tweets</th>\n",
              "      <th></th>\n",
              "      <th></th>\n",
              "      <th></th>\n",
              "    </tr>\n",
              "  </thead>\n",
              "  <tbody>\n",
              "    <tr>\n",
              "      <th>Støttepartier tøver med at lade uvildige advokater vurdere minkrapport: 'Kan bedst betegnes som hykleri' https://t.co/Ry9EjxqRvm https://t.co/JAB32AD4Zn</th>\n",
              "      <td>89</td>\n",
              "      <td>2022-06-29 09:06:04</td>\n",
              "      <td>DRNyheder</td>\n",
              "    </tr>\n",
              "    <tr>\n",
              "      <th>Inflationen brager løs - og Danmark er blandt de europæiske lande, der hjælper befolkningen mindst https://t.co/KOByf8Xc7k https://t.co/WzASaWeGfX</th>\n",
              "      <td>62</td>\n",
              "      <td>2022-06-19 04:57:06</td>\n",
              "      <td>DRNyheder</td>\n",
              "    </tr>\n",
              "    <tr>\n",
              "      <th>Uffe Ellemann-Jensen er død https://t.co/X7ddZjEuiR https://t.co/q7RDaXhT1W</th>\n",
              "      <td>54</td>\n",
              "      <td>2022-06-19 07:32:05</td>\n",
              "      <td>DRNyheder</td>\n",
              "    </tr>\n",
              "    <tr>\n",
              "      <th>Radikalt bagland presser partitop: Advokater skal vurdere om Mette Frederiksen skal for rigsret https://t.co/EUBhvTgKE1 https://t.co/2NjjCvg8YA</th>\n",
              "      <td>53</td>\n",
              "      <td>2022-07-01 16:34:06</td>\n",
              "      <td>DRNyheder</td>\n",
              "    </tr>\n",
              "    <tr>\n",
              "      <th>Seneste nyt fra Ukraine: Zelenskyj vil have Rusland ud af FN's Sikkerhedsråd https://t.co/rgKyeBaJIk https://t.co/mjdnFSXxji</th>\n",
              "      <td>51</td>\n",
              "      <td>2022-06-29 12:53:33</td>\n",
              "      <td>DRNyheder</td>\n",
              "    </tr>\n",
              "  </tbody>\n",
              "</table>\n",
              "</div>\n",
              "      <button class=\"colab-df-convert\" onclick=\"convertToInteractive('df-94ee974e-9799-4d26-958a-c731b301b9f3')\"\n",
              "              title=\"Convert this dataframe to an interactive table.\"\n",
              "              style=\"display:none;\">\n",
              "        \n",
              "  <svg xmlns=\"http://www.w3.org/2000/svg\" height=\"24px\"viewBox=\"0 0 24 24\"\n",
              "       width=\"24px\">\n",
              "    <path d=\"M0 0h24v24H0V0z\" fill=\"none\"/>\n",
              "    <path d=\"M18.56 5.44l.94 2.06.94-2.06 2.06-.94-2.06-.94-.94-2.06-.94 2.06-2.06.94zm-11 1L8.5 8.5l.94-2.06 2.06-.94-2.06-.94L8.5 2.5l-.94 2.06-2.06.94zm10 10l.94 2.06.94-2.06 2.06-.94-2.06-.94-.94-2.06-.94 2.06-2.06.94z\"/><path d=\"M17.41 7.96l-1.37-1.37c-.4-.4-.92-.59-1.43-.59-.52 0-1.04.2-1.43.59L10.3 9.45l-7.72 7.72c-.78.78-.78 2.05 0 2.83L4 21.41c.39.39.9.59 1.41.59.51 0 1.02-.2 1.41-.59l7.78-7.78 2.81-2.81c.8-.78.8-2.07 0-2.86zM5.41 20L4 18.59l7.72-7.72 1.47 1.35L5.41 20z\"/>\n",
              "  </svg>\n",
              "      </button>\n",
              "      \n",
              "  <style>\n",
              "    .colab-df-container {\n",
              "      display:flex;\n",
              "      flex-wrap:wrap;\n",
              "      gap: 12px;\n",
              "    }\n",
              "\n",
              "    .colab-df-convert {\n",
              "      background-color: #E8F0FE;\n",
              "      border: none;\n",
              "      border-radius: 50%;\n",
              "      cursor: pointer;\n",
              "      display: none;\n",
              "      fill: #1967D2;\n",
              "      height: 32px;\n",
              "      padding: 0 0 0 0;\n",
              "      width: 32px;\n",
              "    }\n",
              "\n",
              "    .colab-df-convert:hover {\n",
              "      background-color: #E2EBFA;\n",
              "      box-shadow: 0px 1px 2px rgba(60, 64, 67, 0.3), 0px 1px 3px 1px rgba(60, 64, 67, 0.15);\n",
              "      fill: #174EA6;\n",
              "    }\n",
              "\n",
              "    [theme=dark] .colab-df-convert {\n",
              "      background-color: #3B4455;\n",
              "      fill: #D2E3FC;\n",
              "    }\n",
              "\n",
              "    [theme=dark] .colab-df-convert:hover {\n",
              "      background-color: #434B5C;\n",
              "      box-shadow: 0px 1px 3px 1px rgba(0, 0, 0, 0.15);\n",
              "      filter: drop-shadow(0px 1px 2px rgba(0, 0, 0, 0.3));\n",
              "      fill: #FFFFFF;\n",
              "    }\n",
              "  </style>\n",
              "\n",
              "      <script>\n",
              "        const buttonEl =\n",
              "          document.querySelector('#df-94ee974e-9799-4d26-958a-c731b301b9f3 button.colab-df-convert');\n",
              "        buttonEl.style.display =\n",
              "          google.colab.kernel.accessAllowed ? 'block' : 'none';\n",
              "\n",
              "        async function convertToInteractive(key) {\n",
              "          const element = document.querySelector('#df-94ee974e-9799-4d26-958a-c731b301b9f3');\n",
              "          const dataTable =\n",
              "            await google.colab.kernel.invokeFunction('convertToInteractive',\n",
              "                                                     [key], {});\n",
              "          if (!dataTable) return;\n",
              "\n",
              "          const docLinkHtml = 'Like what you see? Visit the ' +\n",
              "            '<a target=\"_blank\" href=https://colab.research.google.com/notebooks/data_table.ipynb>data table notebook</a>'\n",
              "            + ' to learn more about interactive tables.';\n",
              "          element.innerHTML = '';\n",
              "          dataTable['output_type'] = 'display_data';\n",
              "          await google.colab.output.renderOutput(dataTable, element);\n",
              "          const docLink = document.createElement('div');\n",
              "          docLink.innerHTML = docLinkHtml;\n",
              "          element.appendChild(docLink);\n",
              "        }\n",
              "      </script>\n",
              "    </div>\n",
              "  </div>\n",
              "  "
            ]
          },
          "metadata": {},
          "execution_count": 155
        }
      ]
    },
    {
      "cell_type": "markdown",
      "source": [
        "#3.  Tweets using Keywords or Hashtag"
      ],
      "metadata": {
        "id": "hHlO2yOGNpj1"
      }
    },
    {
      "cell_type": "code",
      "source": [
        "# Obtaining tweet using keywords or Hastag\n",
        "def tweets_by_keywords(keywords):\n",
        "  limit=300\n",
        "\n",
        "  tweets_obj= tweepy.Cursor(api.search, q=keywords, count=100, tweet_mode=\"extended\").items(limit)\n",
        "    # Create Data Frame\n",
        "  columns= ['Tweets', 'Time', 'User']\n",
        "  tweets = []\n",
        "  for i in tweets_obj:\n",
        "    tweets.append([i.full_text, i.created_at, i.user.screen_name])\n",
        "\n",
        "  df= pd.DataFrame(tweets, columns=columns)\n",
        "  return df\n",
        "  \n"
      ],
      "metadata": {
        "id": "ftDmb9BBNKHd"
      },
      "execution_count": 200,
      "outputs": []
    },
    {
      "cell_type": "code",
      "source": [
        "tweets_by_keywords('Health')"
      ],
      "metadata": {
        "colab": {
          "base_uri": "https://localhost:8080/",
          "height": 424
        },
        "id": "NMa5y-e7XFL_",
        "outputId": "ac23037b-df98-4560-bfe1-ddd306127bb6"
      },
      "execution_count": 201,
      "outputs": [
        {
          "output_type": "execute_result",
          "data": {
            "text/plain": [
              "                                                Tweets                Time  \\\n",
              "0    RT @placentadoc: An acting medical officer of ... 2022-07-02 01:19:09   \n",
              "1    RT @FINEASXNOLA: I pray for nothing but Great ... 2022-07-02 01:19:08   \n",
              "2    RT @blackenterprise: MyOwnDoctor Announces Hea... 2022-07-02 01:19:08   \n",
              "3    RT @KameronHurley: Progressives always trip on... 2022-07-02 01:19:08   \n",
              "4    @Urbonov @goblue34 @PondPrimate @realDailyWire... 2022-07-02 01:19:08   \n",
              "..                                                 ...                 ...   \n",
              "295  RT @mattbc: Please, I beg you, in the name of ... 2022-07-02 01:17:47   \n",
              "296  Time is Gold. Health is Wealth. Knowledge is P... 2022-07-02 01:17:47   \n",
              "297  RT @GovCTW: The Supreme Court decision handed ... 2022-07-02 01:17:47   \n",
              "298  RT @kirkmin: 29 years ago today I attempted su... 2022-07-02 01:17:47   \n",
              "299  RT @tamtam32409767: Happiest birthday to the m... 2022-07-02 01:17:47   \n",
              "\n",
              "                User  \n",
              "0        DonSmallman  \n",
              "1       AAMarketing9  \n",
              "2          iamCameka  \n",
              "3              csmcg  \n",
              "4           shendaki  \n",
              "..               ...  \n",
              "295  rhiannonisalosr  \n",
              "296          cmrcuan  \n",
              "297        a_standal  \n",
              "298           jeje66  \n",
              "299    fancyroseanne  \n",
              "\n",
              "[300 rows x 3 columns]"
            ],
            "text/html": [
              "\n",
              "  <div id=\"df-d870581a-b3ee-425e-a8e8-00686acd2bf6\">\n",
              "    <div class=\"colab-df-container\">\n",
              "      <div>\n",
              "<style scoped>\n",
              "    .dataframe tbody tr th:only-of-type {\n",
              "        vertical-align: middle;\n",
              "    }\n",
              "\n",
              "    .dataframe tbody tr th {\n",
              "        vertical-align: top;\n",
              "    }\n",
              "\n",
              "    .dataframe thead th {\n",
              "        text-align: right;\n",
              "    }\n",
              "</style>\n",
              "<table border=\"1\" class=\"dataframe\">\n",
              "  <thead>\n",
              "    <tr style=\"text-align: right;\">\n",
              "      <th></th>\n",
              "      <th>Tweets</th>\n",
              "      <th>Time</th>\n",
              "      <th>User</th>\n",
              "    </tr>\n",
              "  </thead>\n",
              "  <tbody>\n",
              "    <tr>\n",
              "      <th>0</th>\n",
              "      <td>RT @placentadoc: An acting medical officer of ...</td>\n",
              "      <td>2022-07-02 01:19:09</td>\n",
              "      <td>DonSmallman</td>\n",
              "    </tr>\n",
              "    <tr>\n",
              "      <th>1</th>\n",
              "      <td>RT @FINEASXNOLA: I pray for nothing but Great ...</td>\n",
              "      <td>2022-07-02 01:19:08</td>\n",
              "      <td>AAMarketing9</td>\n",
              "    </tr>\n",
              "    <tr>\n",
              "      <th>2</th>\n",
              "      <td>RT @blackenterprise: MyOwnDoctor Announces Hea...</td>\n",
              "      <td>2022-07-02 01:19:08</td>\n",
              "      <td>iamCameka</td>\n",
              "    </tr>\n",
              "    <tr>\n",
              "      <th>3</th>\n",
              "      <td>RT @KameronHurley: Progressives always trip on...</td>\n",
              "      <td>2022-07-02 01:19:08</td>\n",
              "      <td>csmcg</td>\n",
              "    </tr>\n",
              "    <tr>\n",
              "      <th>4</th>\n",
              "      <td>@Urbonov @goblue34 @PondPrimate @realDailyWire...</td>\n",
              "      <td>2022-07-02 01:19:08</td>\n",
              "      <td>shendaki</td>\n",
              "    </tr>\n",
              "    <tr>\n",
              "      <th>...</th>\n",
              "      <td>...</td>\n",
              "      <td>...</td>\n",
              "      <td>...</td>\n",
              "    </tr>\n",
              "    <tr>\n",
              "      <th>295</th>\n",
              "      <td>RT @mattbc: Please, I beg you, in the name of ...</td>\n",
              "      <td>2022-07-02 01:17:47</td>\n",
              "      <td>rhiannonisalosr</td>\n",
              "    </tr>\n",
              "    <tr>\n",
              "      <th>296</th>\n",
              "      <td>Time is Gold. Health is Wealth. Knowledge is P...</td>\n",
              "      <td>2022-07-02 01:17:47</td>\n",
              "      <td>cmrcuan</td>\n",
              "    </tr>\n",
              "    <tr>\n",
              "      <th>297</th>\n",
              "      <td>RT @GovCTW: The Supreme Court decision handed ...</td>\n",
              "      <td>2022-07-02 01:17:47</td>\n",
              "      <td>a_standal</td>\n",
              "    </tr>\n",
              "    <tr>\n",
              "      <th>298</th>\n",
              "      <td>RT @kirkmin: 29 years ago today I attempted su...</td>\n",
              "      <td>2022-07-02 01:17:47</td>\n",
              "      <td>jeje66</td>\n",
              "    </tr>\n",
              "    <tr>\n",
              "      <th>299</th>\n",
              "      <td>RT @tamtam32409767: Happiest birthday to the m...</td>\n",
              "      <td>2022-07-02 01:17:47</td>\n",
              "      <td>fancyroseanne</td>\n",
              "    </tr>\n",
              "  </tbody>\n",
              "</table>\n",
              "<p>300 rows × 3 columns</p>\n",
              "</div>\n",
              "      <button class=\"colab-df-convert\" onclick=\"convertToInteractive('df-d870581a-b3ee-425e-a8e8-00686acd2bf6')\"\n",
              "              title=\"Convert this dataframe to an interactive table.\"\n",
              "              style=\"display:none;\">\n",
              "        \n",
              "  <svg xmlns=\"http://www.w3.org/2000/svg\" height=\"24px\"viewBox=\"0 0 24 24\"\n",
              "       width=\"24px\">\n",
              "    <path d=\"M0 0h24v24H0V0z\" fill=\"none\"/>\n",
              "    <path d=\"M18.56 5.44l.94 2.06.94-2.06 2.06-.94-2.06-.94-.94-2.06-.94 2.06-2.06.94zm-11 1L8.5 8.5l.94-2.06 2.06-.94-2.06-.94L8.5 2.5l-.94 2.06-2.06.94zm10 10l.94 2.06.94-2.06 2.06-.94-2.06-.94-.94-2.06-.94 2.06-2.06.94z\"/><path d=\"M17.41 7.96l-1.37-1.37c-.4-.4-.92-.59-1.43-.59-.52 0-1.04.2-1.43.59L10.3 9.45l-7.72 7.72c-.78.78-.78 2.05 0 2.83L4 21.41c.39.39.9.59 1.41.59.51 0 1.02-.2 1.41-.59l7.78-7.78 2.81-2.81c.8-.78.8-2.07 0-2.86zM5.41 20L4 18.59l7.72-7.72 1.47 1.35L5.41 20z\"/>\n",
              "  </svg>\n",
              "      </button>\n",
              "      \n",
              "  <style>\n",
              "    .colab-df-container {\n",
              "      display:flex;\n",
              "      flex-wrap:wrap;\n",
              "      gap: 12px;\n",
              "    }\n",
              "\n",
              "    .colab-df-convert {\n",
              "      background-color: #E8F0FE;\n",
              "      border: none;\n",
              "      border-radius: 50%;\n",
              "      cursor: pointer;\n",
              "      display: none;\n",
              "      fill: #1967D2;\n",
              "      height: 32px;\n",
              "      padding: 0 0 0 0;\n",
              "      width: 32px;\n",
              "    }\n",
              "\n",
              "    .colab-df-convert:hover {\n",
              "      background-color: #E2EBFA;\n",
              "      box-shadow: 0px 1px 2px rgba(60, 64, 67, 0.3), 0px 1px 3px 1px rgba(60, 64, 67, 0.15);\n",
              "      fill: #174EA6;\n",
              "    }\n",
              "\n",
              "    [theme=dark] .colab-df-convert {\n",
              "      background-color: #3B4455;\n",
              "      fill: #D2E3FC;\n",
              "    }\n",
              "\n",
              "    [theme=dark] .colab-df-convert:hover {\n",
              "      background-color: #434B5C;\n",
              "      box-shadow: 0px 1px 3px 1px rgba(0, 0, 0, 0.15);\n",
              "      filter: drop-shadow(0px 1px 2px rgba(0, 0, 0, 0.3));\n",
              "      fill: #FFFFFF;\n",
              "    }\n",
              "  </style>\n",
              "\n",
              "      <script>\n",
              "        const buttonEl =\n",
              "          document.querySelector('#df-d870581a-b3ee-425e-a8e8-00686acd2bf6 button.colab-df-convert');\n",
              "        buttonEl.style.display =\n",
              "          google.colab.kernel.accessAllowed ? 'block' : 'none';\n",
              "\n",
              "        async function convertToInteractive(key) {\n",
              "          const element = document.querySelector('#df-d870581a-b3ee-425e-a8e8-00686acd2bf6');\n",
              "          const dataTable =\n",
              "            await google.colab.kernel.invokeFunction('convertToInteractive',\n",
              "                                                     [key], {});\n",
              "          if (!dataTable) return;\n",
              "\n",
              "          const docLinkHtml = 'Like what you see? Visit the ' +\n",
              "            '<a target=\"_blank\" href=https://colab.research.google.com/notebooks/data_table.ipynb>data table notebook</a>'\n",
              "            + ' to learn more about interactive tables.';\n",
              "          element.innerHTML = '';\n",
              "          dataTable['output_type'] = 'display_data';\n",
              "          await google.colab.output.renderOutput(dataTable, element);\n",
              "          const docLink = document.createElement('div');\n",
              "          docLink.innerHTML = docLinkHtml;\n",
              "          element.appendChild(docLink);\n",
              "        }\n",
              "      </script>\n",
              "    </div>\n",
              "  </div>\n",
              "  "
            ]
          },
          "metadata": {},
          "execution_count": 201
        }
      ]
    },
    {
      "cell_type": "markdown",
      "source": [
        "# Visualization with text processing"
      ],
      "metadata": {
        "id": "vOtG_wSxWMM-"
      }
    },
    {
      "cell_type": "code",
      "source": [
        "# Libaries for sentiment analytics (NLP)\n",
        "import matplotlib.pyplot as plt\n",
        "import re\n",
        "import spacy\n",
        "import seaborn as sns"
      ],
      "metadata": {
        "id": "UZHiQGvDUWqF"
      },
      "execution_count": 205,
      "outputs": []
    },
    {
      "cell_type": "code",
      "source": [
        "import spacy.cli\n",
        "spacy.cli.download(\"en_core_web_lg\")\n",
        "nlp = spacy.load('en_core_web_lg')"
      ],
      "metadata": {
        "colab": {
          "base_uri": "https://localhost:8080/"
        },
        "id": "24VFaRByUWWY",
        "outputId": "35dac5d6-b829-4568-a044-fa8a63041f3d"
      },
      "execution_count": 210,
      "outputs": [
        {
          "output_type": "stream",
          "name": "stdout",
          "text": [
            "\u001b[38;5;2m✔ Download and installation successful\u001b[0m\n",
            "You can now load the package via spacy.load('en_core_web_lg')\n"
          ]
        }
      ]
    },
    {
      "cell_type": "code",
      "source": [
        "# Split all the sentances and creat the list of sentence of from the tweet columns\n",
        "list_of_sentences = [sentence for sentence in df.Tweets]\n",
        "\n",
        "lines = []\n",
        "for sentence in list_of_sentences:\n",
        "  words = sentence.split()\n",
        "  for w in words:\n",
        "    lines.append(w)\n",
        "print(lines[:20])"
      ],
      "metadata": {
        "colab": {
          "base_uri": "https://localhost:8080/"
        },
        "id": "G7mEkHdpdBUT",
        "outputId": "1ce04832-ac5a-424a-fb85-dbf475904474"
      },
      "execution_count": 211,
      "outputs": [
        {
          "output_type": "stream",
          "name": "stdout",
          "text": [
            "['Ny', 'frist', 'for', 'forhandlinger', 'mellem', 'SAS', 'og', 'piloterne', 'https://t.co/lOM2w7jDXc', 'https://t.co/gThBUT2wdO', 'Pandemi-tømmermænd', 'gjorde', 'første', 'halvår', 'på', 'aktiemarkedet', 'blodrødt:', 'Det', 'skal', 'nok']\n"
          ]
        }
      ]
    },
    {
      "cell_type": "code",
      "source": [
        "# Removing Punctuation by using Regular Expression (RegEx)\n",
        "lines = [re.sub(r'[^A-Za-z0-9]+', '', x) for x in lines]\n",
        "\n",
        "lines2= []\n",
        "\n",
        "for word in lines:\n",
        "  if word != '':\n",
        "    lines2.append(word)"
      ],
      "metadata": {
        "id": "9UIKk_SkdVMo"
      },
      "execution_count": 212,
      "outputs": []
    },
    {
      "cell_type": "code",
      "source": [
        "# Stemming the words to their root\n",
        "from nltk.stem.snowball import SnowballStemmer\n",
        "\n",
        "s_stemmer = SnowballStemmer(language='english')\n",
        "\n",
        "stem= []\n",
        "for word in lines2:\n",
        "  stem.append(s_stemmer.stem(word))"
      ],
      "metadata": {
        "id": "NjfTy11PdU5v"
      },
      "execution_count": 213,
      "outputs": []
    },
    {
      "cell_type": "code",
      "source": [
        "# Removing all the stop words\n",
        "stem2= []\n",
        "\n",
        "for word in stem:\n",
        "  if word not in nlp.Defaults.stop_words:\n",
        "    stem2.append(word)"
      ],
      "metadata": {
        "id": "R-2nVYJngyjI"
      },
      "execution_count": 214,
      "outputs": []
    },
    {
      "cell_type": "code",
      "source": [
        "df2 = pd.DataFrame(stem2)\n",
        "df2 = df2[0].value_counts()\n",
        "df2.head()"
      ],
      "metadata": {
        "colab": {
          "base_uri": "https://localhost:8080/"
        },
        "id": "gGnMycgMhkDv",
        "outputId": "42c9ad90-b096-4bfa-ae03-ca7b161ac39d"
      },
      "execution_count": 215,
      "outputs": [
        {
          "output_type": "execute_result",
          "data": {
            "text/plain": [
              "er     80\n",
              "og     69\n",
              "p      66\n",
              "til    66\n",
              "om     53\n",
              "Name: 0, dtype: int64"
            ]
          },
          "metadata": {},
          "execution_count": 215
        }
      ]
    },
    {
      "cell_type": "code",
      "source": [
        "# Visualization\n",
        "df2= df2[:20,]\n",
        "plt.figure(figsize=(15,7.5))\n",
        "sns.barplot(df2.values, df2.index, alpha=1)\n",
        "plt.title('Top words Overall')\n",
        "plt.ylabel('Word from Tweet')\n",
        "plt.xlabel('Count of Words')\n",
        "plt.show()"
      ],
      "metadata": {
        "colab": {
          "base_uri": "https://localhost:8080/",
          "height": 486
        },
        "id": "KMUBCjuYiiQo",
        "outputId": "fef5a2e2-06d9-43eb-e49d-d1d4c5ec13ed"
      },
      "execution_count": 216,
      "outputs": [
        {
          "output_type": "display_data",
          "data": {
            "text/plain": [
              "<Figure size 1080x540 with 1 Axes>"
            ],
            "image/png": "[encoded data removed]"
          },
          "metadata": {
            "needs_background": "light"
          }
        }
      ]
    },
    {
      "cell_type": "code",
      "source": [
        "# Visualization for mentions organizations\n",
        "def show_ents(doc):\n",
        "  if doc.ents:\n",
        "    for ent in doc.ents:\n",
        "      print(ent.text + ' - ' + ent.label_ + ' - ' + str(spacy.explain(ent.label_)))"
      ],
      "metadata": {
        "id": "5T-MBw-SkgaJ"
      },
      "execution_count": 217,
      "outputs": []
    },
    {
      "cell_type": "code",
      "source": [
        "str1 = \" \"\n",
        "stem2 = str1.join(lines2)\n",
        "stem2 = nlp(stem2)\n",
        "label = [(X.text, X.label_) for X in stem2.ents]\n",
        "df6 = pd.DataFrame(label, columns = ['Word', 'Entity'])\n",
        "df7 = df6.where(df6['Entity'] == 'ORG')\n",
        "df7 = df7['Word'].value_counts()"
      ],
      "metadata": {
        "id": "C41kIggul6t7"
      },
      "execution_count": 218,
      "outputs": []
    },
    {
      "cell_type": "code",
      "source": [
        "# Visualization again\n",
        "dfx= df7[:20, ]\n",
        "plt.figure(figsize=(15,7.5))\n",
        "sns.barplot(dfx.values, dfx.index, alpha=1)\n",
        "plt.title('Top Organization mentioned')\n",
        "plt.ylabel('Word from Tweet', fontsize=12)\n",
        "plt.xlabel('Count of Words', fontsize=12)\n",
        "plt.show()"
      ],
      "metadata": {
        "colab": {
          "base_uri": "https://localhost:8080/",
          "height": 489
        },
        "id": "H5oU49BPnQjR",
        "outputId": "9c690c1a-4039-46fc-ad40-c65354856a54"
      },
      "execution_count": 219,
      "outputs": [
        {
          "output_type": "display_data",
          "data": {
            "text/plain": [
              "<Figure size 1080x540 with 1 Axes>"
            ],
            "image/png": "[encoded data removed]"
          },
          "metadata": {
            "needs_background": "light"
          }
        }
      ]
    },
    {
      "cell_type": "code",
      "source": [
        "str1 = \" \"\n",
        "stem2 = str1.join(lines2)\n",
        "stem2 = nlp(stem2)\n",
        "label = [(X.text, X.label_) for X in stem2.ents]\n",
        "df6 = pd.DataFrame(label, columns = ['Word', 'Entity'])\n",
        "df7 = df6.where(df6['Entity'] == 'PERSON')\n",
        "df7 = df7['Word'].value_counts()"
      ],
      "metadata": {
        "id": "2pPZsmzhl7i6"
      },
      "execution_count": 220,
      "outputs": []
    },
    {
      "cell_type": "code",
      "source": [
        "# Visualization again\n",
        "dfx= df7[:20, ]\n",
        "plt.figure(figsize=(15,7.5))\n",
        "sns.barplot(dfx.values, dfx.index, alpha=1)\n",
        "plt.title('Top People Mentioned')\n",
        "plt.ylabel('Word from Tweet', fontsize=12)\n",
        "plt.xlabel('Count of Words', fontsize=12)\n",
        "plt.show()"
      ],
      "metadata": {
        "id": "EP_VKVk_09UA",
        "colab": {
          "base_uri": "https://localhost:8080/",
          "height": 489
        },
        "outputId": "73277b50-cbfd-4fc0-9f19-eafbd9fbe810"
      },
      "execution_count": 221,
      "outputs": [
        {
          "output_type": "display_data",
          "data": {
            "text/plain": [
              "<Figure size 1080x540 with 1 Axes>"
            ],
            "image/png": "[encoded data removed]"
          },
          "metadata": {
            "needs_background": "light"
          }
        }
      ]
    }
  ],
  "metadata": {
    "colab": {
      "name": "TwiteerDataAnalytics.ipynb",
      "provenance": [],
      "mount_file_id": "1QcHp2JfNJiln7VgNSMmi2mx2MzNKBNQw",
      "authorship_tag": "ABX9TyOb1VnSDmz1KrhJ6PFSPKXt",
      "include_colab_link": true
    },
    "kernelspec": {
      "display_name": "Python 3",
      "name": "python3"
    },
    "language_info": {
      "name": "python"
    }
  },
  "nbformat": 4,
  "nbformat_minor": 0
}