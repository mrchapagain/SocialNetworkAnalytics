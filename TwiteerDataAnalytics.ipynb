{
  "cells": [
    {
      "cell_type": "markdown",
      "metadata": {
        "id": "view-in-github",
        "colab_type": "text"
      },
      "source": [
        "<a href=\"https://colab.research.google.com/github/mrchapagain/SocialNetworkAnalytics/blob/main/TwiteerDataAnalytics.ipynb\" target=\"_parent\"><img src=\"https://colab.research.google.com/assets/colab-badge.svg\" alt=\"Open In Colab\"/></a>"
      ]
    },
    {
      "cell_type": "markdown",
      "metadata": {
        "id": "2W-IUZlRhr9E"
      },
      "source": [
        "#Tweeter Data Analytics\n",
        "\n",
        "***Here I will cover:***\n",
        "1.   *Basics of Analyzing Twitter Data*\n",
        "2.   *Processing Twitter text*\n",
        "1.   *Exploring Twitter Networks*\n",
        "2.   *Putting Twitter data on the map*\n",
        "\n",
        "***Twiteer APIs:***\n",
        "*   *Search API*\n",
        "*   *Ads API*\n",
        "*   *Streaming API*"
      ]
    },
    {
      "cell_type": "markdown",
      "source": [
        "#1. Basics of Analyzing Twitter Data"
      ],
      "metadata": {
        "id": "8cv7r_tw_dfj"
      }
    },
    {
      "cell_type": "markdown",
      "metadata": {
        "id": "BuNCKztSrBe-"
      },
      "source": [
        "***Class object for handling data***"
      ]
    },
    {
      "cell_type": "markdown",
      "metadata": {
        "id": "hGL6drIymfRB"
      },
      "source": [
        "***Libaries***"
      ]
    },
    {
      "cell_type": "code",
      "execution_count": 198,
      "metadata": {
        "id": "Z4NuB4QGb9j1"
      },
      "outputs": [],
      "source": [
        "# Necessary libaries\n",
        "from tweepy import OAuthHandler\n",
        "from tweepy import API\n",
        "import tweepy\n",
        "import pandas as pd\n",
        "import warnings\n",
        "warnings.filterwarnings(\"ignore\")"
      ]
    },
    {
      "cell_type": "markdown",
      "metadata": {
        "id": "JlaIa0FYiacs"
      },
      "source": [
        "***Necessary information form tweet account***\n",
        "*   access_token\n",
        "*   access_token_secret\n",
        "*   consumer_key\n",
        "*   consumer_secret"
      ]
    },
    {
      "cell_type": "markdown",
      "metadata": {
        "id": "EjSxuyyWmY-K"
      },
      "source": [
        "***Tweepy authentication***"
      ]
    },
    {
      "cell_type": "code",
      "execution_count": 73,
      "metadata": {
        "id": "mZEG9JRKh186",
        "colab": {
          "base_uri": "https://localhost:8080/"
        },
        "outputId": "b1a2b0a4-325e-468f-da1d-061a1584a723"
      },
      "outputs": [
        {
          "output_type": "execute_result",
          "data": {
            "text/plain": [
              "<tweepy.api.API at 0x7f6cfcb84c10>"
            ]
          },
          "metadata": {},
          "execution_count": 73
        }
      ],
      "source": [
        "consumer_key='hYt37U1prLMj2LBfWaH3VfwAP'\n",
        "consumer_secret='8sOKCBqlh0NLEByi3IjQ1mjlhTVhAtFzoOLqU9w5vn0qjmdAR1'\n",
        "access_token='14970816-bxUWKHaeQvNpVP7nNzgOwWe2Sa3dsLAposBrhuhsg'\n",
        "access_token_secret='nqioC9WEH7XFXpMU6KxmKuplZ4SIwmcgKAUzQYc1E2bXo'\n",
        "#brear_token= 'AAAAAAAAAAAAAAAAAAAAAOlDeQEAAAAAtxFqk6MPlQlb%2BXr9%2F%2FfigPqSrRM%3D5zoaTJT2GA3XhDBDAfgrnCnr1WxeCFVMVT5k3oUz97D4JJfZOD'\n",
        "\n",
        "auth = OAuthHandler(consumer_key, consumer_secret) # Consumer key authentication\n",
        "auth.set_access_token(access_token, access_token_secret) # Access key authentication\n",
        "api = API(auth)  # Set up the API with the authentication handler\n",
        "api"
      ]
    },
    {
      "cell_type": "markdown",
      "source": [
        "***Creating variable to navigate twetter***"
      ],
      "metadata": {
        "id": "DlhzV8_vdSp-"
      }
    },
    {
      "cell_type": "code",
      "source": [
        "# Obtaining tweet from specific user account\n",
        "number_of_tweets = 200\n",
        "tweets = []\n",
        "likes = []\n",
        "time = []\n",
        "\n",
        "for i in tweepy.Cursor(api.user_timeline, id=\"elonmusk\", tweet_mode=\"extended\").items(number_of_tweets):\n",
        "  tweets.append(i.full_text)\n",
        "  likes.append(i.favorite_count)\n",
        "  time.append(i.created_at)\n",
        "  print(i.items())"
      ],
      "metadata": {
        "colab": {
          "base_uri": "https://localhost:8080/",
          "height": 200
        },
        "id": "L437rxd3eY03",
        "outputId": "ec667d68-0fe5-4e76-d8bd-1b31d27ca8d7"
      },
      "execution_count": 279,
      "outputs": [
        {
          "output_type": "error",
          "ename": "AttributeError",
          "evalue": "ignored",
          "traceback": [
            "\u001b[0;31m---------------------------------------------------------------------------\u001b[0m",
            "\u001b[0;31mAttributeError\u001b[0m                            Traceback (most recent call last)",
            "\u001b[0;32m<ipython-input-279-bc60098b9eb0>\u001b[0m in \u001b[0;36m<module>\u001b[0;34m()\u001b[0m\n\u001b[1;32m      9\u001b[0m   \u001b[0mlikes\u001b[0m\u001b[0;34m.\u001b[0m\u001b[0mappend\u001b[0m\u001b[0;34m(\u001b[0m\u001b[0mi\u001b[0m\u001b[0;34m.\u001b[0m\u001b[0mfavorite_count\u001b[0m\u001b[0;34m)\u001b[0m\u001b[0;34m\u001b[0m\u001b[0;34m\u001b[0m\u001b[0m\n\u001b[1;32m     10\u001b[0m   \u001b[0mtime\u001b[0m\u001b[0;34m.\u001b[0m\u001b[0mappend\u001b[0m\u001b[0;34m(\u001b[0m\u001b[0mi\u001b[0m\u001b[0;34m.\u001b[0m\u001b[0mcreated_at\u001b[0m\u001b[0;34m)\u001b[0m\u001b[0;34m\u001b[0m\u001b[0;34m\u001b[0m\u001b[0m\n\u001b[0;32m---> 11\u001b[0;31m   \u001b[0mprint\u001b[0m\u001b[0;34m(\u001b[0m\u001b[0mi\u001b[0m\u001b[0;34m.\u001b[0m\u001b[0mitems\u001b[0m\u001b[0;34m(\u001b[0m\u001b[0;34m)\u001b[0m\u001b[0;34m)\u001b[0m\u001b[0;34m\u001b[0m\u001b[0;34m\u001b[0m\u001b[0m\n\u001b[0m",
            "\u001b[0;31mAttributeError\u001b[0m: 'Status' object has no attribute 'items'"
          ]
        }
      ]
    },
    {
      "cell_type": "markdown",
      "source": [
        "***Loading them in Data Frame***"
      ],
      "metadata": {
        "id": "jLRfc1sZWTYe"
      }
    },
    {
      "cell_type": "code",
      "source": [
        "# save them as dataframe by passing variables as a columns\n",
        "df = pd.DataFrame({\"tweets\":tweets, \"likes\":likes, \"time\":time})\n",
        "df= df[~df.tweets.str.contains(\"RT\")].reset_index(drop=True)\n",
        "#now lets make only tweets thats has not Re-Tweeted!\n",
        "\n",
        "df.head()"
      ],
      "metadata": {
        "colab": {
          "base_uri": "https://localhost:8080/",
          "height": 206
        },
        "id": "VLCv27NgQCOu",
        "outputId": "4b2687b5-92d4-47b5-e715-a54c52893d81"
      },
      "execution_count": 255,
      "outputs": [
        {
          "output_type": "execute_result",
          "data": {
            "text/plain": [
              "                                              tweets   likes  \\\n",
              "0  @thesheetztweetz Their attempt to bait and swi...   12048   \n",
              "1            @SawyerMerritt Hardly anyone knows this   68791   \n",
              "2  @alex_avoigt @WholeMarsBlog Probably only a fe...    4420   \n",
              "3  @business Twitter me &amp; real-life me are qu...  144931   \n",
              "4  @BloombergLive @Twitter The vote of confidence...   41694   \n",
              "\n",
              "                 time  \n",
              "0 2022-06-21 22:33:11  \n",
              "1 2022-06-21 19:14:51  \n",
              "2 2022-06-21 17:04:33  \n",
              "3 2022-06-21 17:02:15  \n",
              "4 2022-06-21 16:58:57  "
            ],
            "text/html": [
              "\n",
              "  <div id=\"df-a2da1b91-61d2-4171-8ab8-512fa4ac75ea\">\n",
              "    <div class=\"colab-df-container\">\n",
              "      <div>\n",
              "<style scoped>\n",
              "    .dataframe tbody tr th:only-of-type {\n",
              "        vertical-align: middle;\n",
              "    }\n",
              "\n",
              "    .dataframe tbody tr th {\n",
              "        vertical-align: top;\n",
              "    }\n",
              "\n",
              "    .dataframe thead th {\n",
              "        text-align: right;\n",
              "    }\n",
              "</style>\n",
              "<table border=\"1\" class=\"dataframe\">\n",
              "  <thead>\n",
              "    <tr style=\"text-align: right;\">\n",
              "      <th></th>\n",
              "      <th>tweets</th>\n",
              "      <th>likes</th>\n",
              "      <th>time</th>\n",
              "    </tr>\n",
              "  </thead>\n",
              "  <tbody>\n",
              "    <tr>\n",
              "      <th>0</th>\n",
              "      <td>@thesheetztweetz Their attempt to bait and swi...</td>\n",
              "      <td>12048</td>\n",
              "      <td>2022-06-21 22:33:11</td>\n",
              "    </tr>\n",
              "    <tr>\n",
              "      <th>1</th>\n",
              "      <td>@SawyerMerritt Hardly anyone knows this</td>\n",
              "      <td>68791</td>\n",
              "      <td>2022-06-21 19:14:51</td>\n",
              "    </tr>\n",
              "    <tr>\n",
              "      <th>2</th>\n",
              "      <td>@alex_avoigt @WholeMarsBlog Probably only a fe...</td>\n",
              "      <td>4420</td>\n",
              "      <td>2022-06-21 17:04:33</td>\n",
              "    </tr>\n",
              "    <tr>\n",
              "      <th>3</th>\n",
              "      <td>@business Twitter me &amp;amp; real-life me are qu...</td>\n",
              "      <td>144931</td>\n",
              "      <td>2022-06-21 17:02:15</td>\n",
              "    </tr>\n",
              "    <tr>\n",
              "      <th>4</th>\n",
              "      <td>@BloombergLive @Twitter The vote of confidence...</td>\n",
              "      <td>41694</td>\n",
              "      <td>2022-06-21 16:58:57</td>\n",
              "    </tr>\n",
              "  </tbody>\n",
              "</table>\n",
              "</div>\n",
              "      <button class=\"colab-df-convert\" onclick=\"convertToInteractive('df-a2da1b91-61d2-4171-8ab8-512fa4ac75ea')\"\n",
              "              title=\"Convert this dataframe to an interactive table.\"\n",
              "              style=\"display:none;\">\n",
              "        \n",
              "  <svg xmlns=\"http://www.w3.org/2000/svg\" height=\"24px\"viewBox=\"0 0 24 24\"\n",
              "       width=\"24px\">\n",
              "    <path d=\"M0 0h24v24H0V0z\" fill=\"none\"/>\n",
              "    <path d=\"M18.56 5.44l.94 2.06.94-2.06 2.06-.94-2.06-.94-.94-2.06-.94 2.06-2.06.94zm-11 1L8.5 8.5l.94-2.06 2.06-.94-2.06-.94L8.5 2.5l-.94 2.06-2.06.94zm10 10l.94 2.06.94-2.06 2.06-.94-2.06-.94-.94-2.06-.94 2.06-2.06.94z\"/><path d=\"M17.41 7.96l-1.37-1.37c-.4-.4-.92-.59-1.43-.59-.52 0-1.04.2-1.43.59L10.3 9.45l-7.72 7.72c-.78.78-.78 2.05 0 2.83L4 21.41c.39.39.9.59 1.41.59.51 0 1.02-.2 1.41-.59l7.78-7.78 2.81-2.81c.8-.78.8-2.07 0-2.86zM5.41 20L4 18.59l7.72-7.72 1.47 1.35L5.41 20z\"/>\n",
              "  </svg>\n",
              "      </button>\n",
              "      \n",
              "  <style>\n",
              "    .colab-df-container {\n",
              "      display:flex;\n",
              "      flex-wrap:wrap;\n",
              "      gap: 12px;\n",
              "    }\n",
              "\n",
              "    .colab-df-convert {\n",
              "      background-color: #E8F0FE;\n",
              "      border: none;\n",
              "      border-radius: 50%;\n",
              "      cursor: pointer;\n",
              "      display: none;\n",
              "      fill: #1967D2;\n",
              "      height: 32px;\n",
              "      padding: 0 0 0 0;\n",
              "      width: 32px;\n",
              "    }\n",
              "\n",
              "    .colab-df-convert:hover {\n",
              "      background-color: #E2EBFA;\n",
              "      box-shadow: 0px 1px 2px rgba(60, 64, 67, 0.3), 0px 1px 3px 1px rgba(60, 64, 67, 0.15);\n",
              "      fill: #174EA6;\n",
              "    }\n",
              "\n",
              "    [theme=dark] .colab-df-convert {\n",
              "      background-color: #3B4455;\n",
              "      fill: #D2E3FC;\n",
              "    }\n",
              "\n",
              "    [theme=dark] .colab-df-convert:hover {\n",
              "      background-color: #434B5C;\n",
              "      box-shadow: 0px 1px 3px 1px rgba(0, 0, 0, 0.15);\n",
              "      filter: drop-shadow(0px 1px 2px rgba(0, 0, 0, 0.3));\n",
              "      fill: #FFFFFF;\n",
              "    }\n",
              "  </style>\n",
              "\n",
              "      <script>\n",
              "        const buttonEl =\n",
              "          document.querySelector('#df-a2da1b91-61d2-4171-8ab8-512fa4ac75ea button.colab-df-convert');\n",
              "        buttonEl.style.display =\n",
              "          google.colab.kernel.accessAllowed ? 'block' : 'none';\n",
              "\n",
              "        async function convertToInteractive(key) {\n",
              "          const element = document.querySelector('#df-a2da1b91-61d2-4171-8ab8-512fa4ac75ea');\n",
              "          const dataTable =\n",
              "            await google.colab.kernel.invokeFunction('convertToInteractive',\n",
              "                                                     [key], {});\n",
              "          if (!dataTable) return;\n",
              "\n",
              "          const docLinkHtml = 'Like what you see? Visit the ' +\n",
              "            '<a target=\"_blank\" href=https://colab.research.google.com/notebooks/data_table.ipynb>data table notebook</a>'\n",
              "            + ' to learn more about interactive tables.';\n",
              "          element.innerHTML = '';\n",
              "          dataTable['output_type'] = 'display_data';\n",
              "          await google.colab.output.renderOutput(dataTable, element);\n",
              "          const docLink = document.createElement('div');\n",
              "          docLink.innerHTML = docLinkHtml;\n",
              "          element.appendChild(docLink);\n",
              "        }\n",
              "      </script>\n",
              "    </div>\n",
              "  </div>\n",
              "  "
            ]
          },
          "metadata": {},
          "execution_count": 255
        }
      ]
    },
    {
      "cell_type": "code",
      "source": [
        "# Top most liked tweets\n",
        "mostlike= df.loc[df.likes.nlargest(10).index].set_index(\"tweets\")\n",
        "mostlike"
      ],
      "metadata": {
        "colab": {
          "base_uri": "https://localhost:8080/",
          "height": 612
        },
        "id": "eq_q7Q1gUW2E",
        "outputId": "44beb025-4e7c-4aef-99de-b4e8fb4bb0a4"
      },
      "execution_count": 256,
      "outputs": [
        {
          "output_type": "execute_result",
          "data": {
            "text/plain": [
              "                                                     likes                time\n",
              "tweets                                                                        \n",
              "https://t.co/YhpHKcCYXz                             758229 2022-06-21 15:53:59\n",
              "https://t.co/oD5D5CVe5A                             574063 2022-06-17 21:15:31\n",
              "https://t.co/adMlWpAfz1                             520181 2022-06-14 19:27:43\n",
              "Humor is one of the great joys of life!             476879 2022-06-11 22:24:31\n",
              "Happy Father’s Day                                  445702 2022-06-19 05:45:31\n",
              "Is TikTok destroying civilization? Some people ...  440241 2022-06-18 00:57:04\n",
              "I will keep supporting Dogecoin                     392937 2022-06-19 06:19:16\n",
              "Words are beautiful                                 287189 2022-06-12 20:47:10\n",
              "Cryptonight                                         278938 2022-06-15 00:54:50\n",
              "Original Top Gun is a great movie. Just rewatch...  261658 2022-06-15 17:17:20"
            ],
            "text/html": [
              "\n",
              "  <div id=\"df-79291abb-705a-41f8-8c74-553cb34d72f8\">\n",
              "    <div class=\"colab-df-container\">\n",
              "      <div>\n",
              "<style scoped>\n",
              "    .dataframe tbody tr th:only-of-type {\n",
              "        vertical-align: middle;\n",
              "    }\n",
              "\n",
              "    .dataframe tbody tr th {\n",
              "        vertical-align: top;\n",
              "    }\n",
              "\n",
              "    .dataframe thead th {\n",
              "        text-align: right;\n",
              "    }\n",
              "</style>\n",
              "<table border=\"1\" class=\"dataframe\">\n",
              "  <thead>\n",
              "    <tr style=\"text-align: right;\">\n",
              "      <th></th>\n",
              "      <th>likes</th>\n",
              "      <th>time</th>\n",
              "    </tr>\n",
              "    <tr>\n",
              "      <th>tweets</th>\n",
              "      <th></th>\n",
              "      <th></th>\n",
              "    </tr>\n",
              "  </thead>\n",
              "  <tbody>\n",
              "    <tr>\n",
              "      <th>https://t.co/YhpHKcCYXz</th>\n",
              "      <td>758229</td>\n",
              "      <td>2022-06-21 15:53:59</td>\n",
              "    </tr>\n",
              "    <tr>\n",
              "      <th>https://t.co/oD5D5CVe5A</th>\n",
              "      <td>574063</td>\n",
              "      <td>2022-06-17 21:15:31</td>\n",
              "    </tr>\n",
              "    <tr>\n",
              "      <th>https://t.co/adMlWpAfz1</th>\n",
              "      <td>520181</td>\n",
              "      <td>2022-06-14 19:27:43</td>\n",
              "    </tr>\n",
              "    <tr>\n",
              "      <th>Humor is one of the great joys of life!</th>\n",
              "      <td>476879</td>\n",
              "      <td>2022-06-11 22:24:31</td>\n",
              "    </tr>\n",
              "    <tr>\n",
              "      <th>Happy Father’s Day</th>\n",
              "      <td>445702</td>\n",
              "      <td>2022-06-19 05:45:31</td>\n",
              "    </tr>\n",
              "    <tr>\n",
              "      <th>Is TikTok destroying civilization? Some people think so.</th>\n",
              "      <td>440241</td>\n",
              "      <td>2022-06-18 00:57:04</td>\n",
              "    </tr>\n",
              "    <tr>\n",
              "      <th>I will keep supporting Dogecoin</th>\n",
              "      <td>392937</td>\n",
              "      <td>2022-06-19 06:19:16</td>\n",
              "    </tr>\n",
              "    <tr>\n",
              "      <th>Words are beautiful</th>\n",
              "      <td>287189</td>\n",
              "      <td>2022-06-12 20:47:10</td>\n",
              "    </tr>\n",
              "    <tr>\n",
              "      <th>Cryptonight</th>\n",
              "      <td>278938</td>\n",
              "      <td>2022-06-15 00:54:50</td>\n",
              "    </tr>\n",
              "    <tr>\n",
              "      <th>Original Top Gun is a great movie. Just rewatched. Looking forward to seeing the sequel.</th>\n",
              "      <td>261658</td>\n",
              "      <td>2022-06-15 17:17:20</td>\n",
              "    </tr>\n",
              "  </tbody>\n",
              "</table>\n",
              "</div>\n",
              "      <button class=\"colab-df-convert\" onclick=\"convertToInteractive('df-79291abb-705a-41f8-8c74-553cb34d72f8')\"\n",
              "              title=\"Convert this dataframe to an interactive table.\"\n",
              "              style=\"display:none;\">\n",
              "        \n",
              "  <svg xmlns=\"http://www.w3.org/2000/svg\" height=\"24px\"viewBox=\"0 0 24 24\"\n",
              "       width=\"24px\">\n",
              "    <path d=\"M0 0h24v24H0V0z\" fill=\"none\"/>\n",
              "    <path d=\"M18.56 5.44l.94 2.06.94-2.06 2.06-.94-2.06-.94-.94-2.06-.94 2.06-2.06.94zm-11 1L8.5 8.5l.94-2.06 2.06-.94-2.06-.94L8.5 2.5l-.94 2.06-2.06.94zm10 10l.94 2.06.94-2.06 2.06-.94-2.06-.94-.94-2.06-.94 2.06-2.06.94z\"/><path d=\"M17.41 7.96l-1.37-1.37c-.4-.4-.92-.59-1.43-.59-.52 0-1.04.2-1.43.59L10.3 9.45l-7.72 7.72c-.78.78-.78 2.05 0 2.83L4 21.41c.39.39.9.59 1.41.59.51 0 1.02-.2 1.41-.59l7.78-7.78 2.81-2.81c.8-.78.8-2.07 0-2.86zM5.41 20L4 18.59l7.72-7.72 1.47 1.35L5.41 20z\"/>\n",
              "  </svg>\n",
              "      </button>\n",
              "      \n",
              "  <style>\n",
              "    .colab-df-container {\n",
              "      display:flex;\n",
              "      flex-wrap:wrap;\n",
              "      gap: 12px;\n",
              "    }\n",
              "\n",
              "    .colab-df-convert {\n",
              "      background-color: #E8F0FE;\n",
              "      border: none;\n",
              "      border-radius: 50%;\n",
              "      cursor: pointer;\n",
              "      display: none;\n",
              "      fill: #1967D2;\n",
              "      height: 32px;\n",
              "      padding: 0 0 0 0;\n",
              "      width: 32px;\n",
              "    }\n",
              "\n",
              "    .colab-df-convert:hover {\n",
              "      background-color: #E2EBFA;\n",
              "      box-shadow: 0px 1px 2px rgba(60, 64, 67, 0.3), 0px 1px 3px 1px rgba(60, 64, 67, 0.15);\n",
              "      fill: #174EA6;\n",
              "    }\n",
              "\n",
              "    [theme=dark] .colab-df-convert {\n",
              "      background-color: #3B4455;\n",
              "      fill: #D2E3FC;\n",
              "    }\n",
              "\n",
              "    [theme=dark] .colab-df-convert:hover {\n",
              "      background-color: #434B5C;\n",
              "      box-shadow: 0px 1px 3px 1px rgba(0, 0, 0, 0.15);\n",
              "      filter: drop-shadow(0px 1px 2px rgba(0, 0, 0, 0.3));\n",
              "      fill: #FFFFFF;\n",
              "    }\n",
              "  </style>\n",
              "\n",
              "      <script>\n",
              "        const buttonEl =\n",
              "          document.querySelector('#df-79291abb-705a-41f8-8c74-553cb34d72f8 button.colab-df-convert');\n",
              "        buttonEl.style.display =\n",
              "          google.colab.kernel.accessAllowed ? 'block' : 'none';\n",
              "\n",
              "        async function convertToInteractive(key) {\n",
              "          const element = document.querySelector('#df-79291abb-705a-41f8-8c74-553cb34d72f8');\n",
              "          const dataTable =\n",
              "            await google.colab.kernel.invokeFunction('convertToInteractive',\n",
              "                                                     [key], {});\n",
              "          if (!dataTable) return;\n",
              "\n",
              "          const docLinkHtml = 'Like what you see? Visit the ' +\n",
              "            '<a target=\"_blank\" href=https://colab.research.google.com/notebooks/data_table.ipynb>data table notebook</a>'\n",
              "            + ' to learn more about interactive tables.';\n",
              "          element.innerHTML = '';\n",
              "          dataTable['output_type'] = 'display_data';\n",
              "          await google.colab.output.renderOutput(dataTable, element);\n",
              "          const docLink = document.createElement('div');\n",
              "          docLink.innerHTML = docLinkHtml;\n",
              "          element.appendChild(docLink);\n",
              "        }\n",
              "      </script>\n",
              "    </div>\n",
              "  </div>\n",
              "  "
            ]
          },
          "metadata": {},
          "execution_count": 256
        }
      ]
    },
    {
      "cell_type": "markdown",
      "source": [
        "***Sentiment Analytics***"
      ],
      "metadata": {
        "id": "vOtG_wSxWMM-"
      }
    },
    {
      "cell_type": "code",
      "source": [
        "# Libaries for sentiment analytics (NLP)\n",
        "import matplotlib.pyplot as plt\n",
        "import re\n",
        "import spacy\n",
        "import seaborn as sns"
      ],
      "metadata": {
        "id": "UZHiQGvDUWqF"
      },
      "execution_count": 258,
      "outputs": []
    },
    {
      "cell_type": "code",
      "source": [
        "import spacy.cli\n",
        "#spacy.cli.download(\"en_core_web_lg\")\n",
        "nlp = spacy.load('en_core_web_lg')"
      ],
      "metadata": {
        "id": "24VFaRByUWWY"
      },
      "execution_count": 259,
      "outputs": []
    },
    {
      "cell_type": "code",
      "source": [
        "# Split all the sentances and creat the list of sentence of from the tweet columns\n",
        "list_of_sentences = [sentence for sentence in df.tweets]\n",
        "\n",
        "lines = []\n",
        "for sentence in list_of_sentences:\n",
        "  words = sentence.split()\n",
        "  for w in words:\n",
        "    lines.append(w)\n",
        "print(lines)"
      ],
      "metadata": {
        "colab": {
          "base_uri": "https://localhost:8080/"
        },
        "id": "G7mEkHdpdBUT",
        "outputId": "cddb5aab-84e6-4dd5-a14d-d5fbf865c525"
      },
      "execution_count": 260,
      "outputs": [
        {
          "output_type": "stream",
          "name": "stdout",
          "text": [
            "['@thesheetztweetz', 'Their', 'attempt', 'to', 'bait', 'and', 'switch', 'satellite', 'spectrum', 'for', 'cellular', 'spectrum', 'is', 'super', 'shady', 'and', 'unethical.', 'If', 'they', 'are', 'successful,', 'it', 'would', 'hurt', 'the', 'least', 'served', 'and', 'completely', 'unserved', 'of', 'the', 'world.', 'Very', 'messed', 'up.', '@SawyerMerritt', 'Hardly', 'anyone', 'knows', 'this', '@alex_avoigt', '@WholeMarsBlog', 'Probably', 'only', 'a', 'few', 'months', '@business', 'Twitter', 'me', '&amp;', 'real-life', 'me', 'are', 'quite', 'different', 'haha!', 'https://t.co/zedimZrthW', '@BloombergLive', '@Twitter', 'The', 'vote', 'of', 'confidence', 'is', 'much', 'appreciated', 'https://t.co/YhpHKcCYXz', '@Degentraland', 'Artificial', 'Insemination?', 'AI', 'gets', 'better', 'every', 'day', 'https://t.co/Lz5XfXRJjh', 'Some', 'great', 'suggestions', 'in', 'the', 'comments!', 'But', 'sometimes', 'they’re', 'out', 'of', 'stock', 'https://t.co/ybRiBp1kkP', '@marenkahnert', 'That', 'was', 'the', 'largest', 'wheel', 'of', 'cheese', 'in', 'the', 'Beverly', 'Hills', 'Cheese', 'Shop!', '@teslaownersSV', 'I', 'love', 'many', 'cheeses,', 'so', 'hard', 'to', 'say', 'that', 'a', 'particular', 'one', 'is', 'best,', 'but', 'maybe', 'Stilton', 'The', 'sheer', 'variety', 'of', 'cheese', 'is', 'amazing', 'What', '…', 'is', 'your', 'favorite', 'cheese?', '@teslaownersSV', 'cgi', 'irl', '@Andst7', 'Trending', 'to', 'emptiness', '@waitbutwhy', 'Could', 'be', 'a', 'contributor', '@teslaownersSV', '@SpaceX', 'Super', 'talented', 'team', 'at', 'SpaceX', '@jmhorp', '@paulg', 'Interesting', '@ilyasut', 'Maybe', 'we’re', 'in', 'a', 'computer', '@waitbutwhy', '@BillyM2k', '🤣', '@AltcoinGordon', 'I', 'am', 'I', 'will', 'keep', 'supporting', 'Dogecoin', '💕💕', 'shadow', 'crew', '💕💕', '@BillyM2k', 'I', 'feel', 'swindled', 'every', 'time', 'I', 'drink', 'one', '@EvaFoxU', 'Gwynne', 'is', 'the', 'best', '@VladimirVargasM', 'He', 'did', 'teach', 'me', 'a', 'lot', 'of', 'engineering', '&amp;', 'physics', 'while', 'growing', 'up', '(in', 'an', 'environment', 'that', 'was', 'austere', '&amp;', 'often', 'bleak)', 'I', 'love', 'all', 'my', 'kids', 'so', 'much', '@zebulgar', '💯👍', '@Liv_Boeree', 'Eventually,', 'everything', 'runs', 'out', 'of', 'time.', 'https://t.co/j4ZHlahNXC', 'Happy', 'Father’s', 'Day', 'If', 'you', 'can’t', 'smell', 'your', 'wifi,', 'how', 'do', 'you', 'know', 'it’s', 'real?', 'Congrats', 'to', 'SpaceX', 'Falcon', 'team', 'for', 'executing', '3', 'flawless', 'launches', 'in', '2', 'days!', 'https://t.co/2MFmlkXmVz', '@BillyM2k', '@CryptoWhale', 'Good', 'question', 'To', 'answer', 'the', 'question:', 'Why', 'Twitter?', 'This', 'will', 'encourage', 'people', 'to', 'change', 'it', 'haha', 'I’m', 'pretty', 'sure', 'that', 'unique', 'We’re', 'changing', 'Starlink’s', 'default', 'wifi', 'name', 'to', 'Stinky', 'This', 'is', 'where', 'the', 'writers', 'are,', 'Of', 'past,', 'Present,', 'And', 'Future.', '@BillyM2k', 'The', 'only', 'thing', 'keeping', 'the', 'other', 'orbital', 'rocket', 'programs', 'alive', 'is', 'government', 'protection', 'or', 'they’d', 'be', 'deader', 'than', 'a', 'doornail', 'and', 'everyone', 'knows', 'it.', 'But', 'oh', 'well', '…', 'comme', 'ci,', 'comme', 'ça.', '@BillyM2k', 'The', 'super', 'weird', 'thing', 'is', 'that', 'Falcon', '9', 'is', 'still', 'the', 'only', 'orbital', 'booster', 'to', 'land', 'or', 'refly', 'after', 'all', 'these', 'years!', '@Adam_4T', '@Google', '🤣', 'Feels', 'like', 'déjà', 'vu', 'all', 'over', 'again', 'haha', 'https://t.co/ZokV7kPBV1', '@Erdayastronaut', '@IzanRamos2002', '@Caspar_Stanley', 'Yes,', 'about', '20%', 'more', 'thrust', '&amp;', '20%', 'less', 'mass,', 'but', 'focus', 'has', 'been', 'heavily', 'on', 'production', 'rate', '&amp;', 'reliability.', 'Mass,', 'thrust', '&amp;', 'Isp', 'will', 'all', 'improve,', 'as', 'will', 'production', 'rate,', 'reliability', '&amp;', 'cost.', 'This', 'is', 'the', 'only', 'way', 'to', 'make', 'life', 'multi-planetary', 'and', 'extend', 'consciousness', 'into', 'the', 'void.', '@WholeMarsBlog', '🤣', '@BillyM2k', 'More', 'currency-like', '@BillyM2k', 'Tesla', 'and', 'SpaceX', 'merch,', 'maybe', 'more', 'down', 'the', 'road', '@dennis_wilborn', 'Rock', 'on!', '@TeslaAIBot', '@__SeriousGemini', 'But', 'we', 'should', 'have', 'humans', 'too!', '@nichegamer', '🤣', 'Congratulations', 'to', 'Giga', 'Berlin', 'team', 'on', 'making', 'over', '1000', 'cars', 'in', 'a', 'week!', 'https://t.co/TX8S4ozuxJ', '@EvaFoxU', '🤣👍💯', '@blueskykites', '@Tesla', '@SpaceX', '@mayemusk', '@WholeMarsBlog', '@28delayslater', '@JohnnaCrider1', '@Kristennetten', '@SirineAti', '@GailAlfarATX', '@DimaZeniuk', '@bevedoni', '@RationalEtienne', '@ashleevance', '@adamhoov', '@klwtts', '@RenataKonkoly', 'For', 'a', 'couple', 'of', 'months,', 'but,', 'yeah,', 'that', 'looks', 'like', 'the', 'place.', 'Does', 'Mark', 'still', 'live', 'there?', '@EvaFoxU', '@BillyM2k', 'I’m', 'a', 'dirty', 'rocket', 'It', 'may', 'as', 'be', 'a', 'documentary,', 'since', 'it’s', 'coming', 'true', 'Watch', 'the', 'opening', 'scene', 'of', 'Idiocracy.', 'When', 'I', 'ask', 'my', 'friends', 'why', 'they’re', 'not', 'yet', 'having', 'kids', '(very', 'few', 'are),', 'it', 'sounds', 'exactly', 'like', 'the', 'movie.', 'https://t.co/528L1mhHi1', '@BigImpactHumans', 'My', 'son', '(SJM)', 'wanted', 'to', 'know', 'why', 'we', 'couldn’t', 'have', '20,000', 'cats.', 'Perhaps', 'this', 'will', 'make', 'him', 'reconsider.', 'Or', 'perhaps', 'social', 'media', 'in', 'general', '@rabois', 'Hmm', '…', 'Is', 'TikTok', 'destroying', 'civilization?', 'Some', 'people', 'think', 'so.', '@EvaFoxU', 'Interesting', '@WholeMarsBlog', 'Lame', 'https://t.co/oD5D5CVe5A', '@BillyM2k', '@Austen', '🤣🤣', '@PPathole', 'Yeah', '@RenataKonkoly', '@SawyerMerritt', 'So', 'much', 'free', 'advertising!', '🤣🤣', '@SawyerMerritt', 'Hyundai', 'is', 'doing', 'pretty', 'well', '@PPathole', 'Exactly', 'And', 'rocket', 'landings', 'are', 'now', 'triple', 'digits', 'Our', 'best', 'landing', 'video', 'to', 'date,', 'thanks', 'to', 'Starlink!', 'https://t.co/kAjA3mxBta', '@teslaownersSV', '@UAW', '@GM', '@klwtts', 'Yup', '@westcoastbill', 'Yeah', '@Model3Owners', 'Ok', '@jespow', '@krakenfx', 'Good', 'thread', '@DegreaseNeil', 'That’s', 'why', 'Dragon', 'has', 'shields', '@teslaownersSV', '@ID_AA_Carmack', 'There', 'will', 'probably', 'be', 'several', 'launch', 'countdowns', 'before', 'we', 'pass', 'all', 'the', 'abort', 'triggers,', 'but', 'hopefully', 'first', 'countdown', 'is', 'next', 'month', '@ID_AA_Carmack', 'Yes,', 'but', 'it', 'is', 'achievable', '@__SeriousGemini', '@BillyM2k', '🤣', '@BillyM2k', '@__SeriousGemini', '@bennyjohnson', 'Accurate', '@EvaFoxU', 'Exactly', '@Cernovich', 'Wow', '@Andst7', 'Haha', '@bennyjohnson', 'Interesting', '@lexfridman', 'True', '@GregScott_photo', '@FarryFaz', '@SpaceX', '@MarcusHouse', '@LabPadre', '@13ericralph31', '@spaceflashnews', '@spacex360', '@SpaceIntellige3', '@DJSnM', '@Erdayastronaut', '@ScalesNews', 'SpaceX', 'team', 'is', 'making', 'great', 'progress', 'at', 'the', 'Cape', '&amp;', 'Starbase!', '@sourpatchlyds', '@Twitter', 'Exactly', '@BillyM2k', '@Rainmaker1973', '💯', '@alex_avoigt', '@Kaih042018', '@klwtts', 'True', '(sigh)', '@dogeofficialceo', '@BillyM2k', 'Also,', 'In', 'Sink', 'band', 'should', 'let', 'in', 'a', 'tiny', 'sink', '@ashleevance', '🤣', '@MatchasmMatt', '@EvaFoxU', 'So', 'it', 'goes', '@EvaFoxU', 'Good', 'thread', '@PPathole', '@paulg', 'Awe', 'no,', 'I’m', 'busted!', '@joeydillon', 'The', 'Austin', 'airport', 'needs', 'to', 'be', 'upgraded', 'as', 'fast', 'as', 'possible', '@PPathole', '@teslaownersSV', 'Have', 'kids!', '@BillyM2k', '@dogeofficialceo', '🤣🤣', '@BillyM2k', 'Haha', '💯', '@teslaownersSV', 'It’s', 'a', 'bigger', 'risk', 'than', 'AI,', 'so', 'I’d', 'put', 'it', 'at', '#1.', 'If', 'these', 'trends', 'continue,', 'humanity', 'will', 'cease', 'to', 'exist.', '@ray4tesla', '👍', '@teslaownersSV', '@klwtts', 'Yup', '@BLKMDL3', 'Better', 'Civilization', 'sterilized', 'Amazing', 'flying', 'scenes', 'were', 'to', 'be', 'expected,', 'but', 'the', 'writing', 'is', 'good', 'too', '@BillyM2k', '@KBluezr', '💯', '@LUCKYNoSL7VIN', '@realDailyWire', 'I', 'love', 'Fred', 'Astaire', '@BillyM2k', '@paulg', 'Ok', 'then', 'I’m', 'second', '@paulg', 'I’m', 'the', 'absolute', 'best', 'at', 'humility!', '@realDailyWire', 'At', 'this', 'point,', 'I', 'should', 'just', 'wear', 'a', 'monocle', 'and', 'a', 'top', 'hat', 'haha', '@TeslaOwnersEBay', '@BillyM2k', '🤣', '@BillyM2k', 'In', 'Sink', 'was', '🔥🔥', 'I’m', 'dressing', 'as', 'a', 'sink', 'on', 'Halloween,', 'as', 'they', 'will', 'have', 'no', 'choice', 'but', 'to', 'let', 'me', 'in', '@EvaFoxU', 'Correct', 'Original', 'Top', 'Gun', 'is', 'a', 'great', 'movie.', 'Just', 'rewatched.', 'Looking', 'forward', 'to', 'seeing', 'the', 'sequel.', '@RenataKonkoly', '@EliBurton_', '@kgee', '@teslaownersSV', '@klwtts', 'So', 'far,', 'the', 'entire', 'history', 'of', 'human', 'civilization', 'is', 'just', 'a', 'flash', 'in', 'the', 'pan,', 'but', 'there', 'is', 'potential', 'to', 'last', 'much', 'longer', '@PPathole', '@teslaownersSV', 'Yeah,', 'it’s', 'crazy.', 'Model', '3', 'has', 'the', 'most', 'US', 'content', 'of', 'any', 'car', 'made', 'today.', '@teslaownersSV', 'Buyers', 'of', 'competing', 'electric', 'cars', 'receive', 'a', '$7500', 'tax', 'credit,', 'but', 'Tesla', 'does', 'not', '@PPathole', '@TheTexanNews', '@MayraFlores2022', 'Yes', '@teslaownersSV', '@spideycyp_155', '@TheTexanNews', '@MayraFlores2022', 'What', 'gave', 'it', 'away?', 'Haha', '@PPathole', '@teslaownersSV', '@TheTexanNews', '@MayraFlores2022', '@AndrewYang', 'I', 'supported', 'Yang', 'last', 'time,', 'but', 'DeSantis', 'has', 'a', 'better', 'chance', 'of', 'winning', '@spideycyp_155', '@teslaownersSV', '@TheTexanNews', '@MayraFlores2022', 'I’m', 'thinking', 'of', 'creating', 'a', '“Super', 'Moderate', 'Super', 'PAC”', 'that', 'supports', 'candidates', 'with', 'centrist', 'views', 'from', 'all', 'parties', '@DogecoinNorway', '@teslaownersSV', '@TheTexanNews', '@MayraFlores2022', '👍', '@teslaownersSV', '@TheTexanNews', '@MayraFlores2022', 'DeSantis', '@teslaownersSV', '@TheTexanNews', '@MayraFlores2022', 'tbd', '@TheTexanNews', '@MayraFlores2022', 'I', 'voted', 'for', 'Mayra', 'Flores', '–', 'first', 'time', 'I', 'ever', 'voted', 'Republican.', 'Massive', 'red', 'wave', 'in', '2022.', '@BillyM2k', 'True', '@Postmates', '@drevangoldstein', '@smartthrob', 'https://t.co/sDWY3JJZSF', '@Rainmaker1973', 'You', 'can', 'see', 'the', 'whole', 'engine', 'moving', 'to', 'steer', '@TrungTPhan', 'fr', 'no', 'cap!', 'Starship', 'SN24', 'in', 'the', 'High', 'Bay', 'https://t.co/vDZ4yBV1MF', '@DrKnowItAll16', '@jamesdouma', 'I’m', 'driving', 'an', 'alpha', 'version', 'of', 'FSD', 'on', 'highway', 'and', 'it’s', 'not', 'quite', 'ready.', 'Probably', 'ready', 'for', 'wide', 'release', 'this', 'summer.', 'Cryptonight', '@teslaownersSV', '@UAW', '@klwtts', 'Yup', '@TeslaGong', '@fchollet', 'Probably', 'later', 'this', 'year', '@fchollet', 'You', 'obviously', 'haven’t', 'tried', 'Tesla', 'FSD', '@teslaownersSV', '@LucidMotors', '@Rivian', '@klwtts', 'If', 'they', 'cut', 'their', 'opex', '&amp;', 'cogs', 'dramatically,', 'then', 'they', 'have', 'a', 'chance,', 'but', 'that', 'hasn’t', 'happened', 'yet', '@ashleevance', '🤣', '@WholeMarsBlog', 'Yeah', 'https://t.co/adMlWpAfz1', '@klwtts', 'Exactly', 'This', 'is', 'highly', 'unusual', 'btw.', 'Statistically,', 'the', 'richer', 'someone', 'is,', 'the', 'fewer', 'kids', 'they', 'have.', '@Erdayastronaut', 'Reusability', 'matters', 'far', 'more', 'than', 'size', '@SirineAti', '@mn_google', 'We', 'will', 'have', 'a', 'second', 'Starship', 'stack', 'ready', 'to', 'fly', 'in', 'August', 'and', 'then', 'monthly', 'thereafter', '@SirineAti', '@mn_google', 'Starship', 'will', 'be', 'ready', 'to', 'fly', 'next', 'month.', 'I', 'was', 'in', 'the', 'high', 'bay', '&amp;', 'mega', 'bay', 'late', 'last', 'night', 'reviewing', 'progress.', '@SawyerMerritt', 'The', 'Tesla', 'tech', 'tree', 'is', 'insane', '@mn_google', '🤬', 'Don’t', 'build', 'moats,', 'build', 'tech', 'trees', '@DJSnM', '@SpaceX', 'I’m', 'told', 'that', 'no', 'ocelot', 'has', 'been', 'seen', 'in', 'the', 'Boca', 'Chica', 'area', 'for', '~40', 'years.', 'We', 'have', 'many', 'motion-activated', 'cameras', 'around', 'Starbase', '–', 'thousands', 'of', 'clips', 'of', 'coyotes,', 'dogs', '&amp;', 'cats,', 'but', 'no', 'ocelots.', '@SpaceX', 'For', 'the', 'first', 'time', 'ever,', 'there', 'is', 'a', 'rocket', 'capable', 'of', 'establishing', 'permanent', 'bases', 'on', 'the', 'moon', 'and', 'Mars', '@PPathole', 'Exactly', '@engineers_feed', '🤣', '@savitrisun', 'Yeah', '😞', 'I', 'mean,', 'I’m', 'doing', 'my', 'part', 'haha', '@simonfunnything', '@jamesdouma', '2', 'weeks', 'Past', 'two', 'years', 'have', 'been', 'a', 'demographic', 'disaster', '@jamesdouma', 'In', 'that', 'case,', 'you', 'will', 'really', 'love', '10.13', '@stillgray', '@libsoftiktok', '@Twitter', 'A', 'platform', 'cannot', 'be', 'considered', 'inclusive', 'or', 'fair', 'if', 'it', 'is', 'biased', 'against', 'half', 'the', 'country', '@libsoftiktok', 'Why?', '@Twitter', '@cleantechnica', 'Good', 'progress', '@lexfridman', '@Twitter', '💯', '@BLKMDL3', '@Tesla', 'Nice!', '@techAU', 'We’re', 'working', 'on', 'accelerating', 'RHD', 'Model', 'Y', 'production.', 'Didn’t', 'expect', 'demand', 'to', 'be', 'so', 'high!', '@amariei_p', '@brian_heide', '@TrungTPhan', 'Yup', '@brian_heide', '@TrungTPhan', 'It', 'is', 'Words', 'are', 'beautiful', '@TOCNYS', 'Exactly', '@pauldelutser', 'Yeah', 'True', 'experts', 'even', 'read', 'wiki', 'citations', 'https://t.co/MDU2oYmTpH', '@jonbbc', 'True', '@Erdayastronaut', '@SpaceX', 'Merlin', 'is', 'so', 'simple', 'compared', 'to', 'Raptor!', '@TrungTPhan', 'When', 'Starlink', 'comes', 'along', 'https://t.co/5HGWVk5TQW', '@teslaownersSV', '@Tesla', 'Yes', '@truth_tesla', '@ID_AA_Carmack', 'Weird,', 'I', 'wonder', 'why', 'this', 'is', 'happening', '@ICannot_Enough', 'You’re', 'pretty', 'great', '@RenataKonkoly', '@harsimranbansal', '@BillyM2k', 'James', '@harsimranbansal', '@BillyM2k', 'My', 'son,', 'Saxon,', 'suggested', 'having', 'a', 'party', 'for', 'the', 'whole', 'world,', 'a', 'world', 'party', 'day!', '@karpathy', 'Wen', 'humor?', '@BillyM2k', 'Indeed,', 'the', 'rivalry', 'is', 'strong', '@austinbarnard45', 'Let’s', 'try', 'haha', 'Make', 'Austin', 'weirder!', '@BillyM2k', 'Even', 'if', 'you’re', 'being', 'crucified?', '@ID_AA_Carmack', 'Maybe', 'a', 'bug', '@minorth17', '@Grimezsz', '🔥🔥', '@ashleevance', '!!', '@georgegalloway', '@Twitter', 'I', 'think', 'it’s', 'kinda', 'funny', '🤣', '@mtaibbi', 'It', 'is', 'a', 'better', 'world', 'if', 'we', 'are', 'all', 'less', 'judgy', 'Humor', 'is', 'one', 'of', 'the', 'great', 'joys', 'of', 'life!', '@TalulahRiley', 'Congratulations', 'on', 'your', 'new', 'book!', 'https://t.co/rSVM7zRBAh', '@mtaibbi', 'We', 'are', 'simultaneously', 'being', 'told', 'that', 'gender', 'differences', 'do', 'not', 'exist', 'and', 'that', 'genders', 'are', 'so', 'profoundly', 'different', 'that', 'irreversible', 'surgery', 'is', 'the', 'only', 'option.', 'Perhaps', 'someone', 'wiser', 'than', 'me', 'can', 'explain', 'this', 'dichotomy.', '@mtaibbi', 'Good', '@Kristennetten', 'Cool🇨🇭', '@Rainmaker1973', '250', 'tons', 'of', 'force', 'is', 'achievable', '@Rainmaker1973', 'Lister', 'was', 'ridiculed', 'by', 'the', 'establishment,', 'but', 'he', 'was', 'right.', 'We', 'should', 'question', 'accepted', 'wisdom', 'and', 'bow', 'to', 'the', 'weight', 'of', 'evidence.', '@Erdayastronaut', 'Mars', 'colonial', 'transporter', '33', 'Raptor', 'rocket', 'engines,', 'each', 'producing', '230', 'metric', 'tons', 'of', 'force', 'https://t.co/flQLb62MgZ', '@jack', '@wandrinstar', 'web69', 'is', '🔥🔥', '@stevenmarkryan', '@insidepharma', '@jimcramer', 'True']\n"
          ]
        }
      ]
    },
    {
      "cell_type": "code",
      "source": [
        "# Removing Punctuation by using Regular Expression (RegEx)\n",
        "lines = [re.sub(r'[^A-Za-z0-9]+', '', x) for x in lines]\n",
        "\n",
        "lines2= []\n",
        "\n",
        "for word in lines:\n",
        "  if word != '':\n",
        "    lines2.append(word)"
      ],
      "metadata": {
        "id": "9UIKk_SkdVMo"
      },
      "execution_count": 261,
      "outputs": []
    },
    {
      "cell_type": "code",
      "source": [
        "# Stemming the words to their root\n",
        "from nltk.stem.snowball import SnowballStemmer\n",
        "\n",
        "s_stemmer = SnowballStemmer(language='english')\n",
        "\n",
        "stem= []\n",
        "for word in lines2:\n",
        "  stem.append(s_stemmer.stem(word))"
      ],
      "metadata": {
        "id": "NjfTy11PdU5v"
      },
      "execution_count": 262,
      "outputs": []
    },
    {
      "cell_type": "code",
      "source": [
        "# Removing all the stop words\n",
        "stem2= []\n",
        "\n",
        "for word in stem:\n",
        "  if word not in nlp.Defaults.stop_words:\n",
        "    stem2.append(word)"
      ],
      "metadata": {
        "id": "R-2nVYJngyjI"
      },
      "execution_count": 263,
      "outputs": []
    },
    {
      "cell_type": "code",
      "source": [
        "df2 = pd.DataFrame(stem2)\n",
        "df2 = df2[0].value_counts()\n",
        "df2.head()"
      ],
      "metadata": {
        "colab": {
          "base_uri": "https://localhost:8080/"
        },
        "id": "gGnMycgMhkDv",
        "outputId": "efac1825-4b8b-407e-f9a6-b920ba309d7b"
      },
      "execution_count": 264,
      "outputs": [
        {
          "output_type": "execute_result",
          "data": {
            "text/plain": [
              "billym2k         24\n",
              "teslaownerssv    20\n",
              "amp              11\n",
              "im               10\n",
              "spacex           10\n",
              "Name: 0, dtype: int64"
            ]
          },
          "metadata": {},
          "execution_count": 264
        }
      ]
    },
    {
      "cell_type": "code",
      "source": [
        "# Visualization\n",
        "df2= df2[:20,]\n",
        "plt.figure(figsize=(15,7.5))\n",
        "sns.barplot(df2.values, df2.index, alpha=1)\n",
        "plt.title('Top words Overall')\n",
        "plt.ylabel('Word from Tweet')\n",
        "plt.xlabel('Count of Words')\n",
        "plt.show()"
      ],
      "metadata": {
        "colab": {
          "base_uri": "https://localhost:8080/",
          "height": 391
        },
        "id": "KMUBCjuYiiQo",
        "outputId": "28888e1b-6615-4050-9f26-b5746e69e0e3"
      },
      "execution_count": 265,
      "outputs": [
        {
          "output_type": "display_data",
          "data": {
            "text/plain": [
              "<Figure size 1080x540 with 1 Axes>"
            ],
            "image/png": "[encoded data removed]"
          },
          "metadata": {
            "needs_background": "light"
          }
        }
      ]
    },
    {
      "cell_type": "code",
      "source": [
        "# Visualization for mentions organizations\n",
        "def show_ents(doc):\n",
        "  if doc.ents:\n",
        "    for ent in doc.ents:\n",
        "      print(ent.text + ' - ' + ent.label_ + ' - ' + str(spacy.explain(ent.label_)))"
      ],
      "metadata": {
        "id": "5T-MBw-SkgaJ"
      },
      "execution_count": 266,
      "outputs": []
    },
    {
      "cell_type": "code",
      "source": [
        "str1 = \" \"\n",
        "stem2 = str1.join(lines2)\n",
        "stem2 = nlp(stem2)\n",
        "label = [(X.text, X.label_) for X in stem2.ents]\n",
        "df6 = pd.DataFrame(label, columns = ['Word', 'Entity'])\n",
        "df7 = df6.where(df6['Entity'] == 'ORG')\n",
        "df7 = df7['Word'].value_counts()"
      ],
      "metadata": {
        "id": "C41kIggul6t7"
      },
      "execution_count": 267,
      "outputs": []
    },
    {
      "cell_type": "code",
      "source": [
        "# Visualization again\n",
        "dfx= df7[:20, ]\n",
        "plt.figure(figsize=(15,7.5))\n",
        "sns.barplot(dfx.values, dfx.index, alpha=1)\n",
        "plt.title('Top 20 Organization mentioned over 2000 Tweet posts by DR-Nyheder')\n",
        "plt.ylabel('Word from Tweet', fontsize=12)\n",
        "plt.xlabel('Count of Words', fontsize=12)\n",
        "plt.show()"
      ],
      "metadata": {
        "colab": {
          "base_uri": "https://localhost:8080/",
          "height": 355
        },
        "id": "H5oU49BPnQjR",
        "outputId": "c4b38bf3-62c6-4865-8e78-7abd385bcbde"
      },
      "execution_count": 268,
      "outputs": [
        {
          "output_type": "display_data",
          "data": {
            "text/plain": [
              "<Figure size 1080x540 with 1 Axes>"
            ],
            "image/png": "[encoded data removed]"
          },
          "metadata": {
            "needs_background": "light"
          }
        }
      ]
    },
    {
      "cell_type": "code",
      "source": [
        ""
      ],
      "metadata": {
        "id": "2pPZsmzhl7i6"
      },
      "execution_count": null,
      "outputs": []
    },
    {
      "cell_type": "code",
      "source": [
        ""
      ],
      "metadata": {
        "id": "EP_VKVk_09UA"
      },
      "execution_count": null,
      "outputs": []
    }
  ],
  "metadata": {
    "colab": {
      "name": "TwiteerDataAnalytics.ipynb",
      "provenance": [],
      "mount_file_id": "1QcHp2JfNJiln7VgNSMmi2mx2MzNKBNQw",
      "authorship_tag": "ABX9TyOozSrEcDRwFE2qE0tLc1Ia",
      "include_colab_link": true
    },
    "kernelspec": {
      "display_name": "Python 3",
      "name": "python3"
    },
    "language_info": {
      "name": "python"
    }
  },
  "nbformat": 4,
  "nbformat_minor": 0
}