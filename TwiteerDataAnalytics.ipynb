{
  "cells": [
    {
      "cell_type": "markdown",
      "metadata": {
        "id": "view-in-github",
        "colab_type": "text"
      },
      "source": [
        "<a href=\"https://colab.research.google.com/github/mrchapagain/SocialNetworkAnalytics/blob/main/TwiteerDataAnalytics.ipynb\" target=\"_parent\"><img src=\"https://colab.research.google.com/assets/colab-badge.svg\" alt=\"Open In Colab\"/></a>"
      ]
    },
    {
      "cell_type": "markdown",
      "metadata": {
        "id": "2W-IUZlRhr9E"
      },
      "source": [
        "#Tweeter Data Analytics\n",
        "\n",
        "***Here I will cover:***\n",
        "1.   *Basics of Analyzing Twitter Data*\n",
        "2.   *Processing Twitter text*\n",
        "1.   *Exploring Twitter Networks*\n",
        "2.   *Putting Twitter data on the map*\n",
        "\n",
        "***Twiteer APIs:***\n",
        "*   *Search API*\n",
        "*   *Ads API*\n",
        "*   *Streaming API*"
      ]
    },
    {
      "cell_type": "markdown",
      "source": [
        "#1. Basics of Analyzing Twitter Data"
      ],
      "metadata": {
        "id": "8cv7r_tw_dfj"
      }
    },
    {
      "cell_type": "markdown",
      "metadata": {
        "id": "hGL6drIymfRB"
      },
      "source": [
        "***Libaries***"
      ]
    },
    {
      "cell_type": "code",
      "execution_count": 1,
      "metadata": {
        "id": "Z4NuB4QGb9j1"
      },
      "outputs": [],
      "source": [
        "# Necessary libaries\n",
        "from tweepy import OAuthHandler\n",
        "from tweepy import API\n",
        "import tweepy\n",
        "import pandas as pd\n",
        "import warnings\n",
        "warnings.filterwarnings(\"ignore\")"
      ]
    },
    {
      "cell_type": "markdown",
      "metadata": {
        "id": "JlaIa0FYiacs"
      },
      "source": [
        "***Necessary information form tweet account***\n",
        "*   access_token\n",
        "*   access_token_secret\n",
        "*   consumer_key\n",
        "*   consumer_secret"
      ]
    },
    {
      "cell_type": "markdown",
      "metadata": {
        "id": "EjSxuyyWmY-K"
      },
      "source": [
        "***Tweepy authentication***"
      ]
    },
    {
      "cell_type": "code",
      "execution_count": 30,
      "metadata": {
        "id": "mZEG9JRKh186",
        "colab": {
          "base_uri": "https://localhost:8080/",
          "height": 35
        },
        "outputId": "230e895e-c61e-4b73-df77-f9b3636633af"
      },
      "outputs": [
        {
          "output_type": "execute_result",
          "data": {
            "text/plain": [
              "'mrchapagain'"
            ],
            "application/vnd.google.colaboratory.intrinsic+json": {
              "type": "string"
            }
          },
          "metadata": {},
          "execution_count": 30
        }
      ],
      "source": [
        "\n",
        "#brear_token= 'AAAAAAAAAAAAAAAAAAAAAOlDeQEAAAAAtxFqk6MPlQlb%2BXr9%2F%2FfigPqSrRM%3D5zoaTJT2GA3XhDBDAfgrnCnr1WxeCFVMVT5k3oUz97D4JJfZOD'\n",
        "\n",
        "auth = OAuthHandler(consumer_key, consumer_secret) # Consumer key authentication\n",
        "auth.set_access_token(access_token, access_token_secret) # Access key authentication\n",
        "api = API(auth)  # Set up the API with the authentication handler\n",
        "api.me().screen_name  # just check if it is working"
      ]
    },
    {
      "cell_type": "markdown",
      "source": [
        "***Function for scraping and updating data***"
      ],
      "metadata": {
        "id": "DlhzV8_vdSp-"
      }
    },
    {
      "cell_type": "code",
      "source": [
        "# Function to extact data from twetter user\n",
        "def extract_timeline_as_df(timeline_list):\n",
        "  columns = set()\n",
        "  allowed_types = [str, int]\n",
        "  tweets_data= []\n",
        "\n",
        "  for status in timeline_list:\n",
        "    status_dict= dict(vars(status))\n",
        "    keys= status_dict.keys()\n",
        "\n",
        "    single_tweet_data = {'user': status.user.screen_name, 'author': status.author.screen_name}\n",
        "    \n",
        "    for k in keys:\n",
        "      try:\n",
        "        v_type= type(status_dict[k])\n",
        "      except:\n",
        "        v_type = None\n",
        "      \n",
        "      if v_type != None:\n",
        "        if v_type in allowed_types:\n",
        "          single_tweet_data[k] = status_dict[k]\n",
        "          columns.add(k) # these are the variable that can extracted data from\n",
        "\n",
        "    tweets_data.append(single_tweet_data)\n",
        "\n",
        "  header_cols= list(columns)\n",
        "  header_cols.append('user')\n",
        "  header_cols.append('author')\n",
        "  df= pd.DataFrame(tweets_data, columns= header_cols)\n",
        "  return df"
      ],
      "metadata": {
        "id": "ri-gU34lnFz1"
      },
      "execution_count": 3,
      "outputs": []
    },
    {
      "cell_type": "markdown",
      "source": [
        "***Getting actul data with the function difined earlier***"
      ],
      "metadata": {
        "id": "lyNlYtKK2BfA"
      }
    },
    {
      "cell_type": "code",
      "source": [
        "my_timeline= api.home_timeline()\n",
        "df2= extract_timeline_as_df(my_timeline)\n",
        "df2.head()"
      ],
      "metadata": {
        "colab": {
          "base_uri": "https://localhost:8080/",
          "height": 206
        },
        "id": "AplQVraLu-GK",
        "outputId": "f79a7521-7677-42d5-caa6-de3989986da7"
      },
      "execution_count": 4,
      "outputs": [
        {
          "output_type": "execute_result",
          "data": {
            "text/plain": [
              "   favorite_count               id_str                   id         source  \\\n",
              "0               0  1542995300704522244  1542995300704522244        EUwatch   \n",
              "1               4  1542995072215646213  1542995072215646213     SocialFlow   \n",
              "2               4  1542994986194685953  1542994986194685953  Adobe Express   \n",
              "3               0  1542992923121405953  1542992923121405953        EUwatch   \n",
              "4               0  1542992921619845120  1542992921619845120        EUwatch   \n",
              "\n",
              "                  source_url  \\\n",
              "0   https://www.euwatch.live   \n",
              "1  http://www.socialflow.com   \n",
              "2  https://adobe.com/express   \n",
              "3   https://www.euwatch.live   \n",
              "4   https://www.euwatch.live   \n",
              "\n",
              "                                                text  retweet_count lang  \\\n",
              "0  Weekly schedule of President Charles Michel ht...              0   en   \n",
              "1  Covid-19: NI self-isolation period reduced to ...              2   en   \n",
              "2  Flexible funding is our most valuable resource...              1   en   \n",
              "3  RT @MediaFreedomEU: 🇺🇦 On 22 June, reporters f...             10   en   \n",
              "4  RT @AmplifyUkraine: In conclusion, we collecte...              2   en   \n",
              "\n",
              "         user      author  \n",
              "0  EUwatchers  EUwatchers  \n",
              "1   bbchealth   bbchealth  \n",
              "2    Refugees    Refugees  \n",
              "3  EUwatchers  EUwatchers  \n",
              "4  EUwatchers  EUwatchers  "
            ],
            "text/html": [
              "\n",
              "  <div id=\"df-bb47dba3-9b7a-42bc-8396-cf7ec3e093a9\">\n",
              "    <div class=\"colab-df-container\">\n",
              "      <div>\n",
              "<style scoped>\n",
              "    .dataframe tbody tr th:only-of-type {\n",
              "        vertical-align: middle;\n",
              "    }\n",
              "\n",
              "    .dataframe tbody tr th {\n",
              "        vertical-align: top;\n",
              "    }\n",
              "\n",
              "    .dataframe thead th {\n",
              "        text-align: right;\n",
              "    }\n",
              "</style>\n",
              "<table border=\"1\" class=\"dataframe\">\n",
              "  <thead>\n",
              "    <tr style=\"text-align: right;\">\n",
              "      <th></th>\n",
              "      <th>favorite_count</th>\n",
              "      <th>id_str</th>\n",
              "      <th>id</th>\n",
              "      <th>source</th>\n",
              "      <th>source_url</th>\n",
              "      <th>text</th>\n",
              "      <th>retweet_count</th>\n",
              "      <th>lang</th>\n",
              "      <th>user</th>\n",
              "      <th>author</th>\n",
              "    </tr>\n",
              "  </thead>\n",
              "  <tbody>\n",
              "    <tr>\n",
              "      <th>0</th>\n",
              "      <td>0</td>\n",
              "      <td>1542995300704522244</td>\n",
              "      <td>1542995300704522244</td>\n",
              "      <td>EUwatch</td>\n",
              "      <td>https://www.euwatch.live</td>\n",
              "      <td>Weekly schedule of President Charles Michel ht...</td>\n",
              "      <td>0</td>\n",
              "      <td>en</td>\n",
              "      <td>EUwatchers</td>\n",
              "      <td>EUwatchers</td>\n",
              "    </tr>\n",
              "    <tr>\n",
              "      <th>1</th>\n",
              "      <td>4</td>\n",
              "      <td>1542995072215646213</td>\n",
              "      <td>1542995072215646213</td>\n",
              "      <td>SocialFlow</td>\n",
              "      <td>http://www.socialflow.com</td>\n",
              "      <td>Covid-19: NI self-isolation period reduced to ...</td>\n",
              "      <td>2</td>\n",
              "      <td>en</td>\n",
              "      <td>bbchealth</td>\n",
              "      <td>bbchealth</td>\n",
              "    </tr>\n",
              "    <tr>\n",
              "      <th>2</th>\n",
              "      <td>4</td>\n",
              "      <td>1542994986194685953</td>\n",
              "      <td>1542994986194685953</td>\n",
              "      <td>Adobe Express</td>\n",
              "      <td>https://adobe.com/express</td>\n",
              "      <td>Flexible funding is our most valuable resource...</td>\n",
              "      <td>1</td>\n",
              "      <td>en</td>\n",
              "      <td>Refugees</td>\n",
              "      <td>Refugees</td>\n",
              "    </tr>\n",
              "    <tr>\n",
              "      <th>3</th>\n",
              "      <td>0</td>\n",
              "      <td>1542992923121405953</td>\n",
              "      <td>1542992923121405953</td>\n",
              "      <td>EUwatch</td>\n",
              "      <td>https://www.euwatch.live</td>\n",
              "      <td>RT @MediaFreedomEU: 🇺🇦 On 22 June, reporters f...</td>\n",
              "      <td>10</td>\n",
              "      <td>en</td>\n",
              "      <td>EUwatchers</td>\n",
              "      <td>EUwatchers</td>\n",
              "    </tr>\n",
              "    <tr>\n",
              "      <th>4</th>\n",
              "      <td>0</td>\n",
              "      <td>1542992921619845120</td>\n",
              "      <td>1542992921619845120</td>\n",
              "      <td>EUwatch</td>\n",
              "      <td>https://www.euwatch.live</td>\n",
              "      <td>RT @AmplifyUkraine: In conclusion, we collecte...</td>\n",
              "      <td>2</td>\n",
              "      <td>en</td>\n",
              "      <td>EUwatchers</td>\n",
              "      <td>EUwatchers</td>\n",
              "    </tr>\n",
              "  </tbody>\n",
              "</table>\n",
              "</div>\n",
              "      <button class=\"colab-df-convert\" onclick=\"convertToInteractive('df-bb47dba3-9b7a-42bc-8396-cf7ec3e093a9')\"\n",
              "              title=\"Convert this dataframe to an interactive table.\"\n",
              "              style=\"display:none;\">\n",
              "        \n",
              "  <svg xmlns=\"http://www.w3.org/2000/svg\" height=\"24px\"viewBox=\"0 0 24 24\"\n",
              "       width=\"24px\">\n",
              "    <path d=\"M0 0h24v24H0V0z\" fill=\"none\"/>\n",
              "    <path d=\"M18.56 5.44l.94 2.06.94-2.06 2.06-.94-2.06-.94-.94-2.06-.94 2.06-2.06.94zm-11 1L8.5 8.5l.94-2.06 2.06-.94-2.06-.94L8.5 2.5l-.94 2.06-2.06.94zm10 10l.94 2.06.94-2.06 2.06-.94-2.06-.94-.94-2.06-.94 2.06-2.06.94z\"/><path d=\"M17.41 7.96l-1.37-1.37c-.4-.4-.92-.59-1.43-.59-.52 0-1.04.2-1.43.59L10.3 9.45l-7.72 7.72c-.78.78-.78 2.05 0 2.83L4 21.41c.39.39.9.59 1.41.59.51 0 1.02-.2 1.41-.59l7.78-7.78 2.81-2.81c.8-.78.8-2.07 0-2.86zM5.41 20L4 18.59l7.72-7.72 1.47 1.35L5.41 20z\"/>\n",
              "  </svg>\n",
              "      </button>\n",
              "      \n",
              "  <style>\n",
              "    .colab-df-container {\n",
              "      display:flex;\n",
              "      flex-wrap:wrap;\n",
              "      gap: 12px;\n",
              "    }\n",
              "\n",
              "    .colab-df-convert {\n",
              "      background-color: #E8F0FE;\n",
              "      border: none;\n",
              "      border-radius: 50%;\n",
              "      cursor: pointer;\n",
              "      display: none;\n",
              "      fill: #1967D2;\n",
              "      height: 32px;\n",
              "      padding: 0 0 0 0;\n",
              "      width: 32px;\n",
              "    }\n",
              "\n",
              "    .colab-df-convert:hover {\n",
              "      background-color: #E2EBFA;\n",
              "      box-shadow: 0px 1px 2px rgba(60, 64, 67, 0.3), 0px 1px 3px 1px rgba(60, 64, 67, 0.15);\n",
              "      fill: #174EA6;\n",
              "    }\n",
              "\n",
              "    [theme=dark] .colab-df-convert {\n",
              "      background-color: #3B4455;\n",
              "      fill: #D2E3FC;\n",
              "    }\n",
              "\n",
              "    [theme=dark] .colab-df-convert:hover {\n",
              "      background-color: #434B5C;\n",
              "      box-shadow: 0px 1px 3px 1px rgba(0, 0, 0, 0.15);\n",
              "      filter: drop-shadow(0px 1px 2px rgba(0, 0, 0, 0.3));\n",
              "      fill: #FFFFFF;\n",
              "    }\n",
              "  </style>\n",
              "\n",
              "      <script>\n",
              "        const buttonEl =\n",
              "          document.querySelector('#df-bb47dba3-9b7a-42bc-8396-cf7ec3e093a9 button.colab-df-convert');\n",
              "        buttonEl.style.display =\n",
              "          google.colab.kernel.accessAllowed ? 'block' : 'none';\n",
              "\n",
              "        async function convertToInteractive(key) {\n",
              "          const element = document.querySelector('#df-bb47dba3-9b7a-42bc-8396-cf7ec3e093a9');\n",
              "          const dataTable =\n",
              "            await google.colab.kernel.invokeFunction('convertToInteractive',\n",
              "                                                     [key], {});\n",
              "          if (!dataTable) return;\n",
              "\n",
              "          const docLinkHtml = 'Like what you see? Visit the ' +\n",
              "            '<a target=\"_blank\" href=https://colab.research.google.com/notebooks/data_table.ipynb>data table notebook</a>'\n",
              "            + ' to learn more about interactive tables.';\n",
              "          element.innerHTML = '';\n",
              "          dataTable['output_type'] = 'display_data';\n",
              "          await google.colab.output.renderOutput(dataTable, element);\n",
              "          const docLink = document.createElement('div');\n",
              "          docLink.innerHTML = docLinkHtml;\n",
              "          element.appendChild(docLink);\n",
              "        }\n",
              "      </script>\n",
              "    </div>\n",
              "  </div>\n",
              "  "
            ]
          },
          "metadata": {},
          "execution_count": 4
        }
      ]
    },
    {
      "cell_type": "code",
      "source": [
        "user_timeline= api.get_user('code').timeline()\n",
        "df3= extract_timeline_as_df(user_timeline)\n",
        "df3.head()"
      ],
      "metadata": {
        "colab": {
          "base_uri": "https://localhost:8080/",
          "height": 669
        },
        "id": "U1s3Gk_a2aHd",
        "outputId": "301f495d-5b34-4b45-fa00-e07b79df30b1"
      },
      "execution_count": 13,
      "outputs": [
        {
          "output_type": "execute_result",
          "data": {
            "text/plain": [
              "   favorite_count               id_str                   id     source  \\\n",
              "0              24  1542898837320339456  1542898837320339456     Buffer   \n",
              "1              39  1542520851278442496  1542520851278442496     Buffer   \n",
              "2               0  1541834926936494081  1541834926936494081  TweetDeck   \n",
              "3              39  1541834313750159362  1541834313750159362     Buffer   \n",
              "4             163  1539636083801071616  1539636083801071616     Buffer   \n",
              "\n",
              "                                     source_url  \\\n",
              "0                            https://buffer.com   \n",
              "1                            https://buffer.com   \n",
              "2  https://about.twitter.com/products/tweetdeck   \n",
              "3                            https://buffer.com   \n",
              "4                            https://buffer.com   \n",
              "\n",
              "                                                text  retweet_count  \\\n",
              "0  📣Don't miss the latest #VSCode livestream! @al...             10   \n",
              "1  #VSCode livestream starts in 10 minutes! We're...             10   \n",
              "2  RT @NickZhu9: Hi everyone! Welcome to our June...             36   \n",
              "3  We're back this Thursday to talk about #Machin...              5   \n",
              "4  Hey #VSCode friends, we're off this week and w...             18   \n",
              "\n",
              "  in_reply_to_user_id_str lang  in_reply_to_user_id in_reply_to_status_id_str  \\\n",
              "0                     NaN   en                  NaN                       NaN   \n",
              "1                     NaN   en                  NaN                       NaN   \n",
              "2                     NaN   en                  NaN                       NaN   \n",
              "3                     NaN   en                  NaN                       NaN   \n",
              "4                     NaN   en                  NaN                       NaN   \n",
              "\n",
              "   in_reply_to_status_id in_reply_to_screen_name  user author  \n",
              "0                    NaN                     NaN  code   code  \n",
              "1                    NaN                     NaN  code   code  \n",
              "2                    NaN                     NaN  code   code  \n",
              "3                    NaN                     NaN  code   code  \n",
              "4                    NaN                     NaN  code   code  "
            ],
            "text/html": [
              "\n",
              "  <div id=\"df-2bd01f00-d2ab-4f54-bd1d-c9094116fbd1\">\n",
              "    <div class=\"colab-df-container\">\n",
              "      <div>\n",
              "<style scoped>\n",
              "    .dataframe tbody tr th:only-of-type {\n",
              "        vertical-align: middle;\n",
              "    }\n",
              "\n",
              "    .dataframe tbody tr th {\n",
              "        vertical-align: top;\n",
              "    }\n",
              "\n",
              "    .dataframe thead th {\n",
              "        text-align: right;\n",
              "    }\n",
              "</style>\n",
              "<table border=\"1\" class=\"dataframe\">\n",
              "  <thead>\n",
              "    <tr style=\"text-align: right;\">\n",
              "      <th></th>\n",
              "      <th>favorite_count</th>\n",
              "      <th>id_str</th>\n",
              "      <th>id</th>\n",
              "      <th>source</th>\n",
              "      <th>source_url</th>\n",
              "      <th>text</th>\n",
              "      <th>retweet_count</th>\n",
              "      <th>in_reply_to_user_id_str</th>\n",
              "      <th>lang</th>\n",
              "      <th>in_reply_to_user_id</th>\n",
              "      <th>in_reply_to_status_id_str</th>\n",
              "      <th>in_reply_to_status_id</th>\n",
              "      <th>in_reply_to_screen_name</th>\n",
              "      <th>user</th>\n",
              "      <th>author</th>\n",
              "    </tr>\n",
              "  </thead>\n",
              "  <tbody>\n",
              "    <tr>\n",
              "      <th>0</th>\n",
              "      <td>24</td>\n",
              "      <td>1542898837320339456</td>\n",
              "      <td>1542898837320339456</td>\n",
              "      <td>Buffer</td>\n",
              "      <td>https://buffer.com</td>\n",
              "      <td>📣Don't miss the latest #VSCode livestream! @al...</td>\n",
              "      <td>10</td>\n",
              "      <td>NaN</td>\n",
              "      <td>en</td>\n",
              "      <td>NaN</td>\n",
              "      <td>NaN</td>\n",
              "      <td>NaN</td>\n",
              "      <td>NaN</td>\n",
              "      <td>code</td>\n",
              "      <td>code</td>\n",
              "    </tr>\n",
              "    <tr>\n",
              "      <th>1</th>\n",
              "      <td>39</td>\n",
              "      <td>1542520851278442496</td>\n",
              "      <td>1542520851278442496</td>\n",
              "      <td>Buffer</td>\n",
              "      <td>https://buffer.com</td>\n",
              "      <td>#VSCode livestream starts in 10 minutes! We're...</td>\n",
              "      <td>10</td>\n",
              "      <td>NaN</td>\n",
              "      <td>en</td>\n",
              "      <td>NaN</td>\n",
              "      <td>NaN</td>\n",
              "      <td>NaN</td>\n",
              "      <td>NaN</td>\n",
              "      <td>code</td>\n",
              "      <td>code</td>\n",
              "    </tr>\n",
              "    <tr>\n",
              "      <th>2</th>\n",
              "      <td>0</td>\n",
              "      <td>1541834926936494081</td>\n",
              "      <td>1541834926936494081</td>\n",
              "      <td>TweetDeck</td>\n",
              "      <td>https://about.twitter.com/products/tweetdeck</td>\n",
              "      <td>RT @NickZhu9: Hi everyone! Welcome to our June...</td>\n",
              "      <td>36</td>\n",
              "      <td>NaN</td>\n",
              "      <td>en</td>\n",
              "      <td>NaN</td>\n",
              "      <td>NaN</td>\n",
              "      <td>NaN</td>\n",
              "      <td>NaN</td>\n",
              "      <td>code</td>\n",
              "      <td>code</td>\n",
              "    </tr>\n",
              "    <tr>\n",
              "      <th>3</th>\n",
              "      <td>39</td>\n",
              "      <td>1541834313750159362</td>\n",
              "      <td>1541834313750159362</td>\n",
              "      <td>Buffer</td>\n",
              "      <td>https://buffer.com</td>\n",
              "      <td>We're back this Thursday to talk about #Machin...</td>\n",
              "      <td>5</td>\n",
              "      <td>NaN</td>\n",
              "      <td>en</td>\n",
              "      <td>NaN</td>\n",
              "      <td>NaN</td>\n",
              "      <td>NaN</td>\n",
              "      <td>NaN</td>\n",
              "      <td>code</td>\n",
              "      <td>code</td>\n",
              "    </tr>\n",
              "    <tr>\n",
              "      <th>4</th>\n",
              "      <td>163</td>\n",
              "      <td>1539636083801071616</td>\n",
              "      <td>1539636083801071616</td>\n",
              "      <td>Buffer</td>\n",
              "      <td>https://buffer.com</td>\n",
              "      <td>Hey #VSCode friends, we're off this week and w...</td>\n",
              "      <td>18</td>\n",
              "      <td>NaN</td>\n",
              "      <td>en</td>\n",
              "      <td>NaN</td>\n",
              "      <td>NaN</td>\n",
              "      <td>NaN</td>\n",
              "      <td>NaN</td>\n",
              "      <td>code</td>\n",
              "      <td>code</td>\n",
              "    </tr>\n",
              "  </tbody>\n",
              "</table>\n",
              "</div>\n",
              "      <button class=\"colab-df-convert\" onclick=\"convertToInteractive('df-2bd01f00-d2ab-4f54-bd1d-c9094116fbd1')\"\n",
              "              title=\"Convert this dataframe to an interactive table.\"\n",
              "              style=\"display:none;\">\n",
              "        \n",
              "  <svg xmlns=\"http://www.w3.org/2000/svg\" height=\"24px\"viewBox=\"0 0 24 24\"\n",
              "       width=\"24px\">\n",
              "    <path d=\"M0 0h24v24H0V0z\" fill=\"none\"/>\n",
              "    <path d=\"M18.56 5.44l.94 2.06.94-2.06 2.06-.94-2.06-.94-.94-2.06-.94 2.06-2.06.94zm-11 1L8.5 8.5l.94-2.06 2.06-.94-2.06-.94L8.5 2.5l-.94 2.06-2.06.94zm10 10l.94 2.06.94-2.06 2.06-.94-2.06-.94-.94-2.06-.94 2.06-2.06.94z\"/><path d=\"M17.41 7.96l-1.37-1.37c-.4-.4-.92-.59-1.43-.59-.52 0-1.04.2-1.43.59L10.3 9.45l-7.72 7.72c-.78.78-.78 2.05 0 2.83L4 21.41c.39.39.9.59 1.41.59.51 0 1.02-.2 1.41-.59l7.78-7.78 2.81-2.81c.8-.78.8-2.07 0-2.86zM5.41 20L4 18.59l7.72-7.72 1.47 1.35L5.41 20z\"/>\n",
              "  </svg>\n",
              "      </button>\n",
              "      \n",
              "  <style>\n",
              "    .colab-df-container {\n",
              "      display:flex;\n",
              "      flex-wrap:wrap;\n",
              "      gap: 12px;\n",
              "    }\n",
              "\n",
              "    .colab-df-convert {\n",
              "      background-color: #E8F0FE;\n",
              "      border: none;\n",
              "      border-radius: 50%;\n",
              "      cursor: pointer;\n",
              "      display: none;\n",
              "      fill: #1967D2;\n",
              "      height: 32px;\n",
              "      padding: 0 0 0 0;\n",
              "      width: 32px;\n",
              "    }\n",
              "\n",
              "    .colab-df-convert:hover {\n",
              "      background-color: #E2EBFA;\n",
              "      box-shadow: 0px 1px 2px rgba(60, 64, 67, 0.3), 0px 1px 3px 1px rgba(60, 64, 67, 0.15);\n",
              "      fill: #174EA6;\n",
              "    }\n",
              "\n",
              "    [theme=dark] .colab-df-convert {\n",
              "      background-color: #3B4455;\n",
              "      fill: #D2E3FC;\n",
              "    }\n",
              "\n",
              "    [theme=dark] .colab-df-convert:hover {\n",
              "      background-color: #434B5C;\n",
              "      box-shadow: 0px 1px 3px 1px rgba(0, 0, 0, 0.15);\n",
              "      filter: drop-shadow(0px 1px 2px rgba(0, 0, 0, 0.3));\n",
              "      fill: #FFFFFF;\n",
              "    }\n",
              "  </style>\n",
              "\n",
              "      <script>\n",
              "        const buttonEl =\n",
              "          document.querySelector('#df-2bd01f00-d2ab-4f54-bd1d-c9094116fbd1 button.colab-df-convert');\n",
              "        buttonEl.style.display =\n",
              "          google.colab.kernel.accessAllowed ? 'block' : 'none';\n",
              "\n",
              "        async function convertToInteractive(key) {\n",
              "          const element = document.querySelector('#df-2bd01f00-d2ab-4f54-bd1d-c9094116fbd1');\n",
              "          const dataTable =\n",
              "            await google.colab.kernel.invokeFunction('convertToInteractive',\n",
              "                                                     [key], {});\n",
              "          if (!dataTable) return;\n",
              "\n",
              "          const docLinkHtml = 'Like what you see? Visit the ' +\n",
              "            '<a target=\"_blank\" href=https://colab.research.google.com/notebooks/data_table.ipynb>data table notebook</a>'\n",
              "            + ' to learn more about interactive tables.';\n",
              "          element.innerHTML = '';\n",
              "          dataTable['output_type'] = 'display_data';\n",
              "          await google.colab.output.renderOutput(dataTable, element);\n",
              "          const docLink = document.createElement('div');\n",
              "          docLink.innerHTML = docLinkHtml;\n",
              "          element.appendChild(docLink);\n",
              "        }\n",
              "      </script>\n",
              "    </div>\n",
              "  </div>\n",
              "  "
            ]
          },
          "metadata": {},
          "execution_count": 13
        }
      ]
    },
    {
      "cell_type": "code",
      "source": [
        "\n",
        "\n"
      ],
      "metadata": {
        "id": "XP6YeYI7wTlS"
      },
      "execution_count": null,
      "outputs": []
    },
    {
      "cell_type": "markdown",
      "source": [
        "***Creating variable to navigate twetter***"
      ],
      "metadata": {
        "id": "olGGEt122Khd"
      }
    },
    {
      "cell_type": "code",
      "source": [
        "# Obtaining tweet from specific user account\n",
        "number_of_tweets = 200\n",
        "tweets = []\n",
        "likes = []\n",
        "time = []\n",
        "\n",
        "for i in tweepy.Cursor(api.user_timeline, id=\"DRNyheder\", tweet_mode=\"extended\").items(number_of_tweets):\n",
        "  tweets.append(i.full_text)\n",
        "  likes.append(i.favorite_count)\n",
        "  time.append(i.created_at)"
      ],
      "metadata": {
        "id": "L437rxd3eY03"
      },
      "execution_count": 14,
      "outputs": []
    },
    {
      "cell_type": "markdown",
      "source": [
        "***Loading them in Data Frame***"
      ],
      "metadata": {
        "id": "jLRfc1sZWTYe"
      }
    },
    {
      "cell_type": "code",
      "source": [
        "# save them as dataframe by passing variables as a columns\n",
        "df = pd.DataFrame({\"tweets\":tweets, \"likes\":likes, \"time\":time})\n",
        "df= df[~df.tweets.str.contains(\"RT\")].reset_index(drop=True)\n",
        "#now lets make only tweets thats has not Re-Tweeted!\n",
        "\n",
        "df.head()"
      ],
      "metadata": {
        "colab": {
          "base_uri": "https://localhost:8080/",
          "height": 206
        },
        "id": "VLCv27NgQCOu",
        "outputId": "3ee863b6-e1db-4fa0-c247-898742a676b3"
      },
      "execution_count": 15,
      "outputs": [
        {
          "output_type": "execute_result",
          "data": {
            "text/plain": [
              "                                              tweets  likes  \\\n",
              "0  Pandemi-tømmermænd gjorde første halvår på akt...      4   \n",
              "1  ANALYSE Nu venter alle på De Radikale https://...      2   \n",
              "2  Seneste nyt fra Ukraine: Brite og marokkaner a...      4   \n",
              "3  Radikalt bagland presser partitop: Advokater s...     51   \n",
              "4  Kristian Thulesen Dahl om opsigtsvækkende jobs...      7   \n",
              "\n",
              "                 time  \n",
              "0 2022-07-01 20:26:06  \n",
              "1 2022-07-01 18:56:06  \n",
              "2 2022-07-01 17:54:04  \n",
              "3 2022-07-01 16:34:06  \n",
              "4 2022-07-01 13:52:08  "
            ],
            "text/html": [
              "\n",
              "  <div id=\"df-b5750f99-747f-4360-b9d9-9c5e2d0250b0\">\n",
              "    <div class=\"colab-df-container\">\n",
              "      <div>\n",
              "<style scoped>\n",
              "    .dataframe tbody tr th:only-of-type {\n",
              "        vertical-align: middle;\n",
              "    }\n",
              "\n",
              "    .dataframe tbody tr th {\n",
              "        vertical-align: top;\n",
              "    }\n",
              "\n",
              "    .dataframe thead th {\n",
              "        text-align: right;\n",
              "    }\n",
              "</style>\n",
              "<table border=\"1\" class=\"dataframe\">\n",
              "  <thead>\n",
              "    <tr style=\"text-align: right;\">\n",
              "      <th></th>\n",
              "      <th>tweets</th>\n",
              "      <th>likes</th>\n",
              "      <th>time</th>\n",
              "    </tr>\n",
              "  </thead>\n",
              "  <tbody>\n",
              "    <tr>\n",
              "      <th>0</th>\n",
              "      <td>Pandemi-tømmermænd gjorde første halvår på akt...</td>\n",
              "      <td>4</td>\n",
              "      <td>2022-07-01 20:26:06</td>\n",
              "    </tr>\n",
              "    <tr>\n",
              "      <th>1</th>\n",
              "      <td>ANALYSE Nu venter alle på De Radikale https://...</td>\n",
              "      <td>2</td>\n",
              "      <td>2022-07-01 18:56:06</td>\n",
              "    </tr>\n",
              "    <tr>\n",
              "      <th>2</th>\n",
              "      <td>Seneste nyt fra Ukraine: Brite og marokkaner a...</td>\n",
              "      <td>4</td>\n",
              "      <td>2022-07-01 17:54:04</td>\n",
              "    </tr>\n",
              "    <tr>\n",
              "      <th>3</th>\n",
              "      <td>Radikalt bagland presser partitop: Advokater s...</td>\n",
              "      <td>51</td>\n",
              "      <td>2022-07-01 16:34:06</td>\n",
              "    </tr>\n",
              "    <tr>\n",
              "      <th>4</th>\n",
              "      <td>Kristian Thulesen Dahl om opsigtsvækkende jobs...</td>\n",
              "      <td>7</td>\n",
              "      <td>2022-07-01 13:52:08</td>\n",
              "    </tr>\n",
              "  </tbody>\n",
              "</table>\n",
              "</div>\n",
              "      <button class=\"colab-df-convert\" onclick=\"convertToInteractive('df-b5750f99-747f-4360-b9d9-9c5e2d0250b0')\"\n",
              "              title=\"Convert this dataframe to an interactive table.\"\n",
              "              style=\"display:none;\">\n",
              "        \n",
              "  <svg xmlns=\"http://www.w3.org/2000/svg\" height=\"24px\"viewBox=\"0 0 24 24\"\n",
              "       width=\"24px\">\n",
              "    <path d=\"M0 0h24v24H0V0z\" fill=\"none\"/>\n",
              "    <path d=\"M18.56 5.44l.94 2.06.94-2.06 2.06-.94-2.06-.94-.94-2.06-.94 2.06-2.06.94zm-11 1L8.5 8.5l.94-2.06 2.06-.94-2.06-.94L8.5 2.5l-.94 2.06-2.06.94zm10 10l.94 2.06.94-2.06 2.06-.94-2.06-.94-.94-2.06-.94 2.06-2.06.94z\"/><path d=\"M17.41 7.96l-1.37-1.37c-.4-.4-.92-.59-1.43-.59-.52 0-1.04.2-1.43.59L10.3 9.45l-7.72 7.72c-.78.78-.78 2.05 0 2.83L4 21.41c.39.39.9.59 1.41.59.51 0 1.02-.2 1.41-.59l7.78-7.78 2.81-2.81c.8-.78.8-2.07 0-2.86zM5.41 20L4 18.59l7.72-7.72 1.47 1.35L5.41 20z\"/>\n",
              "  </svg>\n",
              "      </button>\n",
              "      \n",
              "  <style>\n",
              "    .colab-df-container {\n",
              "      display:flex;\n",
              "      flex-wrap:wrap;\n",
              "      gap: 12px;\n",
              "    }\n",
              "\n",
              "    .colab-df-convert {\n",
              "      background-color: #E8F0FE;\n",
              "      border: none;\n",
              "      border-radius: 50%;\n",
              "      cursor: pointer;\n",
              "      display: none;\n",
              "      fill: #1967D2;\n",
              "      height: 32px;\n",
              "      padding: 0 0 0 0;\n",
              "      width: 32px;\n",
              "    }\n",
              "\n",
              "    .colab-df-convert:hover {\n",
              "      background-color: #E2EBFA;\n",
              "      box-shadow: 0px 1px 2px rgba(60, 64, 67, 0.3), 0px 1px 3px 1px rgba(60, 64, 67, 0.15);\n",
              "      fill: #174EA6;\n",
              "    }\n",
              "\n",
              "    [theme=dark] .colab-df-convert {\n",
              "      background-color: #3B4455;\n",
              "      fill: #D2E3FC;\n",
              "    }\n",
              "\n",
              "    [theme=dark] .colab-df-convert:hover {\n",
              "      background-color: #434B5C;\n",
              "      box-shadow: 0px 1px 3px 1px rgba(0, 0, 0, 0.15);\n",
              "      filter: drop-shadow(0px 1px 2px rgba(0, 0, 0, 0.3));\n",
              "      fill: #FFFFFF;\n",
              "    }\n",
              "  </style>\n",
              "\n",
              "      <script>\n",
              "        const buttonEl =\n",
              "          document.querySelector('#df-b5750f99-747f-4360-b9d9-9c5e2d0250b0 button.colab-df-convert');\n",
              "        buttonEl.style.display =\n",
              "          google.colab.kernel.accessAllowed ? 'block' : 'none';\n",
              "\n",
              "        async function convertToInteractive(key) {\n",
              "          const element = document.querySelector('#df-b5750f99-747f-4360-b9d9-9c5e2d0250b0');\n",
              "          const dataTable =\n",
              "            await google.colab.kernel.invokeFunction('convertToInteractive',\n",
              "                                                     [key], {});\n",
              "          if (!dataTable) return;\n",
              "\n",
              "          const docLinkHtml = 'Like what you see? Visit the ' +\n",
              "            '<a target=\"_blank\" href=https://colab.research.google.com/notebooks/data_table.ipynb>data table notebook</a>'\n",
              "            + ' to learn more about interactive tables.';\n",
              "          element.innerHTML = '';\n",
              "          dataTable['output_type'] = 'display_data';\n",
              "          await google.colab.output.renderOutput(dataTable, element);\n",
              "          const docLink = document.createElement('div');\n",
              "          docLink.innerHTML = docLinkHtml;\n",
              "          element.appendChild(docLink);\n",
              "        }\n",
              "      </script>\n",
              "    </div>\n",
              "  </div>\n",
              "  "
            ]
          },
          "metadata": {},
          "execution_count": 15
        }
      ]
    },
    {
      "cell_type": "code",
      "source": [
        "# Top most liked tweets\n",
        "mostlike= df.loc[df.likes.nlargest(10).index].set_index(\"tweets\")\n",
        "mostlike"
      ],
      "metadata": {
        "colab": {
          "base_uri": "https://localhost:8080/",
          "height": 394
        },
        "id": "eq_q7Q1gUW2E",
        "outputId": "fdc3280c-27b4-4587-9081-e40e00130c93"
      },
      "execution_count": 16,
      "outputs": [
        {
          "output_type": "execute_result",
          "data": {
            "text/plain": [
              "                                                    likes                time\n",
              "tweets                                                                       \n",
              "Støttepartier tøver med at lade uvildige advoka...     89 2022-06-29 09:06:04\n",
              "Radikalt bagland presser partitop: Advokater sk...     51 2022-07-01 16:34:06\n",
              "Seneste nyt fra Ukraine: Zelenskyj vil have Rus...     51 2022-06-29 12:53:33\n",
              "ANALYSE: Rystende vidneudsagn kæder Trump samme...     46 2022-06-29 04:04:09\n",
              "Skotsk folkeafstemning om uafhængighed er 'tabe...     43 2022-06-28 19:16:08\n",
              "Inger Støjberg starter nyt parti. Det får navne...     41 2022-06-23 06:30:07\n",
              "Nyt parti med Støjbergs navn godkendt https://t...     39 2022-06-21 16:07:03\n",
              "Inger Støjberg: 'Det her parti det skal være så...     37 2022-06-23 12:40:09\n",
              "Eksperter: Milliardregning fra metro og ringvej...     36 2022-06-27 18:54:08\n",
              "Ekspert efter ny Trump-høring: 'Vel det mest fo...     33 2022-06-29 18:56:04"
            ],
            "text/html": [
              "\n",
              "  <div id=\"df-47c9bc18-f371-4d48-8288-9872012d2e97\">\n",
              "    <div class=\"colab-df-container\">\n",
              "      <div>\n",
              "<style scoped>\n",
              "    .dataframe tbody tr th:only-of-type {\n",
              "        vertical-align: middle;\n",
              "    }\n",
              "\n",
              "    .dataframe tbody tr th {\n",
              "        vertical-align: top;\n",
              "    }\n",
              "\n",
              "    .dataframe thead th {\n",
              "        text-align: right;\n",
              "    }\n",
              "</style>\n",
              "<table border=\"1\" class=\"dataframe\">\n",
              "  <thead>\n",
              "    <tr style=\"text-align: right;\">\n",
              "      <th></th>\n",
              "      <th>likes</th>\n",
              "      <th>time</th>\n",
              "    </tr>\n",
              "    <tr>\n",
              "      <th>tweets</th>\n",
              "      <th></th>\n",
              "      <th></th>\n",
              "    </tr>\n",
              "  </thead>\n",
              "  <tbody>\n",
              "    <tr>\n",
              "      <th>Støttepartier tøver med at lade uvildige advokater vurdere minkrapport: 'Kan bedst betegnes som hykleri' https://t.co/Ry9EjxqRvm https://t.co/JAB32AD4Zn</th>\n",
              "      <td>89</td>\n",
              "      <td>2022-06-29 09:06:04</td>\n",
              "    </tr>\n",
              "    <tr>\n",
              "      <th>Radikalt bagland presser partitop: Advokater skal vurdere om Mette Frederiksen skal for rigsret https://t.co/EUBhvTgKE1 https://t.co/2NjjCvg8YA</th>\n",
              "      <td>51</td>\n",
              "      <td>2022-07-01 16:34:06</td>\n",
              "    </tr>\n",
              "    <tr>\n",
              "      <th>Seneste nyt fra Ukraine: Zelenskyj vil have Rusland ud af FN's Sikkerhedsråd https://t.co/rgKyeBaJIk https://t.co/mjdnFSXxji</th>\n",
              "      <td>51</td>\n",
              "      <td>2022-06-29 12:53:33</td>\n",
              "    </tr>\n",
              "    <tr>\n",
              "      <th>ANALYSE: Rystende vidneudsagn kæder Trump sammen med bevæbnede tilhængere, som han dirigerede mod Kongressen https://t.co/x2EmTn4Sk4 https://t.co/8HwZxTxly0</th>\n",
              "      <td>46</td>\n",
              "      <td>2022-06-29 04:04:09</td>\n",
              "    </tr>\n",
              "    <tr>\n",
              "      <th>Skotsk folkeafstemning om uafhængighed er 'tabersag på alle måder' for den britiske regering https://t.co/aDCNhyLgPc https://t.co/hUTvNzSLYL</th>\n",
              "      <td>43</td>\n",
              "      <td>2022-06-28 19:16:08</td>\n",
              "    </tr>\n",
              "    <tr>\n",
              "      <th>Inger Støjberg starter nyt parti. Det får navnet ’Danmarksdemokraterne’ https://t.co/NblMHLUCL1 https://t.co/qlKDvm6XLg</th>\n",
              "      <td>41</td>\n",
              "      <td>2022-06-23 06:30:07</td>\n",
              "    </tr>\n",
              "    <tr>\n",
              "      <th>Nyt parti med Støjbergs navn godkendt https://t.co/W8AJODDQxU https://t.co/xUaxr8cOKl</th>\n",
              "      <td>39</td>\n",
              "      <td>2022-06-21 16:07:03</td>\n",
              "    </tr>\n",
              "    <tr>\n",
              "      <th>Inger Støjberg: 'Det her parti det skal være sådan et parti for folk, som vi er flest' https://t.co/aQYftCrGfH https://t.co/ynbV52pJhB</th>\n",
              "      <td>37</td>\n",
              "      <td>2022-06-23 12:40:09</td>\n",
              "    </tr>\n",
              "    <tr>\n",
              "      <th>Eksperter: Milliardregning fra metro og ringvej til Lynetteholm kan ende hos skatteborgerne https://t.co/8b0sBYl1vb https://t.co/6cPRzJz4Zx</th>\n",
              "      <td>36</td>\n",
              "      <td>2022-06-27 18:54:08</td>\n",
              "    </tr>\n",
              "    <tr>\n",
              "      <th>Ekspert efter ny Trump-høring: 'Vel det mest fordømmende billede, der nogensinde er tegnet af nogen præsident' https://t.co/Tf1E8GjoUw https://t.co/g8zGsL2BzE</th>\n",
              "      <td>33</td>\n",
              "      <td>2022-06-29 18:56:04</td>\n",
              "    </tr>\n",
              "  </tbody>\n",
              "</table>\n",
              "</div>\n",
              "      <button class=\"colab-df-convert\" onclick=\"convertToInteractive('df-47c9bc18-f371-4d48-8288-9872012d2e97')\"\n",
              "              title=\"Convert this dataframe to an interactive table.\"\n",
              "              style=\"display:none;\">\n",
              "        \n",
              "  <svg xmlns=\"http://www.w3.org/2000/svg\" height=\"24px\"viewBox=\"0 0 24 24\"\n",
              "       width=\"24px\">\n",
              "    <path d=\"M0 0h24v24H0V0z\" fill=\"none\"/>\n",
              "    <path d=\"M18.56 5.44l.94 2.06.94-2.06 2.06-.94-2.06-.94-.94-2.06-.94 2.06-2.06.94zm-11 1L8.5 8.5l.94-2.06 2.06-.94-2.06-.94L8.5 2.5l-.94 2.06-2.06.94zm10 10l.94 2.06.94-2.06 2.06-.94-2.06-.94-.94-2.06-.94 2.06-2.06.94z\"/><path d=\"M17.41 7.96l-1.37-1.37c-.4-.4-.92-.59-1.43-.59-.52 0-1.04.2-1.43.59L10.3 9.45l-7.72 7.72c-.78.78-.78 2.05 0 2.83L4 21.41c.39.39.9.59 1.41.59.51 0 1.02-.2 1.41-.59l7.78-7.78 2.81-2.81c.8-.78.8-2.07 0-2.86zM5.41 20L4 18.59l7.72-7.72 1.47 1.35L5.41 20z\"/>\n",
              "  </svg>\n",
              "      </button>\n",
              "      \n",
              "  <style>\n",
              "    .colab-df-container {\n",
              "      display:flex;\n",
              "      flex-wrap:wrap;\n",
              "      gap: 12px;\n",
              "    }\n",
              "\n",
              "    .colab-df-convert {\n",
              "      background-color: #E8F0FE;\n",
              "      border: none;\n",
              "      border-radius: 50%;\n",
              "      cursor: pointer;\n",
              "      display: none;\n",
              "      fill: #1967D2;\n",
              "      height: 32px;\n",
              "      padding: 0 0 0 0;\n",
              "      width: 32px;\n",
              "    }\n",
              "\n",
              "    .colab-df-convert:hover {\n",
              "      background-color: #E2EBFA;\n",
              "      box-shadow: 0px 1px 2px rgba(60, 64, 67, 0.3), 0px 1px 3px 1px rgba(60, 64, 67, 0.15);\n",
              "      fill: #174EA6;\n",
              "    }\n",
              "\n",
              "    [theme=dark] .colab-df-convert {\n",
              "      background-color: #3B4455;\n",
              "      fill: #D2E3FC;\n",
              "    }\n",
              "\n",
              "    [theme=dark] .colab-df-convert:hover {\n",
              "      background-color: #434B5C;\n",
              "      box-shadow: 0px 1px 3px 1px rgba(0, 0, 0, 0.15);\n",
              "      filter: drop-shadow(0px 1px 2px rgba(0, 0, 0, 0.3));\n",
              "      fill: #FFFFFF;\n",
              "    }\n",
              "  </style>\n",
              "\n",
              "      <script>\n",
              "        const buttonEl =\n",
              "          document.querySelector('#df-47c9bc18-f371-4d48-8288-9872012d2e97 button.colab-df-convert');\n",
              "        buttonEl.style.display =\n",
              "          google.colab.kernel.accessAllowed ? 'block' : 'none';\n",
              "\n",
              "        async function convertToInteractive(key) {\n",
              "          const element = document.querySelector('#df-47c9bc18-f371-4d48-8288-9872012d2e97');\n",
              "          const dataTable =\n",
              "            await google.colab.kernel.invokeFunction('convertToInteractive',\n",
              "                                                     [key], {});\n",
              "          if (!dataTable) return;\n",
              "\n",
              "          const docLinkHtml = 'Like what you see? Visit the ' +\n",
              "            '<a target=\"_blank\" href=https://colab.research.google.com/notebooks/data_table.ipynb>data table notebook</a>'\n",
              "            + ' to learn more about interactive tables.';\n",
              "          element.innerHTML = '';\n",
              "          dataTable['output_type'] = 'display_data';\n",
              "          await google.colab.output.renderOutput(dataTable, element);\n",
              "          const docLink = document.createElement('div');\n",
              "          docLink.innerHTML = docLinkHtml;\n",
              "          element.appendChild(docLink);\n",
              "        }\n",
              "      </script>\n",
              "    </div>\n",
              "  </div>\n",
              "  "
            ]
          },
          "metadata": {},
          "execution_count": 16
        }
      ]
    },
    {
      "cell_type": "markdown",
      "source": [
        "***Sentiment Analytics***"
      ],
      "metadata": {
        "id": "vOtG_wSxWMM-"
      }
    },
    {
      "cell_type": "code",
      "source": [
        "# Libaries for sentiment analytics (NLP)\n",
        "import matplotlib.pyplot as plt\n",
        "import re\n",
        "import spacy\n",
        "import seaborn as sns"
      ],
      "metadata": {
        "id": "UZHiQGvDUWqF"
      },
      "execution_count": 17,
      "outputs": []
    },
    {
      "cell_type": "code",
      "source": [
        "import spacy.cli\n",
        "#spacy.cli.download(\"en_core_web_lg\")\n",
        "nlp = spacy.load('en_core_web_lg')"
      ],
      "metadata": {
        "id": "24VFaRByUWWY"
      },
      "execution_count": 18,
      "outputs": []
    },
    {
      "cell_type": "code",
      "source": [
        "# Split all the sentances and creat the list of sentence of from the tweet columns\n",
        "list_of_sentences = [sentence for sentence in df.tweets]\n",
        "\n",
        "lines = []\n",
        "for sentence in list_of_sentences:\n",
        "  words = sentence.split()\n",
        "  for w in words:\n",
        "    lines.append(w)\n",
        "print(lines[:20])"
      ],
      "metadata": {
        "colab": {
          "base_uri": "https://localhost:8080/"
        },
        "id": "G7mEkHdpdBUT",
        "outputId": "e74a2e2c-4170-43ee-f096-81339b696c51"
      },
      "execution_count": 34,
      "outputs": [
        {
          "output_type": "stream",
          "name": "stdout",
          "text": [
            "['Pandemi-tømmermænd', 'gjorde', 'første', 'halvår', 'på', 'aktiemarkedet', 'blodrødt:', 'Det', 'skal', 'nok', 'blive', 'værre,', 'før', 'det', 'bliver', 'bedre', 'https://t.co/qQSCvJzQMK', 'https://t.co/nW2dmzdUse', 'ANALYSE', 'Nu']\n"
          ]
        }
      ]
    },
    {
      "cell_type": "code",
      "source": [
        "# Removing Punctuation by using Regular Expression (RegEx)\n",
        "lines = [re.sub(r'[^A-Za-z0-9]+', '', x) for x in lines]\n",
        "\n",
        "lines2= []\n",
        "\n",
        "for word in lines:\n",
        "  if word != '':\n",
        "    lines2.append(word)"
      ],
      "metadata": {
        "id": "9UIKk_SkdVMo"
      },
      "execution_count": 20,
      "outputs": []
    },
    {
      "cell_type": "code",
      "source": [
        "# Stemming the words to their root\n",
        "from nltk.stem.snowball import SnowballStemmer\n",
        "\n",
        "s_stemmer = SnowballStemmer(language='english')\n",
        "\n",
        "stem= []\n",
        "for word in lines2:\n",
        "  stem.append(s_stemmer.stem(word))"
      ],
      "metadata": {
        "id": "NjfTy11PdU5v"
      },
      "execution_count": 21,
      "outputs": []
    },
    {
      "cell_type": "code",
      "source": [
        "# Removing all the stop words\n",
        "stem2= []\n",
        "\n",
        "for word in stem:\n",
        "  if word not in nlp.Defaults.stop_words:\n",
        "    stem2.append(word)"
      ],
      "metadata": {
        "id": "R-2nVYJngyjI"
      },
      "execution_count": 22,
      "outputs": []
    },
    {
      "cell_type": "code",
      "source": [
        "df2 = pd.DataFrame(stem2)\n",
        "df2 = df2[0].value_counts()\n",
        "df2.head()"
      ],
      "metadata": {
        "colab": {
          "base_uri": "https://localhost:8080/"
        },
        "id": "gGnMycgMhkDv",
        "outputId": "a52adf46-e4a0-41ef-8066-6632e7f8392c"
      },
      "execution_count": 23,
      "outputs": [
        {
          "output_type": "execute_result",
          "data": {
            "text/plain": [
              "er     48\n",
              "p      44\n",
              "og     42\n",
              "det    39\n",
              "til    34\n",
              "Name: 0, dtype: int64"
            ]
          },
          "metadata": {},
          "execution_count": 23
        }
      ]
    },
    {
      "cell_type": "code",
      "source": [
        "# Visualization\n",
        "df2= df2[:20,]\n",
        "plt.figure(figsize=(15,7.5))\n",
        "sns.barplot(df2.values, df2.index, alpha=1)\n",
        "plt.title('Top words Overall')\n",
        "plt.ylabel('Word from Tweet')\n",
        "plt.xlabel('Count of Words')\n",
        "plt.show()"
      ],
      "metadata": {
        "colab": {
          "base_uri": "https://localhost:8080/",
          "height": 486
        },
        "id": "KMUBCjuYiiQo",
        "outputId": "303a57ee-0064-4093-fae7-2735bfd773f5"
      },
      "execution_count": 24,
      "outputs": [
        {
          "output_type": "display_data",
          "data": {
            "text/plain": [
              "<Figure size 1080x540 with 1 Axes>"
            ],
            "image/png": "[encoded data removed]"
          },
          "metadata": {
            "needs_background": "light"
          }
        }
      ]
    },
    {
      "cell_type": "code",
      "source": [
        "# Visualization for mentions organizations\n",
        "def show_ents(doc):\n",
        "  if doc.ents:\n",
        "    for ent in doc.ents:\n",
        "      print(ent.text + ' - ' + ent.label_ + ' - ' + str(spacy.explain(ent.label_)))"
      ],
      "metadata": {
        "id": "5T-MBw-SkgaJ"
      },
      "execution_count": 25,
      "outputs": []
    },
    {
      "cell_type": "code",
      "source": [
        "str1 = \" \"\n",
        "stem2 = str1.join(lines2)\n",
        "stem2 = nlp(stem2)\n",
        "label = [(X.text, X.label_) for X in stem2.ents]\n",
        "df6 = pd.DataFrame(label, columns = ['Word', 'Entity'])\n",
        "df7 = df6.where(df6['Entity'] == 'ORG')\n",
        "df7 = df7['Word'].value_counts()"
      ],
      "metadata": {
        "id": "C41kIggul6t7"
      },
      "execution_count": 26,
      "outputs": []
    },
    {
      "cell_type": "code",
      "source": [
        "# Visualization again\n",
        "dfx= df7[:20, ]\n",
        "plt.figure(figsize=(15,7.5))\n",
        "sns.barplot(dfx.values, dfx.index, alpha=1)\n",
        "plt.title('Top Organization mentioned')\n",
        "plt.ylabel('Word from Tweet', fontsize=12)\n",
        "plt.xlabel('Count of Words', fontsize=12)\n",
        "plt.show()"
      ],
      "metadata": {
        "colab": {
          "base_uri": "https://localhost:8080/",
          "height": 489
        },
        "id": "H5oU49BPnQjR",
        "outputId": "f0f48f78-4a4d-4f74-adfc-2cba8ea19bdc"
      },
      "execution_count": 27,
      "outputs": [
        {
          "output_type": "display_data",
          "data": {
            "text/plain": [
              "<Figure size 1080x540 with 1 Axes>"
            ],
            "image/png": "[encoded data removed]"
          },
          "metadata": {
            "needs_background": "light"
          }
        }
      ]
    },
    {
      "cell_type": "code",
      "source": [
        "str1 = \" \"\n",
        "stem2 = str1.join(lines2)\n",
        "stem2 = nlp(stem2)\n",
        "label = [(X.text, X.label_) for X in stem2.ents]\n",
        "df6 = pd.DataFrame(label, columns = ['Word', 'Entity'])\n",
        "df7 = df6.where(df6['Entity'] == 'PERSON')\n",
        "df7 = df7['Word'].value_counts()"
      ],
      "metadata": {
        "id": "2pPZsmzhl7i6"
      },
      "execution_count": 28,
      "outputs": []
    },
    {
      "cell_type": "code",
      "source": [
        "# Visualization again\n",
        "dfx= df7[:20, ]\n",
        "plt.figure(figsize=(15,7.5))\n",
        "sns.barplot(dfx.values, dfx.index, alpha=1)\n",
        "plt.title('Top People Mentioned')\n",
        "plt.ylabel('Word from Tweet', fontsize=12)\n",
        "plt.xlabel('Count of Words', fontsize=12)\n",
        "plt.show()"
      ],
      "metadata": {
        "id": "EP_VKVk_09UA",
        "colab": {
          "base_uri": "https://localhost:8080/",
          "height": 489
        },
        "outputId": "1529c941-4133-4999-e819-04a25466fde0"
      },
      "execution_count": 29,
      "outputs": [
        {
          "output_type": "display_data",
          "data": {
            "text/plain": [
              "<Figure size 1080x540 with 1 Axes>"
            ],
            "image/png": "[encoded data removed]"
          },
          "metadata": {
            "needs_background": "light"
          }
        }
      ]
    }
  ],
  "metadata": {
    "colab": {
      "name": "TwiteerDataAnalytics.ipynb",
      "provenance": [],
      "mount_file_id": "1QcHp2JfNJiln7VgNSMmi2mx2MzNKBNQw",
      "authorship_tag": "ABX9TyPhjnduBhRDsT6fUa9n37UJ",
      "include_colab_link": true
    },
    "kernelspec": {
      "display_name": "Python 3",
      "name": "python3"
    },
    "language_info": {
      "name": "python"
    }
  },
  "nbformat": 4,
  "nbformat_minor": 0
}