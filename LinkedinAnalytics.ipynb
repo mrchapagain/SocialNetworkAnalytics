{
  "cells": [
    {
      "cell_type": "markdown",
      "metadata": {
        "id": "view-in-github",
        "colab_type": "text"
      },
      "source": [
        "<a href=\"https://colab.research.google.com/github/mrchapagain/SocialNetworkAnalytics/blob/main/LinkedinAnalytics.ipynb\" target=\"_parent\"><img src=\"https://colab.research.google.com/assets/colab-badge.svg\" alt=\"Open In Colab\"/></a>"
      ]
    },
    {
      "cell_type": "markdown",
      "source": [
        "#Process overview"
      ],
      "metadata": {
        "id": "0s6vTWXsHmjl"
      }
    },
    {
      "cell_type": "markdown",
      "source": [
        " \n",
        "\n",
        "1.   **LinkedIn data sources** - retrieving LinkedIn Network data from a \"Get a copy of data\" CSV export\n",
        "2.   **Diving into the data** - exploring, cleaning, and aggregating the data with Pandas\n",
        "1.   **Creating the network** - creating a network graph using NetworkX\n",
        "2.   **Visualization**- visualizing the network with pyvis\n",
        "1.   **Improving the output** - cleaning up the network graph with additional filtering\n",
        "\n",
        "\n",
        "\n",
        "\n"
      ],
      "metadata": {
        "id": "GduxiTHUHqQy"
      }
    },
    {
      "cell_type": "markdown",
      "source": [
        "# Loading/Reading in the data"
      ],
      "metadata": {
        "id": "9-jPFLbCI_4d"
      }
    },
    {
      "cell_type": "code",
      "source": [
        "#!pip install pyjanitor pyvis --quiet\n",
        "#!pip install pyvis"
      ],
      "metadata": {
        "id": "lCOdKCvjDQ2P"
      },
      "execution_count": 2,
      "outputs": []
    },
    {
      "cell_type": "code",
      "source": [
        "# Import the libraries\n",
        "import pandas as pd\n",
        "import plotly.express as px\n",
        "import plotly.graph_objects as go\n",
        "\n",
        "import numpy as np\n",
        "\n",
        "import networkx as nx\n",
        "from pyvis import network as net\n",
        "import janitor\n",
        "%matplotlib inline\n",
        "import matplotlib.pyplot as plt\n",
        "import seaborn as sns\n",
        "from IPython.core.display import display, HTML\n",
        "from datetime import datetime\n",
        "\n",
        "# Load the data\n",
        "datalink= \"/content/Connections.csv\"\n",
        "df = pd.read_csv(datalink, skiprows=3)\n",
        "#df = pd.read_csv(\"../input/dataset/linkedin_data.csv\")\n",
        "df.head()"
      ],
      "metadata": {
        "id": "WELEx6eDI_NW",
        "outputId": "d9b4fa27-14d6-498f-f8f0-f28dd38125bd",
        "colab": {
          "base_uri": "https://localhost:8080/",
          "height": 206
        }
      },
      "execution_count": 3,
      "outputs": [
        {
          "output_type": "execute_result",
          "data": {
            "text/plain": [
              "  First Name          Last Name Email Address  \\\n",
              "0    Gilbert       Eijkelenboom           NaN   \n",
              "1    Barbara    Koroušić Seljak           NaN   \n",
              "2      Sunil            Ghimire           NaN   \n",
              "3     Thomas  Grandjean-Thomsen           NaN   \n",
              "4   Karolina            Perkman           NaN   \n",
              "\n",
              "                               Company                             Position  \\\n",
              "0                         MindSpeaking                              Founder   \n",
              "1               Jožef Stefan Institute                           Researcher   \n",
              "2                         Fusemachines  Machine Learning Engineer Associate   \n",
              "3  NTT DATA Business Solutions Nordics     Manager, Business Analytics Team   \n",
              "4                                 Pleo   Student Assistant Compliance (KYC)   \n",
              "\n",
              "  Connected On  \n",
              "0  12 Jul 2022  \n",
              "1  06 Jul 2022  \n",
              "2  01 Jul 2022  \n",
              "3  30 Jun 2022  \n",
              "4  25 Jun 2022  "
            ],
            "text/html": [
              "\n",
              "  <div id=\"df-c625761f-184b-4da7-8ad1-0c46273bf8ae\">\n",
              "    <div class=\"colab-df-container\">\n",
              "      <div>\n",
              "<style scoped>\n",
              "    .dataframe tbody tr th:only-of-type {\n",
              "        vertical-align: middle;\n",
              "    }\n",
              "\n",
              "    .dataframe tbody tr th {\n",
              "        vertical-align: top;\n",
              "    }\n",
              "\n",
              "    .dataframe thead th {\n",
              "        text-align: right;\n",
              "    }\n",
              "</style>\n",
              "<table border=\"1\" class=\"dataframe\">\n",
              "  <thead>\n",
              "    <tr style=\"text-align: right;\">\n",
              "      <th></th>\n",
              "      <th>First Name</th>\n",
              "      <th>Last Name</th>\n",
              "      <th>Email Address</th>\n",
              "      <th>Company</th>\n",
              "      <th>Position</th>\n",
              "      <th>Connected On</th>\n",
              "    </tr>\n",
              "  </thead>\n",
              "  <tbody>\n",
              "    <tr>\n",
              "      <th>0</th>\n",
              "      <td>Gilbert</td>\n",
              "      <td>Eijkelenboom</td>\n",
              "      <td>NaN</td>\n",
              "      <td>MindSpeaking</td>\n",
              "      <td>Founder</td>\n",
              "      <td>12 Jul 2022</td>\n",
              "    </tr>\n",
              "    <tr>\n",
              "      <th>1</th>\n",
              "      <td>Barbara</td>\n",
              "      <td>Koroušić Seljak</td>\n",
              "      <td>NaN</td>\n",
              "      <td>Jožef Stefan Institute</td>\n",
              "      <td>Researcher</td>\n",
              "      <td>06 Jul 2022</td>\n",
              "    </tr>\n",
              "    <tr>\n",
              "      <th>2</th>\n",
              "      <td>Sunil</td>\n",
              "      <td>Ghimire</td>\n",
              "      <td>NaN</td>\n",
              "      <td>Fusemachines</td>\n",
              "      <td>Machine Learning Engineer Associate</td>\n",
              "      <td>01 Jul 2022</td>\n",
              "    </tr>\n",
              "    <tr>\n",
              "      <th>3</th>\n",
              "      <td>Thomas</td>\n",
              "      <td>Grandjean-Thomsen</td>\n",
              "      <td>NaN</td>\n",
              "      <td>NTT DATA Business Solutions Nordics</td>\n",
              "      <td>Manager, Business Analytics Team</td>\n",
              "      <td>30 Jun 2022</td>\n",
              "    </tr>\n",
              "    <tr>\n",
              "      <th>4</th>\n",
              "      <td>Karolina</td>\n",
              "      <td>Perkman</td>\n",
              "      <td>NaN</td>\n",
              "      <td>Pleo</td>\n",
              "      <td>Student Assistant Compliance (KYC)</td>\n",
              "      <td>25 Jun 2022</td>\n",
              "    </tr>\n",
              "  </tbody>\n",
              "</table>\n",
              "</div>\n",
              "      <button class=\"colab-df-convert\" onclick=\"convertToInteractive('df-c625761f-184b-4da7-8ad1-0c46273bf8ae')\"\n",
              "              title=\"Convert this dataframe to an interactive table.\"\n",
              "              style=\"display:none;\">\n",
              "        \n",
              "  <svg xmlns=\"http://www.w3.org/2000/svg\" height=\"24px\"viewBox=\"0 0 24 24\"\n",
              "       width=\"24px\">\n",
              "    <path d=\"M0 0h24v24H0V0z\" fill=\"none\"/>\n",
              "    <path d=\"M18.56 5.44l.94 2.06.94-2.06 2.06-.94-2.06-.94-.94-2.06-.94 2.06-2.06.94zm-11 1L8.5 8.5l.94-2.06 2.06-.94-2.06-.94L8.5 2.5l-.94 2.06-2.06.94zm10 10l.94 2.06.94-2.06 2.06-.94-2.06-.94-.94-2.06-.94 2.06-2.06.94z\"/><path d=\"M17.41 7.96l-1.37-1.37c-.4-.4-.92-.59-1.43-.59-.52 0-1.04.2-1.43.59L10.3 9.45l-7.72 7.72c-.78.78-.78 2.05 0 2.83L4 21.41c.39.39.9.59 1.41.59.51 0 1.02-.2 1.41-.59l7.78-7.78 2.81-2.81c.8-.78.8-2.07 0-2.86zM5.41 20L4 18.59l7.72-7.72 1.47 1.35L5.41 20z\"/>\n",
              "  </svg>\n",
              "      </button>\n",
              "      \n",
              "  <style>\n",
              "    .colab-df-container {\n",
              "      display:flex;\n",
              "      flex-wrap:wrap;\n",
              "      gap: 12px;\n",
              "    }\n",
              "\n",
              "    .colab-df-convert {\n",
              "      background-color: #E8F0FE;\n",
              "      border: none;\n",
              "      border-radius: 50%;\n",
              "      cursor: pointer;\n",
              "      display: none;\n",
              "      fill: #1967D2;\n",
              "      height: 32px;\n",
              "      padding: 0 0 0 0;\n",
              "      width: 32px;\n",
              "    }\n",
              "\n",
              "    .colab-df-convert:hover {\n",
              "      background-color: #E2EBFA;\n",
              "      box-shadow: 0px 1px 2px rgba(60, 64, 67, 0.3), 0px 1px 3px 1px rgba(60, 64, 67, 0.15);\n",
              "      fill: #174EA6;\n",
              "    }\n",
              "\n",
              "    [theme=dark] .colab-df-convert {\n",
              "      background-color: #3B4455;\n",
              "      fill: #D2E3FC;\n",
              "    }\n",
              "\n",
              "    [theme=dark] .colab-df-convert:hover {\n",
              "      background-color: #434B5C;\n",
              "      box-shadow: 0px 1px 3px 1px rgba(0, 0, 0, 0.15);\n",
              "      filter: drop-shadow(0px 1px 2px rgba(0, 0, 0, 0.3));\n",
              "      fill: #FFFFFF;\n",
              "    }\n",
              "  </style>\n",
              "\n",
              "      <script>\n",
              "        const buttonEl =\n",
              "          document.querySelector('#df-c625761f-184b-4da7-8ad1-0c46273bf8ae button.colab-df-convert');\n",
              "        buttonEl.style.display =\n",
              "          google.colab.kernel.accessAllowed ? 'block' : 'none';\n",
              "\n",
              "        async function convertToInteractive(key) {\n",
              "          const element = document.querySelector('#df-c625761f-184b-4da7-8ad1-0c46273bf8ae');\n",
              "          const dataTable =\n",
              "            await google.colab.kernel.invokeFunction('convertToInteractive',\n",
              "                                                     [key], {});\n",
              "          if (!dataTable) return;\n",
              "\n",
              "          const docLinkHtml = 'Like what you see? Visit the ' +\n",
              "            '<a target=\"_blank\" href=https://colab.research.google.com/notebooks/data_table.ipynb>data table notebook</a>'\n",
              "            + ' to learn more about interactive tables.';\n",
              "          element.innerHTML = '';\n",
              "          dataTable['output_type'] = 'display_data';\n",
              "          await google.colab.output.renderOutput(dataTable, element);\n",
              "          const docLink = document.createElement('div');\n",
              "          docLink.innerHTML = docLinkHtml;\n",
              "          element.appendChild(docLink);\n",
              "        }\n",
              "      </script>\n",
              "    </div>\n",
              "  </div>\n",
              "  "
            ]
          },
          "metadata": {},
          "execution_count": 3
        }
      ]
    },
    {
      "cell_type": "code",
      "source": [
        "new_df = (df\n",
        "          .clean_names() # remove spacing and capitalization\n",
        "          .drop(columns=['first_name', 'last_name', 'email_address']) # drop for privacy\n",
        "          .dropna(subset=['company', 'position']) # drop missing values in company and position\n",
        "          .to_datetime('connected_on', format='%d %b %Y')\n",
        "          )\n",
        "new_df.head()"
      ],
      "metadata": {
        "id": "5DyToaQPtpHC",
        "outputId": "6d42dab1-f0f1-453c-f884-d973dbcb0001",
        "colab": {
          "base_uri": "https://localhost:8080/",
          "height": 206
        }
      },
      "execution_count": 4,
      "outputs": [
        {
          "output_type": "execute_result",
          "data": {
            "text/plain": [
              "                               company                             position  \\\n",
              "0                         MindSpeaking                              Founder   \n",
              "1               Jožef Stefan Institute                           Researcher   \n",
              "2                         Fusemachines  Machine Learning Engineer Associate   \n",
              "3  NTT DATA Business Solutions Nordics     Manager, Business Analytics Team   \n",
              "4                                 Pleo   Student Assistant Compliance (KYC)   \n",
              "\n",
              "  connected_on  \n",
              "0   2022-07-12  \n",
              "1   2022-07-06  \n",
              "2   2022-07-01  \n",
              "3   2022-06-30  \n",
              "4   2022-06-25  "
            ],
            "text/html": [
              "\n",
              "  <div id=\"df-27b4a801-f9f0-4091-a7ae-58dd2e2ae3ad\">\n",
              "    <div class=\"colab-df-container\">\n",
              "      <div>\n",
              "<style scoped>\n",
              "    .dataframe tbody tr th:only-of-type {\n",
              "        vertical-align: middle;\n",
              "    }\n",
              "\n",
              "    .dataframe tbody tr th {\n",
              "        vertical-align: top;\n",
              "    }\n",
              "\n",
              "    .dataframe thead th {\n",
              "        text-align: right;\n",
              "    }\n",
              "</style>\n",
              "<table border=\"1\" class=\"dataframe\">\n",
              "  <thead>\n",
              "    <tr style=\"text-align: right;\">\n",
              "      <th></th>\n",
              "      <th>company</th>\n",
              "      <th>position</th>\n",
              "      <th>connected_on</th>\n",
              "    </tr>\n",
              "  </thead>\n",
              "  <tbody>\n",
              "    <tr>\n",
              "      <th>0</th>\n",
              "      <td>MindSpeaking</td>\n",
              "      <td>Founder</td>\n",
              "      <td>2022-07-12</td>\n",
              "    </tr>\n",
              "    <tr>\n",
              "      <th>1</th>\n",
              "      <td>Jožef Stefan Institute</td>\n",
              "      <td>Researcher</td>\n",
              "      <td>2022-07-06</td>\n",
              "    </tr>\n",
              "    <tr>\n",
              "      <th>2</th>\n",
              "      <td>Fusemachines</td>\n",
              "      <td>Machine Learning Engineer Associate</td>\n",
              "      <td>2022-07-01</td>\n",
              "    </tr>\n",
              "    <tr>\n",
              "      <th>3</th>\n",
              "      <td>NTT DATA Business Solutions Nordics</td>\n",
              "      <td>Manager, Business Analytics Team</td>\n",
              "      <td>2022-06-30</td>\n",
              "    </tr>\n",
              "    <tr>\n",
              "      <th>4</th>\n",
              "      <td>Pleo</td>\n",
              "      <td>Student Assistant Compliance (KYC)</td>\n",
              "      <td>2022-06-25</td>\n",
              "    </tr>\n",
              "  </tbody>\n",
              "</table>\n",
              "</div>\n",
              "      <button class=\"colab-df-convert\" onclick=\"convertToInteractive('df-27b4a801-f9f0-4091-a7ae-58dd2e2ae3ad')\"\n",
              "              title=\"Convert this dataframe to an interactive table.\"\n",
              "              style=\"display:none;\">\n",
              "        \n",
              "  <svg xmlns=\"http://www.w3.org/2000/svg\" height=\"24px\"viewBox=\"0 0 24 24\"\n",
              "       width=\"24px\">\n",
              "    <path d=\"M0 0h24v24H0V0z\" fill=\"none\"/>\n",
              "    <path d=\"M18.56 5.44l.94 2.06.94-2.06 2.06-.94-2.06-.94-.94-2.06-.94 2.06-2.06.94zm-11 1L8.5 8.5l.94-2.06 2.06-.94-2.06-.94L8.5 2.5l-.94 2.06-2.06.94zm10 10l.94 2.06.94-2.06 2.06-.94-2.06-.94-.94-2.06-.94 2.06-2.06.94z\"/><path d=\"M17.41 7.96l-1.37-1.37c-.4-.4-.92-.59-1.43-.59-.52 0-1.04.2-1.43.59L10.3 9.45l-7.72 7.72c-.78.78-.78 2.05 0 2.83L4 21.41c.39.39.9.59 1.41.59.51 0 1.02-.2 1.41-.59l7.78-7.78 2.81-2.81c.8-.78.8-2.07 0-2.86zM5.41 20L4 18.59l7.72-7.72 1.47 1.35L5.41 20z\"/>\n",
              "  </svg>\n",
              "      </button>\n",
              "      \n",
              "  <style>\n",
              "    .colab-df-container {\n",
              "      display:flex;\n",
              "      flex-wrap:wrap;\n",
              "      gap: 12px;\n",
              "    }\n",
              "\n",
              "    .colab-df-convert {\n",
              "      background-color: #E8F0FE;\n",
              "      border: none;\n",
              "      border-radius: 50%;\n",
              "      cursor: pointer;\n",
              "      display: none;\n",
              "      fill: #1967D2;\n",
              "      height: 32px;\n",
              "      padding: 0 0 0 0;\n",
              "      width: 32px;\n",
              "    }\n",
              "\n",
              "    .colab-df-convert:hover {\n",
              "      background-color: #E2EBFA;\n",
              "      box-shadow: 0px 1px 2px rgba(60, 64, 67, 0.3), 0px 1px 3px 1px rgba(60, 64, 67, 0.15);\n",
              "      fill: #174EA6;\n",
              "    }\n",
              "\n",
              "    [theme=dark] .colab-df-convert {\n",
              "      background-color: #3B4455;\n",
              "      fill: #D2E3FC;\n",
              "    }\n",
              "\n",
              "    [theme=dark] .colab-df-convert:hover {\n",
              "      background-color: #434B5C;\n",
              "      box-shadow: 0px 1px 3px 1px rgba(0, 0, 0, 0.15);\n",
              "      filter: drop-shadow(0px 1px 2px rgba(0, 0, 0, 0.3));\n",
              "      fill: #FFFFFF;\n",
              "    }\n",
              "  </style>\n",
              "\n",
              "      <script>\n",
              "        const buttonEl =\n",
              "          document.querySelector('#df-27b4a801-f9f0-4091-a7ae-58dd2e2ae3ad button.colab-df-convert');\n",
              "        buttonEl.style.display =\n",
              "          google.colab.kernel.accessAllowed ? 'block' : 'none';\n",
              "\n",
              "        async function convertToInteractive(key) {\n",
              "          const element = document.querySelector('#df-27b4a801-f9f0-4091-a7ae-58dd2e2ae3ad');\n",
              "          const dataTable =\n",
              "            await google.colab.kernel.invokeFunction('convertToInteractive',\n",
              "                                                     [key], {});\n",
              "          if (!dataTable) return;\n",
              "\n",
              "          const docLinkHtml = 'Like what you see? Visit the ' +\n",
              "            '<a target=\"_blank\" href=https://colab.research.google.com/notebooks/data_table.ipynb>data table notebook</a>'\n",
              "            + ' to learn more about interactive tables.';\n",
              "          element.innerHTML = '';\n",
              "          dataTable['output_type'] = 'display_data';\n",
              "          await google.colab.output.renderOutput(dataTable, element);\n",
              "          const docLink = document.createElement('div');\n",
              "          docLink.innerHTML = docLinkHtml;\n",
              "          element.appendChild(docLink);\n",
              "        }\n",
              "      </script>\n",
              "    </div>\n",
              "  </div>\n",
              "  "
            ]
          },
          "metadata": {},
          "execution_count": 4
        }
      ]
    },
    {
      "cell_type": "markdown",
      "source": [
        "#Data Exploration\n",
        "*   New connections over time\n",
        "*   Top 15 companies my connections work at\n",
        "*   Top 15 roles my connections work as"
      ],
      "metadata": {
        "id": "iGM76ujA0cR_"
      }
    },
    {
      "cell_type": "markdown",
      "source": [
        "#*New connections over time*"
      ],
      "metadata": {
        "id": "FVyJqJy_06lm"
      }
    },
    {
      "cell_type": "code",
      "source": [
        "daily_connections = (new_df\n",
        "                    .groupby(by=['connected_on']) # group by date\n",
        "                    .size() # sum up new connections per day\n",
        "                    .plot() # plot line chart\n",
        "                      )"
      ],
      "metadata": {
        "id": "1fV7IjvV0eNt",
        "outputId": "9e33ddf0-9ab3-4b60-da23-66fe97475cbf",
        "colab": {
          "base_uri": "https://localhost:8080/",
          "height": 270
        }
      },
      "execution_count": 5,
      "outputs": [
        {
          "output_type": "display_data",
          "data": {
            "text/plain": [
              "<Figure size 432x288 with 1 Axes>"
            ],
            "image/png": "[encoded data removed]"
          },
          "metadata": {
            "needs_background": "light"
          }
        }
      ]
    },
    {
      "cell_type": "code",
      "source": [
        ""
      ],
      "metadata": {
        "id": "uk5Nncqypun0"
      },
      "execution_count": 5,
      "outputs": []
    },
    {
      "cell_type": "markdown",
      "source": [
        "#*Top 15 companies my connections work at*"
      ],
      "metadata": {
        "id": "VdSEnGw91MF1"
      }
    },
    {
      "cell_type": "code",
      "source": [
        "# Group and sort the data by company \n",
        "companies_count = new_df.groupby(by=\"company\").count().reset_index().sort_values(by=\"position\", ascending=False).reset_index(drop=True)# group by company                 \n",
        "companies_count\n",
        "\n",
        "# Create a bar plot for the top companies\n",
        "fig2 = px.bar(companies_count[:10],\n",
        "              x=\"company\", y=\"position\",\n",
        "              labels={\"position\": \"Number of count\",\"company\": \"Organization that my connection belong to\"},\n",
        "              title=\"Top Companies/Organizations in my Network\")\n",
        "fig2.show()\n",
        "#new_df['company'].value_counts().head(10).plot(kind=\"barh\").invert_yaxis()"
      ],
      "metadata": {
        "id": "e5QQYioDpid4",
        "outputId": "0cb07583-0ba2-427e-90d7-9284eede8c45",
        "colab": {
          "base_uri": "https://localhost:8080/",
          "height": 542
        }
      },
      "execution_count": 6,
      "outputs": [
        {
          "output_type": "display_data",
          "data": {
            "text/html": [
              "<html>\n",
              "<head><meta charset=\"utf-8\" /></head>\n",
              "<body>\n",
              "    <div>            <script src=\"https://cdnjs.cloudflare.com/ajax/libs/mathjax/2.7.5/MathJax.js?config=TeX-AMS-MML_SVG\"></script><script type=\"text/javascript\">if (window.MathJax) {MathJax.Hub.Config({SVG: {font: \"STIX-Web\"}});}</script>                <script type=\"text/javascript\">window.PlotlyConfig = {MathJaxConfig: 'local'};</script>\n",
              "        <script src=\"https://cdn.plot.ly/plotly-2.8.3.min.js\"></script>                <div id=\"0f7674c3-5d80-4bce-9c3a-95f170f5470d\" class=\"plotly-graph-div\" style=\"height:525px; width:100%;\"></div>            <script type=\"text/javascript\">                                    window.PLOTLYENV=window.PLOTLYENV || {};                                    if (document.getElementById(\"0f7674c3-5d80-4bce-9c3a-95f170f5470d\")) {                    Plotly.newPlot(                        \"0f7674c3-5d80-4bce-9c3a-95f170f5470d\",                        [{\"alignmentgroup\":\"True\",\"hovertemplate\":\"Organization that my connection belong to=%{x}<br>Number of count=%{y}<extra></extra>\",\"legendgroup\":\"\",\"marker\":{\"color\":\"#636efa\",\"pattern\":{\"shape\":\"\"}},\"name\":\"\",\"offsetgroup\":\"\",\"orientation\":\"v\",\"showlegend\":false,\"textposition\":\"auto\",\"x\":[\"Copenhagen Business School\",\"K\\u00f8benhavns Universitet - University of Copenhagen\",\"Scandic Hotels\",\"Aalborg University\",\"Novo Nordisk\",\"Self-employed\",\"Roskilde University\",\"Aarhus University\",\"Ramboll\",\"DTU - Technical University of Denmark\"],\"xaxis\":\"x\",\"y\":[11,10,7,7,6,5,5,5,4,4],\"yaxis\":\"y\",\"type\":\"bar\"}],                        {\"template\":{\"data\":{\"bar\":[{\"error_x\":{\"color\":\"#2a3f5f\"},\"error_y\":{\"color\":\"#2a3f5f\"},\"marker\":{\"line\":{\"color\":\"#E5ECF6\",\"width\":0.5},\"pattern\":{\"fillmode\":\"overlay\",\"size\":10,\"solidity\":0.2}},\"type\":\"bar\"}],\"barpolar\":[{\"marker\":{\"line\":{\"color\":\"#E5ECF6\",\"width\":0.5},\"pattern\":{\"fillmode\":\"overlay\",\"size\":10,\"solidity\":0.2}},\"type\":\"barpolar\"}],\"carpet\":[{\"aaxis\":{\"endlinecolor\":\"#2a3f5f\",\"gridcolor\":\"white\",\"linecolor\":\"white\",\"minorgridcolor\":\"white\",\"startlinecolor\":\"#2a3f5f\"},\"baxis\":{\"endlinecolor\":\"#2a3f5f\",\"gridcolor\":\"white\",\"linecolor\":\"white\",\"minorgridcolor\":\"white\",\"startlinecolor\":\"#2a3f5f\"},\"type\":\"carpet\"}],\"choropleth\":[{\"colorbar\":{\"outlinewidth\":0,\"ticks\":\"\"},\"type\":\"choropleth\"}],\"contour\":[{\"colorbar\":{\"outlinewidth\":0,\"ticks\":\"\"},\"colorscale\":[[0.0,\"#0d0887\"],[0.1111111111111111,\"#46039f\"],[0.2222222222222222,\"#7201a8\"],[0.3333333333333333,\"#9c179e\"],[0.4444444444444444,\"#bd3786\"],[0.5555555555555556,\"#d8576b\"],[0.6666666666666666,\"#ed7953\"],[0.7777777777777778,\"#fb9f3a\"],[0.8888888888888888,\"#fdca26\"],[1.0,\"#f0f921\"]],\"type\":\"contour\"}],\"contourcarpet\":[{\"colorbar\":{\"outlinewidth\":0,\"ticks\":\"\"},\"type\":\"contourcarpet\"}],\"heatmap\":[{\"colorbar\":{\"outlinewidth\":0,\"ticks\":\"\"},\"colorscale\":[[0.0,\"#0d0887\"],[0.1111111111111111,\"#46039f\"],[0.2222222222222222,\"#7201a8\"],[0.3333333333333333,\"#9c179e\"],[0.4444444444444444,\"#bd3786\"],[0.5555555555555556,\"#d8576b\"],[0.6666666666666666,\"#ed7953\"],[0.7777777777777778,\"#fb9f3a\"],[0.8888888888888888,\"#fdca26\"],[1.0,\"#f0f921\"]],\"type\":\"heatmap\"}],\"heatmapgl\":[{\"colorbar\":{\"outlinewidth\":0,\"ticks\":\"\"},\"colorscale\":[[0.0,\"#0d0887\"],[0.1111111111111111,\"#46039f\"],[0.2222222222222222,\"#7201a8\"],[0.3333333333333333,\"#9c179e\"],[0.4444444444444444,\"#bd3786\"],[0.5555555555555556,\"#d8576b\"],[0.6666666666666666,\"#ed7953\"],[0.7777777777777778,\"#fb9f3a\"],[0.8888888888888888,\"#fdca26\"],[1.0,\"#f0f921\"]],\"type\":\"heatmapgl\"}],\"histogram\":[{\"marker\":{\"pattern\":{\"fillmode\":\"overlay\",\"size\":10,\"solidity\":0.2}},\"type\":\"histogram\"}],\"histogram2d\":[{\"colorbar\":{\"outlinewidth\":0,\"ticks\":\"\"},\"colorscale\":[[0.0,\"#0d0887\"],[0.1111111111111111,\"#46039f\"],[0.2222222222222222,\"#7201a8\"],[0.3333333333333333,\"#9c179e\"],[0.4444444444444444,\"#bd3786\"],[0.5555555555555556,\"#d8576b\"],[0.6666666666666666,\"#ed7953\"],[0.7777777777777778,\"#fb9f3a\"],[0.8888888888888888,\"#fdca26\"],[1.0,\"#f0f921\"]],\"type\":\"histogram2d\"}],\"histogram2dcontour\":[{\"colorbar\":{\"outlinewidth\":0,\"ticks\":\"\"},\"colorscale\":[[0.0,\"#0d0887\"],[0.1111111111111111,\"#46039f\"],[0.2222222222222222,\"#7201a8\"],[0.3333333333333333,\"#9c179e\"],[0.4444444444444444,\"#bd3786\"],[0.5555555555555556,\"#d8576b\"],[0.6666666666666666,\"#ed7953\"],[0.7777777777777778,\"#fb9f3a\"],[0.8888888888888888,\"#fdca26\"],[1.0,\"#f0f921\"]],\"type\":\"histogram2dcontour\"}],\"mesh3d\":[{\"colorbar\":{\"outlinewidth\":0,\"ticks\":\"\"},\"type\":\"mesh3d\"}],\"parcoords\":[{\"line\":{\"colorbar\":{\"outlinewidth\":0,\"ticks\":\"\"}},\"type\":\"parcoords\"}],\"pie\":[{\"automargin\":true,\"type\":\"pie\"}],\"scatter\":[{\"marker\":{\"colorbar\":{\"outlinewidth\":0,\"ticks\":\"\"}},\"type\":\"scatter\"}],\"scatter3d\":[{\"line\":{\"colorbar\":{\"outlinewidth\":0,\"ticks\":\"\"}},\"marker\":{\"colorbar\":{\"outlinewidth\":0,\"ticks\":\"\"}},\"type\":\"scatter3d\"}],\"scattercarpet\":[{\"marker\":{\"colorbar\":{\"outlinewidth\":0,\"ticks\":\"\"}},\"type\":\"scattercarpet\"}],\"scattergeo\":[{\"marker\":{\"colorbar\":{\"outlinewidth\":0,\"ticks\":\"\"}},\"type\":\"scattergeo\"}],\"scattergl\":[{\"marker\":{\"colorbar\":{\"outlinewidth\":0,\"ticks\":\"\"}},\"type\":\"scattergl\"}],\"scattermapbox\":[{\"marker\":{\"colorbar\":{\"outlinewidth\":0,\"ticks\":\"\"}},\"type\":\"scattermapbox\"}],\"scatterpolar\":[{\"marker\":{\"colorbar\":{\"outlinewidth\":0,\"ticks\":\"\"}},\"type\":\"scatterpolar\"}],\"scatterpolargl\":[{\"marker\":{\"colorbar\":{\"outlinewidth\":0,\"ticks\":\"\"}},\"type\":\"scatterpolargl\"}],\"scatterternary\":[{\"marker\":{\"colorbar\":{\"outlinewidth\":0,\"ticks\":\"\"}},\"type\":\"scatterternary\"}],\"surface\":[{\"colorbar\":{\"outlinewidth\":0,\"ticks\":\"\"},\"colorscale\":[[0.0,\"#0d0887\"],[0.1111111111111111,\"#46039f\"],[0.2222222222222222,\"#7201a8\"],[0.3333333333333333,\"#9c179e\"],[0.4444444444444444,\"#bd3786\"],[0.5555555555555556,\"#d8576b\"],[0.6666666666666666,\"#ed7953\"],[0.7777777777777778,\"#fb9f3a\"],[0.8888888888888888,\"#fdca26\"],[1.0,\"#f0f921\"]],\"type\":\"surface\"}],\"table\":[{\"cells\":{\"fill\":{\"color\":\"#EBF0F8\"},\"line\":{\"color\":\"white\"}},\"header\":{\"fill\":{\"color\":\"#C8D4E3\"},\"line\":{\"color\":\"white\"}},\"type\":\"table\"}]},\"layout\":{\"annotationdefaults\":{\"arrowcolor\":\"#2a3f5f\",\"arrowhead\":0,\"arrowwidth\":1},\"autotypenumbers\":\"strict\",\"coloraxis\":{\"colorbar\":{\"outlinewidth\":0,\"ticks\":\"\"}},\"colorscale\":{\"diverging\":[[0,\"#8e0152\"],[0.1,\"#c51b7d\"],[0.2,\"#de77ae\"],[0.3,\"#f1b6da\"],[0.4,\"#fde0ef\"],[0.5,\"#f7f7f7\"],[0.6,\"#e6f5d0\"],[0.7,\"#b8e186\"],[0.8,\"#7fbc41\"],[0.9,\"#4d9221\"],[1,\"#276419\"]],\"sequential\":[[0.0,\"#0d0887\"],[0.1111111111111111,\"#46039f\"],[0.2222222222222222,\"#7201a8\"],[0.3333333333333333,\"#9c179e\"],[0.4444444444444444,\"#bd3786\"],[0.5555555555555556,\"#d8576b\"],[0.6666666666666666,\"#ed7953\"],[0.7777777777777778,\"#fb9f3a\"],[0.8888888888888888,\"#fdca26\"],[1.0,\"#f0f921\"]],\"sequentialminus\":[[0.0,\"#0d0887\"],[0.1111111111111111,\"#46039f\"],[0.2222222222222222,\"#7201a8\"],[0.3333333333333333,\"#9c179e\"],[0.4444444444444444,\"#bd3786\"],[0.5555555555555556,\"#d8576b\"],[0.6666666666666666,\"#ed7953\"],[0.7777777777777778,\"#fb9f3a\"],[0.8888888888888888,\"#fdca26\"],[1.0,\"#f0f921\"]]},\"colorway\":[\"#636efa\",\"#EF553B\",\"#00cc96\",\"#ab63fa\",\"#FFA15A\",\"#19d3f3\",\"#FF6692\",\"#B6E880\",\"#FF97FF\",\"#FECB52\"],\"font\":{\"color\":\"#2a3f5f\"},\"geo\":{\"bgcolor\":\"white\",\"lakecolor\":\"white\",\"landcolor\":\"#E5ECF6\",\"showlakes\":true,\"showland\":true,\"subunitcolor\":\"white\"},\"hoverlabel\":{\"align\":\"left\"},\"hovermode\":\"closest\",\"mapbox\":{\"style\":\"light\"},\"paper_bgcolor\":\"white\",\"plot_bgcolor\":\"#E5ECF6\",\"polar\":{\"angularaxis\":{\"gridcolor\":\"white\",\"linecolor\":\"white\",\"ticks\":\"\"},\"bgcolor\":\"#E5ECF6\",\"radialaxis\":{\"gridcolor\":\"white\",\"linecolor\":\"white\",\"ticks\":\"\"}},\"scene\":{\"xaxis\":{\"backgroundcolor\":\"#E5ECF6\",\"gridcolor\":\"white\",\"gridwidth\":2,\"linecolor\":\"white\",\"showbackground\":true,\"ticks\":\"\",\"zerolinecolor\":\"white\"},\"yaxis\":{\"backgroundcolor\":\"#E5ECF6\",\"gridcolor\":\"white\",\"gridwidth\":2,\"linecolor\":\"white\",\"showbackground\":true,\"ticks\":\"\",\"zerolinecolor\":\"white\"},\"zaxis\":{\"backgroundcolor\":\"#E5ECF6\",\"gridcolor\":\"white\",\"gridwidth\":2,\"linecolor\":\"white\",\"showbackground\":true,\"ticks\":\"\",\"zerolinecolor\":\"white\"}},\"shapedefaults\":{\"line\":{\"color\":\"#2a3f5f\"}},\"ternary\":{\"aaxis\":{\"gridcolor\":\"white\",\"linecolor\":\"white\",\"ticks\":\"\"},\"baxis\":{\"gridcolor\":\"white\",\"linecolor\":\"white\",\"ticks\":\"\"},\"bgcolor\":\"#E5ECF6\",\"caxis\":{\"gridcolor\":\"white\",\"linecolor\":\"white\",\"ticks\":\"\"}},\"title\":{\"x\":0.05},\"xaxis\":{\"automargin\":true,\"gridcolor\":\"white\",\"linecolor\":\"white\",\"ticks\":\"\",\"title\":{\"standoff\":15},\"zerolinecolor\":\"white\",\"zerolinewidth\":2},\"yaxis\":{\"automargin\":true,\"gridcolor\":\"white\",\"linecolor\":\"white\",\"ticks\":\"\",\"title\":{\"standoff\":15},\"zerolinecolor\":\"white\",\"zerolinewidth\":2}}},\"xaxis\":{\"anchor\":\"y\",\"domain\":[0.0,1.0],\"title\":{\"text\":\"Organization that my connection belong to\"}},\"yaxis\":{\"anchor\":\"x\",\"domain\":[0.0,1.0],\"title\":{\"text\":\"Number of count\"}},\"legend\":{\"tracegroupgap\":0},\"title\":{\"text\":\"Top Companies/Organizations in my Network\"},\"barmode\":\"relative\"},                        {\"responsive\": true}                    ).then(function(){\n",
              "                            \n",
              "var gd = document.getElementById('0f7674c3-5d80-4bce-9c3a-95f170f5470d');\n",
              "var x = new MutationObserver(function (mutations, observer) {{\n",
              "        var display = window.getComputedStyle(gd).display;\n",
              "        if (!display || display === 'none') {{\n",
              "            console.log([gd, 'removed!']);\n",
              "            Plotly.purge(gd);\n",
              "            observer.disconnect();\n",
              "        }}\n",
              "}});\n",
              "\n",
              "// Listen for the removal of the full notebook cells\n",
              "var notebookContainer = gd.closest('#notebook-container');\n",
              "if (notebookContainer) {{\n",
              "    x.observe(notebookContainer, {childList: true});\n",
              "}}\n",
              "\n",
              "// Listen for the clearing of the current output cell\n",
              "var outputEl = gd.closest('.output');\n",
              "if (outputEl) {{\n",
              "    x.observe(outputEl, {childList: true});\n",
              "}}\n",
              "\n",
              "                        })                };                            </script>        </div>\n",
              "</body>\n",
              "</html>"
            ]
          },
          "metadata": {}
        }
      ]
    },
    {
      "cell_type": "code",
      "source": [
        "# Group and sort the data by position \n",
        "positions_count = new_df.groupby(by=\"position\").count().reset_index().sort_values(by=\"company\", ascending=False).reset_index(drop=True)\n",
        "positions_count\n",
        "\n",
        "# Create a bar plot for the top positions\n",
        "fig4 = px.bar(positions_count[:10],\n",
        "              x=\"position\", y=\"company\",\n",
        "              labels={\"position\": \"Role my connection perform\", \"company\": \"No of counts\"},\n",
        "              title=\"Top Positions in my Network\")\n",
        "fig4.show()\n",
        "\n"
      ],
      "metadata": {
        "id": "I8S7E05EqOo3",
        "outputId": "f2705d24-cd2f-4992-d4f6-8e18a2056c35",
        "colab": {
          "base_uri": "https://localhost:8080/",
          "height": 542
        }
      },
      "execution_count": 7,
      "outputs": [
        {
          "output_type": "display_data",
          "data": {
            "text/html": [
              "<html>\n",
              "<head><meta charset=\"utf-8\" /></head>\n",
              "<body>\n",
              "    <div>            <script src=\"https://cdnjs.cloudflare.com/ajax/libs/mathjax/2.7.5/MathJax.js?config=TeX-AMS-MML_SVG\"></script><script type=\"text/javascript\">if (window.MathJax) {MathJax.Hub.Config({SVG: {font: \"STIX-Web\"}});}</script>                <script type=\"text/javascript\">window.PlotlyConfig = {MathJaxConfig: 'local'};</script>\n",
              "        <script src=\"https://cdn.plot.ly/plotly-2.8.3.min.js\"></script>                <div id=\"fc4c5a00-67a2-4aff-8c85-45bef898c64f\" class=\"plotly-graph-div\" style=\"height:525px; width:100%;\"></div>            <script type=\"text/javascript\">                                    window.PLOTLYENV=window.PLOTLYENV || {};                                    if (document.getElementById(\"fc4c5a00-67a2-4aff-8c85-45bef898c64f\")) {                    Plotly.newPlot(                        \"fc4c5a00-67a2-4aff-8c85-45bef898c64f\",                        [{\"alignmentgroup\":\"True\",\"hovertemplate\":\"Role my connection perform=%{x}<br>No of counts=%{y}<extra></extra>\",\"legendgroup\":\"\",\"marker\":{\"color\":\"#636efa\",\"pattern\":{\"shape\":\"\"}},\"name\":\"\",\"offsetgroup\":\"\",\"orientation\":\"v\",\"showlegend\":false,\"textposition\":\"auto\",\"x\":[\"Associate Professor\",\"Founder\",\"CEO\",\"Managing Director\",\"Co-Founder\",\"Owner\",\"Board Member\",\"Manager\",\"Founder & CEO\",\"Postdoctoral Researcher\"],\"xaxis\":\"x\",\"y\":[12,12,11,9,9,7,6,6,6,5],\"yaxis\":\"y\",\"type\":\"bar\"}],                        {\"template\":{\"data\":{\"bar\":[{\"error_x\":{\"color\":\"#2a3f5f\"},\"error_y\":{\"color\":\"#2a3f5f\"},\"marker\":{\"line\":{\"color\":\"#E5ECF6\",\"width\":0.5},\"pattern\":{\"fillmode\":\"overlay\",\"size\":10,\"solidity\":0.2}},\"type\":\"bar\"}],\"barpolar\":[{\"marker\":{\"line\":{\"color\":\"#E5ECF6\",\"width\":0.5},\"pattern\":{\"fillmode\":\"overlay\",\"size\":10,\"solidity\":0.2}},\"type\":\"barpolar\"}],\"carpet\":[{\"aaxis\":{\"endlinecolor\":\"#2a3f5f\",\"gridcolor\":\"white\",\"linecolor\":\"white\",\"minorgridcolor\":\"white\",\"startlinecolor\":\"#2a3f5f\"},\"baxis\":{\"endlinecolor\":\"#2a3f5f\",\"gridcolor\":\"white\",\"linecolor\":\"white\",\"minorgridcolor\":\"white\",\"startlinecolor\":\"#2a3f5f\"},\"type\":\"carpet\"}],\"choropleth\":[{\"colorbar\":{\"outlinewidth\":0,\"ticks\":\"\"},\"type\":\"choropleth\"}],\"contour\":[{\"colorbar\":{\"outlinewidth\":0,\"ticks\":\"\"},\"colorscale\":[[0.0,\"#0d0887\"],[0.1111111111111111,\"#46039f\"],[0.2222222222222222,\"#7201a8\"],[0.3333333333333333,\"#9c179e\"],[0.4444444444444444,\"#bd3786\"],[0.5555555555555556,\"#d8576b\"],[0.6666666666666666,\"#ed7953\"],[0.7777777777777778,\"#fb9f3a\"],[0.8888888888888888,\"#fdca26\"],[1.0,\"#f0f921\"]],\"type\":\"contour\"}],\"contourcarpet\":[{\"colorbar\":{\"outlinewidth\":0,\"ticks\":\"\"},\"type\":\"contourcarpet\"}],\"heatmap\":[{\"colorbar\":{\"outlinewidth\":0,\"ticks\":\"\"},\"colorscale\":[[0.0,\"#0d0887\"],[0.1111111111111111,\"#46039f\"],[0.2222222222222222,\"#7201a8\"],[0.3333333333333333,\"#9c179e\"],[0.4444444444444444,\"#bd3786\"],[0.5555555555555556,\"#d8576b\"],[0.6666666666666666,\"#ed7953\"],[0.7777777777777778,\"#fb9f3a\"],[0.8888888888888888,\"#fdca26\"],[1.0,\"#f0f921\"]],\"type\":\"heatmap\"}],\"heatmapgl\":[{\"colorbar\":{\"outlinewidth\":0,\"ticks\":\"\"},\"colorscale\":[[0.0,\"#0d0887\"],[0.1111111111111111,\"#46039f\"],[0.2222222222222222,\"#7201a8\"],[0.3333333333333333,\"#9c179e\"],[0.4444444444444444,\"#bd3786\"],[0.5555555555555556,\"#d8576b\"],[0.6666666666666666,\"#ed7953\"],[0.7777777777777778,\"#fb9f3a\"],[0.8888888888888888,\"#fdca26\"],[1.0,\"#f0f921\"]],\"type\":\"heatmapgl\"}],\"histogram\":[{\"marker\":{\"pattern\":{\"fillmode\":\"overlay\",\"size\":10,\"solidity\":0.2}},\"type\":\"histogram\"}],\"histogram2d\":[{\"colorbar\":{\"outlinewidth\":0,\"ticks\":\"\"},\"colorscale\":[[0.0,\"#0d0887\"],[0.1111111111111111,\"#46039f\"],[0.2222222222222222,\"#7201a8\"],[0.3333333333333333,\"#9c179e\"],[0.4444444444444444,\"#bd3786\"],[0.5555555555555556,\"#d8576b\"],[0.6666666666666666,\"#ed7953\"],[0.7777777777777778,\"#fb9f3a\"],[0.8888888888888888,\"#fdca26\"],[1.0,\"#f0f921\"]],\"type\":\"histogram2d\"}],\"histogram2dcontour\":[{\"colorbar\":{\"outlinewidth\":0,\"ticks\":\"\"},\"colorscale\":[[0.0,\"#0d0887\"],[0.1111111111111111,\"#46039f\"],[0.2222222222222222,\"#7201a8\"],[0.3333333333333333,\"#9c179e\"],[0.4444444444444444,\"#bd3786\"],[0.5555555555555556,\"#d8576b\"],[0.6666666666666666,\"#ed7953\"],[0.7777777777777778,\"#fb9f3a\"],[0.8888888888888888,\"#fdca26\"],[1.0,\"#f0f921\"]],\"type\":\"histogram2dcontour\"}],\"mesh3d\":[{\"colorbar\":{\"outlinewidth\":0,\"ticks\":\"\"},\"type\":\"mesh3d\"}],\"parcoords\":[{\"line\":{\"colorbar\":{\"outlinewidth\":0,\"ticks\":\"\"}},\"type\":\"parcoords\"}],\"pie\":[{\"automargin\":true,\"type\":\"pie\"}],\"scatter\":[{\"marker\":{\"colorbar\":{\"outlinewidth\":0,\"ticks\":\"\"}},\"type\":\"scatter\"}],\"scatter3d\":[{\"line\":{\"colorbar\":{\"outlinewidth\":0,\"ticks\":\"\"}},\"marker\":{\"colorbar\":{\"outlinewidth\":0,\"ticks\":\"\"}},\"type\":\"scatter3d\"}],\"scattercarpet\":[{\"marker\":{\"colorbar\":{\"outlinewidth\":0,\"ticks\":\"\"}},\"type\":\"scattercarpet\"}],\"scattergeo\":[{\"marker\":{\"colorbar\":{\"outlinewidth\":0,\"ticks\":\"\"}},\"type\":\"scattergeo\"}],\"scattergl\":[{\"marker\":{\"colorbar\":{\"outlinewidth\":0,\"ticks\":\"\"}},\"type\":\"scattergl\"}],\"scattermapbox\":[{\"marker\":{\"colorbar\":{\"outlinewidth\":0,\"ticks\":\"\"}},\"type\":\"scattermapbox\"}],\"scatterpolar\":[{\"marker\":{\"colorbar\":{\"outlinewidth\":0,\"ticks\":\"\"}},\"type\":\"scatterpolar\"}],\"scatterpolargl\":[{\"marker\":{\"colorbar\":{\"outlinewidth\":0,\"ticks\":\"\"}},\"type\":\"scatterpolargl\"}],\"scatterternary\":[{\"marker\":{\"colorbar\":{\"outlinewidth\":0,\"ticks\":\"\"}},\"type\":\"scatterternary\"}],\"surface\":[{\"colorbar\":{\"outlinewidth\":0,\"ticks\":\"\"},\"colorscale\":[[0.0,\"#0d0887\"],[0.1111111111111111,\"#46039f\"],[0.2222222222222222,\"#7201a8\"],[0.3333333333333333,\"#9c179e\"],[0.4444444444444444,\"#bd3786\"],[0.5555555555555556,\"#d8576b\"],[0.6666666666666666,\"#ed7953\"],[0.7777777777777778,\"#fb9f3a\"],[0.8888888888888888,\"#fdca26\"],[1.0,\"#f0f921\"]],\"type\":\"surface\"}],\"table\":[{\"cells\":{\"fill\":{\"color\":\"#EBF0F8\"},\"line\":{\"color\":\"white\"}},\"header\":{\"fill\":{\"color\":\"#C8D4E3\"},\"line\":{\"color\":\"white\"}},\"type\":\"table\"}]},\"layout\":{\"annotationdefaults\":{\"arrowcolor\":\"#2a3f5f\",\"arrowhead\":0,\"arrowwidth\":1},\"autotypenumbers\":\"strict\",\"coloraxis\":{\"colorbar\":{\"outlinewidth\":0,\"ticks\":\"\"}},\"colorscale\":{\"diverging\":[[0,\"#8e0152\"],[0.1,\"#c51b7d\"],[0.2,\"#de77ae\"],[0.3,\"#f1b6da\"],[0.4,\"#fde0ef\"],[0.5,\"#f7f7f7\"],[0.6,\"#e6f5d0\"],[0.7,\"#b8e186\"],[0.8,\"#7fbc41\"],[0.9,\"#4d9221\"],[1,\"#276419\"]],\"sequential\":[[0.0,\"#0d0887\"],[0.1111111111111111,\"#46039f\"],[0.2222222222222222,\"#7201a8\"],[0.3333333333333333,\"#9c179e\"],[0.4444444444444444,\"#bd3786\"],[0.5555555555555556,\"#d8576b\"],[0.6666666666666666,\"#ed7953\"],[0.7777777777777778,\"#fb9f3a\"],[0.8888888888888888,\"#fdca26\"],[1.0,\"#f0f921\"]],\"sequentialminus\":[[0.0,\"#0d0887\"],[0.1111111111111111,\"#46039f\"],[0.2222222222222222,\"#7201a8\"],[0.3333333333333333,\"#9c179e\"],[0.4444444444444444,\"#bd3786\"],[0.5555555555555556,\"#d8576b\"],[0.6666666666666666,\"#ed7953\"],[0.7777777777777778,\"#fb9f3a\"],[0.8888888888888888,\"#fdca26\"],[1.0,\"#f0f921\"]]},\"colorway\":[\"#636efa\",\"#EF553B\",\"#00cc96\",\"#ab63fa\",\"#FFA15A\",\"#19d3f3\",\"#FF6692\",\"#B6E880\",\"#FF97FF\",\"#FECB52\"],\"font\":{\"color\":\"#2a3f5f\"},\"geo\":{\"bgcolor\":\"white\",\"lakecolor\":\"white\",\"landcolor\":\"#E5ECF6\",\"showlakes\":true,\"showland\":true,\"subunitcolor\":\"white\"},\"hoverlabel\":{\"align\":\"left\"},\"hovermode\":\"closest\",\"mapbox\":{\"style\":\"light\"},\"paper_bgcolor\":\"white\",\"plot_bgcolor\":\"#E5ECF6\",\"polar\":{\"angularaxis\":{\"gridcolor\":\"white\",\"linecolor\":\"white\",\"ticks\":\"\"},\"bgcolor\":\"#E5ECF6\",\"radialaxis\":{\"gridcolor\":\"white\",\"linecolor\":\"white\",\"ticks\":\"\"}},\"scene\":{\"xaxis\":{\"backgroundcolor\":\"#E5ECF6\",\"gridcolor\":\"white\",\"gridwidth\":2,\"linecolor\":\"white\",\"showbackground\":true,\"ticks\":\"\",\"zerolinecolor\":\"white\"},\"yaxis\":{\"backgroundcolor\":\"#E5ECF6\",\"gridcolor\":\"white\",\"gridwidth\":2,\"linecolor\":\"white\",\"showbackground\":true,\"ticks\":\"\",\"zerolinecolor\":\"white\"},\"zaxis\":{\"backgroundcolor\":\"#E5ECF6\",\"gridcolor\":\"white\",\"gridwidth\":2,\"linecolor\":\"white\",\"showbackground\":true,\"ticks\":\"\",\"zerolinecolor\":\"white\"}},\"shapedefaults\":{\"line\":{\"color\":\"#2a3f5f\"}},\"ternary\":{\"aaxis\":{\"gridcolor\":\"white\",\"linecolor\":\"white\",\"ticks\":\"\"},\"baxis\":{\"gridcolor\":\"white\",\"linecolor\":\"white\",\"ticks\":\"\"},\"bgcolor\":\"#E5ECF6\",\"caxis\":{\"gridcolor\":\"white\",\"linecolor\":\"white\",\"ticks\":\"\"}},\"title\":{\"x\":0.05},\"xaxis\":{\"automargin\":true,\"gridcolor\":\"white\",\"linecolor\":\"white\",\"ticks\":\"\",\"title\":{\"standoff\":15},\"zerolinecolor\":\"white\",\"zerolinewidth\":2},\"yaxis\":{\"automargin\":true,\"gridcolor\":\"white\",\"linecolor\":\"white\",\"ticks\":\"\",\"title\":{\"standoff\":15},\"zerolinecolor\":\"white\",\"zerolinewidth\":2}}},\"xaxis\":{\"anchor\":\"y\",\"domain\":[0.0,1.0],\"title\":{\"text\":\"Role my connection perform\"}},\"yaxis\":{\"anchor\":\"x\",\"domain\":[0.0,1.0],\"title\":{\"text\":\"No of counts\"}},\"legend\":{\"tracegroupgap\":0},\"title\":{\"text\":\"Top Positions in my Network\"},\"barmode\":\"relative\"},                        {\"responsive\": true}                    ).then(function(){\n",
              "                            \n",
              "var gd = document.getElementById('fc4c5a00-67a2-4aff-8c85-45bef898c64f');\n",
              "var x = new MutationObserver(function (mutations, observer) {{\n",
              "        var display = window.getComputedStyle(gd).display;\n",
              "        if (!display || display === 'none') {{\n",
              "            console.log([gd, 'removed!']);\n",
              "            Plotly.purge(gd);\n",
              "            observer.disconnect();\n",
              "        }}\n",
              "}});\n",
              "\n",
              "// Listen for the removal of the full notebook cells\n",
              "var notebookContainer = gd.closest('#notebook-container');\n",
              "if (notebookContainer) {{\n",
              "    x.observe(notebookContainer, {childList: true});\n",
              "}}\n",
              "\n",
              "// Listen for the clearing of the current output cell\n",
              "var outputEl = gd.closest('.output');\n",
              "if (outputEl) {{\n",
              "    x.observe(outputEl, {childList: true});\n",
              "}}\n",
              "\n",
              "                        })                };                            </script>        </div>\n",
              "</body>\n",
              "</html>"
            ]
          },
          "metadata": {}
        }
      ]
    },
    {
      "cell_type": "markdown",
      "source": [
        "#Aggregate position and connection columns"
      ],
      "metadata": {
        "id": "90zgg5ADtWID"
      }
    },
    {
      "cell_type": "code",
      "source": [
        "# For companies\n",
        "df_company = new_df['company'].value_counts().reset_index()\n",
        "df_company.columns = ['company', 'count']\n",
        "df_company = df_company.sort_values(by=\"count\", ascending=False)\n",
        "df_company.head()\n",
        "\n",
        "# For position\n",
        "df_position = new_df['position'].value_counts().reset_index()\n",
        "df_position.columns = ['position', 'count']\n",
        "df_position = df_position.sort_values(by=\"count\", ascending=False)\n",
        "df_position.head()"
      ],
      "metadata": {
        "id": "Wh9mFLt-tVDu",
        "outputId": "ac80a1e4-207b-4ddb-84ad-c39ff242af84",
        "colab": {
          "base_uri": "https://localhost:8080/",
          "height": 206
        }
      },
      "execution_count": 8,
      "outputs": [
        {
          "output_type": "execute_result",
          "data": {
            "text/plain": [
              "              position  count\n",
              "0              Founder     12\n",
              "1  Associate Professor     12\n",
              "2                  CEO     11\n",
              "3           Co-Founder      9\n",
              "4    Managing Director      9"
            ],
            "text/html": [
              "\n",
              "  <div id=\"df-b5c88fb9-ef83-48cd-926c-4f780a6e3663\">\n",
              "    <div class=\"colab-df-container\">\n",
              "      <div>\n",
              "<style scoped>\n",
              "    .dataframe tbody tr th:only-of-type {\n",
              "        vertical-align: middle;\n",
              "    }\n",
              "\n",
              "    .dataframe tbody tr th {\n",
              "        vertical-align: top;\n",
              "    }\n",
              "\n",
              "    .dataframe thead th {\n",
              "        text-align: right;\n",
              "    }\n",
              "</style>\n",
              "<table border=\"1\" class=\"dataframe\">\n",
              "  <thead>\n",
              "    <tr style=\"text-align: right;\">\n",
              "      <th></th>\n",
              "      <th>position</th>\n",
              "      <th>count</th>\n",
              "    </tr>\n",
              "  </thead>\n",
              "  <tbody>\n",
              "    <tr>\n",
              "      <th>0</th>\n",
              "      <td>Founder</td>\n",
              "      <td>12</td>\n",
              "    </tr>\n",
              "    <tr>\n",
              "      <th>1</th>\n",
              "      <td>Associate Professor</td>\n",
              "      <td>12</td>\n",
              "    </tr>\n",
              "    <tr>\n",
              "      <th>2</th>\n",
              "      <td>CEO</td>\n",
              "      <td>11</td>\n",
              "    </tr>\n",
              "    <tr>\n",
              "      <th>3</th>\n",
              "      <td>Co-Founder</td>\n",
              "      <td>9</td>\n",
              "    </tr>\n",
              "    <tr>\n",
              "      <th>4</th>\n",
              "      <td>Managing Director</td>\n",
              "      <td>9</td>\n",
              "    </tr>\n",
              "  </tbody>\n",
              "</table>\n",
              "</div>\n",
              "      <button class=\"colab-df-convert\" onclick=\"convertToInteractive('df-b5c88fb9-ef83-48cd-926c-4f780a6e3663')\"\n",
              "              title=\"Convert this dataframe to an interactive table.\"\n",
              "              style=\"display:none;\">\n",
              "        \n",
              "  <svg xmlns=\"http://www.w3.org/2000/svg\" height=\"24px\"viewBox=\"0 0 24 24\"\n",
              "       width=\"24px\">\n",
              "    <path d=\"M0 0h24v24H0V0z\" fill=\"none\"/>\n",
              "    <path d=\"M18.56 5.44l.94 2.06.94-2.06 2.06-.94-2.06-.94-.94-2.06-.94 2.06-2.06.94zm-11 1L8.5 8.5l.94-2.06 2.06-.94-2.06-.94L8.5 2.5l-.94 2.06-2.06.94zm10 10l.94 2.06.94-2.06 2.06-.94-2.06-.94-.94-2.06-.94 2.06-2.06.94z\"/><path d=\"M17.41 7.96l-1.37-1.37c-.4-.4-.92-.59-1.43-.59-.52 0-1.04.2-1.43.59L10.3 9.45l-7.72 7.72c-.78.78-.78 2.05 0 2.83L4 21.41c.39.39.9.59 1.41.59.51 0 1.02-.2 1.41-.59l7.78-7.78 2.81-2.81c.8-.78.8-2.07 0-2.86zM5.41 20L4 18.59l7.72-7.72 1.47 1.35L5.41 20z\"/>\n",
              "  </svg>\n",
              "      </button>\n",
              "      \n",
              "  <style>\n",
              "    .colab-df-container {\n",
              "      display:flex;\n",
              "      flex-wrap:wrap;\n",
              "      gap: 12px;\n",
              "    }\n",
              "\n",
              "    .colab-df-convert {\n",
              "      background-color: #E8F0FE;\n",
              "      border: none;\n",
              "      border-radius: 50%;\n",
              "      cursor: pointer;\n",
              "      display: none;\n",
              "      fill: #1967D2;\n",
              "      height: 32px;\n",
              "      padding: 0 0 0 0;\n",
              "      width: 32px;\n",
              "    }\n",
              "\n",
              "    .colab-df-convert:hover {\n",
              "      background-color: #E2EBFA;\n",
              "      box-shadow: 0px 1px 2px rgba(60, 64, 67, 0.3), 0px 1px 3px 1px rgba(60, 64, 67, 0.15);\n",
              "      fill: #174EA6;\n",
              "    }\n",
              "\n",
              "    [theme=dark] .colab-df-convert {\n",
              "      background-color: #3B4455;\n",
              "      fill: #D2E3FC;\n",
              "    }\n",
              "\n",
              "    [theme=dark] .colab-df-convert:hover {\n",
              "      background-color: #434B5C;\n",
              "      box-shadow: 0px 1px 3px 1px rgba(0, 0, 0, 0.15);\n",
              "      filter: drop-shadow(0px 1px 2px rgba(0, 0, 0, 0.3));\n",
              "      fill: #FFFFFF;\n",
              "    }\n",
              "  </style>\n",
              "\n",
              "      <script>\n",
              "        const buttonEl =\n",
              "          document.querySelector('#df-b5c88fb9-ef83-48cd-926c-4f780a6e3663 button.colab-df-convert');\n",
              "        buttonEl.style.display =\n",
              "          google.colab.kernel.accessAllowed ? 'block' : 'none';\n",
              "\n",
              "        async function convertToInteractive(key) {\n",
              "          const element = document.querySelector('#df-b5c88fb9-ef83-48cd-926c-4f780a6e3663');\n",
              "          const dataTable =\n",
              "            await google.colab.kernel.invokeFunction('convertToInteractive',\n",
              "                                                     [key], {});\n",
              "          if (!dataTable) return;\n",
              "\n",
              "          const docLinkHtml = 'Like what you see? Visit the ' +\n",
              "            '<a target=\"_blank\" href=https://colab.research.google.com/notebooks/data_table.ipynb>data table notebook</a>'\n",
              "            + ' to learn more about interactive tables.';\n",
              "          element.innerHTML = '';\n",
              "          dataTable['output_type'] = 'display_data';\n",
              "          await google.colab.output.renderOutput(dataTable, element);\n",
              "          const docLink = document.createElement('div');\n",
              "          docLink.innerHTML = docLinkHtml;\n",
              "          element.appendChild(docLink);\n",
              "        }\n",
              "      </script>\n",
              "    </div>\n",
              "  </div>\n",
              "  "
            ]
          },
          "metadata": {},
          "execution_count": 8
        }
      ]
    },
    {
      "cell_type": "markdown",
      "source": [
        "# Network Analysis"
      ],
      "metadata": {
        "id": "asQkdv7y61Ws"
      }
    },
    {
      "cell_type": "code",
      "source": [
        "# Simplenetwork\n",
        "nt = net.Network(notebook=True)\n",
        "\n",
        "g = nx.Graph()\n",
        "g.add_node(0, label = \"root\") # intialize yourself as central node\n",
        "g.add_node(1, label = \"Company 1\", size=10, title=\"info1\")\n",
        "g.add_node(2, label = \"Company 2\", size=40, title=\"info2\")\n",
        "g.add_node(3, label = \"Company 3\", size=60, title=\"info3\")\n",
        "g.add_edge(0, 1)\n",
        "g.add_edge(0, 2)\n",
        "g.add_edge(0, 3)\n",
        "\n",
        "nt.from_nx(g)\n",
        "nt.show('nodes.html')\n",
        "display(HTML('nodes.html'))"
      ],
      "metadata": {
        "id": "qVuVvzC4uYrS",
        "outputId": "5e105789-4dbc-4716-e400-f2914a299c10",
        "colab": {
          "base_uri": "https://localhost:8080/",
          "height": 538
        }
      },
      "execution_count": 9,
      "outputs": [
        {
          "output_type": "display_data",
          "data": {
            "text/plain": [
              "<IPython.core.display.HTML object>"
            ],
            "text/html": [
              "<html>\n",
              "<head>\n",
              "<link rel=\"stylesheet\" href=\"https://cdn.jsdelivr.net/npm/vis-network@latest/styles/vis-network.css\" type=\"text/css\" />\n",
              "<script type=\"text/javascript\" src=\"https://cdn.jsdelivr.net/npm/vis-network@latest/dist/vis-network.min.js\"> </script>\n",
              "<center>\n",
              "<h1></h1>\n",
              "</center>\n",
              "\n",
              "<!-- <link rel=\"stylesheet\" href=\"../node_modules/vis/dist/vis.min.css\" type=\"text/css\" />\n",
              "<script type=\"text/javascript\" src=\"../node_modules/vis/dist/vis.js\"> </script>-->\n",
              "\n",
              "<style type=\"text/css\">\n",
              "\n",
              "        #mynetwork {\n",
              "            width: 500px;\n",
              "            height: 500px;\n",
              "            background-color: #ffffff;\n",
              "            border: 1px solid lightgray;\n",
              "            position: relative;\n",
              "            float: left;\n",
              "        }\n",
              "\n",
              "        \n",
              "\n",
              "        \n",
              "\n",
              "        \n",
              "</style>\n",
              "\n",
              "</head>\n",
              "\n",
              "<body>\n",
              "<div id = \"mynetwork\"></div>\n",
              "\n",
              "\n",
              "<script type=\"text/javascript\">\n",
              "\n",
              "    // initialize global variables.\n",
              "    var edges;\n",
              "    var nodes;\n",
              "    var network; \n",
              "    var container;\n",
              "    var options, data;\n",
              "\n",
              "    \n",
              "    // This method is responsible for drawing the graph, returns the drawn network\n",
              "    function drawGraph() {\n",
              "        var container = document.getElementById('mynetwork');\n",
              "        \n",
              "        \n",
              "\n",
              "        // parsing and collecting nodes and edges from the python\n",
              "        nodes = new vis.DataSet([{\"id\": 0, \"label\": \"root\", \"shape\": \"dot\", \"size\": 10}, {\"id\": 1, \"label\": \"Company 1\", \"shape\": \"dot\", \"size\": 10, \"title\": \"info1\"}, {\"id\": 2, \"label\": \"Company 2\", \"shape\": \"dot\", \"size\": 40, \"title\": \"info2\"}, {\"id\": 3, \"label\": \"Company 3\", \"shape\": \"dot\", \"size\": 60, \"title\": \"info3\"}]);\n",
              "        edges = new vis.DataSet([{\"from\": 0, \"label\": 1, \"to\": 1, \"weight\": 1}, {\"from\": 0, \"label\": 1, \"to\": 2, \"weight\": 1}, {\"from\": 0, \"label\": 1, \"to\": 3, \"weight\": 1}]);\n",
              "\n",
              "        // adding nodes and edges to the graph\n",
              "        data = {nodes: nodes, edges: edges};\n",
              "\n",
              "        var options = {\n",
              "    \"configure\": {\n",
              "        \"enabled\": false\n",
              "    },\n",
              "    \"edges\": {\n",
              "        \"color\": {\n",
              "            \"inherit\": true\n",
              "        },\n",
              "        \"smooth\": {\n",
              "            \"enabled\": true,\n",
              "            \"type\": \"dynamic\"\n",
              "        }\n",
              "    },\n",
              "    \"interaction\": {\n",
              "        \"dragNodes\": true,\n",
              "        \"hideEdgesOnDrag\": false,\n",
              "        \"hideNodesOnDrag\": false\n",
              "    },\n",
              "    \"physics\": {\n",
              "        \"enabled\": true,\n",
              "        \"stabilization\": {\n",
              "            \"enabled\": true,\n",
              "            \"fit\": true,\n",
              "            \"iterations\": 1000,\n",
              "            \"onlyDynamicEdges\": false,\n",
              "            \"updateInterval\": 50\n",
              "        }\n",
              "    }\n",
              "};\n",
              "        \n",
              "        \n",
              "\n",
              "        \n",
              "\n",
              "        network = new vis.Network(container, data, options);\n",
              "\t \n",
              "        \n",
              "\n",
              "\n",
              "        \n",
              "\n",
              "        return network;\n",
              "\n",
              "    }\n",
              "\n",
              "    drawGraph();\n",
              "\n",
              "</script>\n",
              "</body>\n",
              "</html>"
            ]
          },
          "metadata": {}
        }
      ]
    },
    {
      "cell_type": "code",
      "source": [
        "# Reduce size of nodes\n",
        "# for companies\n",
        "print(df_company.shape)\n",
        "df_company_reduced = df_company.loc[df_company['count']>=5]\n",
        "print(df_company_reduced)\n",
        "\n",
        "# for positions\n",
        "print(df_position.shape)\n",
        "df_position_reduced = df_position.loc[df_position['count']>=5]\n",
        "print(df_position_reduced)\n"
      ],
      "metadata": {
        "id": "q9p8cHbtu9Co",
        "outputId": "f251fd68-19c0-488b-e323-b95000dbb0da",
        "colab": {
          "base_uri": "https://localhost:8080/"
        }
      },
      "execution_count": 10,
      "outputs": [
        {
          "output_type": "stream",
          "name": "stdout",
          "text": [
            "(731, 2)\n",
            "                                             company  count\n",
            "0                         Copenhagen Business School     11\n",
            "1  Københavns Universitet - University of Copenhagen     10\n",
            "2                                 Aalborg University      7\n",
            "3                                     Scandic Hotels      7\n",
            "4                                       Novo Nordisk      6\n",
            "5                                  Aarhus University      5\n",
            "6                                Roskilde University      5\n",
            "7                                      Self-employed      5\n",
            "(680, 2)\n",
            "                   position  count\n",
            "0                   Founder     12\n",
            "1       Associate Professor     12\n",
            "2                       CEO     11\n",
            "3                Co-Founder      9\n",
            "4         Managing Director      9\n",
            "5                     Owner      7\n",
            "6                   Manager      6\n",
            "7             Founder & CEO      6\n",
            "8              Board Member      6\n",
            "10      Assistant Professor      5\n",
            "9   Postdoctoral Researcher      5\n"
          ]
        }
      ]
    },
    {
      "cell_type": "code",
      "source": [
        "# Creating network for connections\n",
        "\n",
        "# initialize graph\n",
        "g = nx.Graph()\n",
        "connection_graph_org=g\n",
        "g.add_node('root') # intialize myself as central\n",
        "\n",
        "# use iterrows tp iterate through the data frame\n",
        "for _, row in df_company_reduced.iterrows():\n",
        "\n",
        "  # store company name and count\n",
        "  company = row[\"company\"]\n",
        "  count = row[\"count\"]\n",
        "\n",
        "  title = f\"<b>{company}</b> – {count}\"\n",
        "  positions = set([x for x in new_df[company == new_df[\"company\"]][\"position\"]])\n",
        "  positions = ''.join('<li>{}</li>'.format(x) for x in positions)\n",
        "\n",
        "  position_list = f\"<ul>{positions}</ul>\"\n",
        "  hover_info = title + position_list\n",
        "\n",
        "  g.add_node(company, size=count*2, title=hover_info, color='#3449eb')\n",
        "  g.add_edge('root', company, color='grey')\n",
        "\n",
        "# generate the graph\n",
        "nt = net.Network(height='700px', width='700px', bgcolor=\"black\", font_color='white')\n",
        "nt.from_nx(g)\n",
        "nt.hrepulsion()\n",
        "# more customization https://tinyurl.com/yf5lvvdm\n",
        "nt.show('company_graph.html')\n",
        "display(HTML('company_graph.html'))"
      ],
      "metadata": {
        "id": "-1GyGGQbwQSz",
        "outputId": "723164b4-8f8e-4b40-a042-4dad5089f84c",
        "colab": {
          "base_uri": "https://localhost:8080/",
          "height": 738
        }
      },
      "execution_count": 67,
      "outputs": [
        {
          "output_type": "display_data",
          "data": {
            "text/plain": [
              "<IPython.core.display.HTML object>"
            ],
            "text/html": [
              "<html>\n",
              "<head>\n",
              "<link rel=\"stylesheet\" href=\"https://cdn.jsdelivr.net/npm/vis-network@latest/styles/vis-network.css\" type=\"text/css\" />\n",
              "<script type=\"text/javascript\" src=\"https://cdn.jsdelivr.net/npm/vis-network@latest/dist/vis-network.min.js\"> </script>\n",
              "<center>\n",
              "<h1></h1>\n",
              "</center>\n",
              "\n",
              "<!-- <link rel=\"stylesheet\" href=\"../node_modules/vis/dist/vis.min.css\" type=\"text/css\" />\n",
              "<script type=\"text/javascript\" src=\"../node_modules/vis/dist/vis.js\"> </script>-->\n",
              "\n",
              "<style type=\"text/css\">\n",
              "\n",
              "        #mynetwork {\n",
              "            width: 700px;\n",
              "            height: 700px;\n",
              "            background-color: black;\n",
              "            border: 1px solid lightgray;\n",
              "            position: relative;\n",
              "            float: left;\n",
              "        }\n",
              "\n",
              "        \n",
              "\n",
              "        \n",
              "\n",
              "        \n",
              "</style>\n",
              "\n",
              "</head>\n",
              "\n",
              "<body>\n",
              "<div id = \"mynetwork\"></div>\n",
              "\n",
              "\n",
              "<script type=\"text/javascript\">\n",
              "\n",
              "    // initialize global variables.\n",
              "    var edges;\n",
              "    var nodes;\n",
              "    var network; \n",
              "    var container;\n",
              "    var options, data;\n",
              "\n",
              "    \n",
              "    // This method is responsible for drawing the graph, returns the drawn network\n",
              "    function drawGraph() {\n",
              "        var container = document.getElementById('mynetwork');\n",
              "        \n",
              "        \n",
              "\n",
              "        // parsing and collecting nodes and edges from the python\n",
              "        nodes = new vis.DataSet([{\"font\": {\"color\": \"white\"}, \"id\": \"root\", \"label\": \"root\", \"shape\": \"dot\", \"size\": 10}, {\"color\": \"#3449eb\", \"font\": {\"color\": \"white\"}, \"id\": \"Copenhagen Business School\", \"label\": \"Copenhagen Business School\", \"shape\": \"dot\", \"size\": 22, \"title\": \"\\u003cb\\u003eCopenhagen Business School\\u003c/b\\u003e \\u2013 11\\u003cul\\u003e\\u003cli\\u003eProfessor in Social Entrepreneurship\\u003c/li\\u003e\\u003cli\\u003eHR Coordinator\\u003c/li\\u003e\\u003cli\\u003eAssociate Professor Sustainable Consumption\\u003c/li\\u003e\\u003cli\\u003eEuro India Knowledge Mapping project Manager\\u003c/li\\u003e\\u003cli\\u003ePostdoctoral Research Fellow\\u003c/li\\u003e\\u003cli\\u003eExternal Lecturer\\u003c/li\\u003e\\u003cli\\u003eProfessor\\u003c/li\\u003e\\u003cli\\u003eEU Research adviser\\u003c/li\\u003e\\u003cli\\u003eAssistant Professor\\u003c/li\\u003e\\u003cli\\u003eAssociate Professor\\u003c/li\\u003e\\u003c/ul\\u003e\"}, {\"color\": \"#3449eb\", \"font\": {\"color\": \"white\"}, \"id\": \"K\\u00f8benhavns Universitet - University of Copenhagen\", \"label\": \"K\\u00f8benhavns Universitet - University of Copenhagen\", \"shape\": \"dot\", \"size\": 20, \"title\": \"\\u003cb\\u003eK\\u00f8benhavns Universitet - University of Copenhagen\\u003c/b\\u003e \\u2013 10\\u003cul\\u003e\\u003cli\\u003eDoctoral Researcher\\u003c/li\\u003e\\u003cli\\u003ePHD Fellow\\u003c/li\\u003e\\u003cli\\u003ePHD Student\\u003c/li\\u003e\\u003cli\\u003eStudent Intern\\u003c/li\\u003e\\u003cli\\u003eIntern\\u003c/li\\u003e\\u003cli\\u003eHealth, Wellbeing and Sustainability Project Coordinator Intern \\u003c/li\\u003e\\u003cli\\u003eTeaching Associate Professor\\u003c/li\\u003e\\u003cli\\u003eProfessor\\u003c/li\\u003e\\u003cli\\u003eProfessor of Sustainability Assessment - Sustainable Food Processing and Production\\u003c/li\\u003e\\u003cli\\u003eDoctoral Student\\u003c/li\\u003e\\u003c/ul\\u003e\"}, {\"color\": \"#3449eb\", \"font\": {\"color\": \"white\"}, \"id\": \"Aalborg University\", \"label\": \"Aalborg University\", \"shape\": \"dot\", \"size\": 14, \"title\": \"\\u003cb\\u003eAalborg University\\u003c/b\\u003e \\u2013 7\\u003cul\\u003e\\u003cli\\u003eStudent assistant\\u003c/li\\u003e\\u003cli\\u003eResearch Assistant\\u003c/li\\u003e\\u003cli\\u003eStudent Research Assistant\\u003c/li\\u003e\\u003cli\\u003eassociate professor\\u003c/li\\u003e\\u003cli\\u003eAssistant Professor\\u003c/li\\u003e\\u003cli\\u003eAssociate Professor\\u003c/li\\u003e\\u003cli\\u003eInternational Coordinator, Head of Section\\u003c/li\\u003e\\u003c/ul\\u003e\"}, {\"color\": \"#3449eb\", \"font\": {\"color\": \"white\"}, \"id\": \"Scandic Hotels\", \"label\": \"Scandic Hotels\", \"shape\": \"dot\", \"size\": 14, \"title\": \"\\u003cb\\u003eScandic Hotels\\u003c/b\\u003e \\u2013 7\\u003cul\\u003e\\u003cli\\u003eBreakfast chef \\u003c/li\\u003e\\u003cli\\u003eGeneral Manager Scandic CPH Strandpark\\u003c/li\\u003e\\u003cli\\u003eConference \\u0026 Event Manager Scandic K\\u00f8dbyen\\u003c/li\\u003e\\u003cli\\u003eDirekt\\u00f8r / General Manager Scandic Copenhagen\\u003c/li\\u003e\\u003cli\\u003emanager\\u003c/li\\u003e\\u003cli\\u003eFood and Beverage Manager\\u003c/li\\u003e\\u003cli\\u003eTekniker\\u003c/li\\u003e\\u003c/ul\\u003e\"}, {\"color\": \"#3449eb\", \"font\": {\"color\": \"white\"}, \"id\": \"Novo Nordisk\", \"label\": \"Novo Nordisk\", \"shape\": \"dot\", \"size\": 12, \"title\": \"\\u003cb\\u003eNovo Nordisk\\u003c/b\\u003e \\u2013 6\\u003cul\\u003e\\u003cli\\u003eAdvanced Digital Business Consultant\\u003c/li\\u003e\\u003cli\\u003eVice President \\u0026 Head of Novo Nordisk Health \\u0026 Safety\\u003c/li\\u003e\\u003cli\\u003eScientific Student Assistant in Epidemiology\\u003c/li\\u003e\\u003cli\\u003eAnalytical Professional\\u003c/li\\u003e\\u003cli\\u003eDigital Portfolio Manager\\u003c/li\\u003e\\u003cli\\u003eSenior Global Project Manager - Study Pro Outcome Trials, Medical Affairs\\u003c/li\\u003e\\u003c/ul\\u003e\"}, {\"color\": \"#3449eb\", \"font\": {\"color\": \"white\"}, \"id\": \"Aarhus University\", \"label\": \"Aarhus University\", \"shape\": \"dot\", \"size\": 10, \"title\": \"\\u003cb\\u003eAarhus University\\u003c/b\\u003e \\u2013 5\\u003cul\\u003e\\u003cli\\u003eResearcher\\u003c/li\\u003e\\u003cli\\u003ePHD Graduate Student\\u003c/li\\u003e\\u003cli\\u003eAssistant Professor\\u003c/li\\u003e\\u003cli\\u003eExecutive Vice President, Enterprise and Innovation\\u003c/li\\u003e\\u003cli\\u003ePhD Fellow\\u003c/li\\u003e\\u003c/ul\\u003e\"}, {\"color\": \"#3449eb\", \"font\": {\"color\": \"white\"}, \"id\": \"Roskilde University\", \"label\": \"Roskilde University\", \"shape\": \"dot\", \"size\": 10, \"title\": \"\\u003cb\\u003eRoskilde University\\u003c/b\\u003e \\u2013 5\\u003cul\\u003e\\u003cli\\u003eProfessor of Computer Science\\u003c/li\\u003e\\u003cli\\u003ePh.d. Fellow\\u003c/li\\u003e\\u003cli\\u003eProfessor Phd\\u003c/li\\u003e\\u003cli\\u003eAssistant Professor\\u003c/li\\u003e\\u003cli\\u003eSenior EU Advisor\\u003c/li\\u003e\\u003c/ul\\u003e\"}, {\"color\": \"#3449eb\", \"font\": {\"color\": \"white\"}, \"id\": \"Self-employed\", \"label\": \"Self-employed\", \"shape\": \"dot\", \"size\": 10, \"title\": \"\\u003cb\\u003eSelf-employed\\u003c/b\\u003e \\u2013 5\\u003cul\\u003e\\u003cli\\u003eEvent Planner\\u003c/li\\u003e\\u003cli\\u003eFood Design Thinking consultant, teacher, facilitator\\u003c/li\\u003e\\u003cli\\u003eManaging Owner\\u003c/li\\u003e\\u003cli\\u003eManaging Director\\u003c/li\\u003e\\u003cli\\u003eBusiness Owner\\u003c/li\\u003e\\u003c/ul\\u003e\"}]);\n",
              "        edges = new vis.DataSet([{\"color\": \"grey\", \"from\": \"root\", \"label\": 1, \"to\": \"Copenhagen Business School\", \"weight\": 1}, {\"color\": \"grey\", \"from\": \"root\", \"label\": 1, \"to\": \"K\\u00f8benhavns Universitet - University of Copenhagen\", \"weight\": 1}, {\"color\": \"grey\", \"from\": \"root\", \"label\": 1, \"to\": \"Aalborg University\", \"weight\": 1}, {\"color\": \"grey\", \"from\": \"root\", \"label\": 1, \"to\": \"Scandic Hotels\", \"weight\": 1}, {\"color\": \"grey\", \"from\": \"root\", \"label\": 1, \"to\": \"Novo Nordisk\", \"weight\": 1}, {\"color\": \"grey\", \"from\": \"root\", \"label\": 1, \"to\": \"Aarhus University\", \"weight\": 1}, {\"color\": \"grey\", \"from\": \"root\", \"label\": 1, \"to\": \"Roskilde University\", \"weight\": 1}, {\"color\": \"grey\", \"from\": \"root\", \"label\": 1, \"to\": \"Self-employed\", \"weight\": 1}]);\n",
              "\n",
              "        // adding nodes and edges to the graph\n",
              "        data = {nodes: nodes, edges: edges};\n",
              "\n",
              "        var options = {\n",
              "    \"configure\": {\n",
              "        \"enabled\": false\n",
              "    },\n",
              "    \"edges\": {\n",
              "        \"color\": {\n",
              "            \"inherit\": true\n",
              "        },\n",
              "        \"smooth\": {\n",
              "            \"enabled\": true,\n",
              "            \"type\": \"dynamic\"\n",
              "        }\n",
              "    },\n",
              "    \"interaction\": {\n",
              "        \"dragNodes\": true,\n",
              "        \"hideEdgesOnDrag\": false,\n",
              "        \"hideNodesOnDrag\": false\n",
              "    },\n",
              "    \"physics\": {\n",
              "        \"enabled\": true,\n",
              "        \"hierarchicalRepulsion\": {\n",
              "            \"centralGravity\": 0.0,\n",
              "            \"damping\": 0.09,\n",
              "            \"nodeDistance\": 120,\n",
              "            \"springConstant\": 0.01,\n",
              "            \"springLength\": 100\n",
              "        },\n",
              "        \"solver\": \"hierarchicalRepulsion\",\n",
              "        \"stabilization\": {\n",
              "            \"enabled\": true,\n",
              "            \"fit\": true,\n",
              "            \"iterations\": 1000,\n",
              "            \"onlyDynamicEdges\": false,\n",
              "            \"updateInterval\": 50\n",
              "        }\n",
              "    }\n",
              "};\n",
              "        \n",
              "        \n",
              "\n",
              "        \n",
              "\n",
              "        network = new vis.Network(container, data, options);\n",
              "\t \n",
              "        \n",
              "\n",
              "\n",
              "        \n",
              "\n",
              "        return network;\n",
              "\n",
              "    }\n",
              "\n",
              "    drawGraph();\n",
              "\n",
              "</script>\n",
              "</body>\n",
              "</html>"
            ]
          },
          "metadata": {}
        }
      ]
    },
    {
      "cell_type": "code",
      "source": [
        "# Creating network for connections\n",
        "\n",
        "# initialize graph\n",
        "g = nx.Graph()\n",
        "connection_graph_pos=g\n",
        "g.add_node('root') # intialize myself as central\n",
        "\n",
        "# use iterrows tp iterate through the data frame\n",
        "for _, row in df_position_reduced.iterrows():\n",
        "\n",
        "  # store company name and count\n",
        "  position = row[\"position\"]\n",
        "  count = row[\"count\"]\n",
        "\n",
        "  title = f\"<b>{company}</b> – {count}\"\n",
        "  companys = set([x for x in new_df[position == new_df[\"position\"]][\"company\"]])\n",
        "  companys = ''.join('<li>{}</li>'.format(x) for x in companys)\n",
        "\n",
        "  company_list = f\"<ul>{companys}</ul>\"\n",
        "  hover_info = title + company_list\n",
        "\n",
        "  g.add_node(position, size=count*2, title=hover_info, color='#3449eb')\n",
        "  g.add_edge('root', position, color='grey')\n",
        "\n",
        "# generate the graph\n",
        "nt = net.Network(height='700px', width='700px', bgcolor=\"black\", font_color='white')\n",
        "nt.from_nx(g)\n",
        "nt.hrepulsion()\n",
        "# more customization https://tinyurl.com/yf5lvvdm\n",
        "nt.show('company_graph.html')\n",
        "display(HTML('company_graph.html'))"
      ],
      "metadata": {
        "id": "0p0auA3i3Wv2",
        "outputId": "f291e7be-2f9c-4382-d601-96bc238318f0",
        "colab": {
          "base_uri": "https://localhost:8080/",
          "height": 738
        }
      },
      "execution_count": 59,
      "outputs": [
        {
          "output_type": "display_data",
          "data": {
            "text/plain": [
              "<IPython.core.display.HTML object>"
            ],
            "text/html": [
              "<html>\n",
              "<head>\n",
              "<link rel=\"stylesheet\" href=\"https://cdn.jsdelivr.net/npm/vis-network@latest/styles/vis-network.css\" type=\"text/css\" />\n",
              "<script type=\"text/javascript\" src=\"https://cdn.jsdelivr.net/npm/vis-network@latest/dist/vis-network.min.js\"> </script>\n",
              "<center>\n",
              "<h1></h1>\n",
              "</center>\n",
              "\n",
              "<!-- <link rel=\"stylesheet\" href=\"../node_modules/vis/dist/vis.min.css\" type=\"text/css\" />\n",
              "<script type=\"text/javascript\" src=\"../node_modules/vis/dist/vis.js\"> </script>-->\n",
              "\n",
              "<style type=\"text/css\">\n",
              "\n",
              "        #mynetwork {\n",
              "            width: 700px;\n",
              "            height: 700px;\n",
              "            background-color: black;\n",
              "            border: 1px solid lightgray;\n",
              "            position: relative;\n",
              "            float: left;\n",
              "        }\n",
              "\n",
              "        \n",
              "\n",
              "        \n",
              "\n",
              "        \n",
              "</style>\n",
              "\n",
              "</head>\n",
              "\n",
              "<body>\n",
              "<div id = \"mynetwork\"></div>\n",
              "\n",
              "\n",
              "<script type=\"text/javascript\">\n",
              "\n",
              "    // initialize global variables.\n",
              "    var edges;\n",
              "    var nodes;\n",
              "    var network; \n",
              "    var container;\n",
              "    var options, data;\n",
              "\n",
              "    \n",
              "    // This method is responsible for drawing the graph, returns the drawn network\n",
              "    function drawGraph() {\n",
              "        var container = document.getElementById('mynetwork');\n",
              "        \n",
              "        \n",
              "\n",
              "        // parsing and collecting nodes and edges from the python\n",
              "        nodes = new vis.DataSet([{\"font\": {\"color\": \"white\"}, \"id\": \"root\", \"label\": \"root\", \"shape\": \"dot\", \"size\": 10}, {\"color\": \"#3449eb\", \"font\": {\"color\": \"white\"}, \"id\": \"Founder\", \"label\": \"Founder\", \"shape\": \"dot\", \"size\": 24, \"title\": \"\\u003cb\\u003eSelf-employed\\u003c/b\\u003e \\u2013 12\\u003cul\\u003e\\u003cli\\u003eCubes International\\u003c/li\\u003e\\u003cli\\u003eMindSpeaking\\u003c/li\\u003e\\u003cli\\u003eLife Design Circle\\u003c/li\\u003e\\u003cli\\u003edialogo.dk\\u003c/li\\u003e\\u003cli\\u003eNepal School Of Entrepreneurship \\u003c/li\\u003e\\u003cli\\u003eM\\u0026L Creative\\u003c/li\\u003e\\u003cli\\u003eripe.io\\u003c/li\\u003e\\u003cli\\u003eAntillectX\\u003c/li\\u003e\\u003cli\\u003eWisely\\u003c/li\\u003e\\u003cli\\u003eNepalese Street Festival Foundation\\u003c/li\\u003e\\u003cli\\u003eBiotrino\\u003c/li\\u003e\\u003cli\\u003eHarvest Care\\u003c/li\\u003e\\u003c/ul\\u003e\"}, {\"color\": \"#3449eb\", \"font\": {\"color\": \"white\"}, \"id\": \"Associate Professor\", \"label\": \"Associate Professor\", \"shape\": \"dot\", \"size\": 24, \"title\": \"\\u003cb\\u003eSelf-employed\\u003c/b\\u003e \\u2013 12\\u003cul\\u003e\\u003cli\\u003eUniversity of Copenhagen\\u003c/li\\u003e\\u003cli\\u003eInstitut for F\\u00f8devare- og Ressource\\u00f8konomi, K\\u00f8benhavns Universitet\\u003c/li\\u003e\\u003cli\\u003eDepartment of Plant and Environmental Sciences, University of Copenhagen\\u003c/li\\u003e\\u003cli\\u003eAalborg University\\u003c/li\\u003e\\u003cli\\u003e Research Group for FoodScapes, Innovations \\u0026 Networks (FINe), Aalborg University\\u003c/li\\u003e\\u003cli\\u003eSyddansk Universitet - University of Southern Denmark\\u003c/li\\u003e\\u003cli\\u003eUCL Erhvervsakademi og Professionsh\\u00f8jskole\\u003c/li\\u003e\\u003cli\\u003eCopenhagen Business School\\u003c/li\\u003e\\u003cli\\u003eUC Zealand\\u003c/li\\u003e\\u003cli\\u003eO.P. Jindal Global University (JGU)\\u003c/li\\u003e\\u003cli\\u003eDalian University of Technology\\u003c/li\\u003e\\u003c/ul\\u003e\"}, {\"color\": \"#3449eb\", \"font\": {\"color\": \"white\"}, \"id\": \"CEO\", \"label\": \"CEO\", \"shape\": \"dot\", \"size\": 22, \"title\": \"\\u003cb\\u003eSelf-employed\\u003c/b\\u003e \\u2013 11\\u003cul\\u003e\\u003cli\\u003eRegen Farmer\\u003c/li\\u003e\\u003cli\\u003eCVX Ventures\\u003c/li\\u003e\\u003cli\\u003eCPH Entreprise\\u003c/li\\u003e\\u003cli\\u003eDet Runde Bord\\u003c/li\\u003e\\u003cli\\u003eTinni Rahman \\u0026 Associates\\u003c/li\\u003e\\u003cli\\u003eDarshan Offset Press\\u003c/li\\u003e\\u003cli\\u003eSkandinavisk Distribution\\u003c/li\\u003e\\u003cli\\u003eHahnemanns K\\u00f8kken ApS\\u003c/li\\u003e\\u003cli\\u003ePLURA\\u003c/li\\u003e\\u003cli\\u003eVivaan Adventure\\u003c/li\\u003e\\u003cli\\u003eAntero ApS\\u003c/li\\u003e\\u003c/ul\\u003e\"}, {\"color\": \"#3449eb\", \"font\": {\"color\": \"white\"}, \"id\": \"Co-Founder\", \"label\": \"Co-Founder\", \"shape\": \"dot\", \"size\": 18, \"title\": \"\\u003cb\\u003eSelf-employed\\u003c/b\\u003e \\u2013 9\\u003cul\\u003e\\u003cli\\u003eIustech\\u003c/li\\u003e\\u003cli\\u003eHonest Fashion\\u003c/li\\u003e\\u003cli\\u003eAsterisk International Service Pvt Ltd\\u003c/li\\u003e\\u003cli\\u003eECos\\u00ec Underwear\\u003c/li\\u003e\\u003cli\\u003eHuman by Nature\\u003c/li\\u003e\\u003cli\\u003eTrue Gum\\u003c/li\\u003e\\u003cli\\u003eStyrk\\u003c/li\\u003e\\u003cli\\u003eRethink Food CIC\\u003c/li\\u003e\\u003cli\\u003eBehind Bars\\u003c/li\\u003e\\u003c/ul\\u003e\"}, {\"color\": \"#3449eb\", \"font\": {\"color\": \"white\"}, \"id\": \"Managing Director\", \"label\": \"Managing Director\", \"shape\": \"dot\", \"size\": 18, \"title\": \"\\u003cb\\u003eSelf-employed\\u003c/b\\u003e \\u2013 9\\u003cul\\u003e\\u003cli\\u003eHPX Holidays Pvt.Ltd \\u003c/li\\u003e\\u003cli\\u003eTarget International Education Pvt. Ltd.\\u003c/li\\u003e\\u003cli\\u003eMetroTransport Public Service Pvt.Ltd.(Metro  Sewa)\\u003c/li\\u003e\\u003cli\\u003eHumanity Group Nepal\\u003c/li\\u003e\\u003cli\\u003eJugapro India Private Limited\\u003c/li\\u003e\\u003cli\\u003eEverest Aroma (P) Ltd.\\u003c/li\\u003e\\u003cli\\u003eImmersive Technologies ApS\\u003c/li\\u003e\\u003cli\\u003eCPH EduTravel\\u003c/li\\u003e\\u003cli\\u003eSelf-employed\\u003c/li\\u003e\\u003c/ul\\u003e\"}, {\"color\": \"#3449eb\", \"font\": {\"color\": \"white\"}, \"id\": \"Owner\", \"label\": \"Owner\", \"shape\": \"dot\", \"size\": 14, \"title\": \"\\u003cb\\u003eSelf-employed\\u003c/b\\u003e \\u2013 7\\u003cul\\u003e\\u003cli\\u003eIT Offer\\u003c/li\\u003e\\u003cli\\u003eGive a Damn\\u003c/li\\u003e\\u003cli\\u003eBiosynergy A/S\\u003c/li\\u003e\\u003cli\\u003eKost \\u0026 Ern\\u00e6ringsforbundet\\u003c/li\\u003e\\u003cli\\u003es\\u00f8bogaard\\u003c/li\\u003e\\u003cli\\u003eCafe Kokkenberg\\u003c/li\\u003e\\u003cli\\u003ekulturlandskab.dk\\u003c/li\\u003e\\u003c/ul\\u003e\"}, {\"color\": \"#3449eb\", \"font\": {\"color\": \"white\"}, \"id\": \"Manager\", \"label\": \"Manager\", \"shape\": \"dot\", \"size\": 12, \"title\": \"\\u003cb\\u003eSelf-employed\\u003c/b\\u003e \\u2013 6\\u003cul\\u003e\\u003cli\\u003eTravel Manager\\u003c/li\\u003e\\u003cli\\u003eGego Enterprises Pvt. Ltd\\u003c/li\\u003e\\u003cli\\u003eHalifax Burger\\u003c/li\\u003e\\u003cli\\u003eHBS Economics\\u003c/li\\u003e\\u003cli\\u003eFrilandsmuseets Restaurant \\u0026 selskabslokaler \\u003c/li\\u003e\\u003cli\\u003eHimalayan Bio Industry (Castor Oil Production) \\u003c/li\\u003e\\u003c/ul\\u003e\"}, {\"color\": \"#3449eb\", \"font\": {\"color\": \"white\"}, \"id\": \"Founder \\u0026 CEO\", \"label\": \"Founder \\u0026 CEO\", \"shape\": \"dot\", \"size\": 12, \"title\": \"\\u003cb\\u003eSelf-employed\\u003c/b\\u003e \\u2013 6\\u003cul\\u003e\\u003cli\\u003eDagens\\u003c/li\\u003e\\u003cli\\u003eCOBO Consult\\u003c/li\\u003e\\u003cli\\u003eAfrivoices for Climate Change\\u003c/li\\u003e\\u003cli\\u003eSuperb\\u003c/li\\u003e\\u003cli\\u003eeGro\\u003c/li\\u003e\\u003cli\\u003eHera\\u0026Me\\u003c/li\\u003e\\u003c/ul\\u003e\"}, {\"color\": \"#3449eb\", \"font\": {\"color\": \"white\"}, \"id\": \"Board Member\", \"label\": \"Board Member\", \"shape\": \"dot\", \"size\": 12, \"title\": \"\\u003cb\\u003eSelf-employed\\u003c/b\\u003e \\u2013 6\\u003cul\\u003e\\u003cli\\u003eONE\\\\THIRD\\u003c/li\\u003e\\u003cli\\u003eMy Future\\u003c/li\\u003e\\u003cli\\u003eFonden Krokodille Zoo\\u003c/li\\u003e\\u003cli\\u003eDansk Selskab for Livsstilsmedicin\\u003c/li\\u003e\\u003cli\\u003eEtel\\u00e4-Savon elintarvikealan kehitt\\u00e4misyhdistys Ekoneum ry.\\u003c/li\\u003e\\u003cli\\u003eLivestock Research Innovation Corporation\\u003c/li\\u003e\\u003c/ul\\u003e\"}, {\"color\": \"#3449eb\", \"font\": {\"color\": \"white\"}, \"id\": \"Assistant Professor\", \"label\": \"Assistant Professor\", \"shape\": \"dot\", \"size\": 10, \"title\": \"\\u003cb\\u003eSelf-employed\\u003c/b\\u003e \\u2013 5\\u003cul\\u003e\\u003cli\\u003eRoskilde University\\u003c/li\\u003e\\u003cli\\u003eAarhus University\\u003c/li\\u003e\\u003cli\\u003eUniversity of South Carolina\\u003c/li\\u003e\\u003cli\\u003eAalborg University\\u003c/li\\u003e\\u003cli\\u003eCopenhagen Business School\\u003c/li\\u003e\\u003c/ul\\u003e\"}, {\"color\": \"#3449eb\", \"font\": {\"color\": \"white\"}, \"id\": \"Postdoctoral Researcher\", \"label\": \"Postdoctoral Researcher\", \"shape\": \"dot\", \"size\": 10, \"title\": \"\\u003cb\\u003eSelf-employed\\u003c/b\\u003e \\u2013 5\\u003cul\\u003e\\u003cli\\u003eBiotech Research \\u0026 Innovation Centre (BRIC), University of Copenhagen\\u003c/li\\u003e\\u003cli\\u003eDTU - Technical University of Denmark\\u003c/li\\u003e\\u003cli\\u003eUniversity of Cambridge\\u003c/li\\u003e\\u003cli\\u003eUniversity of South-Eastern Norway\\u003c/li\\u003e\\u003cli\\u003eCentre for Clinical Research and Prevention \\u003c/li\\u003e\\u003c/ul\\u003e\"}]);\n",
              "        edges = new vis.DataSet([{\"color\": \"grey\", \"from\": \"root\", \"label\": 1, \"to\": \"Founder\", \"weight\": 1}, {\"color\": \"grey\", \"from\": \"root\", \"label\": 1, \"to\": \"Associate Professor\", \"weight\": 1}, {\"color\": \"grey\", \"from\": \"root\", \"label\": 1, \"to\": \"CEO\", \"weight\": 1}, {\"color\": \"grey\", \"from\": \"root\", \"label\": 1, \"to\": \"Co-Founder\", \"weight\": 1}, {\"color\": \"grey\", \"from\": \"root\", \"label\": 1, \"to\": \"Managing Director\", \"weight\": 1}, {\"color\": \"grey\", \"from\": \"root\", \"label\": 1, \"to\": \"Owner\", \"weight\": 1}, {\"color\": \"grey\", \"from\": \"root\", \"label\": 1, \"to\": \"Manager\", \"weight\": 1}, {\"color\": \"grey\", \"from\": \"root\", \"label\": 1, \"to\": \"Founder \\u0026 CEO\", \"weight\": 1}, {\"color\": \"grey\", \"from\": \"root\", \"label\": 1, \"to\": \"Board Member\", \"weight\": 1}, {\"color\": \"grey\", \"from\": \"root\", \"label\": 1, \"to\": \"Assistant Professor\", \"weight\": 1}, {\"color\": \"grey\", \"from\": \"root\", \"label\": 1, \"to\": \"Postdoctoral Researcher\", \"weight\": 1}]);\n",
              "\n",
              "        // adding nodes and edges to the graph\n",
              "        data = {nodes: nodes, edges: edges};\n",
              "\n",
              "        var options = {\n",
              "    \"configure\": {\n",
              "        \"enabled\": false\n",
              "    },\n",
              "    \"edges\": {\n",
              "        \"color\": {\n",
              "            \"inherit\": true\n",
              "        },\n",
              "        \"smooth\": {\n",
              "            \"enabled\": true,\n",
              "            \"type\": \"dynamic\"\n",
              "        }\n",
              "    },\n",
              "    \"interaction\": {\n",
              "        \"dragNodes\": true,\n",
              "        \"hideEdgesOnDrag\": false,\n",
              "        \"hideNodesOnDrag\": false\n",
              "    },\n",
              "    \"physics\": {\n",
              "        \"enabled\": true,\n",
              "        \"hierarchicalRepulsion\": {\n",
              "            \"centralGravity\": 0.0,\n",
              "            \"damping\": 0.09,\n",
              "            \"nodeDistance\": 120,\n",
              "            \"springConstant\": 0.01,\n",
              "            \"springLength\": 100\n",
              "        },\n",
              "        \"solver\": \"hierarchicalRepulsion\",\n",
              "        \"stabilization\": {\n",
              "            \"enabled\": true,\n",
              "            \"fit\": true,\n",
              "            \"iterations\": 1000,\n",
              "            \"onlyDynamicEdges\": false,\n",
              "            \"updateInterval\": 50\n",
              "        }\n",
              "    }\n",
              "};\n",
              "        \n",
              "        \n",
              "\n",
              "        \n",
              "\n",
              "        network = new vis.Network(container, data, options);\n",
              "\t \n",
              "        \n",
              "\n",
              "\n",
              "        \n",
              "\n",
              "        return network;\n",
              "\n",
              "    }\n",
              "\n",
              "    drawGraph();\n",
              "\n",
              "</script>\n",
              "</body>\n",
              "</html>"
            ]
          },
          "metadata": {}
        }
      ]
    },
    {
      "cell_type": "markdown",
      "source": [
        "#Cleaning up the data"
      ],
      "metadata": {
        "id": "etoN7qjjKHot"
      }
    },
    {
      "cell_type": "code",
      "source": [
        "df = df[df['Company'].notna()].sort_values(by='Company')\n",
        "df.head()\n",
        "\n",
        "from difflib import get_close_matches\n",
        "companies = df['Company'].drop_duplicates()\n",
        "\n",
        "# cutoff=0.7 is a similarity ranking, and n=10 just takes the top 10 values\n",
        "similar_companies = {x: get_close_matches(x, companies, n=10, cutoff=0.7)\n",
        "                     for x in companies}\n",
        "\n",
        "# We are only interested in the entries that had another match\n",
        "similar_companies = {x: [name for name in y if name != x]\n",
        "                     for x, y in similar_companies.items() if len(y) > 1}\n",
        "#similar_companies"
      ],
      "metadata": {
        "id": "o2J06jsjHl9L"
      },
      "execution_count": 13,
      "outputs": []
    },
    {
      "cell_type": "markdown",
      "source": [
        "# Fundamentals of Network Analysis"
      ],
      "metadata": {
        "id": "jWqr5E49kYHB"
      }
    },
    {
      "cell_type": "code",
      "source": [
        "import networkx as nx\n",
        "import matplotlib.pyplot as plt\n",
        "\n",
        "# connection_graph_org is graph of organization my network working on\n",
        "# connection_graph_pos is graph og position of my network hold\n",
        "\n",
        "# for easy lets save the network as following\n",
        "G= connection_graph_org\n",
        "#G= connection_graph_pos\n",
        "\n",
        "#G= nx.Graph()\n",
        "display(G)\n",
        "\n",
        "# add the nodes in the graph and check the nodes by acessing them\n",
        "for _, row in df_company_reduced.iterrows():\n",
        "  # store company name and count\n",
        "  company = row[\"company\"]\n",
        "  count = row[\"count\"]\n",
        "\n",
        "  positions = set([x for x in new_df[company == new_df[\"company\"]][\"position\"]])\n",
        "  positions = ''.join('<li>{}</li>'.format(x) for x in positions)\n",
        "\n",
        "  G.add_nodes_from(\"root\")\n",
        "  G.add_nodes_from(company)\n",
        "\n",
        "G.nodes()\n",
        "\n",
        "# Lets add the edges in the graph and check the edges by acessing them\n",
        "G.add_edge(1, 2)\n",
        "G.edges()\n",
        "\n",
        "# Lets label the nodes for easily understand them by label and check them\n",
        "G.nodes[1]['label'] = \"Blue\"\n",
        "G.nodes(data= True)\n",
        "\n",
        "# Display the graph\n",
        "nx.draw(G)\n",
        "plt.show()"
      ],
      "metadata": {
        "id": "_PFPc8R4keTY",
        "outputId": "22b83be2-6130-4c6c-fc94-3c7ba3e5280b",
        "colab": {
          "base_uri": "https://localhost:8080/",
          "height": 336
        }
      },
      "execution_count": 65,
      "outputs": [
        {
          "output_type": "display_data",
          "data": {
            "text/plain": [
              "<networkx.classes.graph.Graph at 0x7f5df22dff10>"
            ]
          },
          "metadata": {}
        },
        {
          "output_type": "display_data",
          "data": {
            "text/plain": [
              "<Figure size 432x288 with 1 Axes>"
            ],
            "image/png": "[encoded data removed]"
          },
          "metadata": {}
        }
      ]
    },
    {
      "cell_type": "markdown",
      "source": [
        "***Visualizing network***"
      ],
      "metadata": {
        "id": "KI_XYjBZcjbI"
      }
    },
    {
      "cell_type": "code",
      "source": [
        "#!pip install nxviz"
      ],
      "metadata": {
        "id": "t-fkjPjddHqW"
      },
      "execution_count": 15,
      "outputs": []
    },
    {
      "cell_type": "code",
      "source": [
        "#Using Matrix-Plot\n",
        "import nxviz as nv\n",
        "\n",
        "# Create the matrix plot object: m\n",
        "m= nv.MatrixPlot(G)\n",
        "\n",
        "#Draw m to the screen\n",
        "#m.draw()\n",
        "plt.show()"
      ],
      "metadata": {
        "id": "-N4wIq5ZxwcV",
        "outputId": "628a8a33-c03b-4dcf-ea2b-80d8951f56bd",
        "colab": {
          "base_uri": "https://localhost:8080/",
          "height": 337
        }
      },
      "execution_count": 54,
      "outputs": [
        {
          "output_type": "stream",
          "name": "stderr",
          "text": [
            "/usr/local/lib/python3.7/dist-packages/nxviz/api.py:276: UserWarning:\n",
            "\n",
            "As of nxviz 0.7, the object-oriented API is being deprecated in favour of a functional API. Please consider switching your plotting code! The object-oriented API wrappers remains in place to help you transition over. A few changes between the old and new API exist; please consult the nxviz documentation for more information. When the 1.0 release of nxviz happens, the object-oriented API will be dropped entirely.\n",
            "\n"
          ]
        },
        {
          "output_type": "display_data",
          "data": {
            "text/plain": [
              "<Figure size 432x288 with 1 Axes>"
            ],
            "image/png": "[encoded data removed]"
          },
          "metadata": {
            "needs_background": "light"
          }
        }
      ]
    },
    {
      "cell_type": "code",
      "source": [
        "# Using Circos Plots\n",
        "from nxviz import CircosPlot\n",
        "\n",
        "# Create the Circos Pplot object: c\n",
        "c= CircosPlot(G)\n",
        "\n",
        "#Draw c to the screen and Display the figure\n",
        "#c.draw()\n",
        "plt.show()\n",
        "\n"
      ],
      "metadata": {
        "id": "S9B1qRkDfEhO",
        "outputId": "91295392-86ff-49ad-c2dc-8dea43955dc5",
        "colab": {
          "base_uri": "https://localhost:8080/",
          "height": 337
        }
      },
      "execution_count": 55,
      "outputs": [
        {
          "output_type": "stream",
          "name": "stderr",
          "text": [
            "/usr/local/lib/python3.7/dist-packages/nxviz/api.py:276: UserWarning:\n",
            "\n",
            "As of nxviz 0.7, the object-oriented API is being deprecated in favour of a functional API. Please consider switching your plotting code! The object-oriented API wrappers remains in place to help you transition over. A few changes between the old and new API exist; please consult the nxviz documentation for more information. When the 1.0 release of nxviz happens, the object-oriented API will be dropped entirely.\n",
            "\n"
          ]
        },
        {
          "output_type": "display_data",
          "data": {
            "text/plain": [
              "<Figure size 432x288 with 1 Axes>"
            ],
            "image/png": "[encoded data removed]"
          },
          "metadata": {
            "needs_background": "light"
          }
        }
      ]
    },
    {
      "cell_type": "code",
      "source": [
        "# Using Circos Plots\n",
        "from nxviz import ArcPlot\n",
        "\n",
        "# Create the un-customized Arc plot object: a\n",
        "a= ArcPlot(G)\n",
        "\n",
        "#Draw a to the screen and Display the figure\n",
        "#a.draw()\n",
        "plt.show()\n",
        "\n",
        "\n",
        "# Lets create the customized ArcPlot object: a2\n",
        "#a2 = ArcPlot(G, node_order='category', node_color='category')\n",
        "\n",
        "#Draw a to the screen and Display the figure\n",
        "#a2.draw()\n",
        "#plt.show()"
      ],
      "metadata": {
        "id": "TjG471YAf9Zj",
        "outputId": "98fb0098-1c52-428a-eb6b-8b2f6e1b8c65",
        "colab": {
          "base_uri": "https://localhost:8080/",
          "height": 300
        }
      },
      "execution_count": 43,
      "outputs": [
        {
          "output_type": "stream",
          "name": "stderr",
          "text": [
            "/usr/local/lib/python3.7/dist-packages/nxviz/api.py:276: UserWarning:\n",
            "\n",
            "As of nxviz 0.7, the object-oriented API is being deprecated in favour of a functional API. Please consider switching your plotting code! The object-oriented API wrappers remains in place to help you transition over. A few changes between the old and new API exist; please consult the nxviz documentation for more information. When the 1.0 release of nxviz happens, the object-oriented API will be dropped entirely.\n",
            "\n"
          ]
        },
        {
          "output_type": "display_data",
          "data": {
            "text/plain": [
              "<Figure size 432x288 with 1 Axes>"
            ],
            "image/png": "[encoded data removed]"
          },
          "metadata": {
            "needs_background": "light"
          }
        }
      ]
    },
    {
      "cell_type": "markdown",
      "source": [
        ""
      ],
      "metadata": {
        "id": "cxh9Y-wJmHh9"
      }
    },
    {
      "cell_type": "code",
      "source": [
        ""
      ],
      "metadata": {
        "id": "pThZI_aFmHNG"
      },
      "execution_count": null,
      "outputs": []
    }
  ],
  "metadata": {
    "colab": {
      "name": "TwiteerDataAnalytics.ipynb",
      "provenance": [],
      "collapsed_sections": [],
      "mount_file_id": "1QcHp2JfNJiln7VgNSMmi2mx2MzNKBNQw",
      "authorship_tag": "ABX9TyMbwPGLBdJHX67ExXs8Zpxt",
      "include_colab_link": true
    },
    "kernelspec": {
      "display_name": "Python 3",
      "name": "python3"
    },
    "language_info": {
      "name": "python"
    }
  },
  "nbformat": 4,
  "nbformat_minor": 0
}